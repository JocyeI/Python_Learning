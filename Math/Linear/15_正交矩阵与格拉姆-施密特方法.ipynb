{
 "cells": [
  {
   "cell_type": "markdown",
   "metadata": {
    "collapsed": true
   },
   "source": [
    "# 正交矩阵\n",
    "$\\quad$各列构成单位正交集的矩阵在应用和用矩阵计算的计算机算法中都非常重要，这样的矩阵也称之为**正交矩阵**。  \n",
    "$\\quad$**定理**：一个$m\\times n$矩阵$U$具有单位正交列向量的充要条件是$U^{T}U=I$。证明如下：\n",
    "\n",
    "<img src=\"./_image/15_1.png\" width=\"800\" height=\"300\" />  \n",
    "\n",
    "易知，如果一个正交矩阵$U$可逆（具有单位正交列的方阵），则它的逆矩阵为$U^{T}$，例如：\n",
    "$$U=\\begin{bmatrix}\n",
    "   0 & 1 & 0\\\\\n",
    "   1 & 0 & 0\\\\\n",
    "   0 & 0 & 1\n",
    "  \\end{bmatrix} \n",
    "  , U^{T}=\n",
    "\\begin{bmatrix}\n",
    "   0 & 1 & 0\\\\\n",
    "   0 & 0 & 1\\\\\n",
    "   1 & 0 & 0\n",
    "  \\end{bmatrix} \n",
    "$$\n",
    "$\\quad$**定理**：如果$\\{\\mathbf{u}_{1},\\cdots,\\mathbf{u}_{p}\\}$是$\\Bbb{R}_{n}$中子空间$W$的单位正交基，那么：\n",
    "\n",
    "$$proj_{W}\\mathbf{y}=\\frac{\\mathbf{y}\\cdot\\mathbf{u}_{1}}{\\mathbf{u}_{1}\\cdot\\mathbf{u}_{1}}\\mathbf{u}_{1}+\\cdots+\\frac{\\mathbf{y}\\cdot\\mathbf{u}_{p}}{\\mathbf{u}_{p}\\cdot\\mathbf{u}_{p}}\\mathbf{u}_{p}=(\\mathbf{y}\\cdot\\mathbf{u}_{1})\\mathbf{u}_{1}+\\cdots+(\\mathbf{y}\\cdot\\mathbf{u}_{p})\\mathbf{u}_{p}$$\n",
    "\n",
    "如果$U=[\\mathbf{u}_{1} \\cdots \\mathbf{u}_{p}]$，则：\n",
    "\n",
    "$$proj_{W}\\mathbf{y}=UU^{T}\\mathbf{y}$$  \n",
    "\n",
    "$\\quad$该定理说明了一个空间的单位正交基的优越性，可以很简单地表达出任意向量在该空间的正交投影。  \n",
    "# 格拉姆-施密特方法\n",
    "$\\quad$说明了正交矩阵、单位正交基的种种好处，而**格拉姆-施密特方法**是对$\\Bbb{R}_{n}$中任何非零子空间构造正交基或标准正交基的简单算法，该算法基于[正交分解定理]，逐个使基向量$\\mathbf{x}_{k}$分解为正交于前$k$个基向量的向量。对$\\Bbb{R}^{n}$的子空间$W$的一个基$\\{\\mathbf{x}_{1},\\cdots,\\mathbf{x}_{p}\\}$，其中$proj_{W_{k}}\\mathbf{x}_{k+1}$表示$\\mathbf{x}_{k+1}$在$Span\\{\\mathbf{x}_{1},\\cdots,\\mathbf{x}_{k}\\}$的正交投影，算法过程为：\n",
    "\n",
    "<img src=\"./_image/15_2.png\" width=\"800\" height=\"300\" />  \n",
    "\n",
    "$\\quad$那么得到的向量集合$\\{\\mathbf{v}_{1},\\cdots,\\mathbf{v}_{p}\\}$是$W$的一个正交基，此外$Span\\{\\mathbf{v}_{1},\\cdots,\\mathbf{v}_{k}\\}=Span\\{\\mathbf{x}_{1},\\cdots,\\mathbf{x}_{k}\\}$,其中$1\\leq k\\leq p$。举一个简单的小例子：\n",
    "\n",
    "<img src=\"./_image/15_3.png\" width=\"1000\" height=\"650\" />  "
   ]
  },
  {
   "cell_type": "code",
   "execution_count": null,
   "metadata": {},
   "outputs": [],
   "source": []
  }
 ],
 "metadata": {
  "kernelspec": {
   "display_name": "Python 3",
   "language": "python",
   "name": "python3"
  },
  "language_info": {
   "codemirror_mode": {
    "name": "ipython",
    "version": 3
   },
   "file_extension": ".py",
   "mimetype": "text/x-python",
   "name": "python",
   "nbconvert_exporter": "python",
   "pygments_lexer": "ipython3",
   "version": "3.7.1"
  }
 },
 "nbformat": 4,
 "nbformat_minor": 1
}
