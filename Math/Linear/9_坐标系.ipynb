{
 "cells": [
  {
   "cell_type": "markdown",
   "metadata": {
    "collapsed": true
   },
   "source": [
    "# 坐标系\n",
    "$\\quad$结论：**将矩阵乘法看成是一个函数，它的输入是一个视角下的坐标，输出是另一个视角下的坐标**。  \n",
    "$\\quad$对于一个向量空间$V$，明确指定一个基$\\cal{B}$的一个重要原因是在$V$上强加一个坐标系。   \n",
    "$\\quad$一个向量的在不同的坐标系下有不同的坐标，描述一个坐标系最好的手段就是基。以$\\Bbb{R}^{2}$为例，基$\\begin{bmatrix}1 & 0\\\\ 0 & 1\\end{bmatrix}$,$\\begin{bmatrix}2 & 0\\\\ 0 & 2\\end{bmatrix}$,$\\begin{bmatrix}2 & -2\\\\ 0 & 2\\end{bmatrix}$，它们所表示的坐标系分别如下图所示，为了便于观察基向量的位置，图中还保留了横轴与竖轴，在看图的同时把它想象成是一个动图（坐标系在伸缩旋转）：\n",
    "\n",
    "<img src=\"./_image/9_1.png\" width=\"850\" height=\"300\" />  \n",
    "\n",
    "基$\\begin{bmatrix}1 & 0\\\\ 0 & 1\\end{bmatrix}$表示的坐标系就是平日里用得最多的，一般向量都是默认为是在该坐标系下。  \n",
    "$\\quad$假设$\\cal{B}=\\{\\mathbf{b}_{1},\\cdots,\\mathbf{b}_{n}\\}$是$V$的一个基，$\\mathbf{x}$在$V$中，$\\mathbf{x}$相对于基$\\cal{B}$的坐标是使得$\\mathbf{x}=c_{1}\\mathbf{b}_{1}+\\cdots+c_{n}\\mathbf{b}_{n}=[\\mathbf{b}_{1} \\cdots \\mathbf{b}_{n}]\\begin{bmatrix}c_{1}\\\\\\vdots\\\\c_{n}\\end{bmatrix}$的权$c_{1},\\cdots,c_{n}$，故$\\Bbb{R}^{n}$中的向量：\n",
    "\n",
    "$$[\\mathbf{x}]_{\\cal{B}}=\\begin{bmatrix}c_{1}\\\\\\vdots\\\\c_{n}\\end{bmatrix}$$\n",
    "\n",
    "是$\\mathbf{x}$的$\\cal{B}$坐标向量，$\\mathbf{x}\\mapsto [\\mathbf{x}]_{\\cal{B}}$称之为**坐标映射**。  \n",
    "$\\quad$从几何上解释，虽然是同一个向量，但是在不同的坐标系下所观察的“视角”不同，因而有不同的坐标。因为不同的基要去表示同一个向量所需的基向量的伸缩都是不同的。以向量$\\begin{bmatrix}2\\\\2\\end{bmatrix}$为例，观察它在不同的坐标系下的差异。  \n",
    "$\\quad$首先是我们的视角下观察：\n",
    "\n",
    "<img src=\"./_image/9_4.png\" width=\"700\" height=\"350\" />\n",
    "\n",
    "接着是$\\begin{bmatrix}2 & 0\\\\ 0 & 2\\end{bmatrix}$:\n",
    "\n",
    "<img src=\"./_image/9_5.png\" width=\"850\" height=\"300\" />\n",
    "\n",
    "接着是$\\begin{bmatrix}2 & -2\\\\ 0 & 2\\end{bmatrix}$:\n",
    "\n",
    "<img src=\"./_image/9_6.png\" width=\"850\" height=\"300\" />\n",
    "\n",
    "$\\quad$通过上述例子，可以得到关于$[\\mathbf{x}]_{\\cal{B}},\\cal{B}=\\{\\mathbf{b}_{1},\\cdots,\\mathbf{b}_{n}\\},\\mathbf{x}$三者的关系，令$P_{\\cal{B}}=[\\mathbf{b}_{1} \\cdots \\mathbf{b}_{n}]$，写成：\n",
    "\n",
    "$$\\mathbf{x}=P_{\\cal{B}}[\\mathbf{x}]_{\\cal{B}}, P_{\\cal{B}}^{-1}\\mathbf{x}=[\\mathbf{x}]_{\\cal{B}}$$\n",
    "\n",
    "式子说明，**将矩阵乘法看成是一个函数，它的输入矩阵代表的坐标系下的坐标，输出是我们的视角下的坐标；逆矩阵则相反**。同样的向量，在不同的坐标系下具有不同的坐标，而矩阵相乘，就是将不同视角之间的坐标转换的函数。  \n",
    "$\\quad$也许会问，知道了这个可以干嘛？明白线代的几何意义会帮助我们更好地学习线代的概念，比如说矩阵相似，为何这样的等式下的两个矩阵我们称之为相似？结合本节的内容与[线性变换]的知识就可以很好地理解，具体阅读[矩阵相似]."
   ]
  }
 ],
 "metadata": {
  "kernelspec": {
   "display_name": "Python 3",
   "language": "python",
   "name": "python3"
  },
  "language_info": {
   "codemirror_mode": {
    "name": "ipython",
    "version": 3
   },
   "file_extension": ".py",
   "mimetype": "text/x-python",
   "name": "python",
   "nbconvert_exporter": "python",
   "pygments_lexer": "ipython3",
   "version": "3.7.1"
  }
 },
 "nbformat": 4,
 "nbformat_minor": 1
}
