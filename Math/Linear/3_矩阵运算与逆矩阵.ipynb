{
 "cells": [
  {
   "cell_type": "markdown",
   "metadata": {
    "collapsed": true
   },
   "source": [
    "# 1.矩阵运算\n",
    "$\\quad$若$A$是$m\\times n$，即有$m$行$n$列的矩阵。$A$的第$i$行第$j$列元素用$a_{ij}$表示，称为$A$的$(i,j)$元素。  \n",
    "$\\quad$介绍几个特殊矩阵：  \n",
    "* 单位矩阵$I_{n}$，对角线上元素全为1，非对角线上元素全为0；\n",
    "* 对角矩阵，是一个方阵，它的非对角线元素全为0。单位矩阵也是一个对角矩阵；\n",
    "* 零矩阵，矩阵元素全为0。  \n",
    "\n",
    "$\\quad$若$A,B,C$是相同维数的矩阵，$r$与$s$为一实数，则有：\n",
    "\n",
    "<img src=\"./_image/3_1.png\" width=\"800\" height=\"300\"/>  \n",
    "\n",
    "$\\quad$设$A$为$m\\times n$矩阵，$B,C$维数使下列各式的乘积有定义（矩阵$A,B$相乘，前者的列数等于后者的行数）。关于矩阵乘法则有：\n",
    "\n",
    "<img src=\"./_image/3_2.png\" width=\"800\" height=\"300\"/>  \n",
    "\n",
    "$\\quad$矩阵的**乘幂**表示为$A^{k}$，其中$A$是$n\\times n$矩阵，$A^{k}$表示为$k$个$A$的乘积$A^{k}=A\\cdots A$。$A^{0}$为单位矩阵。  \n",
    "$\\quad$矩阵的**转置**表示为$A^{T}$，其中$A$是一个$m\\times n$矩阵，则$A^{T}$是一个$n\\times m$矩阵，$A^{T}$的列是由$A$的行构成的。设$A,B$为矩阵，其维数使下列和与积有定义，则有：\n",
    "\n",
    "<img src=\"./_image/3_3.png\" width=\"800\" height=\"300\"/>  \n",
    "\n",
    "# 2.逆矩阵\n",
    "$\\quad$对于一个矩阵$A$来说，若存在一个矩阵$C$使得下式成立：\n",
    "\n",
    "$$AC=I,CA=I$$\n",
    "\n",
    "那么矩阵$C$称为矩阵$A$的**逆矩阵**，若这样的$C$存在，称矩阵$A$是**可逆矩阵**。将$C$写为$A^{-1}$，于是\n",
    "\n",
    "$$AA^{-1}=I,A^{-1}A=I$$\n",
    "\n",
    "不可逆矩阵也称之为**奇异矩阵**，可逆矩阵也称为**非奇异矩阵**。可逆矩阵一定是方阵。  \n",
    "$\\quad$下面是有关可逆矩阵的基本定理，假设$A$可逆：\n",
    "\n",
    "<img src=\"./_image/3_5.png\" width=\"800\" height=\"300\"/>  \n",
    "\n",
    "## 2.1伴随矩阵求逆矩阵\n",
    "$\\quad$伴随矩阵求矩阵的逆是一种常用的手算算法，是借助高斯消元的一种算法。假设求矩阵$A$的逆矩阵，将同维度的单位矩阵$I$与$A$构成增广矩阵$[A \\quad I]$，要么有一系列行变换把$A$变成$I$，同时$I$变成$A^{-1}$；要么A是不可逆的。例如：\n",
    "\n",
    "<img src=\"./_image/3_4.png\" width=\"800\" height=\"300\"/>  \n",
    "\n",
    "伴随矩阵求逆矩阵时间复杂度过大，只适合于手算；计算机中求逆矩阵会借助矩阵的[$LUP$分解]。还可以通过[逆矩阵公式]求$A^{-1}$。\n",
    "\n",
    "## 2.2逆矩阵求解方程\n",
    "$\\quad$求出一个矩阵的逆矩阵有啥么用？可逆矩阵的一个重要的性质就是求解矩阵方程。  \n",
    "$\\quad$若$A$可逆，则对每一个$\\Bbb{R}^{n}$中的$\\mathbf{b}$，方程$A\\mathbf{x}=\\mathbf{b}$都有唯一解：$\\mathbf{x}=A^{-1}\\mathbf{b}$。  \n",
    "$\\quad$我们举例如下：\n",
    "\n",
    "<img src=\"./_image/3_6.png\" width=\"850\" height=\"300\"/>\n",
    "\n",
    "## 2.3可逆矩阵定理\n",
    "$\\quad$将逆矩阵和线性方程组的概念结合一起，称为可逆矩阵定理。设$A$为$n\\times n$矩阵：\n",
    "\n",
    "<img src=\"./_image/3_7.png\" width=\"800\" height=\"300\"/>  \n",
    "\n",
    "$\\quad$利用可逆矩阵定理，我们可以从不同的角度去判断一个矩阵$A$是否可逆，例如给出一个矩阵$A$:\n",
    "\n",
    "$$\n",
    "A=\\begin{bmatrix}\n",
    "   1 & 0 & -2\\\\\n",
    "   3 & 1 & -2\\\\\n",
    "   -5 & -1 & 9\n",
    "  \\end{bmatrix} \n",
    "$$\n",
    "\n",
    "对$A$做初等行变换，判断主元个数：\n",
    "\n",
    "$$A \\sim \\begin{bmatrix}\n",
    "   1 & 0 & -2\\\\\n",
    "   0 & 1 & 4\\\\\n",
    "   0 & 0 & 3\n",
    "  \\end{bmatrix} \n",
    "$$\n",
    "\n",
    "$A$有三个主元，故$A$是可逆的。"
   ]
  }
 ],
 "metadata": {
  "kernelspec": {
   "display_name": "Python 3.9.12 ('base')",
   "language": "python",
   "name": "python3"
  },
  "language_info": {
   "codemirror_mode": {
    "name": "ipython",
    "version": 3
   },
   "file_extension": ".py",
   "mimetype": "text/x-python",
   "name": "python",
   "nbconvert_exporter": "python",
   "pygments_lexer": "ipython3",
   "version": "3.9.12"
  },
  "vscode": {
   "interpreter": {
    "hash": "3ebb88f7871cdbd8441739501fff7e917fde7ea65a68f8b253420d8c4a67777b"
   }
  }
 },
 "nbformat": 4,
 "nbformat_minor": 1
}
