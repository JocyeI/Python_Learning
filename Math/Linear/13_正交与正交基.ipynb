{
 "cells": [
  {
   "cell_type": "markdown",
   "metadata": {
    "collapsed": true
   },
   "source": [
    "# 1.正交\n",
    "$\\quad$考虑$\\Bbb{R}^{2}$或$\\Bbb{R}^{3}$中通过原点且由向量$\\mathbf{u},\\mathbf{v}$确定的两条直线，两条直线几何上垂直当且仅当$dist(\\mathbf{u},\\mathbf{v})=dist(\\mathbf{u},-\\mathbf{v})$，如下图所示：\n",
    "\n",
    "<img src=\"./_image/12_4.png\" width=\"700\" height=\"300\" />  \n",
    "\n",
    "推导得：\n",
    "\n",
    "<img src=\"./_image/12_5.png\" width=\"700\" height=\"300\" />  \n",
    "\n",
    "得出结论：$\\Bbb{R}^{n}$中两个向量$\\mathbf{u},\\mathbf{v}$相互**正交**（垂直）的充要条件是$\\mathbf{u}\\cdot\\mathbf{v}=0$。零向量与任何向量都正交。  \n",
    "$\\quad$**勾股定理**：两个向量正交的充要条件是$\\Vert\\mathbf{u}+\\mathbf{v}\\Vert^{2}=\\Vert\\mathbf{u}\\Vert^{2}+\\Vert\\mathbf{v}\\Vert^{2}$，如下图所示：\n",
    "\n",
    "<img src=\"./_image/12_6.png\" width=\"700\" height=\"300\" />  \n",
    "\n",
    "## 1.1正交补\n",
    "$\\quad$如果向量$\\mathbf{z}$与$\\Bbb{R}^{n}$的子空间$W$中的任意向量都正交，则称$\\mathbf{z}$正交于$W$；与$W$正交的全体向量的集合称为$W$的**正交补**$W^{\\bot}$。向量$\\mathbf{x}$属于$W^{\\bot}$的充要条件是向量$\\mathbf{x}$与生成空间$W$的任一向量正交。\n",
    "\n",
    "<img src=\"./_image/12_7.png\" width=\"700\" height=\"300\" />  \n",
    "\n",
    "$\\quad$假设$A$是$m\\times n$矩阵，那么$A$的行空间的正交补是$A$的零空间，且$A$的列空间的正交补是$A^{T}$的零空间（因为零空间的每个向量与$A$的每个行向量正交）：\n",
    "\n",
    "<img src=\"./_image/12_8.png\" width=\"700\" height=\"150\" />  \n",
    "\n",
    "## 1.2正交基\n",
    "$\\quad$**正交集**：如果$\\Bbb{R}^{n}$中的向量集合$\\{\\mathbf{u}_{1},\\cdots,\\mathbf{u}_{n}\\}$中任意两个不同向量都正交，则被称之为正交集。  \n",
    "$\\quad$**正交基**：如果$S=\\{\\mathbf{u}_{1},\\cdots,\\mathbf{u}_{n}\\}$是由$\\Bbb{R}^{n}$中非零向量构成的正交集，那么$S$是线性无关集，因此构成$S$所生成的一组正交基。  \n",
    "$\\quad$**单位正交集**：由单位向量构成的正交集集合$\\{\\mathbf{u}_{1},\\cdots,\\mathbf{u}_{p}\\}$称之为单位正交集。如果$W$是一个由单位正交集生成的子空间，那么$\\{\\mathbf{u}_{1},\\cdots,\\mathbf{u}_{p}\\}$是$W$的单位正交基或标准正交基。  \n",
    "$\\quad$正交基相较于其他基更有优越性，更易计算线性组合中的权。  \n",
    "$\\quad$假设$\\{\\mathbf{u}_{1},\\cdots,\\mathbf{u}_{p}\\}$是$\\Bbb{R}^{n}$中子空间$W$的正交基，对$W$中的每个向量$\\mathbf{y}$，线性组合：\n",
    "$$\\mathbf{y}=c_{1}\\mathbf{u}_{1}+\\cdots+c_{p}\\mathbf{u}_{p}$$\n",
    "中的权可以由$c_{j}=\\frac{\\mathbf{y}\\cdot\\mathbf{u}_{j}}{\\mathbf{u}_{j}\\cdot\\mathbf{u}_{j}}(j=1,\\cdots,p)$计算，所以有：\n",
    "$$\\mathbf{y}=\\frac{\\mathbf{y}\\cdot\\mathbf{u}_{1}}{\\mathbf{u}_{1}\\cdot\\mathbf{u}_{1}}\\mathbf{u}_{1}+\\cdots+\\frac{\\mathbf{y}\\cdot\\mathbf{u}_{p}}{\\mathbf{u}_{p}\\cdot\\mathbf{u}_{p}}\\mathbf{u}_{p}$$\n",
    "$\\quad$证明如下：\n",
    "\n",
    "<img src=\"./_image/13_1.png\" width=\"800\" height=\"300\" /> "
   ]
  }
 ],
 "metadata": {
  "kernelspec": {
   "display_name": "Python 3",
   "language": "python",
   "name": "python3"
  },
  "language_info": {
   "codemirror_mode": {
    "name": "ipython",
    "version": 3
   },
   "file_extension": ".py",
   "mimetype": "text/x-python",
   "name": "python",
   "nbconvert_exporter": "python",
   "pygments_lexer": "ipython3",
   "version": "3.7.1"
  }
 },
 "nbformat": 4,
 "nbformat_minor": 1
}
