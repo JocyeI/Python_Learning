{
 "cells": [
  {
   "cell_type": "markdown",
   "metadata": {
    "collapsed": true
   },
   "source": [
    "# 特征值和特征向量\n",
    "$\\quad$假设$A$为$n\\times n$矩阵，$\\mathbf{x}$为非零向量，若存在数$\\lambda$使$A\\mathbf{x}=\\lambda \\mathbf{x}$有非平凡解$\\mathbf{x}$，则称$\\lambda$为$A$的**特征值**（可以为零），$\\mathbf{x}$称为对应于$\\lambda$的**特征向量**（非零）。  \n",
    "$\\quad$若$\\lambda$为矩阵$A$的特征值，那么方程：\n",
    "\n",
    "$$(A-\\lambda I)\\mathbf{x}=\\mathbf{0}$$\n",
    "\n",
    "中所有解的集合（$A-\\lambda I$的零空间）称为$A$的对应于$\\lambda$的**特征空间**。  \n",
    "$\\quad$直观地，设$A=\\begin{bmatrix}1 & 6\\\\5 & 2\\end{bmatrix}$,$\\mathbf{u}=\\begin{bmatrix}6\\\\-5\\end{bmatrix} $,$\\mathbf{v}=\\begin{bmatrix}3\\\\-2\\end{bmatrix}$，计算有：\n",
    "\n",
    "$$\n",
    "A\\mathbf{u}=\\begin{bmatrix}-24\\\\20\\end{bmatrix}=-4\\begin{bmatrix}6\\\\\n",
    "-5\n",
    "\\end{bmatrix}=4\\mathbf{u},A\\mathbf{v}=\\begin{bmatrix}-9\\\\\n",
    "11\n",
    "\\end{bmatrix}\\neq \\lambda\\begin{bmatrix}3\\\\\n",
    "-2\\end{bmatrix}\n",
    "$$\n",
    "\n",
    "因此$\\mathbf{u}$是特征值-4对应的特征向量，但$\\mathbf{v}$不是$A$的特征向量。\n",
    "\n",
    "<img src=\"./_image/10_1.png\" width=\"850\" height=\"300\" />  \n",
    "\n",
    "$\\quad$考虑特征值为零的情况，当矩阵$A$有零特征值时，方程：\n",
    "\n",
    "$$A\\mathbf{x}=\\mathbf{0}\\mathbf{x}$$\n",
    "\n",
    "有非平凡解，说明矩阵$A$不可逆，因此可以下一个结论：**0是矩阵$A$的特征值当且仅当$A$不可逆**。  \n",
    "## 1.特征方程求特征根\n",
    "$\\quad$给定一个$n\\times n$的矩阵$A$，如何求特征值和对应的特征向量？  \n",
    "$\\quad$特征值$\\lambda$需满足方程$A\\mathbf{x}=\\lambda \\mathbf{x}$中的$\\mathbf{x}$有解存在，也即方程：\n",
    "\n",
    "$$(A-\\lambda I)\\mathbf{x}=\\mathbf{0}$$\n",
    "\n",
    "有非零解存在，根据可逆矩阵定理，若矩阵$A-\\lambda I$线性无关，则方程只有零解，因此要使方程有解，矩阵$A-\\lambda I$不可逆，也即行列式$|A-\\lambda I|$等于0。  \n",
    "$\\quad$引出定理：数$\\lambda$是$n\\times n$矩阵$A$的特征值的充要条件为$\\lambda$是**特征方程**$|A-\\lambda I|=0$的根。  \n",
    "$\\quad$举例如下：\n",
    "\n",
    "<img src=\"./_image/10_2.png\" width=\"850\" height=\"300\" />  \n",
    "\n",
    "可以发现**特征方程**$|A-\\lambda I|=0$是关于$\\lambda$的的多项式，也称之为$\\lambda$的特征多项式。  \n",
    "$\\quad$还可以应用[QR分解]来求矩阵的特征值。\n",
    "## 2.应用\n",
    "$\\quad$下面通过一个例子来说明特征值和特征向量的作用：\n",
    "\n",
    "<img src=\"./_image/10_3.png\" width=\"850\" height=\"550\" />  \n",
    "\n",
    "## 3.几何意义\n",
    "$\\quad$矩阵是一次[线性变换]，那么特征向量就是在线性变换前后、只做了伸缩未改变方向的向量，而特征值就是伸缩的比例，当特征值为负表明特征向量被反向拉伸。"
   ]
  }
 ],
 "metadata": {
  "kernelspec": {
   "display_name": "Python 3",
   "language": "python",
   "name": "python3"
  },
  "language_info": {
   "codemirror_mode": {
    "name": "ipython",
    "version": 3
   },
   "file_extension": ".py",
   "mimetype": "text/x-python",
   "name": "python",
   "nbconvert_exporter": "python",
   "pygments_lexer": "ipython3",
   "version": "3.7.1"
  }
 },
 "nbformat": 4,
 "nbformat_minor": 1
}
