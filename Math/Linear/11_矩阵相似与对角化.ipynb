{
 "cells": [
  {
   "cell_type": "markdown",
   "metadata": {
    "collapsed": true
   },
   "source": [
    "# 1.矩阵相似\n",
    "$\\quad$假设$A,B$是$n\\times n$矩阵，如果存在可逆矩阵$P$使得$P^{-1}AP=B$，或等价地$A=PBP^{-1}$，则称$A$**相似**于$B$。把$A$变成$P^{-1}AP$的变换称为**相似变换**。  \n",
    "$\\quad$若$n\\times n$矩阵$A,B$是相似的，那么它们有相同的特征多项式，从而有相同的特征值。  \n",
    "$\\quad$结合回[线性变换]和[坐标系]的内容，我们来思索为什么$P^{-1}AP=B$称$A,B$相似。  \n",
    "$\\quad$知道矩阵可以代表一种线性变换，也能代表一个坐标系。在我们的视角下作一次线性变换很简单，只需要记录基向量变换后的位置即可，例如下图所示做了一次逆时针旋转90°：\n",
    "\n",
    "<img src=\"./_image/8_1.png\" width=\"800\" height=\"300\" />  \n",
    "\n",
    "但是如果是在别的视角下的呢？希望在$\\begin{bmatrix}2 & -2\\\\ 0 & 2\\end{bmatrix}$的视角下做逆时针旋转90°，如下图所示：\n",
    "\n",
    "<img src=\"./_image/11_1.png\" width=\"800\" height=\"400\" />  \n",
    "\n",
    "做法和之前[线性变换]是相同的，只是很难从$\\begin{bmatrix}2 & -2\\\\ 0 & 2\\end{bmatrix}$的视角下去观察逆时针旋转90°后所处的坐标，需要通过矩阵相乘转换成我们的视角下。  \n",
    "$\\quad$比如$\\begin{bmatrix}2 & -2\\\\ 0 & 2\\end{bmatrix}$视角下有个向量$\\begin{bmatrix}x\\\\y\\end{bmatrix}$，希望得到它经过逆时针90°旋转后的坐标。先将其转换成我们的视角下：\n",
    "\n",
    "<img src=\"./_image/11_2.png\" width=\"800\" height=\"500\" />  \n",
    "\n",
    "接着在我们的视角下作一次逆时针旋转90°：\n",
    "\n",
    "<img src=\"./_image/11_3.png\" width=\"800\" height=\"400\" />  \n",
    "\n",
    "最后是乘以逆矩阵还原回原来的视角：\n",
    "\n",
    "<img src=\"./_image/11_4.png\" width=\"800\" height=\"350\" />  \n",
    "\n",
    "$\\quad$由此可以看出$A=\\begin{bmatrix}2 & -2\\\\ 0 & 2\\end{bmatrix}^{-1}\\begin{bmatrix}0 & -1\\\\\n",
    "1 & 0\n",
    "\\end{bmatrix}\\begin{bmatrix}2 & -2\\\\\n",
    "0 & 2\n",
    "\\end{bmatrix}$其实就是在$\\begin{bmatrix}2 & -2\\\\ 0 & 2\\end{bmatrix}$的视角下做$\\begin{bmatrix}0 & -1\\\\1 & 0\\end{bmatrix}$变换，故$A$与$B=\\begin{bmatrix}0 & -1\\\\1 & 0\\end{bmatrix}$可以说是相似的，因为他们都其实是逆时针旋转90°，只是一个在我们的视角下，一个是在$\\begin{bmatrix}2 & -2\\\\ 0 & 2\\end{bmatrix}$的视角下。  \n",
    "$\\quad$这也能解释为什么相似矩阵具有相同的特征值，因为本质上都是同一种变换。  \n",
    "# 2.对角化\n",
    "$\\quad$如果方阵$A$相似于对角矩阵，即存在可逆矩阵$P$和对角矩阵$D$，有$A=PDP^{-1}$，则称$A$可**对角化**。  \n",
    "$\\quad$**对角化定理**：$n\\times n$矩阵$A$可对角化的充要条件是$A$有$n$个线性无关的特征向量，这$n$个特征向量我们称之为**特征向量基**。若$A$可对角化，则$P$的列向量是$A$的$n$个线性无关的特征向量，此时$D$的主对角线上元素是$A$的对应于$P$中特征向量的特征值，证：\n",
    "\n",
    "<img src=\"./_image/11_5.png\" width=\"800\" height=\"350\" />  \n",
    "\n",
    "## 2.1矩阵对角化流程\n",
    "$\\quad$下面通过一个例子来说明如何对一个矩阵对角化。流程如下：\n",
    "\n",
    "<img src=\"./_image/11_6.png\" width=\"800\" height=\"350\" />  \n",
    "\n",
    "例如：\n",
    "\n",
    "<img src=\"./_image/11_7.png\" width=\"800\" height=\"350\" />  \n",
    "\n",
    "## 2.2矩阵对角化与幂\n",
    "$\\quad$矩阵对角化相当于是矩阵分解，它最大的作用是求矩阵的幂运算。推导：\n",
    "\n",
    "<img src=\"./_image/11_8.png\" width=\"400\" height=\"150\" />  \n",
    "\n",
    "而对角矩阵的幂运算又非常简单，例如：\n",
    "\n",
    "<img src=\"./_image/11_9.png\" width=\"400\" height=\"150\" />  "
   ]
  },
  {
   "cell_type": "code",
   "execution_count": null,
   "metadata": {},
   "outputs": [],
   "source": []
  }
 ],
 "metadata": {
  "kernelspec": {
   "display_name": "Python 3",
   "language": "python",
   "name": "python3"
  },
  "language_info": {
   "codemirror_mode": {
    "name": "ipython",
    "version": 3
   },
   "file_extension": ".py",
   "mimetype": "text/x-python",
   "name": "python",
   "nbconvert_exporter": "python",
   "pygments_lexer": "ipython3",
   "version": "3.7.1"
  }
 },
 "nbformat": 4,
 "nbformat_minor": 1
}
