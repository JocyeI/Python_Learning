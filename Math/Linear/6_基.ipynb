{
 "cells": [
  {
   "cell_type": "markdown",
   "metadata": {
    "collapsed": true
   },
   "source": [
    "# 1.基\n",
    "$\\quad$基是刻画向量空间的基本工具，向量空间中的任何向量都可以唯一地表示成基的线性组合。  \n",
    "$\\quad$如果一个向量空间$V$和一组向量$\\{\\mathbf{v}_{1},\\cdots,\\mathbf{v}_{p}\\}$满足以下条件，那么这组向量被称之为$V$的一组**基**:  \n",
    "* $\\{\\mathbf{v}_{1},\\cdots,\\mathbf{v}_{p}\\}$是一组[线性无关]集；\n",
    "* $\\{\\mathbf{v}_{1},\\cdots,\\mathbf{v}_{p}\\}$生成的子空间与$V$相同，即$V=Span\\{\\mathbf{v}_{1},\\cdots,\\mathbf{v}_{p}\\}$.    \n",
    "\n",
    "$\\quad$例如，若$A$是一个可逆的$n\\times n$矩阵，则由[可逆矩阵定理]可知，$A$的列向量组成$\\Bbb{R}^{n}$的一组基。  \n",
    "$\\quad$例如，令$e_{i},\\cdots,e_{n}$是$n\\times n$单位矩阵$I_{n}$的列，集合$\\{e_{i},\\cdots,e_{n}\\}$称为$\\Bbb{R}^{n}$的**标准基**，如下图所示：\n",
    "\n",
    "<img src=\"./_image/6_1.png\" width=\"550\" height=\"250\" />    \n",
    "\n",
    "$\\quad$通常地也会将基写为矩阵的形式，例如$\\{\\begin{bmatrix}\n",
    "   0\\\\\n",
    "   1\n",
    "  \\end{bmatrix} \n",
    "  ,\\begin{bmatrix}\n",
    "   1\\\\\n",
    "   0\n",
    "  \\end{bmatrix}\\}$，写成$\\begin{bmatrix}\n",
    "   0 & 1\\\\\n",
    "   1 & 0\n",
    "  \\end{bmatrix}$。  \n",
    "## 1.1基的两个重要定理\n",
    "$\\quad$**唯一表示定理**：令$\\{\\mathbf{b}_{1},\\cdots,\\mathbf{b}_{n}\\}$称为$V$的一组基，则对$V$中的每个向量$\\mathbf{x}$，存在唯一的一组数$c_{1},\\cdots,c_{n}$使得：\n",
    "\n",
    "$$\n",
    "\\mathbf{x}=c_{1}\\mathbf{b}_{1}+\\cdots+c_{n}\\mathbf{b}_{n}=\\begin{bmatrix}\n",
    "   \\mathbf{b}_{1} & \\cdots & \\mathbf{b}_{n}\\\\\n",
    "  \\end{bmatrix} \\begin{bmatrix}\n",
    "   c_{1} \\\\\n",
    "   \\vdots \\\\\n",
    "   c_{n}\n",
    "  \\end{bmatrix}\n",
    "$$\n",
    "  \n",
    "该定理表明，向量空间中的每一个向量均可被基唯一地表示。  \n",
    "$\\quad$**生成集定理**： 令$S=\\{\\mathbf{v}_{1},\\cdots,\\mathbf{v}_{p}\\}$是$V$中的向量集，$H=Span\\{\\mathbf{v}_{1},\\cdots,\\mathbf{v}_{p}\\}$:\n",
    "* 若$S$中某一向量（比如说$\\mathbf{v}_{k}$）是$S$中其余向量的线性组合，则$S$中去掉$\\mathbf{v}_{k}$后形成的向量仍可以生成$H$;\n",
    "* 若$H\\neq \\{\\mathbf{0}\\}$，则$S$的某一子集是$H$的一个基。  \n",
    "\n",
    "生成集定理表明，基是一个不包含不必要向量的“高效率”的生成集。  \n",
    "一方面，一组向量中如果其中一个向量可以表示为其他向量的线性组合，也意味着该向量已经落在了其他向量张成的空间中，并不能为空间带来新的维度。  \n",
    "另一方面，一个基中的每个向量如果都为张成的空间增添新的维度，它们也称之为线性无关。一个基可以通过去掉生成集中不必要的向量生成出来。\n",
    "## 1.2零空间的基\n",
    "$\\quad$令$NulA$是方程$A\\mathbf{x}=\\mathbf{0}$中所有$\\mathbf{x}$的集合，要求矩阵的零空间的基，先解方程$A\\mathbf{x}=\\mathbf{0}$，解方程可以通过高斯消元化为阶梯型、逆矩阵等。  \n",
    "$\\quad$我们给出例子来说明如何求矩阵零空间的基：\n",
    "\n",
    "<img src=\"./_image/6_2.png\" width=\"850\" height=\"300\" />    \n",
    "\n",
    "## 1.3列空间的基\n",
    "$\\quad$一个矩阵$A$被行化简为$B$时，虽然两个矩阵的列通常不同，但是$A\\mathbf{x}=\\mathbf{0}$与$B\\mathbf{x}=\\mathbf{0}$有完全相同的解集，即$A$的列和$B$的列具有**完全相同的线性相关关系**。  \n",
    "$\\quad$令$ColA$为矩阵$A$的列向量所有线性组合组成的集合，要求矩阵$A$的列空间的基，通常是将矩阵$A$行变换为阶梯型矩阵$B$、判断主元列位置来确定基。如何求矩阵的列空间的基。\n",
    "\n",
    "<img src=\"./_image/6_3.png\" width=\"850\" height=\"300\" />  \n",
    "\n",
    "## 1.4行空间的基\n",
    "$\\quad$若两个矩阵$A$和$B$等价，则它们的行空间相同。若$B$是阶梯型矩阵，则$B$的非零行构成$A$的行空间的一个基同时也是$B$的行空间的一个基。  \n",
    "$\\quad$要求一个矩阵$A$的行空间的一个基，通常是将$A$行变换为阶梯型矩阵$B$，判断主元位置来确定，做法和求矩阵的列空间的基相似，但是又不同。例子如下：\n",
    "\n",
    "<img src=\"./_image/6_4.png\" width=\"850\" height=\"300\" />    "
   ]
  }
 ],
 "metadata": {
  "kernelspec": {
   "display_name": "Python 3",
   "language": "python",
   "name": "python3"
  },
  "language_info": {
   "codemirror_mode": {
    "name": "ipython",
    "version": 3
   },
   "file_extension": ".py",
   "mimetype": "text/x-python",
   "name": "python",
   "nbconvert_exporter": "python",
   "pygments_lexer": "ipython3",
   "version": "3.7.1"
  }
 },
 "nbformat": 4,
 "nbformat_minor": 1
}
