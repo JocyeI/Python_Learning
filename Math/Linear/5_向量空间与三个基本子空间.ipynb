{
 "cells": [
  {
   "cell_type": "markdown",
   "metadata": {
    "collapsed": true
   },
   "source": [
    "# 1.向量空间\n",
    "$\\quad$一个**向量空间**是由一些向量构成的非空集合$V$，在这个集合上定义了两个运算：加法和标量乘法，服从以下公理，这些公理必须对$V$中所有向量$\\mathbf{u},\\mathbf{v},\\mathbf{w}$及所有标量$c,d$成立:\n",
    "\n",
    "<img src=\"./_image/5_1.png\" width=\"550\" height=\"250\" />  \n",
    "\n",
    "定理说明了向量空间中零向量是唯一且必须存在的。\n",
    "## 1.1子空间\n",
    "$\\quad$**子空间**是由一个向量空间中适当的向量的子集所构成。在此情形下，向量空间的十个公理只需要验证三个，其余的自然成立。  \n",
    "$\\quad$因此可以说，向量空间$V$的一个子空间是$V$的一个满足性质的子集$H$:\n",
    "\n",
    "<img src=\"./_image/5_2.png\" width=\"550\" height=\"150\" />  \n",
    "\n",
    "$\\quad$每个子空间都是一个向量空间，每个向量空间都是一个子空间(针对本身或更大的空间而言)。特别地，向量空间$V$中仅由零向量组成的集合是$V$中一个子空间，成为零子空间，写成$\\{\\mathbf{0}\\}$。  \n",
    "$\\quad$对两个向量空间，若其中一个在另一个内部，此时子空间这个词被使用，如下图所示，$H$为$V$的一个子空间:\n",
    "\n",
    "<img src=\"./_image/5_3.png\" width=\"550\" height=\"150\" />  \n",
    "\n",
    "## 1.2由集合生成的子空间\n",
    "$\\quad$式子$Span\\{\\mathbf{v}_{1},\\dots,\\mathbf{v}_{n}\\}$表示为一组向量$\\mathbf{v}_{1},\\dots,\\mathbf{v}_{n}$的所有线性组合所张成的$\\Bbb{R}^{n}$的子集。现在给出证明，以$Span\\{\\mathbf{v}_{1},\\mathbf{v}_{2}\\}$为例：\n",
    "\n",
    "<img src=\"./_image/5_4.png\" width=\"550\" height=\"250\" />  \n",
    "\n",
    "为此可以推广出，若从一个向量空间$V$中取出一组向量$\\mathbf{v}_{1},\\dots,\\mathbf{v}_{p}$，则$Span\\{\\mathbf{v}_{1},\\dots,\\mathbf{v}_{p}\\}$是$V$的一个子空间。  \n",
    "$\\quad$为了能更好地去理解向量空间，往往会从很直观的一维以及二维空间中去理解。例如,$Span\\{\\mathbf{v}_{1},\\mathbf{v}_{2}\\}$是一个经过原点的网格线平面，$Span\\{\\mathbf{v}_{1}\\}$是一个过原点的直线：\n",
    "\n",
    "<img src=\"./_image/5_5.png\" width=\"550\" height=\"100\" />  \n",
    "\n",
    "$\\quad$最后举一个例子来说明该定理的作用：\n",
    "\n",
    "<img src=\"./_image/5_6.png\" width=\"550\" height=\"350\" />  \n",
    "\n",
    "# 2.三个基本子空间\n",
    "## 2.1零空间\n",
    "$\\quad$满足$A\\mathbf{x}=\\mathbf{0}$的所有$\\mathbf{x}$的集合为矩阵$A$的**零空间**，$NulA=\\{\\mathbf{x}:\\mathbf{x}\\in\\Bbb{R}^{n},A\\mathbf{x}=\\mathbf{0}\\}$。特别地，零空间也叫核空间。  \n",
    "$\\quad$要判断一个向量$\\mathbf{x}$是否属于$A$的零空间，只需判断$A\\mathbf{x}$是否为$\\mathbf{0}$即可。  \n",
    "$\\quad$从几何上理解，矩阵$A$是一个线性变换，若$A\\mathbf{x}=\\mathbf{0}$说明向量$\\mathbf{x}$经过了$A$线性变换后变为$\\mathbf{0}$。因此矩阵的零空间就是线性变换后落在原点的向量。例如下图所示：\n",
    "\n",
    "<img src=\"./_image/5_7.png\" width=\"550\" height=\"400\" />  \n",
    "\n",
    "$\\quad$零空间的基的求法可阅读[基]。一个$m\\times n$的矩阵的零空间是$\\Bbb{R}^{n}$的子空间。\n",
    "## 2.2列空间\n",
    "$\\quad$一个$m\\times n$矩阵$A$的列向量的所有线性组合组成的向量集合称为**列空间**。  \n",
    "$\\quad$若$A=\\begin{bmatrix}{}a_{1} & \\cdots & a_{n}\\end{bmatrix}$，则$ColA=Span\\{a_{1},\\cdots,a_{n}\\}$，也可以表示为$ColA=\\{\\mathbf{b}:\\mathbf{x}\\in\\Bbb{R}^{n},\\mathbf{b}=A\\mathbf{x}\\}$。  \n",
    "$\\quad$要判断一个向量$\\mathbf{v}$是否属于$A$的列空间，只需判断方程$A\\mathbf{x}=\\mathbf{v}$是否有解即可。故$m\\times n$矩阵$A$的列空间等于$\\Bbb{R}^{m}$当且仅当方程$A\\mathbf{x}=\\mathbf{b}$对$\\Bbb{R}^{m}$中每一个$\\mathbf{b}$有一个解。  \n",
    "$\\quad$从几何上理解，矩阵$A$是一个线性变换，$A\\mathbf{x}=\\mathbf{b}$表明$\\mathbf{b}$是由$\\mathbf{x}$经过$A$线性变换后形成。因此每个位于列空间的向量都是从一个向量线性变换而来，如下图所示：\n",
    "\n",
    "<img src=\"./_image/5_8.png\" width=\"550\" height=\"400\" />  \n",
    "\n",
    "$\\quad$列空间的基的求法可阅读[基]。一个$m\\times n$的矩阵的列空间是$\\Bbb{R}^{m}$的子空间（思索一下与零空间的不同）。\n",
    "## 2.3行空间\n",
    "$\\quad$一个$m\\times n$矩阵$A$的每一行具有$n$个元素，即可以视为$\\Bbb{R}^{n}$中的一个向量，$A$的行向量的所有线性组合的集合称为$A$的行空间，记作$RowA$，易知$ColA^{T}=RowA$。"
   ]
  }
 ],
 "metadata": {
  "kernelspec": {
   "display_name": "Python 3.9.12 ('base')",
   "language": "python",
   "name": "python3"
  },
  "language_info": {
   "codemirror_mode": {
    "name": "ipython",
    "version": 3
   },
   "file_extension": ".py",
   "mimetype": "text/x-python",
   "name": "python",
   "nbconvert_exporter": "python",
   "pygments_lexer": "ipython3",
   "version": "3.9.12"
  },
  "vscode": {
   "interpreter": {
    "hash": "3ebb88f7871cdbd8441739501fff7e917fde7ea65a68f8b253420d8c4a67777b"
   }
  }
 },
 "nbformat": 4,
 "nbformat_minor": 1
}
