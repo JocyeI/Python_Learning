{
 "cells": [
  {
   "cell_type": "markdown",
   "metadata": {
    "collapsed": true
   },
   "source": [
    "# 1.正交分解定理\n",
    "$\\quad$若$W$是$\\Bbb{R}^{n}$的一个子空间，那么$\\Bbb{R}^{n}$中的每一个向量$\\mathbf{y}$可以唯一地表示为：\n",
    "\n",
    "$$\\mathbf{y}=\\hat{\\mathbf{y}}+\\mathbf{z}$$\n",
    "\n",
    "其中$\\hat{\\mathbf{y}}$属于$W$而$\\mathbf{z}$属于$W^{\\bot}$，实际上，如果$\\{\\mathbf{u}_{1},\\cdots,\\mathbf{u}_{p}\\}$是$W$的任意正交基，那么：\n",
    "\n",
    "$$\\hat{\\mathbf{y}}=\\frac{\\mathbf{y}\\cdot\\mathbf{u}_{1}}{\\mathbf{u}_{1}\\cdot\\mathbf{u}_{1}}\\mathbf{u}_{1}+\\cdots+\\frac{\\mathbf{y}\\cdot\\mathbf{u}_{p}}{\\mathbf{u}_{p}\\cdot\\mathbf{u}_{p}}\\mathbf{u}_{p}$$\n",
    "\n",
    "且$\\mathbf{z}=\\mathbf{y}-\\hat{\\mathbf{y}}$。$\\hat{\\mathbf{y}}$称为$\\mathbf{y}$在$W$上的正交投影，记作$proj_{W}\\mathbf{y}$，如下图所示：\n",
    "\n",
    "<img src=\"./_image/14_1.png\" width=\"800\" height=\"300\" />  \n",
    "\n",
    "$\\quad$例如：\n",
    "\n",
    "<img src=\"./_image/14_2.png\" width=\"800\" height=\"350\" />  \n",
    "\n",
    "# 2.最佳逼近定理\n",
    "$\\quad$假设$W$是$\\Bbb{R}^{n}$的一个子空间，$\\mathbf{y}$是$\\Bbb{R}^{n}$中的任意向量，$\\hat{\\mathbf{y}}$是$\\mathbf{y}$在$W$上的正交投影，那么$\\hat{\\mathbf{y}}$是$W$中最接近$\\mathbf{y}$的点，也就是：\n",
    "\n",
    "$$\\Vert\\mathbf{y}-\\hat{\\mathbf{y}}\\Vert<\\Vert\\mathbf{y}-\\mathbf{v}\\Vert$$\n",
    "\n",
    "对所有属于$W$又异于$\\hat{\\mathbf{y}}$的$\\mathbf{v}$成立。可理解为向量$\\hat{\\mathbf{y}}$为$W$中元素对$\\mathbf{y}$的**最佳逼近**。  "
   ]
  }
 ],
 "metadata": {
  "kernelspec": {
   "display_name": "Python 3",
   "language": "python",
   "name": "python3"
  },
  "language_info": {
   "codemirror_mode": {
    "name": "ipython",
    "version": 3
   },
   "file_extension": ".py",
   "mimetype": "text/x-python",
   "name": "python",
   "nbconvert_exporter": "python",
   "pygments_lexer": "ipython3",
   "version": "3.7.1"
  }
 },
 "nbformat": 4,
 "nbformat_minor": 1
}
