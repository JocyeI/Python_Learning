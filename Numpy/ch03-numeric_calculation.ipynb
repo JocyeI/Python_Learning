{
 "cells": [
  {
   "cell_type": "markdown",
   "id": "08fa3dc1",
   "metadata": {
    "toc": true
   },
   "source": [
    "<h1>Table of Contents<span class=\"tocSkip\"></span></h1>\n",
    "<div class=\"toc\"><ul class=\"toc-item\"><li><span><a href=\"#数学函数\" data-toc-modified-id=\"数学函数-1\"><span class=\"toc-item-num\">1&nbsp;&nbsp;</span>数学函数 </a></span><ul class=\"toc-item\"><li><span><a href=\"#三角/双曲函数\" data-toc-modified-id=\"三角/双曲函数-1.1\"><span class=\"toc-item-num\">1.1&nbsp;&nbsp;</span>三角 / 双曲函数 </a></span></li><li><span><a href=\"#指数和对数\" data-toc-modified-id=\"指数和对数-1.2\"><span class=\"toc-item-num\">1.2&nbsp;&nbsp;</span>指数和对数 </a></span></li><li><span><a href=\"#算术操作\" data-toc-modified-id=\"算术操作-1.3\"><span class=\"toc-item-num\">1.3&nbsp;&nbsp;</span>算术操作 </a></span></li><li><span><a href=\"#自动域\" data-toc-modified-id=\"自动域-1.4\"><span class=\"toc-item-num\">1.4&nbsp;&nbsp;</span>自动域 </a></span></li></ul></li><li><span><a href=\"#数值计算\" data-toc-modified-id=\"数值计算-2\"><span class=\"toc-item-num\">2&nbsp;&nbsp;</span>数值计算 </a></span><ul class=\"toc-item\"><li><span><a href=\"#舍入\" data-toc-modified-id=\"舍入-2.1\"><span class=\"toc-item-num\">2.1&nbsp;&nbsp;</span>舍入 </a></span></li><li><span><a href=\"#和积差\" data-toc-modified-id=\"和积差-2.2\"><span class=\"toc-item-num\">2.2&nbsp;&nbsp;</span>和积差 </a></span></li><li><span><a href=\"#符号函数\" data-toc-modified-id=\"符号函数-2.3\"><span class=\"toc-item-num\">2.3&nbsp;&nbsp;</span>符号函数 </a></span></li><li><span><a href=\"#截断\" data-toc-modified-id=\"截断-2.4\"><span class=\"toc-item-num\">2.4&nbsp;&nbsp;</span>截断 </a></span></li><li><span><a href=\"#插值\" data-toc-modified-id=\"插值-2.5\"><span class=\"toc-item-num\">2.5&nbsp;&nbsp;</span>插值 </a></span></li></ul></li><li><span><a href=\"#导数和微积分\" data-toc-modified-id=\"导数和微积分-3\"><span class=\"toc-item-num\">3&nbsp;&nbsp;</span>导数和微积分 </a></span><ul class=\"toc-item\"><li><span><a href=\"#梯度\" data-toc-modified-id=\"梯度-3.1\"><span class=\"toc-item-num\">3.1&nbsp;&nbsp;</span>梯度 </a></span></li><li><span><a href=\"#梯形公式\" data-toc-modified-id=\"梯形公式-3.2\"><span class=\"toc-item-num\">3.2&nbsp;&nbsp;</span>梯形公式 </a></span></li></ul></li><li><span><a href=\"#多项式\" data-toc-modified-id=\"多项式-4\"><span class=\"toc-item-num\">4&nbsp;&nbsp;</span>多项式 </a></span><ul class=\"toc-item\"><li><span><a href=\"#简介\" data-toc-modified-id=\"简介-4.1\"><span class=\"toc-item-num\">4.1&nbsp;&nbsp;</span>简介 </a></span></li><li><span><a href=\"#便捷类\" data-toc-modified-id=\"便捷类-4.2\"><span class=\"toc-item-num\">4.2&nbsp;&nbsp;</span>便捷类 </a></span></li></ul></li><li><span><a href=\"#关系运算\" data-toc-modified-id=\"关系运算-5\"><span class=\"toc-item-num\">5&nbsp;&nbsp;</span>关系运算</a></span><ul class=\"toc-item\"><li><span><a href=\"#真值测试\" data-toc-modified-id=\"真值测试-5.1\"><span class=\"toc-item-num\">5.1&nbsp;&nbsp;</span>真值测试 </a></span></li><li><span><a href=\"#值和类型\" data-toc-modified-id=\"值和类型-5.2\"><span class=\"toc-item-num\">5.2&nbsp;&nbsp;</span>值和类型 </a></span></li><li><span><a href=\"#逻辑运算\" data-toc-modified-id=\"逻辑运算-5.3\"><span class=\"toc-item-num\">5.3&nbsp;&nbsp;</span>逻辑运算 </a></span></li><li><span><a href=\"#比较\" data-toc-modified-id=\"比较-5.4\"><span class=\"toc-item-num\">5.4&nbsp;&nbsp;</span>比较 </a></span></li></ul></li><li><span><a href=\"#二进制运算\" data-toc-modified-id=\"二进制运算-6\"><span class=\"toc-item-num\">6&nbsp;&nbsp;</span>二进制运算 </a></span><ul class=\"toc-item\"><li><span><a href=\"#位运算\" data-toc-modified-id=\"位运算-6.1\"><span class=\"toc-item-num\">6.1&nbsp;&nbsp;</span>位运算 </a></span></li><li><span><a href=\"#左右移\" data-toc-modified-id=\"左右移-6.2\"><span class=\"toc-item-num\">6.2&nbsp;&nbsp;</span>左右移 </a></span></li><li><span><a href=\"#打包解包\" data-toc-modified-id=\"打包解包-6.3\"><span class=\"toc-item-num\">6.3&nbsp;&nbsp;</span>打包解包 </a></span></li></ul></li><li><span><a href=\"#字符串\" data-toc-modified-id=\"字符串-7\"><span class=\"toc-item-num\">7&nbsp;&nbsp;</span>字符串 </a></span><ul class=\"toc-item\"><li><span><a href=\"#基本操作\" data-toc-modified-id=\"基本操作-7.1\"><span class=\"toc-item-num\">7.1&nbsp;&nbsp;</span>基本操作 </a></span></li><li><span><a href=\"#比较\" data-toc-modified-id=\"比较-7.2\"><span class=\"toc-item-num\">7.2&nbsp;&nbsp;</span>比较 </a></span></li><li><span><a href=\"#基本信息\" data-toc-modified-id=\"基本信息-7.3\"><span class=\"toc-item-num\">7.3&nbsp;&nbsp;</span>基本信息 </a></span></li></ul></li><li><span><a href=\"#小结\" data-toc-modified-id=\"小结-8\"><span class=\"toc-item-num\">8&nbsp;&nbsp;</span>小结 </a></span></li><li><span><a href=\"#参考\" data-toc-modified-id=\"参考-9\"><span class=\"toc-item-num\">9&nbsp;&nbsp;</span>参考 </a></span></li></ul></div>"
   ]
  },
  {
   "cell_type": "code",
   "execution_count": 1,
   "id": "a5d658a3",
   "metadata": {},
   "outputs": [
    {
     "data": {
      "text/plain": [
       "'1.22.3'"
      ]
     },
     "execution_count": 1,
     "metadata": {},
     "output_type": "execute_result"
    }
   ],
   "source": [
    "import numpy as np\n",
    "np.__version__"
   ]
  },
  {
   "cell_type": "markdown",
   "id": "8db52222",
   "metadata": {},
   "source": [
    "文档阅读说明：\n",
    "\n",
    "- 🐧 表示 Tip\n",
    "- ⚠️ 表示注意事项"
   ]
  },
  {
   "cell_type": "markdown",
   "id": "551ab94a",
   "metadata": {},
   "source": [
    "## 数学函数\n",
    "\n",
    "NumPy内置了很多数学函数，包括：\n",
    "\n",
    "- 三角/双曲函数\n",
    "- 四舍五入\n",
    "- 和、积、差\n",
    "- 导数和微积分\n",
    "- 指数和对数\n",
    "- 算术操作\n",
    "- 综合\n",
    "\n",
    "关于这一部分，我们主要介绍一些特殊的方法，对比较简单的就跳过了，可以参考：\n",
    "\n",
    "- [Mathematical functions — NumPy v1.23.dev0 Manual](https://numpy.org/devdocs/reference/routines.math.html)"
   ]
  },
  {
   "cell_type": "markdown",
   "id": "4fd66e8a",
   "metadata": {},
   "source": [
    "### 三角/双曲函数"
   ]
  },
  {
   "cell_type": "markdown",
   "id": "0bb248b0",
   "metadata": {},
   "source": [
    "三角函数和双曲中大部分都很容易理解，也都是通函数，我们主要介绍一个看起来不太明显的：`unwrap`，它的主要目的是对周期取大增量补码。参数如下：\n",
    "\n",
    "- p：数组\n",
    "- discont：数值间的最大中断，默认`period/2`，低于该值的被设为该值\n",
    "- axis：轴，默认最后一个轴\n",
    "- period：周期范围，默认`2pi`"
   ]
  },
  {
   "cell_type": "code",
   "execution_count": 42,
   "id": "6868f9cd",
   "metadata": {},
   "outputs": [
    {
     "data": {
      "text/plain": [
       "array([0.        , 0.78539816, 1.57079633, 5.49778714, 6.28318531])"
      ]
     },
     "execution_count": 42,
     "metadata": {},
     "output_type": "execute_result"
    }
   ],
   "source": [
    "phase = np.linspace(0, np.pi, num=5)\n",
    "phase[3:] += np.pi\n",
    "phase"
   ]
  },
  {
   "cell_type": "code",
   "execution_count": 43,
   "id": "798d2b58",
   "metadata": {},
   "outputs": [
    {
     "data": {
      "text/plain": [
       "array([ 0.        ,  0.78539816,  1.57079633, -0.78539816,  0.        ])"
      ]
     },
     "execution_count": 43,
     "metadata": {},
     "output_type": "execute_result"
    }
   ],
   "source": [
    "# 超过pi的，剪掉period\n",
    "np.unwrap(phase)"
   ]
  },
  {
   "cell_type": "code",
   "execution_count": 67,
   "id": "963057ef",
   "metadata": {},
   "outputs": [
    {
     "data": {
      "text/plain": [
       "(array([ 1.        , -1.28318531]), -1.2831853071795862)"
      ]
     },
     "execution_count": 67,
     "metadata": {},
     "output_type": "execute_result"
    }
   ],
   "source": [
    "# 要减掉 1 个周期\n",
    "np.unwrap([1, 5]), 5 - 2*np.pi"
   ]
  },
  {
   "cell_type": "code",
   "execution_count": 66,
   "id": "bf7e1dcf",
   "metadata": {},
   "outputs": [
    {
     "data": {
      "text/plain": [
       "(array([1.        , 1.15044408]), 1.1504440784612413)"
      ]
     },
     "execution_count": 66,
     "metadata": {},
     "output_type": "execute_result"
    }
   ],
   "source": [
    "# 要减掉3个周期\n",
    "np.unwrap([1, 20]), 20 - 3*2*np.pi"
   ]
  },
  {
   "cell_type": "code",
   "execution_count": 72,
   "id": "141b66f6",
   "metadata": {},
   "outputs": [
    {
     "data": {
      "text/plain": [
       "(array([ 1.        , -2.04159265]), -2.0415926535897935)"
      ]
     },
     "execution_count": 72,
     "metadata": {},
     "output_type": "execute_result"
    }
   ],
   "source": [
    "# 超过 pi 的处理掉！\n",
    "np.unwrap([1, 1.1+np.pi]), 1.1+np.pi-2*np.pi"
   ]
  },
  {
   "cell_type": "markdown",
   "id": "3e96d1ec",
   "metadata": {},
   "source": [
    "再看几个例子："
   ]
  },
  {
   "cell_type": "code",
   "execution_count": 77,
   "id": "fb52650e",
   "metadata": {},
   "outputs": [
    {
     "data": {
      "text/plain": [
       "array([0, 1, 2, 3, 4])"
      ]
     },
     "execution_count": 77,
     "metadata": {},
     "output_type": "execute_result"
    }
   ],
   "source": [
    "# 超过4/2，加4\n",
    "np.unwrap([0, 1, 2, -1, 0], period=4)"
   ]
  },
  {
   "cell_type": "code",
   "execution_count": 83,
   "id": "0784c19a",
   "metadata": {},
   "outputs": [
    {
     "data": {
      "text/plain": [
       "array([1, 2, 3, 4])"
      ]
     },
     "execution_count": 83,
     "metadata": {},
     "output_type": "execute_result"
    }
   ],
   "source": [
    "# 为什么要加而不是减，因为只有加才能满足条件\n",
    "np.unwrap([1, -2, -1, 0], period=4)"
   ]
  },
  {
   "cell_type": "code",
   "execution_count": 85,
   "id": "5304dcd7",
   "metadata": {},
   "outputs": [
    {
     "data": {
      "text/plain": [
       "array([2, 3, 4, 5, 6, 7, 8, 9])"
      ]
     },
     "execution_count": 85,
     "metadata": {},
     "output_type": "execute_result"
    }
   ],
   "source": [
    "# 同上，5 后面的数字都要加 4\n",
    "np.unwrap([2, 3, 4, 5, 2, 3, 4, 5], period=4)"
   ]
  },
  {
   "cell_type": "markdown",
   "id": "41f309f9",
   "metadata": {},
   "source": [
    "另外需要注意的是，`deg2rad` == `radians`，`rad2deg` == `degrees`，前面的表达更加清晰一些。"
   ]
  },
  {
   "cell_type": "markdown",
   "id": "e3294dff",
   "metadata": {},
   "source": [
    "更多细节可查阅：\n",
    "\n",
    "- https://numpy.org/devdocs/reference/routines.math.html"
   ]
  },
  {
   "cell_type": "markdown",
   "id": "d084a780",
   "metadata": {},
   "source": [
    "### 指数和对数"
   ]
  },
  {
   "cell_type": "markdown",
   "id": "9ca2a993",
   "metadata": {},
   "source": [
    "大部分的API都比较容易理解，比如自然指数`np.exp`，2为底指数`np.exp2`等，对应的log也有`np.log`，`np.log2`，`np.log10`等，而且所有API都是通函数。\n",
    "\n",
    "另外，也有`np.expm1`表示exp后减1，对应的就是加1后log的`np.log1p`："
   ]
  },
  {
   "cell_type": "code",
   "execution_count": 242,
   "id": "04128442",
   "metadata": {},
   "outputs": [
    {
     "data": {
      "text/plain": [
       "(2.0, 2.0)"
      ]
     },
     "execution_count": 242,
     "metadata": {},
     "output_type": "execute_result"
    }
   ],
   "source": [
    "np.log(np.exp(2)), np.log1p(np.expm1(2))"
   ]
  },
  {
   "cell_type": "markdown",
   "id": "bee8ceda",
   "metadata": {},
   "source": [
    "还有两个求和的`np.logaddexp`和以2为底的`np.logaddexp2`，计算公式：`log(exp(x1) + exp(x2))`"
   ]
  },
  {
   "cell_type": "code",
   "execution_count": 247,
   "id": "40393f3c",
   "metadata": {},
   "outputs": [
    {
     "data": {
      "text/plain": [
       "(array([2.31326169]), 2.3132616875182226)"
      ]
     },
     "execution_count": 247,
     "metadata": {},
     "output_type": "execute_result"
    }
   ],
   "source": [
    "np.logaddexp([1], [2]), np.log(np.exp(1) + np.exp(2))"
   ]
  },
  {
   "cell_type": "code",
   "execution_count": 253,
   "id": "600bbb87",
   "metadata": {},
   "outputs": [
    {
     "data": {
      "text/plain": [
       "(array([2.5849625]), 2.584962500721156)"
      ]
     },
     "execution_count": 253,
     "metadata": {},
     "output_type": "execute_result"
    }
   ],
   "source": [
    "np.logaddexp2([1], [2]), np.log2(np.exp2(1) + np.exp2(2))"
   ]
  },
  {
   "cell_type": "markdown",
   "id": "8b2185d0",
   "metadata": {},
   "source": [
    "`np.frexp`和`np.ldexp`是一对操作，后者等于`x1 * 2**x2`，而前者是将一个数组分解成mantissa和exponent，而依据就是`x = mantissa * 2**exponent`，就是对应前面的x1和x2了。"
   ]
  },
  {
   "cell_type": "code",
   "execution_count": 269,
   "id": "9a7c374e",
   "metadata": {},
   "outputs": [
    {
     "data": {
      "text/plain": [
       "(array([ 2.,  4.,  8., 16., 32.], dtype=float16), array([ 2,  4,  8, 16, 32]))"
      ]
     },
     "execution_count": 269,
     "metadata": {},
     "output_type": "execute_result"
    }
   ],
   "source": [
    "np.ldexp(2, np.arange(5)), 2 * 2**np.arange(5)"
   ]
  },
  {
   "cell_type": "code",
   "execution_count": 283,
   "id": "a7bb9103",
   "metadata": {},
   "outputs": [
    {
     "data": {
      "text/plain": [
       "(array([0.5 , 0.75, 0.5 ]), array([2, 2, 3], dtype=int32))"
      ]
     },
     "execution_count": 283,
     "metadata": {},
     "output_type": "execute_result"
    }
   ],
   "source": [
    "np.frexp(np.arange(2, 5))"
   ]
  },
  {
   "cell_type": "code",
   "execution_count": 285,
   "id": "8aa16165",
   "metadata": {
    "scrolled": true
   },
   "outputs": [
    {
     "data": {
      "text/plain": [
       "(array([2., 3., 4.]), array([2, 3, 4]))"
      ]
     },
     "execution_count": 285,
     "metadata": {},
     "output_type": "execute_result"
    }
   ],
   "source": [
    "np.array([0.5, 0.75, 0.5]) * 2 ** np.array([2, 2, 3]), np.arange(2, 5)"
   ]
  },
  {
   "cell_type": "markdown",
   "id": "84b09df3",
   "metadata": {},
   "source": [
    "### 算术操作\n",
    "\n",
    "主要是中小学学过的加减乘除、乘方、开方、取余、倒数、绝对值，以及对应的一些特殊方法等，它们也都是通函数。按照惯例，我们主要介绍特殊的。"
   ]
  },
  {
   "cell_type": "markdown",
   "id": "13607c36",
   "metadata": {},
   "source": [
    "关于除法和Python的类似："
   ]
  },
  {
   "cell_type": "code",
   "execution_count": 326,
   "id": "c812fb9d",
   "metadata": {},
   "outputs": [
    {
     "data": {
      "text/plain": [
       "2"
      ]
     },
     "execution_count": 326,
     "metadata": {},
     "output_type": "execute_result"
    }
   ],
   "source": [
    "# 地板除，等价于python的 //\n",
    "np.floor_divide(5, 2)"
   ]
  },
  {
   "cell_type": "code",
   "execution_count": 327,
   "id": "132fc15d",
   "metadata": {},
   "outputs": [
    {
     "data": {
      "text/plain": [
       "array([2, 1])"
      ]
     },
     "execution_count": 327,
     "metadata": {},
     "output_type": "execute_result"
    }
   ],
   "source": [
    "np.floor_divide([7, 8], [3, 5])"
   ]
  },
  {
   "cell_type": "markdown",
   "id": "f18c15d9",
   "metadata": {},
   "source": [
    "绝对值有相应的兼容复数的方法。"
   ]
  },
  {
   "cell_type": "code",
   "execution_count": 411,
   "id": "93ca4d26",
   "metadata": {},
   "outputs": [
    {
     "data": {
      "text/plain": [
       "1.4142135623730951"
      ]
     },
     "execution_count": 411,
     "metadata": {},
     "output_type": "execute_result"
    }
   ],
   "source": [
    "np.abs(-1-1j)"
   ]
  },
  {
   "cell_type": "code",
   "execution_count": 412,
   "id": "95bb1e7c",
   "metadata": {},
   "outputs": [
    {
     "ename": "TypeError",
     "evalue": "ufunc 'fabs' not supported for the input types, and the inputs could not be safely coerced to any supported types according to the casting rule ''safe''",
     "output_type": "error",
     "traceback": [
      "\u001b[0;31m---------------------------------------------------------------------------\u001b[0m",
      "\u001b[0;31mTypeError\u001b[0m                                 Traceback (most recent call last)",
      "\u001b[0;32m<ipython-input-412-0b4518d62178>\u001b[0m in \u001b[0;36m<module>\u001b[0;34m\u001b[0m\n\u001b[0;32m----> 1\u001b[0;31m \u001b[0mnp\u001b[0m\u001b[0;34m.\u001b[0m\u001b[0mfabs\u001b[0m\u001b[0;34m(\u001b[0m\u001b[0;34m-\u001b[0m\u001b[0;36m1\u001b[0m\u001b[0;34m-\u001b[0m\u001b[0;36m1j\u001b[0m\u001b[0;34m)\u001b[0m\u001b[0;34m\u001b[0m\u001b[0;34m\u001b[0m\u001b[0m\n\u001b[0m",
      "\u001b[0;31mTypeError\u001b[0m: ufunc 'fabs' not supported for the input types, and the inputs could not be safely coerced to any supported types according to the casting rule ''safe''"
     ]
    }
   ],
   "source": [
    "np.fabs(-1-1j)"
   ]
  },
  {
   "cell_type": "markdown",
   "id": "c4449ce6",
   "metadata": {},
   "source": [
    "还有几个关于取余的方法："
   ]
  },
  {
   "cell_type": "code",
   "execution_count": 341,
   "id": "3857f857",
   "metadata": {},
   "outputs": [
    {
     "data": {
      "text/plain": [
       "array([0, 1, 0])"
      ]
     },
     "execution_count": 341,
     "metadata": {},
     "output_type": "execute_result"
    }
   ],
   "source": [
    "# 等价于Python的 x1%x2\n",
    "np.remainder(np.arange(3), 2)"
   ]
  },
  {
   "cell_type": "code",
   "execution_count": 344,
   "id": "5ce713a3",
   "metadata": {},
   "outputs": [
    {
     "data": {
      "text/plain": [
       "array([0, 3])"
      ]
     },
     "execution_count": 344,
     "metadata": {},
     "output_type": "execute_result"
    }
   ],
   "source": [
    "# 和 np.reminder 一样\n",
    "np.mod([12, 13], [4, 5])"
   ]
  },
  {
   "cell_type": "code",
   "execution_count": 367,
   "id": "f96368be",
   "metadata": {},
   "outputs": [
    {
     "data": {
      "text/plain": [
       "array([1, 0, 1, 1, 0, 1])"
      ]
     },
     "execution_count": 367,
     "metadata": {},
     "output_type": "execute_result"
    }
   ],
   "source": [
    "# mod 结果的符号是x2的符号\n",
    "np.mod([-3, -2, -1, 1, 2, 3], 2)"
   ]
  },
  {
   "cell_type": "code",
   "execution_count": 368,
   "id": "6a591898",
   "metadata": {},
   "outputs": [
    {
     "data": {
      "text/plain": [
       "array([ 0, -1])"
      ]
     },
     "execution_count": 368,
     "metadata": {},
     "output_type": "execute_result"
    }
   ],
   "source": [
    "np.mod([2, 3], -2)"
   ]
  },
  {
   "cell_type": "code",
   "execution_count": 369,
   "id": "99806e1e",
   "metadata": {},
   "outputs": [
    {
     "data": {
      "text/plain": [
       "array([-1,  0, -1,  1,  0,  1])"
      ]
     },
     "execution_count": 369,
     "metadata": {},
     "output_type": "execute_result"
    }
   ],
   "source": [
    "# 而fmod 结果的符号是x1的符号\n",
    "np.fmod([-3, -2, -1, 1, 2, 3], 2)"
   ]
  },
  {
   "cell_type": "code",
   "execution_count": 370,
   "id": "2e42176c",
   "metadata": {},
   "outputs": [
    {
     "data": {
      "text/plain": [
       "array([0, 1])"
      ]
     },
     "execution_count": 370,
     "metadata": {},
     "output_type": "execute_result"
    }
   ],
   "source": [
    "np.fmod([2, 3], -2)"
   ]
  },
  {
   "cell_type": "markdown",
   "id": "d3452590",
   "metadata": {},
   "source": [
    "接下来这两个稍微不一样些。"
   ]
  },
  {
   "cell_type": "code",
   "execution_count": 358,
   "id": "0f13aeee",
   "metadata": {},
   "outputs": [
    {
     "data": {
      "text/plain": [
       "(array([0. , 0.5, 0. ]), array([0., 3., 2.]))"
      ]
     },
     "execution_count": 358,
     "metadata": {},
     "output_type": "execute_result"
    }
   ],
   "source": [
    "# 按元素返回数组的小数部分和整数部分。\n",
    "np.modf([0, 3.5, 2.0])"
   ]
  },
  {
   "cell_type": "code",
   "execution_count": 359,
   "id": "44c069b0",
   "metadata": {},
   "outputs": [
    {
     "data": {
      "text/plain": [
       "(-0.0, -1.0)"
      ]
     },
     "execution_count": 359,
     "metadata": {},
     "output_type": "execute_result"
    }
   ],
   "source": [
    "np.modf(-1)"
   ]
  },
  {
   "cell_type": "code",
   "execution_count": 371,
   "id": "639861b2",
   "metadata": {},
   "outputs": [
    {
     "data": {
      "text/plain": [
       "(array([6, 6, 7]), array([0, 1, 1]))"
      ]
     },
     "execution_count": 371,
     "metadata": {},
     "output_type": "execute_result"
    }
   ],
   "source": [
    "# 同时返回(x // y, x % y)\n",
    "np.divmod([12, 13, 15], 2)"
   ]
  },
  {
   "cell_type": "code",
   "execution_count": 372,
   "id": "7ffc3c68",
   "metadata": {},
   "outputs": [
    {
     "data": {
      "text/plain": [
       "(array([-2, -1, -1,  0,  1,  1]), array([1, 0, 1, 1, 0, 1]))"
      ]
     },
     "execution_count": 372,
     "metadata": {},
     "output_type": "execute_result"
    }
   ],
   "source": [
    "np.divmod([-3, -2, -1, 1, 2, 3], 2)"
   ]
  },
  {
   "cell_type": "markdown",
   "id": "7b76ab3d",
   "metadata": {},
   "source": [
    "还有两个小学数学用过的：最大公倍数和最小公约数。"
   ]
  },
  {
   "cell_type": "code",
   "execution_count": 296,
   "id": "75dd3780",
   "metadata": {},
   "outputs": [
    {
     "data": {
      "text/plain": [
       "60"
      ]
     },
     "execution_count": 296,
     "metadata": {},
     "output_type": "execute_result"
    }
   ],
   "source": [
    "# 最小公倍数\n",
    "np.lcm(12, 20)"
   ]
  },
  {
   "cell_type": "code",
   "execution_count": 298,
   "id": "816a3ab8",
   "metadata": {},
   "outputs": [
    {
     "data": {
      "text/plain": [
       "120"
      ]
     },
     "execution_count": 298,
     "metadata": {},
     "output_type": "execute_result"
    }
   ],
   "source": [
    "# 多个值可以用reduce\n",
    "np.lcm.reduce([2, 3, 5, 8])"
   ]
  },
  {
   "cell_type": "code",
   "execution_count": 302,
   "id": "06ce6b96",
   "metadata": {},
   "outputs": [
    {
     "data": {
      "text/plain": [
       "array([ 6,  3, 15, 24])"
      ]
     },
     "execution_count": 302,
     "metadata": {},
     "output_type": "execute_result"
    }
   ],
   "source": [
    "# 同时求多个\n",
    "np.lcm([2, 3, 5, 8], 3)"
   ]
  },
  {
   "cell_type": "code",
   "execution_count": 304,
   "id": "7d21e6f2",
   "metadata": {},
   "outputs": [
    {
     "data": {
      "text/plain": [
       "4"
      ]
     },
     "execution_count": 304,
     "metadata": {},
     "output_type": "execute_result"
    }
   ],
   "source": [
    "# 最大公约数\n",
    "np.gcd(12, 20)"
   ]
  },
  {
   "cell_type": "code",
   "execution_count": 306,
   "id": "75f69e61",
   "metadata": {},
   "outputs": [
    {
     "data": {
      "text/plain": [
       "5"
      ]
     },
     "execution_count": 306,
     "metadata": {},
     "output_type": "execute_result"
    }
   ],
   "source": [
    "np.gcd.reduce([15, 20, 30])"
   ]
  },
  {
   "cell_type": "code",
   "execution_count": 312,
   "id": "5ef8cf61",
   "metadata": {},
   "outputs": [
    {
     "data": {
      "text/plain": [
       "array([2, 1, 5, 4])"
      ]
     },
     "execution_count": 312,
     "metadata": {},
     "output_type": "execute_result"
    }
   ],
   "source": [
    "np.gcd([2, 3, 5, 8], 20)"
   ]
  },
  {
   "cell_type": "markdown",
   "id": "c436cd3e",
   "metadata": {},
   "source": [
    "### 自动域\n",
    "\n",
    "函数的输出数据类型与输入的某些域中的输入数据类型不同时，可以使用`np.emath`。\n",
    "\n",
    "支持以下API：\n",
    "- `sqrt`, `power`\n",
    "- `log`, `log2`, `log10`, `logn`\n",
    "- `arccos`, `arcsin`, `arctan`"
   ]
  },
  {
   "cell_type": "code",
   "execution_count": 564,
   "id": "27be029e",
   "metadata": {},
   "outputs": [
    {
     "data": {
      "text/plain": [
       "1j"
      ]
     },
     "execution_count": 564,
     "metadata": {},
     "output_type": "execute_result"
    }
   ],
   "source": [
    "np.emath.sqrt(-1)"
   ]
  },
  {
   "cell_type": "code",
   "execution_count": 565,
   "id": "ce7b31d2",
   "metadata": {},
   "outputs": [
    {
     "name": "stderr",
     "output_type": "stream",
     "text": [
      "<ipython-input-565-597592b72a04>:1: RuntimeWarning: invalid value encountered in sqrt\n",
      "  np.sqrt(-1)\n"
     ]
    },
    {
     "data": {
      "text/plain": [
       "nan"
      ]
     },
     "execution_count": 565,
     "metadata": {},
     "output_type": "execute_result"
    }
   ],
   "source": [
    "np.sqrt(-1)"
   ]
  },
  {
   "cell_type": "code",
   "execution_count": 573,
   "id": "92e2fef1",
   "metadata": {},
   "outputs": [
    {
     "data": {
      "text/plain": [
       "True"
      ]
     },
     "execution_count": 573,
     "metadata": {},
     "output_type": "execute_result"
    }
   ],
   "source": [
    "import math\n",
    "np.emath.log(-math.exp(1)) == 1+1j*math.pi"
   ]
  },
  {
   "cell_type": "code",
   "execution_count": 575,
   "id": "1434a6be",
   "metadata": {},
   "outputs": [
    {
     "ename": "ValueError",
     "evalue": "Integers to negative integer powers are not allowed.",
     "output_type": "error",
     "traceback": [
      "\u001b[0;31m---------------------------------------------------------------------------\u001b[0m",
      "\u001b[0;31mValueError\u001b[0m                                Traceback (most recent call last)",
      "\u001b[0;32m<ipython-input-575-f02dcfa4fde4>\u001b[0m in \u001b[0;36m<module>\u001b[0;34m\u001b[0m\n\u001b[0;32m----> 1\u001b[0;31m \u001b[0mnp\u001b[0m\u001b[0;34m.\u001b[0m\u001b[0mpower\u001b[0m\u001b[0;34m(\u001b[0m\u001b[0;34m[\u001b[0m\u001b[0;36m2\u001b[0m\u001b[0;34m,\u001b[0m \u001b[0;36m4\u001b[0m\u001b[0;34m]\u001b[0m\u001b[0;34m,\u001b[0m \u001b[0;34m-\u001b[0m\u001b[0;36m2\u001b[0m\u001b[0;34m)\u001b[0m\u001b[0;34m\u001b[0m\u001b[0;34m\u001b[0m\u001b[0m\n\u001b[0m",
      "\u001b[0;31mValueError\u001b[0m: Integers to negative integer powers are not allowed."
     ]
    }
   ],
   "source": [
    "np.power([2, 4], -2)"
   ]
  },
  {
   "cell_type": "code",
   "execution_count": 576,
   "id": "87f0a344",
   "metadata": {},
   "outputs": [
    {
     "data": {
      "text/plain": [
       "array([0.25  , 0.0625])"
      ]
     },
     "execution_count": 576,
     "metadata": {},
     "output_type": "execute_result"
    }
   ],
   "source": [
    "np.emath.power([2, 4], -2)"
   ]
  },
  {
   "cell_type": "code",
   "execution_count": 581,
   "id": "e60e4927",
   "metadata": {},
   "outputs": [
    {
     "data": {
      "text/plain": [
       "array([-2.+0.j,  4.+0.j])"
      ]
     },
     "execution_count": 581,
     "metadata": {},
     "output_type": "execute_result"
    }
   ],
   "source": [
    "# 如果x包含负数则转为复数\n",
    "np.emath.power([-2, 4], 1)"
   ]
  },
  {
   "cell_type": "markdown",
   "id": "ce8b634c",
   "metadata": {},
   "source": [
    "## 数值计算"
   ]
  },
  {
   "cell_type": "markdown",
   "id": "eaae7a72",
   "metadata": {},
   "source": [
    "### 舍入"
   ]
  },
  {
   "cell_type": "markdown",
   "id": "780e1b9e",
   "metadata": {},
   "source": [
    "然后是四舍五入，`round`和`around`一样。"
   ]
  },
  {
   "cell_type": "code",
   "execution_count": 105,
   "id": "0f4d6483",
   "metadata": {
    "scrolled": true
   },
   "outputs": [
    {
     "data": {
      "text/plain": [
       "array([[0.77395605, 0.43887844, 0.85859792],\n",
       "       [0.69736803, 0.09417735, 0.97562235]])"
      ]
     },
     "execution_count": 105,
     "metadata": {},
     "output_type": "execute_result"
    }
   ],
   "source": [
    "rng = np.random.default_rng(42)\n",
    "arr = rng.random((2,3))\n",
    "arr"
   ]
  },
  {
   "cell_type": "code",
   "execution_count": 106,
   "id": "3ad43a5b",
   "metadata": {},
   "outputs": [
    {
     "data": {
      "text/plain": [
       "array([[0.77, 0.44, 0.86],\n",
       "       [0.7 , 0.09, 0.98]])"
      ]
     },
     "execution_count": 106,
     "metadata": {},
     "output_type": "execute_result"
    }
   ],
   "source": [
    "np.around(arr, 2)"
   ]
  },
  {
   "cell_type": "code",
   "execution_count": 107,
   "id": "3da412a5",
   "metadata": {},
   "outputs": [
    {
     "data": {
      "text/plain": [
       "array([[0.77, 0.44, 0.86],\n",
       "       [0.7 , 0.09, 0.98]])"
      ]
     },
     "execution_count": 107,
     "metadata": {},
     "output_type": "execute_result"
    }
   ],
   "source": [
    "np.array(arr).round(2)"
   ]
  },
  {
   "cell_type": "markdown",
   "id": "17a8bba9",
   "metadata": {},
   "source": [
    "其他的接口都比较类似，除了`fix`的其他函数都是通函数。如下，不再赘述："
   ]
  },
  {
   "cell_type": "code",
   "execution_count": 155,
   "id": "e7ca12c3",
   "metadata": {},
   "outputs": [],
   "source": [
    "lst = [2.1, -1.5, 3.2, 4.9]"
   ]
  },
  {
   "cell_type": "code",
   "execution_count": 156,
   "id": "b5ec1fa5",
   "metadata": {},
   "outputs": [
    {
     "data": {
      "text/plain": [
       "array([ 2., -1.,  3.,  4.])"
      ]
     },
     "execution_count": 156,
     "metadata": {},
     "output_type": "execute_result"
    }
   ],
   "source": [
    "np.fix(lst)"
   ]
  },
  {
   "cell_type": "code",
   "execution_count": 157,
   "id": "381e2177",
   "metadata": {},
   "outputs": [
    {
     "data": {
      "text/plain": [
       "array([ 2., -1.,  3.,  4.])"
      ]
     },
     "execution_count": 157,
     "metadata": {},
     "output_type": "execute_result"
    }
   ],
   "source": [
    "np.trunc(lst)"
   ]
  },
  {
   "cell_type": "code",
   "execution_count": 139,
   "id": "a742d3f3",
   "metadata": {},
   "outputs": [
    {
     "data": {
      "text/plain": [
       "array([ 2., -2.,  3.,  5.])"
      ]
     },
     "execution_count": 139,
     "metadata": {},
     "output_type": "execute_result"
    }
   ],
   "source": [
    "np.rint(lst)"
   ]
  },
  {
   "cell_type": "code",
   "execution_count": 140,
   "id": "fafa6905",
   "metadata": {},
   "outputs": [
    {
     "data": {
      "text/plain": [
       "array([ 2., -2.,  3.,  4.])"
      ]
     },
     "execution_count": 140,
     "metadata": {},
     "output_type": "execute_result"
    }
   ],
   "source": [
    "np.floor(lst)"
   ]
  },
  {
   "cell_type": "code",
   "execution_count": 141,
   "id": "f914d0c3",
   "metadata": {},
   "outputs": [
    {
     "data": {
      "text/plain": [
       "array([ 3., -1.,  4.,  5.])"
      ]
     },
     "execution_count": 141,
     "metadata": {},
     "output_type": "execute_result"
    }
   ],
   "source": [
    "np.ceil(lst)"
   ]
  },
  {
   "cell_type": "markdown",
   "id": "3f02429c",
   "metadata": {},
   "source": [
    "### 和积差\n",
    "\n",
    "这里包含了基础和积和累积和积，以及对应的有空值（`nan`）版本，API都比较简单，此处就不再赘述。主要介绍剩下的几个不太熟悉的。"
   ]
  },
  {
   "cell_type": "markdown",
   "id": "6a63a990",
   "metadata": {},
   "source": [
    "首先是`diff`，它包含以下参数：\n",
    "\n",
    "- 数组\n",
    "- 计算次数，就是计算几次diff\n",
    "- 维度\n",
    "- prepend/append：沿着维度放在原数组前面/后面然后再计算"
   ]
  },
  {
   "cell_type": "code",
   "execution_count": 210,
   "id": "b1cb39a2",
   "metadata": {},
   "outputs": [
    {
     "data": {
      "text/plain": [
       "array([[0, 7, 6, 4],\n",
       "       [4, 8, 0, 6],\n",
       "       [2, 0, 5, 9]])"
      ]
     },
     "execution_count": 210,
     "metadata": {},
     "output_type": "execute_result"
    }
   ],
   "source": [
    "rng = np.random.default_rng(42)\n",
    "a = rng.integers(0, 10, (3, 4))\n",
    "a"
   ]
  },
  {
   "cell_type": "code",
   "execution_count": 211,
   "id": "3be2599f",
   "metadata": {},
   "outputs": [
    {
     "data": {
      "text/plain": [
       "array([[ 7, -1, -2],\n",
       "       [ 4, -8,  6],\n",
       "       [-2,  5,  4]])"
      ]
     },
     "execution_count": 211,
     "metadata": {},
     "output_type": "execute_result"
    }
   ],
   "source": [
    "np.diff(a)"
   ]
  },
  {
   "cell_type": "code",
   "execution_count": 237,
   "id": "8a53a581",
   "metadata": {},
   "outputs": [
    {
     "data": {
      "text/plain": [
       "array([[ -8,  -1],\n",
       "       [-12,  14],\n",
       "       [  7,  -1]])"
      ]
     },
     "execution_count": 237,
     "metadata": {},
     "output_type": "execute_result"
    }
   ],
   "source": [
    "# 注意，连续算两次\n",
    "np.diff(a, 2)"
   ]
  },
  {
   "cell_type": "code",
   "execution_count": 238,
   "id": "dc9f01b0",
   "metadata": {
    "scrolled": true
   },
   "outputs": [
    {
     "data": {
      "text/plain": [
       "array([[ -8,  -1,  -2],\n",
       "       [-12,  14, -12],\n",
       "       [  7,  -1, -13]])"
      ]
     },
     "execution_count": 238,
     "metadata": {},
     "output_type": "execute_result"
    }
   ],
   "source": [
    "np.diff(a, 2, append=[[0], [0], [0]])"
   ]
  },
  {
   "cell_type": "code",
   "execution_count": 240,
   "id": "8397106f",
   "metadata": {},
   "outputs": [
    {
     "data": {
      "text/plain": [
       "array([[ -8,  -1,  -2],\n",
       "       [-12,  14, -12],\n",
       "       [  7,  -1, -13]])"
      ]
     },
     "execution_count": 240,
     "metadata": {},
     "output_type": "execute_result"
    }
   ],
   "source": [
    "# 等价于\n",
    "pd = np.full((3, 1), 0)\n",
    "cct = np.concatenate((a, pd), axis=1)\n",
    "np.diff(cct, 2)"
   ]
  },
  {
   "cell_type": "code",
   "execution_count": 241,
   "id": "e2d3bd24",
   "metadata": {},
   "outputs": [
    {
     "data": {
      "text/plain": [
       "array([[  7,  -8,  -1],\n",
       "       [  0, -12,  14],\n",
       "       [ -4,   7,  -1]])"
      ]
     },
     "execution_count": 241,
     "metadata": {},
     "output_type": "execute_result"
    }
   ],
   "source": [
    "# prepend 同理\n",
    "np.diff(a, 2, prepend=[[0], [0], [0]])"
   ]
  },
  {
   "cell_type": "markdown",
   "id": "8bed1881",
   "metadata": {},
   "source": [
    "值得一提的是也可以对时间进行处理："
   ]
  },
  {
   "cell_type": "code",
   "execution_count": 252,
   "id": "ab2d81b1",
   "metadata": {},
   "outputs": [
    {
     "data": {
      "text/plain": [
       "array([1, 1], dtype='timedelta64[D]')"
      ]
     },
     "execution_count": 252,
     "metadata": {},
     "output_type": "execute_result"
    }
   ],
   "source": [
    "dts = np.arange(\"2022-01-02\", \"2022-01-05\", dtype=np.datetime64)\n",
    "np.diff(dts, 1)"
   ]
  },
  {
   "cell_type": "markdown",
   "id": "d9be8fa6",
   "metadata": {},
   "source": [
    "`np.ediff1d`会先flattern再diff，所以返回的是一维。"
   ]
  },
  {
   "cell_type": "markdown",
   "id": "3b884941",
   "metadata": {},
   "source": [
    "### 符号函数"
   ]
  },
  {
   "cell_type": "code",
   "execution_count": 11,
   "id": "1ecd2dd3",
   "metadata": {},
   "outputs": [
    {
     "data": {
      "text/plain": [
       "array([-1,  0,  1])"
      ]
     },
     "execution_count": 11,
     "metadata": {},
     "output_type": "execute_result"
    }
   ],
   "source": [
    "# 小于0为-1，等于0，为0，大于0为1\n",
    "np.sign([-5, 0, 5])"
   ]
  },
  {
   "cell_type": "code",
   "execution_count": 12,
   "id": "88ab1fa0",
   "metadata": {},
   "outputs": [
    {
     "data": {
      "text/plain": [
       "array([0. , 0.5, 1. ])"
      ]
     },
     "execution_count": 12,
     "metadata": {},
     "output_type": "execute_result"
    }
   ],
   "source": [
    "# x1<0时为0，x1=0时为x2，x1>0时为1\n",
    "np.heaviside([-5, 0, 5], 0.5)"
   ]
  },
  {
   "cell_type": "markdown",
   "id": "79d53f18",
   "metadata": {},
   "source": [
    "### 截断"
   ]
  },
  {
   "cell_type": "code",
   "execution_count": 36,
   "id": "2fe3acea",
   "metadata": {},
   "outputs": [
    {
     "data": {
      "text/plain": [
       "array([[3, 3, 3, 3, 4],\n",
       "       [5, 6, 7, 7, 7]])"
      ]
     },
     "execution_count": 36,
     "metadata": {},
     "output_type": "execute_result"
    }
   ],
   "source": [
    "# 截断\n",
    "np.clip(np.arange(10).reshape(2,5), a_min=3, a_max=7)"
   ]
  },
  {
   "cell_type": "markdown",
   "id": "fe8ffefe",
   "metadata": {},
   "source": [
    "### 插值"
   ]
  },
  {
   "cell_type": "markdown",
   "id": "5f45e48e",
   "metadata": {
    "scrolled": true
   },
   "source": [
    "`np.interp`是一维线性插值方法，支持弧度。"
   ]
  },
  {
   "cell_type": "code",
   "execution_count": 29,
   "id": "fe19545a",
   "metadata": {},
   "outputs": [],
   "source": [
    "def func(x):\n",
    "    return  2 * x + 3"
   ]
  },
  {
   "cell_type": "code",
   "execution_count": 30,
   "id": "ab9fc398",
   "metadata": {},
   "outputs": [
    {
     "data": {
      "text/plain": [
       "(array([1, 2, 3, 4]), array([ 5,  7,  9, 11]))"
      ]
     },
     "execution_count": 30,
     "metadata": {},
     "output_type": "execute_result"
    }
   ],
   "source": [
    "x = np.arange(1, 5)\n",
    "y = func(x)\n",
    "x, y"
   ]
  },
  {
   "cell_type": "code",
   "execution_count": 31,
   "id": "79013946",
   "metadata": {},
   "outputs": [
    {
     "data": {
      "text/plain": [
       "(array([ 8., 11.]), 8.0, 19)"
      ]
     },
     "execution_count": 31,
     "metadata": {},
     "output_type": "execute_result"
    }
   ],
   "source": [
    "np.interp([2.5, 8], x, y), func(2.5), func(8)"
   ]
  },
  {
   "cell_type": "code",
   "execution_count": 32,
   "id": "a43deaaf",
   "metadata": {},
   "outputs": [
    {
     "data": {
      "text/plain": [
       "array([ 5.,  7., 11.])"
      ]
     },
     "execution_count": 32,
     "metadata": {},
     "output_type": "execute_result"
    }
   ],
   "source": [
    "# 指定左右边界\n",
    "np.interp([0.5, 2, 5.5], x, y)"
   ]
  },
  {
   "cell_type": "code",
   "execution_count": 33,
   "id": "0de1915e",
   "metadata": {
    "scrolled": false
   },
   "outputs": [
    {
     "data": {
      "text/plain": [
       "array([ 1.,  7., 60.])"
      ]
     },
     "execution_count": 33,
     "metadata": {},
     "output_type": "execute_result"
    }
   ],
   "source": [
    "np.interp([0.5, 2, 5.5], x, y, left=1, right=60)"
   ]
  },
  {
   "cell_type": "markdown",
   "id": "2797dcec",
   "metadata": {},
   "source": [
    "## 导数和微积分"
   ]
  },
  {
   "cell_type": "markdown",
   "id": "38d8da84",
   "metadata": {},
   "source": [
    "### 梯度"
   ]
  },
  {
   "cell_type": "markdown",
   "id": "e79f431e",
   "metadata": {},
   "source": [
    "梯度是使用内部点中的二阶精确中心差和边界处的一阶精确单侧（向前或向后）差异计算的。"
   ]
  },
  {
   "cell_type": "markdown",
   "id": "e0a43fe4",
   "metadata": {},
   "source": [
    "主要是利用泰勒二阶展开计算导数：\n",
    "\n",
    "$$\n",
    "f(x) \\approx f\\left(x_{0}\\right)+f^{\\prime}\\left(x_{0}\\right)\\left(x-x_{0}\\right)+\\frac{f^{\\prime \\prime}\\left(x_{0}\\right)}{2 !}\\left(x-x_{0}\\right)^{2}+\\frac{f^{\\prime \\prime \\prime}\\left(x_{0}\\right)}{3 !}\\left(x-x_{0}\\right)^{3}+\\cdots .\n",
    "$$"
   ]
  },
  {
   "cell_type": "markdown",
   "id": "f5ebab6b",
   "metadata": {},
   "source": [
    "等价于：\n",
    "\n",
    "$$\n",
    "f(x_0 + h) \\approx f\\left(x_{0}\\right)+f^{\\prime}\\left(x_{0}\\right) (h)+\\frac{f^{\\prime \\prime}\\left(x_{0}\\right)}{2 !} h^{2}+ O(h^3)\n",
    "$$"
   ]
  },
  {
   "cell_type": "markdown",
   "id": "087cd750",
   "metadata": {},
   "source": [
    "又有：\n",
    "\n",
    "$$\n",
    "f(x_0 - h) \\approx f\\left(x_{0}\\right)\n",
    "-f^{\\prime}\\left(x_{0}\\right) (h)+\\frac{f^{\\prime \\prime}\\left(x_{0}\\right)}{2 !} h^{2}\n",
    " + O(h^3)\n",
    "$$"
   ]
  },
  {
   "cell_type": "markdown",
   "id": "83cc9ed9",
   "metadata": {},
   "source": [
    "两式相减，得到：\n",
    "\n",
    "$$\n",
    "f(x_0 + h) - f(x_0 - h) = 2 \\cdot f^{\\prime}(x_0)(h) \n",
    "$$"
   ]
  },
  {
   "cell_type": "markdown",
   "id": "9e2b9d76",
   "metadata": {},
   "source": [
    "即：\n",
    "\n",
    "$$\n",
    "f^{\\prime} (x_0) = \\frac{f(x_0 + h) - f(x_0 - h)}{2h} + O(h^2)\n",
    "$$"
   ]
  },
  {
   "cell_type": "markdown",
   "id": "cd26ef72",
   "metadata": {},
   "source": [
    "接下来就是利用上式来计算梯度（导数）。"
   ]
  },
  {
   "cell_type": "markdown",
   "id": "589a7a4b",
   "metadata": {},
   "source": [
    "参数如下：\n",
    "\n",
    "- f，就是f(x)，数组\n",
    "- varargs：f值的间隔，有多种可能的取值\n",
    "- edge_order：在边界时采用顺序1或2计算\n",
    "- axis：坐标轴"
   ]
  },
  {
   "cell_type": "code",
   "execution_count": 144,
   "id": "05b71334",
   "metadata": {},
   "outputs": [],
   "source": [
    "# 表示f(0)=1, f(1)=2 ...\n",
    "fx = np.array([1, 2, 4, 7, 11, 16])"
   ]
  },
  {
   "cell_type": "code",
   "execution_count": 145,
   "id": "17be90dd",
   "metadata": {},
   "outputs": [
    {
     "data": {
      "text/plain": [
       "array([1. , 1.5, 2.5, 3.5, 4.5, 5. ])"
      ]
     },
     "execution_count": 145,
     "metadata": {},
     "output_type": "execute_result"
    }
   ],
   "source": [
    "# 默认 h=1，第一个和最后一个（边界）有点特殊\n",
    "# f'(0) = (f(0+1) - f(0))   / 1 = (2-1)/1   = 1\n",
    "# f'(1) = (f(1+1) - f(1-1)) / 2 = (4-1)/2*1 = 1.5\n",
    "# f'(2) = (f(2+1) - f(2-1)) / 2 = (7-2)/2*1 = 2.5\n",
    "# ...\n",
    "# f'(5) = (f(5) - f(5-1))   / 1 = (16-11)/1 = 5\n",
    "np.gradient(fx)"
   ]
  },
  {
   "cell_type": "code",
   "execution_count": 146,
   "id": "5ddda91f",
   "metadata": {},
   "outputs": [
    {
     "data": {
      "text/plain": [
       "array([ 2.,  3.,  5.,  7.,  9., 10.])"
      ]
     },
     "execution_count": 146,
     "metadata": {},
     "output_type": "execute_result"
    }
   ],
   "source": [
    "# h 这个可以为其他数，比如0.5，此时表示 f(0)=1, f(0.5)=2 ...\n",
    "# f'(0.0) = (f(0+0.5)   - f(0))       / 0.5   = (2-1)/0.5   = 2\n",
    "# f'(0.5) = (f(0.5+0.5) - f(0.5-0.5)) / 2*0.5 = (4-1)/1.0   = 3\n",
    "# f'(1.0) = (f(1.0+0.5) - f(1.0-0.5)) / 2*0.5 = (7-2)/1.0   = 5\n",
    "# ...\n",
    "# f'(2.5) = (f(2.5)     - f(2.5-0.5)) / 2*0.5 = (16-11)/0.5 = 10\n",
    "np.gradient(fx, 0.5)"
   ]
  },
  {
   "cell_type": "markdown",
   "id": "91dadf69",
   "metadata": {},
   "source": [
    "输入数组，会按照行列分别计算后返回，也可以指定坐标轴。"
   ]
  },
  {
   "cell_type": "code",
   "execution_count": 155,
   "id": "ffb27c85",
   "metadata": {},
   "outputs": [
    {
     "data": {
      "text/plain": [
       "array([[1, 7, 6],\n",
       "       [4, 4, 8]])"
      ]
     },
     "execution_count": 155,
     "metadata": {},
     "output_type": "execute_result"
    }
   ],
   "source": [
    "rng = np.random.default_rng(42)\n",
    "arr = rng.integers(1, 10, (2, 3))\n",
    "arr"
   ]
  },
  {
   "cell_type": "code",
   "execution_count": 162,
   "id": "105b9968",
   "metadata": {},
   "outputs": [
    {
     "data": {
      "text/plain": [
       "[array([[ 3., -3.,  2.],\n",
       "        [ 3., -3.,  2.]]),\n",
       " array([[ 6. ,  2.5, -1. ],\n",
       "        [ 0. ,  2. ,  4. ]])]"
      ]
     },
     "execution_count": 162,
     "metadata": {},
     "output_type": "execute_result"
    }
   ],
   "source": [
    "np.gradient(arr)"
   ]
  },
  {
   "cell_type": "code",
   "execution_count": 163,
   "id": "9a7d7d03",
   "metadata": {},
   "outputs": [
    {
     "data": {
      "text/plain": [
       "(array([3., 3.]), array([-3., -3.]), array([2., 2.]))"
      ]
     },
     "execution_count": 163,
     "metadata": {},
     "output_type": "execute_result"
    }
   ],
   "source": [
    "np.gradient(arr[:, 0]), np.gradient(arr[:, 1]), np.gradient(arr[:, 2])"
   ]
  },
  {
   "cell_type": "code",
   "execution_count": 164,
   "id": "7eb657f4",
   "metadata": {},
   "outputs": [
    {
     "data": {
      "text/plain": [
       "(array([ 6. ,  2.5, -1. ]), array([0., 2., 4.]))"
      ]
     },
     "execution_count": 164,
     "metadata": {},
     "output_type": "execute_result"
    }
   ],
   "source": [
    "np.gradient(arr[0,:]), np.gradient(arr[1,:])"
   ]
  },
  {
   "cell_type": "code",
   "execution_count": 165,
   "id": "735833e7",
   "metadata": {},
   "outputs": [
    {
     "data": {
      "text/plain": [
       "array([[ 3., -3.,  2.],\n",
       "       [ 3., -3.,  2.]])"
      ]
     },
     "execution_count": 165,
     "metadata": {},
     "output_type": "execute_result"
    }
   ],
   "source": [
    "# 指定坐标轴\n",
    "np.gradient(arr, axis=0)"
   ]
  },
  {
   "cell_type": "markdown",
   "id": "6dd8ce21",
   "metadata": {},
   "source": [
    "第二个参数`varargs`控制fx值之间的间隔，但它有多种方式：\n",
    "\n",
    "- 1. 单个标量，用于指定所有尺寸的样本距离\n",
    "- 2. N 个标量，用于为每个维度指定恒定的采样距离，即 “dx”， “dy”， “dz”， ...\n",
    "- 3. N 个数组，用于指定值沿 F 的每个维度的坐标，数组的长度必须与相应尺寸的大小匹配\n",
    "- 4. N 个标量/数组的任意组合，含义为 2 和 3"
   ]
  },
  {
   "cell_type": "markdown",
   "id": "68b4cf9d",
   "metadata": {},
   "source": [
    "上面的例子是最简单的「单个标量」的情况，接下来看N个标量的情况。"
   ]
  },
  {
   "cell_type": "markdown",
   "id": "773f6c2a",
   "metadata": {},
   "source": [
    "$$\n",
    "a = \\frac{\\frac{-dx_2}{dx_1}}{ dx_1+dx_2} \\\\\n",
    "b = \\frac{1}{dx_1} - \\frac{1}{dx_2} \\\\\n",
    "c = \\frac{\\frac{dx_1}{dx_2}}{ dx_1+dx_2} \\\\\n",
    "a + b + c = 0\n",
    "$$"
   ]
  },
  {
   "cell_type": "code",
   "execution_count": 219,
   "id": "1e26cd78",
   "metadata": {},
   "outputs": [
    {
     "data": {
      "text/plain": [
       "array([1. , 3. , 3.5, 6.7, 6.9, 2.5])"
      ]
     },
     "execution_count": 219,
     "metadata": {},
     "output_type": "execute_result"
    }
   ],
   "source": [
    "# N 个标量\n",
    "x = np.array([0, 1, 1.5, 3.5, 4, 6])\n",
    "fx = np.array([ 1,  2,  4,  7, 11, 16])\n",
    "np.gradient(fx, x)"
   ]
  },
  {
   "cell_type": "code",
   "execution_count": 220,
   "id": "e3b1d4a9",
   "metadata": {},
   "outputs": [],
   "source": [
    "ax_dx = np.diff(x)\n",
    "\n",
    "dx1 = ax_dx[0:-1]\n",
    "dx2 = ax_dx[1:]\n",
    "a = -dx2 / (dx1 * (dx1 + dx2))\n",
    "b = (dx2 - dx1) / (dx1 * dx2)\n",
    "c = dx1 / (dx2 * (dx1 + dx2))\n",
    "\n",
    "N = fx.ndim\n",
    "\n",
    "slice1 = [slice(None)]*N\n",
    "slice2 = [slice(None)]*N\n",
    "slice3 = [slice(None)]*N\n",
    "slice4 = [slice(None)]*N\n",
    "axis = 0\n",
    "slice1[axis] = slice(1, -1)\n",
    "slice2[axis] = slice(None, -2)\n",
    "slice3[axis] = slice(1, -1)\n",
    "slice4[axis] = slice(2, None)"
   ]
  },
  {
   "cell_type": "code",
   "execution_count": 221,
   "id": "7e26c324",
   "metadata": {},
   "outputs": [
    {
     "data": {
      "text/plain": [
       "(array([-0.33333333, -1.6       , -0.1       , -1.6       ]),\n",
       " array([-1. ,  1.5, -1.5,  1.5]),\n",
       " array([1.33333333, 0.1       , 1.6       , 0.1       ]))"
      ]
     },
     "execution_count": 221,
     "metadata": {},
     "output_type": "execute_result"
    }
   ],
   "source": [
    "a, b, c"
   ]
  },
  {
   "cell_type": "code",
   "execution_count": 222,
   "id": "b10386be",
   "metadata": {},
   "outputs": [
    {
     "data": {
      "text/plain": [
       "(array([1, 2, 4, 7]), array([ 2,  4,  7, 11]), array([ 4,  7, 11, 16]))"
      ]
     },
     "execution_count": 222,
     "metadata": {},
     "output_type": "execute_result"
    }
   ],
   "source": [
    "fx[tuple(slice2)], fx[tuple(slice3)], fx[tuple(slice4)]"
   ]
  },
  {
   "cell_type": "code",
   "execution_count": 223,
   "id": "2e420f78",
   "metadata": {
    "scrolled": true
   },
   "outputs": [
    {
     "data": {
      "text/plain": [
       "array([0. , 3. , 3.5, 6.7, 6.9, 0. ], dtype=float16)"
      ]
     },
     "execution_count": 223,
     "metadata": {},
     "output_type": "execute_result"
    }
   ],
   "source": [
    "# out[1:-1] = a * f[:-2] + b * f[1:-1] + c * f[2:]\n",
    "out = np.empty_like(fx, dtype=np.float16)\n",
    "out[tuple(slice1)] = a * fx[tuple(slice2)] + b * fx[tuple(slice3)] + c * fx[tuple(slice4)]\n",
    "out"
   ]
  },
  {
   "cell_type": "markdown",
   "id": "41d23faa",
   "metadata": {},
   "source": [
    "多个数组或数组与标量的组合，此时会分别对应到各自轴上计算："
   ]
  },
  {
   "cell_type": "code",
   "execution_count": 189,
   "id": "96cb5866",
   "metadata": {},
   "outputs": [
    {
     "data": {
      "text/plain": [
       "array([[1, 7, 6],\n",
       "       [4, 4, 8]])"
      ]
     },
     "execution_count": 189,
     "metadata": {},
     "output_type": "execute_result"
    }
   ],
   "source": [
    "arr"
   ]
  },
  {
   "cell_type": "code",
   "execution_count": 188,
   "id": "56189cd2",
   "metadata": {},
   "outputs": [
    {
     "data": {
      "text/plain": [
       "[array([[ 1.5, -1.5,  1. ],\n",
       "        [ 1.5, -1.5,  1. ]]),\n",
       " array([[ 6. ,  2.5, -1. ],\n",
       "        [ 0. ,  2. ,  4. ]])]"
      ]
     },
     "execution_count": 188,
     "metadata": {},
     "output_type": "execute_result"
    }
   ],
   "source": [
    "np.gradient(arr, [3,5], [1,2,3])"
   ]
  },
  {
   "cell_type": "code",
   "execution_count": 194,
   "id": "53e9c58d",
   "metadata": {},
   "outputs": [
    {
     "data": {
      "text/plain": [
       "array([[ 1.5, -1.5,  1. ],\n",
       "       [ 1.5, -1.5,  1. ]])"
      ]
     },
     "execution_count": 194,
     "metadata": {},
     "output_type": "execute_result"
    }
   ],
   "source": [
    "np.gradient(arr, [3,5], axis=0)"
   ]
  },
  {
   "cell_type": "code",
   "execution_count": 196,
   "id": "2034da32",
   "metadata": {},
   "outputs": [
    {
     "data": {
      "text/plain": [
       "array([[ 6. ,  2.5, -1. ],\n",
       "       [ 0. ,  2. ,  4. ]])"
      ]
     },
     "execution_count": 196,
     "metadata": {},
     "output_type": "execute_result"
    }
   ],
   "source": [
    "np.gradient(arr, [1,2,3], axis=1)"
   ]
  },
  {
   "cell_type": "markdown",
   "id": "5066db83",
   "metadata": {},
   "source": [
    "还有一个`edge_order`参数需要说明一下，它主要控制在边界位置如何计算梯度。"
   ]
  },
  {
   "cell_type": "code",
   "execution_count": 216,
   "id": "9311afae",
   "metadata": {},
   "outputs": [
    {
     "data": {
      "text/plain": [
       "array([ 4,  9, 25, 64])"
      ]
     },
     "execution_count": 216,
     "metadata": {},
     "output_type": "execute_result"
    }
   ],
   "source": [
    "x = np.array([1, 2, 4, 7])\n",
    "y = x ** 2 + 2 * x + 1\n",
    "y"
   ]
  },
  {
   "cell_type": "code",
   "execution_count": 205,
   "id": "a8113eb4",
   "metadata": {},
   "outputs": [
    {
     "data": {
      "text/plain": [
       "(array([ 5.,  6., 10., 13.]),\n",
       " array([ 4.,  6., 10., 16.]),\n",
       " array([ 4.,  6., 10., 16.]))"
      ]
     },
     "execution_count": 205,
     "metadata": {},
     "output_type": "execute_result"
    }
   ],
   "source": [
    "np.gradient(y, x), 2*x + 2., np.gradient(y, x, edge_order=2)"
   ]
  },
  {
   "cell_type": "code",
   "execution_count": 218,
   "id": "5e626f6e",
   "metadata": {
    "scrolled": true
   },
   "outputs": [
    {
     "data": {
      "text/plain": [
       "(5.0, 13.0)"
      ]
     },
     "execution_count": 218,
     "metadata": {},
     "output_type": "execute_result"
    }
   ],
   "source": [
    "(9 - 4)/(2-1), (64-25)/(7-4)"
   ]
  },
  {
   "cell_type": "markdown",
   "id": "0592b44c",
   "metadata": {},
   "source": [
    "具体公式如下："
   ]
  },
  {
   "cell_type": "markdown",
   "id": "a254bb89",
   "metadata": {},
   "source": [
    "$$\n",
    "f'({x_l}) = \\frac{f(x_l + h) - f(x_l)}{h} \\\\\n",
    "f'({x_r}) = \\frac{f(x_r) - f(x_r - h)}{h} \\\\\n",
    "$$"
   ]
  },
  {
   "cell_type": "markdown",
   "id": "1980b895",
   "metadata": {},
   "source": [
    "### 梯形公式"
   ]
  },
  {
   "cell_type": "markdown",
   "id": "7b75f06c",
   "metadata": {},
   "source": [
    "另一个API是梯形公式，可用来求积分，原理就是把被积函数切成很多个小的梯形。"
   ]
  },
  {
   "cell_type": "markdown",
   "id": "0bc3b66b",
   "metadata": {},
   "source": [
    "\n",
    "\n"
   ]
  },
  {
   "cell_type": "markdown",
   "id": "31ca98e4",
   "metadata": {},
   "source": [
    "$$\n",
    "\\int_{a}^{b} f(x) d x \\approx \\frac{\\Delta x}{2}\\left(f\\left(x_{0}\\right)+2 f\\left(x_{1}\\right)+2 f\\left(x_{2}\\right)+2 f\\left(x_{3}\\right)+2 f\\left(x_{4}\\right)+\\cdots+2 f\\left(x_{N-1}\\right)+f\\left(x_{N}\\right)\\right)\n",
    "$$"
   ]
  },
  {
   "cell_type": "markdown",
   "id": "17619613",
   "metadata": {},
   "source": [
    "参数如下：\n",
    "\n",
    "- y，就是f(x)\n",
    "- x，默认为None，如果指定则根据x的元素计算dx\n",
    "- dx，默认1.0，如果没有x，则使用dx\n",
    "- axis，坐标轴"
   ]
  },
  {
   "cell_type": "markdown",
   "id": "60cac3a1",
   "metadata": {},
   "source": [
    "更多参考：\n",
    "\n",
    "- [Trapezoidal rule - Wikipedia](https://en.wikipedia.org/wiki/Trapezoidal_rule)"
   ]
  },
  {
   "cell_type": "code",
   "execution_count": 100,
   "id": "c8badd28",
   "metadata": {},
   "outputs": [],
   "source": [
    "y = np.array([1, 2, 3])\n",
    "x = np.array([4, 6, 8])"
   ]
  },
  {
   "cell_type": "code",
   "execution_count": 101,
   "id": "cd46c553",
   "metadata": {
    "scrolled": true
   },
   "outputs": [
    {
     "data": {
      "text/plain": [
       "(4.0, 4.0)"
      ]
     },
     "execution_count": 101,
     "metadata": {},
     "output_type": "execute_result"
    }
   ],
   "source": [
    "np.trapz(y), 1/2 * (1 + 2*2 + 3)"
   ]
  },
  {
   "cell_type": "code",
   "execution_count": 117,
   "id": "38edab0a",
   "metadata": {},
   "outputs": [
    {
     "data": {
      "text/plain": [
       "(8.0, 8.0)"
      ]
     },
     "execution_count": 117,
     "metadata": {},
     "output_type": "execute_result"
    }
   ],
   "source": [
    "diff = np.diff(x)\n",
    "np.trapz(y, x), 1/2*((1+2)*diff[0] + (2+3)*diff[1])"
   ]
  },
  {
   "cell_type": "code",
   "execution_count": 119,
   "id": "6985fdbe",
   "metadata": {},
   "outputs": [
    {
     "data": {
      "text/plain": [
       "(6.5, 6.5)"
      ]
     },
     "execution_count": 119,
     "metadata": {},
     "output_type": "execute_result"
    }
   ],
   "source": [
    "z = np.array([1, 2, 4])\n",
    "diff = np.diff(z)\n",
    "np.trapz(y, z), 1/2*((1+2)*diff[0] + (2+3)*diff[1])"
   ]
  },
  {
   "cell_type": "code",
   "execution_count": 138,
   "id": "882238b0",
   "metadata": {},
   "outputs": [
    {
     "data": {
      "text/plain": [
       "array([[1, 2, 3],\n",
       "       [4, 5, 6]])"
      ]
     },
     "execution_count": 138,
     "metadata": {},
     "output_type": "execute_result"
    }
   ],
   "source": [
    "y = np.array([[1, 2, 3], [4, 5, 6]])\n",
    "y"
   ]
  },
  {
   "cell_type": "code",
   "execution_count": 139,
   "id": "7ad960a3",
   "metadata": {},
   "outputs": [
    {
     "data": {
      "text/plain": [
       "array([ 4., 10.])"
      ]
     },
     "execution_count": 139,
     "metadata": {},
     "output_type": "execute_result"
    }
   ],
   "source": [
    "# 按行\n",
    "np.trapz(y, axis=1)"
   ]
  },
  {
   "cell_type": "code",
   "execution_count": 140,
   "id": "50abfda9",
   "metadata": {},
   "outputs": [
    {
     "data": {
      "text/plain": [
       "array([2.5, 3.5, 4.5])"
      ]
     },
     "execution_count": 140,
     "metadata": {},
     "output_type": "execute_result"
    }
   ],
   "source": [
    "# 列\n",
    "np.trapz(y, axis=0)"
   ]
  },
  {
   "cell_type": "markdown",
   "id": "672cccff",
   "metadata": {},
   "source": [
    "## 多项式\n",
    "\n",
    "多项式的在新的版本有专门的library：`polynomial`。其中包括：\n",
    "\n",
    "- 幂级数\n",
    "- 切比雪夫多项式\n",
    "- 埃尔米特多项式（物理学）\n",
    "- 埃尔米特多项式（概率学）\n",
    "- 拉盖尔多项式\n",
    "- 勒让德多项式\n",
    "\n",
    "具体概念可参考：\n",
    "\n",
    "- [幂级数 - 维基百科，自由的百科全书](https://zh.m.wikipedia.org/zh-hans/%E5%B9%82%E7%BA%A7%E6%95%B0)\n",
    "- [切比雪夫多项式 - 维基百科，自由的百科全书](https://zh.wikipedia.org/zh-hans/%E5%88%87%E6%AF%94%E9%9B%AA%E5%A4%AB%E5%A4%9A%E9%A1%B9%E5%BC%8F)\n",
    "- [埃尔米特多项式 - 维基百科，自由的百科全书](https://zh.m.wikipedia.org/zh-hans/%E5%9F%83%E5%B0%94%E7%B1%B3%E7%89%B9%E5%A4%9A%E9%A1%B9%E5%BC%8F)\n",
    "- [拉盖尔多项式 - 维基百科，自由的百科全书](https://zh.wikipedia.org/wiki/%E6%8B%89%E7%9B%96%E5%B0%94%E5%A4%9A%E9%A1%B9%E5%BC%8F)\n",
    "- [勒让德多项式 - 维基百科，自由的百科全书](https://zh.m.wikipedia.org/zh/%E5%8B%92%E8%AE%A9%E5%BE%B7%E5%A4%9A%E9%A1%B9%E5%BC%8F)"
   ]
  },
  {
   "cell_type": "code",
   "execution_count": 1170,
   "id": "6a104985",
   "metadata": {},
   "outputs": [],
   "source": [
    "from numpy.polynomial import Polynomial as P"
   ]
  },
  {
   "cell_type": "markdown",
   "id": "c1b5c9df",
   "metadata": {},
   "source": [
    "### 简介"
   ]
  },
  {
   "cell_type": "code",
   "execution_count": 987,
   "id": "2dd6dd77",
   "metadata": {},
   "outputs": [
    {
     "data": {
      "text/latex": [
       "$x \\mapsto \\text{3.0} + \\text{2.0}\\,x + \\text{1.0}\\,x^{2}$"
      ],
      "text/plain": [
       "Polynomial([3., 2., 1.], domain=[-1,  1], window=[-1,  1])"
      ]
     },
     "execution_count": 987,
     "metadata": {},
     "output_type": "execute_result"
    }
   ],
   "source": [
    "# 幂序列\n",
    "p = np.polynomial.Polynomial([3, 2, 1])\n",
    "p"
   ]
  },
  {
   "cell_type": "code",
   "execution_count": 995,
   "id": "c5f9a584",
   "metadata": {},
   "outputs": [
    {
     "data": {
      "text/plain": [
       "18.0"
      ]
     },
     "execution_count": 995,
     "metadata": {},
     "output_type": "execute_result"
    }
   ],
   "source": [
    "p(3)"
   ]
  },
  {
   "cell_type": "code",
   "execution_count": 988,
   "id": "b57a48a9",
   "metadata": {},
   "outputs": [],
   "source": [
    "rng = np.random.default_rng(42)\n",
    "x = np.arange(10)\n",
    "y = x + rng.standard_normal(10) "
   ]
  },
  {
   "cell_type": "code",
   "execution_count": 1000,
   "id": "4e0dbfd0",
   "metadata": {},
   "outputs": [
    {
     "data": {
      "text/latex": [
       "$x \\mapsto \\text{4.1644286915941295} + \\text{4.216899419361024}\\,\\left(\\text{-1.0} + \\text{0.2222222222222222}x\\right)$"
      ],
      "text/plain": [
       "Polynomial([4.16442869, 4.21689942], domain=[0., 9.], window=[-1.,  1.])"
      ]
     },
     "execution_count": 1000,
     "metadata": {},
     "output_type": "execute_result"
    }
   ],
   "source": [
    "# 拟合\n",
    "fitted = np.polynomial.Polynomial.fit(x, y, deg=1)\n",
    "fitted"
   ]
  },
  {
   "cell_type": "code",
   "execution_count": 1002,
   "id": "f91ab753",
   "metadata": {},
   "outputs": [
    {
     "data": {
      "text/latex": [
       "$x \\mapsto \\text{-0.05247072776689432} + \\text{0.9370887598580052}\\,x$"
      ],
      "text/plain": [
       "Polynomial([-0.05247073,  0.93708876], domain=[-1.,  1.], window=[-1.,  1.])"
      ]
     },
     "execution_count": 1002,
     "metadata": {},
     "output_type": "execute_result"
    }
   ],
   "source": [
    "fitted.convert()"
   ]
  },
  {
   "cell_type": "code",
   "execution_count": 1161,
   "id": "f84809fd",
   "metadata": {},
   "outputs": [
    {
     "data": {
      "text/latex": [
       "$x \\mapsto \\text{2.0} - \\text{3.0}\\,x + \\text{1.0}\\,x^{2}$"
      ],
      "text/plain": [
       "Polynomial([ 2., -3.,  1.], domain=[-1.,  1.], window=[-1.,  1.])"
      ]
     },
     "execution_count": 1161,
     "metadata": {},
     "output_type": "execute_result"
    }
   ],
   "source": [
    "# 根据根得到表达式\n",
    "p = P.fromroots([1, 2])\n",
    "p"
   ]
  },
  {
   "cell_type": "code",
   "execution_count": 1162,
   "id": "983a0949",
   "metadata": {},
   "outputs": [
    {
     "data": {
      "text/latex": [
       "$x \\mapsto \\text{2.0} - \\text{3.0}\\,x + \\text{1.0}\\,x^{2}$"
      ],
      "text/plain": [
       "Polynomial([ 2., -3.,  1.], domain=[-1.,  1.], window=[-1.,  1.])"
      ]
     },
     "execution_count": 1162,
     "metadata": {},
     "output_type": "execute_result"
    }
   ],
   "source": [
    "p.convert()"
   ]
  },
  {
   "cell_type": "code",
   "execution_count": 1174,
   "id": "cb4cd353",
   "metadata": {
    "scrolled": true
   },
   "outputs": [
    {
     "data": {
      "text/latex": [
       "$x \\mapsto \\text{0.75} - \\text{1.0}\\,\\left(\\text{-1.0} + \\text{2.0}x\\right) + \\text{0.25}\\,\\left(\\text{-1.0} + \\text{2.0}x\\right)^{2}$"
      ],
      "text/plain": [
       "Polynomial([ 0.75, -1.  ,  0.25], domain=[0., 1.], window=[-1.,  1.])"
      ]
     },
     "execution_count": 1174,
     "metadata": {},
     "output_type": "execute_result"
    }
   ],
   "source": [
    "p.convert(domain=[0,1])"
   ]
  },
  {
   "cell_type": "markdown",
   "id": "02056416",
   "metadata": {},
   "source": [
    "类型之间转换也可以，不过不建议使用。当级数增加时会造成精度损失严重。"
   ]
  },
  {
   "cell_type": "code",
   "execution_count": 1178,
   "id": "acb8b8d8",
   "metadata": {},
   "outputs": [],
   "source": [
    "from numpy.polynomial import Chebyshev as T"
   ]
  },
  {
   "cell_type": "code",
   "execution_count": 1180,
   "id": "a99a2af0",
   "metadata": {},
   "outputs": [
    {
     "data": {
      "text/latex": [
       "$x \\mapsto \\text{2.5}\\,{T}_{0}(x) - \\text{3.0}\\,{T}_{1}(x) + \\text{0.5}\\,{T}_{2}(x)$"
      ],
      "text/plain": [
       "Chebyshev([ 2.5, -3. ,  0.5], domain=[-1.,  1.], window=[-1.,  1.])"
      ]
     },
     "execution_count": 1180,
     "metadata": {},
     "output_type": "execute_result"
    }
   ],
   "source": [
    "T.cast(p)"
   ]
  },
  {
   "cell_type": "code",
   "execution_count": 1006,
   "id": "d384875d",
   "metadata": {},
   "outputs": [],
   "source": [
    "c1 = (1,2,3)\n",
    "c2 = (3,2,1)\n",
    "sum = P.polyadd(c1,c2)"
   ]
  },
  {
   "cell_type": "code",
   "execution_count": 1008,
   "id": "b9e6c6ee",
   "metadata": {
    "scrolled": true
   },
   "outputs": [
    {
     "data": {
      "text/plain": [
       "28.0"
      ]
     },
     "execution_count": 1008,
     "metadata": {},
     "output_type": "execute_result"
    }
   ],
   "source": [
    "P.polyval(2, sum)"
   ]
  },
  {
   "cell_type": "markdown",
   "id": "b964f850",
   "metadata": {},
   "source": [
    "### 便捷类\n",
    "\n",
    "NumPy提供了不同类型多项式的便捷使用方式，提供了统一的创建、操作、拟合接口。以下的介绍以幂级数为例，更多可访问文档。\n",
    "\n",
    "- [Power Series (numpy.polynomial.polynomial) — NumPy v1.23.dev0 Manual](https://numpy.org/devdocs/reference/routines.polynomials.polynomial.html)\n",
    "- [Chebyshev Series (numpy.polynomial.chebyshev) — NumPy v1.23.dev0 Manual](https://numpy.org/devdocs/reference/routines.polynomials.chebyshev.html)\n",
    "- [Hermite Series, “Physicists” (numpy.polynomial.hermite) — NumPy v1.23.dev0 Manual](https://numpy.org/devdocs/reference/routines.polynomials.hermite.html)\n",
    "- [HermiteE Series, “Probabilists” (numpy.polynomial.hermite_e) — NumPy v1.23.dev0 Manual](https://numpy.org/devdocs/reference/routines.polynomials.hermite_e.html)\n",
    "- [Laguerre Series (numpy.polynomial.laguerre) — NumPy v1.23.dev0 Manual](https://numpy.org/devdocs/reference/routines.polynomials.laguerre.html)\n",
    "- [Legendre Series (numpy.polynomial.legendre) — NumPy v1.23.dev0 Manual](https://numpy.org/devdocs/reference/routines.polynomials.legendre.html)"
   ]
  },
  {
   "cell_type": "code",
   "execution_count": 1015,
   "id": "a919d245",
   "metadata": {},
   "outputs": [
    {
     "data": {
      "text/latex": [
       "$x \\mapsto \\text{1.0} + \\text{2.0}\\,x + \\text{3.0}\\,x^{2}$"
      ],
      "text/plain": [
       "Polynomial([1., 2., 3.], domain=[-1,  1], window=[-1,  1])"
      ]
     },
     "execution_count": 1015,
     "metadata": {},
     "output_type": "execute_result"
    }
   ],
   "source": [
    "# 初始化一个实例\n",
    "p = P([1, 2, 3])\n",
    "p"
   ]
  },
  {
   "cell_type": "code",
   "execution_count": 1016,
   "id": "f50a1206",
   "metadata": {},
   "outputs": [
    {
     "data": {
      "text/plain": [
       "(array([1., 2., 3.]), array([-1,  1]), array([-1,  1]))"
      ]
     },
     "execution_count": 1016,
     "metadata": {},
     "output_type": "execute_result"
    }
   ],
   "source": [
    "p.coef, p.domain, p.window"
   ]
  },
  {
   "cell_type": "code",
   "execution_count": 1087,
   "id": "ad3a777f",
   "metadata": {},
   "outputs": [
    {
     "data": {
      "text/latex": [
       "$x \\mapsto \\text{1.0} + \\text{2.0}\\,\\left(\\text{-1.0} + x\\right) + \\text{3.0}\\,\\left(\\text{-1.0} + x\\right)^{2}$"
      ],
      "text/plain": [
       "Polynomial([1., 2., 3.], domain=[0., 1.], window=[-1.,  0.])"
      ]
     },
     "execution_count": 1087,
     "metadata": {},
     "output_type": "execute_result"
    }
   ],
   "source": [
    "# x_new = -1+x\n",
    "p1 = P([1, 2, 3], domain=[0, 1], window=[-1, 0])\n",
    "p1"
   ]
  },
  {
   "cell_type": "code",
   "execution_count": 1086,
   "id": "e9bebbce",
   "metadata": {},
   "outputs": [
    {
     "data": {
      "text/latex": [
       "$x \\mapsto \\text{1.0} + \\text{2.0}\\,\\left(\\text{-1.0} + \\text{2.0}x\\right) + \\text{3.0}\\,\\left(\\text{-1.0} + \\text{2.0}x\\right)^{2}$"
      ],
      "text/plain": [
       "Polynomial([1., 2., 3.], domain=[0., 1.], window=[-1.,  1.])"
      ]
     },
     "execution_count": 1086,
     "metadata": {},
     "output_type": "execute_result"
    }
   ],
   "source": [
    "# x_new = -1+x + x\n",
    "p2 = P([1, 2, 3], domain=[0, 1], window=[-1, 1])\n",
    "p2"
   ]
  },
  {
   "cell_type": "code",
   "execution_count": 1106,
   "id": "a77e353b",
   "metadata": {},
   "outputs": [
    {
     "data": {
      "text/latex": [
       "$x \\mapsto \\text{1.0} + \\text{2.0}\\,\\left(\\text{-2.3333333333333335} + \\text{0.6666666666666666}x\\right) + \\text{3.0}\\,\\left(\\text{-2.3333333333333335} + \\text{0.6666666666666666}x\\right)^{2}$"
      ],
      "text/plain": [
       "Polynomial([1., 2., 3.], domain=[2., 5.], window=[-1.,  1.])"
      ]
     },
     "execution_count": 1106,
     "metadata": {},
     "output_type": "execute_result"
    }
   ],
   "source": [
    "p3 = P([1, 2, 3], domain=[2, 5], window=[-1, 1])\n",
    "p3"
   ]
  },
  {
   "cell_type": "code",
   "execution_count": 1108,
   "id": "10d19849",
   "metadata": {},
   "outputs": [],
   "source": [
    "from numpy.polynomial import polyutils as pu"
   ]
  },
  {
   "cell_type": "code",
   "execution_count": 1120,
   "id": "9e55701a",
   "metadata": {
    "scrolled": true
   },
   "outputs": [
    {
     "data": {
      "text/plain": [
       "(-2.3333333333333335, 0.6666666666666666)"
      ]
     },
     "execution_count": 1120,
     "metadata": {},
     "output_type": "execute_result"
    }
   ],
   "source": [
    "# 映射domain\n",
    "pu.mapparms([2, 5], [-1, 1])"
   ]
  },
  {
   "cell_type": "code",
   "execution_count": 1118,
   "id": "0c59c849",
   "metadata": {},
   "outputs": [
    {
     "data": {
      "text/plain": [
       "(-2.3333333333333335, 0.6666666666666666)"
      ]
     },
     "execution_count": 1118,
     "metadata": {},
     "output_type": "execute_result"
    }
   ],
   "source": [
    "(5*-1 - 2*1)/(5-2), (1--1)/(5-2)"
   ]
  },
  {
   "cell_type": "code",
   "execution_count": 1017,
   "id": "67b11e22",
   "metadata": {
    "scrolled": true
   },
   "outputs": [
    {
     "name": "stdout",
     "output_type": "stream",
     "text": [
      "1.0 + 2.0·x¹ + 3.0·x²\n"
     ]
    }
   ],
   "source": [
    "print(p)"
   ]
  },
  {
   "cell_type": "markdown",
   "id": "4de689e7",
   "metadata": {},
   "source": [
    "可以选择不同的打印风格："
   ]
  },
  {
   "cell_type": "code",
   "execution_count": 1020,
   "id": "3cb3c733",
   "metadata": {},
   "outputs": [],
   "source": [
    "np.polynomial.set_default_printstyle(\"ascii\")"
   ]
  },
  {
   "cell_type": "code",
   "execution_count": 1021,
   "id": "b0605bb5",
   "metadata": {},
   "outputs": [
    {
     "name": "stdout",
     "output_type": "stream",
     "text": [
      "1.0 + 2.0 x**1 + 3.0 x**2\n"
     ]
    }
   ],
   "source": [
    "print(p)"
   ]
  },
  {
   "cell_type": "code",
   "execution_count": 1023,
   "id": "e4cce091",
   "metadata": {},
   "outputs": [
    {
     "name": "stdout",
     "output_type": "stream",
     "text": [
      "1.0 + 2.0·x¹ + 3.0·x²\n"
     ]
    }
   ],
   "source": [
    "# 或\n",
    "print(f\"{p:unicode}\")"
   ]
  },
  {
   "cell_type": "markdown",
   "id": "2177a9da",
   "metadata": {},
   "source": [
    "多项式的基本运算："
   ]
  },
  {
   "cell_type": "code",
   "execution_count": 1026,
   "id": "1b37e5d2",
   "metadata": {},
   "outputs": [
    {
     "data": {
      "text/latex": [
       "$x \\mapsto \\text{2.0} + \\text{4.0}\\,x + \\text{6.0}\\,x^{2}$"
      ],
      "text/plain": [
       "Polynomial([2., 4., 6.], domain=[-1.,  1.], window=[-1.,  1.])"
      ]
     },
     "execution_count": 1026,
     "metadata": {},
     "output_type": "execute_result"
    }
   ],
   "source": [
    "p + p"
   ]
  },
  {
   "cell_type": "code",
   "execution_count": 1027,
   "id": "6f7c8f3e",
   "metadata": {},
   "outputs": [
    {
     "data": {
      "text/latex": [
       "$x \\mapsto \\color{LightGray}{\\text{0.0}}$"
      ],
      "text/plain": [
       "Polynomial([0.], domain=[-1.,  1.], window=[-1.,  1.])"
      ]
     },
     "execution_count": 1027,
     "metadata": {},
     "output_type": "execute_result"
    }
   ],
   "source": [
    "p - p"
   ]
  },
  {
   "cell_type": "code",
   "execution_count": 1028,
   "id": "8311755e",
   "metadata": {},
   "outputs": [
    {
     "data": {
      "text/latex": [
       "$x \\mapsto \\text{1.0} + \\text{4.0}\\,x + \\text{10.0}\\,x^{2} + \\text{12.0}\\,x^{3} + \\text{9.0}\\,x^{4}$"
      ],
      "text/plain": [
       "Polynomial([ 1.,  4., 10., 12.,  9.], domain=[-1.,  1.], window=[-1.,  1.])"
      ]
     },
     "execution_count": 1028,
     "metadata": {},
     "output_type": "execute_result"
    }
   ],
   "source": [
    "p * p"
   ]
  },
  {
   "cell_type": "code",
   "execution_count": 1029,
   "id": "056afd90",
   "metadata": {},
   "outputs": [
    {
     "data": {
      "text/latex": [
       "$x \\mapsto \\text{1.0} + \\text{4.0}\\,x + \\text{10.0}\\,x^{2} + \\text{12.0}\\,x^{3} + \\text{9.0}\\,x^{4}$"
      ],
      "text/plain": [
       "Polynomial([ 1.,  4., 10., 12.,  9.], domain=[-1.,  1.], window=[-1.,  1.])"
      ]
     },
     "execution_count": 1029,
     "metadata": {},
     "output_type": "execute_result"
    }
   ],
   "source": [
    "p ** 2"
   ]
  },
  {
   "cell_type": "code",
   "execution_count": 1033,
   "id": "02f27b48",
   "metadata": {},
   "outputs": [
    {
     "data": {
      "text/latex": [
       "$x \\mapsto \\text{5.0} + \\text{3.0}\\,x$"
      ],
      "text/plain": [
       "Polynomial([5., 3.], domain=[-1.,  1.], window=[-1.,  1.])"
      ]
     },
     "execution_count": 1033,
     "metadata": {},
     "output_type": "execute_result"
    }
   ],
   "source": [
    "p // P([-1, 1])"
   ]
  },
  {
   "cell_type": "code",
   "execution_count": 1034,
   "id": "5e87c2cb",
   "metadata": {
    "scrolled": true
   },
   "outputs": [
    {
     "data": {
      "text/latex": [
       "$x \\mapsto \\text{1.0} + \\text{2.0}\\,x + \\text{3.0}\\,x^{2}$"
      ],
      "text/plain": [
       "Polynomial([1., 2., 3.], domain=[-1,  1], window=[-1,  1])"
      ]
     },
     "execution_count": 1034,
     "metadata": {},
     "output_type": "execute_result"
    }
   ],
   "source": [
    "p"
   ]
  },
  {
   "cell_type": "code",
   "execution_count": 1036,
   "id": "7e07e5de",
   "metadata": {},
   "outputs": [
    {
     "data": {
      "text/latex": [
       "$x \\mapsto \\text{-5.0} + \\text{2.0}\\,x + \\text{3.0}\\,x^{2}$"
      ],
      "text/plain": [
       "Polynomial([-5.,  2.,  3.], domain=[-1.,  1.], window=[-1.,  1.])"
      ]
     },
     "execution_count": 1036,
     "metadata": {},
     "output_type": "execute_result"
    }
   ],
   "source": [
    "P([-1, 1]) * P([5, 3])"
   ]
  },
  {
   "cell_type": "code",
   "execution_count": 1041,
   "id": "69f94df9",
   "metadata": {},
   "outputs": [
    {
     "data": {
      "text/plain": [
       "True"
      ]
     },
     "execution_count": 1041,
     "metadata": {},
     "output_type": "execute_result"
    }
   ],
   "source": [
    "# 可以整除（因式分解）\n",
    "P([2, 3, 1]) == P([1, 1]) * P([2, 1])"
   ]
  },
  {
   "cell_type": "code",
   "execution_count": 1045,
   "id": "e025beaa",
   "metadata": {},
   "outputs": [
    {
     "data": {
      "text/latex": [
       "$x \\mapsto \\text{6.0}$"
      ],
      "text/plain": [
       "Polynomial([6.], domain=[-1.,  1.], window=[-1.,  1.])"
      ]
     },
     "execution_count": 1045,
     "metadata": {},
     "output_type": "execute_result"
    }
   ],
   "source": [
    "# 取余\n",
    "p % P([-1, 1])"
   ]
  },
  {
   "cell_type": "code",
   "execution_count": 1050,
   "id": "58c76052",
   "metadata": {},
   "outputs": [
    {
     "data": {
      "text/plain": [
       "(Polynomial([5., 3.], domain=[-1.,  1.], window=[-1.,  1.]),\n",
       " Polynomial([6.], domain=[-1.,  1.], window=[-1.,  1.]))"
      ]
     },
     "execution_count": 1050,
     "metadata": {},
     "output_type": "execute_result"
    }
   ],
   "source": [
    "# 分解+余\n",
    "divmod(p, P([-1, 1]))"
   ]
  },
  {
   "cell_type": "code",
   "execution_count": 1051,
   "id": "4e063b07",
   "metadata": {},
   "outputs": [
    {
     "data": {
      "text/plain": [
       "array([ 1.,  6., 17., 34., 57.])"
      ]
     },
     "execution_count": 1051,
     "metadata": {},
     "output_type": "execute_result"
    }
   ],
   "source": [
    "# 求值\n",
    "x = np.arange(5)\n",
    "p(x)"
   ]
  },
  {
   "cell_type": "code",
   "execution_count": 1055,
   "id": "c4ac4732",
   "metadata": {},
   "outputs": [
    {
     "data": {
      "text/plain": [
       "array([ 1.,  6., 17., 34., 57.])"
      ]
     },
     "execution_count": 1055,
     "metadata": {},
     "output_type": "execute_result"
    }
   ],
   "source": [
    "3*x**2 + 2*x + 1."
   ]
  },
  {
   "cell_type": "code",
   "execution_count": 1057,
   "id": "d2faf040",
   "metadata": {},
   "outputs": [
    {
     "data": {
      "text/latex": [
       "$x \\mapsto \\text{6.0} + \\text{16.0}\\,x + \\text{36.0}\\,x^{2} + \\text{36.0}\\,x^{3} + \\text{27.0}\\,x^{4}$"
      ],
      "text/plain": [
       "Polynomial([ 6., 16., 36., 36., 27.], domain=[-1.,  1.], window=[-1.,  1.])"
      ]
     },
     "execution_count": 1057,
     "metadata": {},
     "output_type": "execute_result"
    }
   ],
   "source": [
    "# 嵌套\n",
    "p(p)"
   ]
  },
  {
   "cell_type": "code",
   "execution_count": 1059,
   "id": "f35e68e8",
   "metadata": {},
   "outputs": [
    {
     "data": {
      "text/plain": [
       "array([-0.33333333-0.47140452j, -0.33333333+0.47140452j])"
      ]
     },
     "execution_count": 1059,
     "metadata": {},
     "output_type": "execute_result"
    }
   ],
   "source": [
    "# 根\n",
    "p.roots()"
   ]
  },
  {
   "cell_type": "code",
   "execution_count": 1064,
   "id": "70e0f869",
   "metadata": {},
   "outputs": [
    {
     "data": {
      "text/plain": [
       "array([1., 2.])"
      ]
     },
     "execution_count": 1064,
     "metadata": {},
     "output_type": "execute_result"
    }
   ],
   "source": [
    "# 有有理根\n",
    "P([2, -3, 1]).roots()"
   ]
  },
  {
   "cell_type": "code",
   "execution_count": 1069,
   "id": "3ac4b092",
   "metadata": {},
   "outputs": [
    {
     "data": {
      "text/latex": [
       "$x \\mapsto \\text{1.0} + \\text{2.0}\\,x + \\text{3.0}\\,x^{2}$"
      ],
      "text/plain": [
       "Polynomial([1., 2., 3.], domain=[-1,  1], window=[-1,  1])"
      ]
     },
     "execution_count": 1069,
     "metadata": {},
     "output_type": "execute_result"
    }
   ],
   "source": [
    "p"
   ]
  },
  {
   "cell_type": "code",
   "execution_count": 1067,
   "id": "2171313d",
   "metadata": {},
   "outputs": [
    {
     "data": {
      "text/latex": [
       "$x \\mapsto \\text{2.0} + \\text{4.0}\\,x + \\text{6.0}\\,x^{2}$"
      ],
      "text/plain": [
       "Polynomial([2., 4., 6.], domain=[-1.,  1.], window=[-1.,  1.])"
      ]
     },
     "execution_count": 1067,
     "metadata": {},
     "output_type": "execute_result"
    }
   ],
   "source": [
    "p + [1, 2, 3]"
   ]
  },
  {
   "cell_type": "code",
   "execution_count": 1068,
   "id": "745f4549",
   "metadata": {},
   "outputs": [
    {
     "data": {
      "text/latex": [
       "$x \\mapsto \\text{2.0} + \\text{4.0}\\,x + \\text{3.0}\\,x^{2}$"
      ],
      "text/plain": [
       "Polynomial([2., 4., 3.], domain=[-1.,  1.], window=[-1.,  1.])"
      ]
     },
     "execution_count": 1068,
     "metadata": {},
     "output_type": "execute_result"
    }
   ],
   "source": [
    "p + [1,2]"
   ]
  },
  {
   "cell_type": "code",
   "execution_count": 1070,
   "id": "fa3741a1",
   "metadata": {},
   "outputs": [
    {
     "data": {
      "text/latex": [
       "$x \\mapsto \\text{0.5} + \\text{1.0}\\,x + \\text{1.5}\\,x^{2}$"
      ],
      "text/plain": [
       "Polynomial([0.5, 1. , 1.5], domain=[-1.,  1.], window=[-1.,  1.])"
      ]
     },
     "execution_count": 1070,
     "metadata": {},
     "output_type": "execute_result"
    }
   ],
   "source": [
    "p / 2"
   ]
  },
  {
   "cell_type": "markdown",
   "id": "635725ff",
   "metadata": {},
   "source": [
    "注意：上面的运算在不同domain、window或类型时无法使用。"
   ]
  },
  {
   "cell_type": "code",
   "execution_count": 1073,
   "id": "b41c9178",
   "metadata": {},
   "outputs": [
    {
     "ename": "TypeError",
     "evalue": "Domains differ",
     "output_type": "error",
     "traceback": [
      "\u001b[0;31m---------------------------------------------------------------------------\u001b[0m",
      "\u001b[0;31mTypeError\u001b[0m                                 Traceback (most recent call last)",
      "\u001b[0;32m<ipython-input-1073-c9477ae81d90>\u001b[0m in \u001b[0;36m<module>\u001b[0;34m\u001b[0m\n\u001b[1;32m      1\u001b[0m \u001b[0;31m# 不同domain\u001b[0m\u001b[0;34m\u001b[0m\u001b[0;34m\u001b[0m\u001b[0;34m\u001b[0m\u001b[0m\n\u001b[0;32m----> 2\u001b[0;31m \u001b[0mp\u001b[0m \u001b[0;34m+\u001b[0m \u001b[0mP\u001b[0m\u001b[0;34m(\u001b[0m\u001b[0;34m[\u001b[0m\u001b[0;36m1\u001b[0m\u001b[0;34m]\u001b[0m\u001b[0;34m,\u001b[0m \u001b[0mdomain\u001b[0m\u001b[0;34m=\u001b[0m\u001b[0;34m[\u001b[0m\u001b[0;36m0\u001b[0m\u001b[0;34m,\u001b[0m \u001b[0;36m1\u001b[0m\u001b[0;34m]\u001b[0m\u001b[0;34m)\u001b[0m\u001b[0;34m\u001b[0m\u001b[0;34m\u001b[0m\u001b[0m\n\u001b[0m",
      "\u001b[0;32m/usr/local/lib/python3.8/site-packages/numpy/polynomial/_polybase.py\u001b[0m in \u001b[0;36m__add__\u001b[0;34m(self, other)\u001b[0m\n\u001b[1;32m    498\u001b[0m \u001b[0;34m\u001b[0m\u001b[0m\n\u001b[1;32m    499\u001b[0m     \u001b[0;32mdef\u001b[0m \u001b[0m__add__\u001b[0m\u001b[0;34m(\u001b[0m\u001b[0mself\u001b[0m\u001b[0;34m,\u001b[0m \u001b[0mother\u001b[0m\u001b[0;34m)\u001b[0m\u001b[0;34m:\u001b[0m\u001b[0;34m\u001b[0m\u001b[0;34m\u001b[0m\u001b[0m\n\u001b[0;32m--> 500\u001b[0;31m         \u001b[0mothercoef\u001b[0m \u001b[0;34m=\u001b[0m \u001b[0mself\u001b[0m\u001b[0;34m.\u001b[0m\u001b[0m_get_coefficients\u001b[0m\u001b[0;34m(\u001b[0m\u001b[0mother\u001b[0m\u001b[0;34m)\u001b[0m\u001b[0;34m\u001b[0m\u001b[0;34m\u001b[0m\u001b[0m\n\u001b[0m\u001b[1;32m    501\u001b[0m         \u001b[0;32mtry\u001b[0m\u001b[0;34m:\u001b[0m\u001b[0;34m\u001b[0m\u001b[0;34m\u001b[0m\u001b[0m\n\u001b[1;32m    502\u001b[0m             \u001b[0mcoef\u001b[0m \u001b[0;34m=\u001b[0m \u001b[0mself\u001b[0m\u001b[0;34m.\u001b[0m\u001b[0m_add\u001b[0m\u001b[0;34m(\u001b[0m\u001b[0mself\u001b[0m\u001b[0;34m.\u001b[0m\u001b[0mcoef\u001b[0m\u001b[0;34m,\u001b[0m \u001b[0mothercoef\u001b[0m\u001b[0;34m)\u001b[0m\u001b[0;34m\u001b[0m\u001b[0;34m\u001b[0m\u001b[0m\n",
      "\u001b[0;32m/usr/local/lib/python3.8/site-packages/numpy/polynomial/_polybase.py\u001b[0m in \u001b[0;36m_get_coefficients\u001b[0;34m(self, other)\u001b[0m\n\u001b[1;32m    282\u001b[0m                 \u001b[0;32mraise\u001b[0m \u001b[0mTypeError\u001b[0m\u001b[0;34m(\u001b[0m\u001b[0;34m\"Polynomial types differ\"\u001b[0m\u001b[0;34m)\u001b[0m\u001b[0;34m\u001b[0m\u001b[0;34m\u001b[0m\u001b[0m\n\u001b[1;32m    283\u001b[0m             \u001b[0;32melif\u001b[0m \u001b[0;32mnot\u001b[0m \u001b[0mnp\u001b[0m\u001b[0;34m.\u001b[0m\u001b[0mall\u001b[0m\u001b[0;34m(\u001b[0m\u001b[0mself\u001b[0m\u001b[0;34m.\u001b[0m\u001b[0mdomain\u001b[0m \u001b[0;34m==\u001b[0m \u001b[0mother\u001b[0m\u001b[0;34m.\u001b[0m\u001b[0mdomain\u001b[0m\u001b[0;34m)\u001b[0m\u001b[0;34m:\u001b[0m\u001b[0;34m\u001b[0m\u001b[0;34m\u001b[0m\u001b[0m\n\u001b[0;32m--> 284\u001b[0;31m                 \u001b[0;32mraise\u001b[0m \u001b[0mTypeError\u001b[0m\u001b[0;34m(\u001b[0m\u001b[0;34m\"Domains differ\"\u001b[0m\u001b[0;34m)\u001b[0m\u001b[0;34m\u001b[0m\u001b[0;34m\u001b[0m\u001b[0m\n\u001b[0m\u001b[1;32m    285\u001b[0m             \u001b[0;32melif\u001b[0m \u001b[0;32mnot\u001b[0m \u001b[0mnp\u001b[0m\u001b[0;34m.\u001b[0m\u001b[0mall\u001b[0m\u001b[0;34m(\u001b[0m\u001b[0mself\u001b[0m\u001b[0;34m.\u001b[0m\u001b[0mwindow\u001b[0m \u001b[0;34m==\u001b[0m \u001b[0mother\u001b[0m\u001b[0;34m.\u001b[0m\u001b[0mwindow\u001b[0m\u001b[0;34m)\u001b[0m\u001b[0;34m:\u001b[0m\u001b[0;34m\u001b[0m\u001b[0;34m\u001b[0m\u001b[0m\n\u001b[1;32m    286\u001b[0m                 \u001b[0;32mraise\u001b[0m \u001b[0mTypeError\u001b[0m\u001b[0;34m(\u001b[0m\u001b[0;34m\"Windows differ\"\u001b[0m\u001b[0;34m)\u001b[0m\u001b[0;34m\u001b[0m\u001b[0;34m\u001b[0m\u001b[0m\n",
      "\u001b[0;31mTypeError\u001b[0m: Domains differ"
     ]
    }
   ],
   "source": [
    "# 不同domain\n",
    "p + P([1], domain=[0, 1])"
   ]
  },
  {
   "cell_type": "markdown",
   "id": "3624af0d",
   "metadata": {},
   "source": [
    "计算积分："
   ]
  },
  {
   "cell_type": "code",
   "execution_count": 1123,
   "id": "9fe410d6",
   "metadata": {},
   "outputs": [
    {
     "data": {
      "text/latex": [
       "$x \\mapsto \\text{3.0} + \\text{2.0}\\,x + \\text{1.0}\\,x^{2}$"
      ],
      "text/plain": [
       "Polynomial([3., 2., 1.], domain=[-1,  1], window=[-1,  1])"
      ]
     },
     "execution_count": 1123,
     "metadata": {},
     "output_type": "execute_result"
    }
   ],
   "source": [
    "p = P([3, 2, 1])\n",
    "p"
   ]
  },
  {
   "cell_type": "code",
   "execution_count": 1127,
   "id": "b6038977",
   "metadata": {},
   "outputs": [
    {
     "data": {
      "text/latex": [
       "$x \\mapsto \\color{LightGray}{\\text{0.0}} + \\text{3.0}\\,x + \\text{1.0}\\,x^{2} + \\text{0.3333333333333333}\\,x^{3}$"
      ],
      "text/plain": [
       "Polynomial([0.        , 3.        , 1.        , 0.33333333], domain=[-1.,  1.], window=[-1.,  1.])"
      ]
     },
     "execution_count": 1127,
     "metadata": {},
     "output_type": "execute_result"
    }
   ],
   "source": [
    "# 定积分\n",
    "p.integ()"
   ]
  },
  {
   "cell_type": "code",
   "execution_count": 1130,
   "id": "bc4d0791",
   "metadata": {},
   "outputs": [
    {
     "data": {
      "text/latex": [
       "$x \\mapsto \\color{LightGray}{\\text{0.0}}\\color{LightGray}{ + \\text{0.0}\\,x} + \\text{1.5}\\,x^{2} + \\text{0.3333333333333333}\\,x^{3} + \\text{0.08333333333333333}\\,x^{4}$"
      ],
      "text/plain": [
       "Polynomial([0.        , 0.        , 1.5       , 0.33333333, 0.08333333], domain=[-1.,  1.], window=[-1.,  1.])"
      ]
     },
     "execution_count": 1130,
     "metadata": {},
     "output_type": "execute_result"
    }
   ],
   "source": [
    "# 指定积分次数\n",
    "p.integ(m=2)"
   ]
  },
  {
   "cell_type": "code",
   "execution_count": 1133,
   "id": "0404ce34",
   "metadata": {},
   "outputs": [
    {
     "data": {
      "text/latex": [
       "$x \\mapsto \\text{2.333333333333333} + \\text{3.0}\\,x + \\text{1.0}\\,x^{2} + \\text{0.3333333333333333}\\,x^{3}$"
      ],
      "text/plain": [
       "Polynomial([2.33333333, 3.        , 1.        , 0.33333333], domain=[-1.,  1.], window=[-1.,  1.])"
      ]
     },
     "execution_count": 1133,
     "metadata": {},
     "output_type": "execute_result"
    }
   ],
   "source": [
    "# 指定下界（默认是0）为-1，常数项发生变化\n",
    "p.integ(lbnd=-1)"
   ]
  },
  {
   "cell_type": "code",
   "execution_count": 1136,
   "id": "e520d556",
   "metadata": {},
   "outputs": [
    {
     "data": {
      "text/latex": [
       "$x \\mapsto \\text{3.333333333333333} + \\text{3.0}\\,x + \\text{1.0}\\,x^{2} + \\text{0.3333333333333333}\\,x^{3}$"
      ],
      "text/plain": [
       "Polynomial([3.33333333, 3.        , 1.        , 0.33333333], domain=[-1.,  1.], window=[-1.,  1.])"
      ]
     },
     "execution_count": 1136,
     "metadata": {},
     "output_type": "execute_result"
    }
   ],
   "source": [
    "p.integ(k=[1], lbnd=-1)"
   ]
  },
  {
   "cell_type": "markdown",
   "id": "5557914f",
   "metadata": {},
   "source": [
    "计算导数："
   ]
  },
  {
   "cell_type": "code",
   "execution_count": 1151,
   "id": "9c2cd72d",
   "metadata": {},
   "outputs": [
    {
     "data": {
      "text/latex": [
       "$x \\mapsto \\text{2.0} + \\text{2.0}\\,x$"
      ],
      "text/plain": [
       "Polynomial([2., 2.], domain=[-1.,  1.], window=[-1.,  1.])"
      ]
     },
     "execution_count": 1151,
     "metadata": {},
     "output_type": "execute_result"
    }
   ],
   "source": [
    "p.deriv()"
   ]
  },
  {
   "cell_type": "code",
   "execution_count": 1152,
   "id": "552c06e7",
   "metadata": {},
   "outputs": [
    {
     "data": {
      "text/latex": [
       "$x \\mapsto \\text{2.0}$"
      ],
      "text/plain": [
       "Polynomial([2.], domain=[-1.,  1.], window=[-1.,  1.])"
      ]
     },
     "execution_count": 1152,
     "metadata": {},
     "output_type": "execute_result"
    }
   ],
   "source": [
    "p.deriv(2)"
   ]
  },
  {
   "cell_type": "code",
   "execution_count": 1153,
   "id": "15723afb",
   "metadata": {},
   "outputs": [
    {
     "data": {
      "text/plain": [
       "4.0"
      ]
     },
     "execution_count": 1153,
     "metadata": {},
     "output_type": "execute_result"
    }
   ],
   "source": [
    "p.deriv()(1)"
   ]
  },
  {
   "cell_type": "code",
   "execution_count": 1155,
   "id": "3c36c0e0",
   "metadata": {},
   "outputs": [
    {
     "data": {
      "text/plain": [
       "2.0"
      ]
     },
     "execution_count": 1155,
     "metadata": {},
     "output_type": "execute_result"
    }
   ],
   "source": [
    "p.deriv(2)(10)"
   ]
  },
  {
   "cell_type": "markdown",
   "id": "a761391b",
   "metadata": {},
   "source": [
    "## 关系运算\n",
    "\n",
    "NumPy中的关系运算一般用于判断数组是否满足指定条件，返回结果为布尔数组。这部分的API大多都是通函数。"
   ]
  },
  {
   "cell_type": "markdown",
   "id": "6e61f386",
   "metadata": {},
   "source": [
    "### 真值测试\n",
    "\n",
    "常用于判断元素是否全部满足或任一满足条件。"
   ]
  },
  {
   "cell_type": "code",
   "execution_count": 37,
   "id": "9b935286",
   "metadata": {},
   "outputs": [],
   "source": [
    "a = np.array([\n",
    "    [1, 0, 2],\n",
    "    [2, 3, 0]\n",
    "])"
   ]
  },
  {
   "cell_type": "code",
   "execution_count": 38,
   "id": "a2c4d531",
   "metadata": {},
   "outputs": [
    {
     "data": {
      "text/plain": [
       "False"
      ]
     },
     "execution_count": 38,
     "metadata": {},
     "output_type": "execute_result"
    }
   ],
   "source": [
    "np.all(a)"
   ]
  },
  {
   "cell_type": "code",
   "execution_count": 39,
   "id": "825662e9",
   "metadata": {},
   "outputs": [
    {
     "data": {
      "text/plain": [
       "array([ True, False, False])"
      ]
     },
     "execution_count": 39,
     "metadata": {},
     "output_type": "execute_result"
    }
   ],
   "source": [
    "np.all(a, axis=0)"
   ]
  },
  {
   "cell_type": "code",
   "execution_count": 40,
   "id": "fb4067e6",
   "metadata": {},
   "outputs": [
    {
     "data": {
      "text/plain": [
       "True"
      ]
     },
     "execution_count": 40,
     "metadata": {},
     "output_type": "execute_result"
    }
   ],
   "source": [
    "np.any(a)"
   ]
  },
  {
   "cell_type": "code",
   "execution_count": 41,
   "id": "ebddf5d8",
   "metadata": {},
   "outputs": [
    {
     "data": {
      "text/plain": [
       "array([ True,  True,  True])"
      ]
     },
     "execution_count": 41,
     "metadata": {},
     "output_type": "execute_result"
    }
   ],
   "source": [
    "np.any(a, axis=0)"
   ]
  },
  {
   "cell_type": "code",
   "execution_count": 42,
   "id": "06cf74f4",
   "metadata": {},
   "outputs": [
    {
     "data": {
      "text/plain": [
       "False"
      ]
     },
     "execution_count": 42,
     "metadata": {},
     "output_type": "execute_result"
    }
   ],
   "source": [
    "np.any([0, 0, 0])"
   ]
  },
  {
   "cell_type": "code",
   "execution_count": 43,
   "id": "141e5176",
   "metadata": {},
   "outputs": [
    {
     "data": {
      "text/plain": [
       "False"
      ]
     },
     "execution_count": 43,
     "metadata": {},
     "output_type": "execute_result"
    }
   ],
   "source": [
    "np.alltrue(a)"
   ]
  },
  {
   "cell_type": "code",
   "execution_count": 44,
   "id": "50707656",
   "metadata": {},
   "outputs": [
    {
     "data": {
      "text/plain": [
       "True"
      ]
     },
     "execution_count": 44,
     "metadata": {},
     "output_type": "execute_result"
    }
   ],
   "source": [
    "np.alltrue([1, 2, 3])"
   ]
  },
  {
   "cell_type": "markdown",
   "id": "3634e9c8",
   "metadata": {},
   "source": [
    "### 值和类型\n",
    "\n",
    "判断数组的值是否符合条件：\n",
    "\n",
    "- `isfinite`：不是无穷并且不是非数字\n",
    "- `isnan`：非数字\n",
    "- `isnat`：非时间\n",
    "- `isinf/isneginf/isposinf`：正/负无穷\n",
    "\n",
    "类型：\n",
    "\n",
    "- `iscomplex`：复数\n",
    "- `iscomplexobj`：复数类型\n",
    "- `isfortran`：F-Style\n",
    "- `isreal`：实数\n",
    "- `isrealobj`：不是复数类型\n",
    "- `isscalar`：标量"
   ]
  },
  {
   "cell_type": "code",
   "execution_count": 45,
   "id": "8b73cb24",
   "metadata": {},
   "outputs": [
    {
     "data": {
      "text/plain": [
       "array([False,  True, False,  True])"
      ]
     },
     "execution_count": 45,
     "metadata": {},
     "output_type": "execute_result"
    }
   ],
   "source": [
    "np.isfinite([np.nan, 0, np.inf, 1])"
   ]
  },
  {
   "cell_type": "code",
   "execution_count": 46,
   "id": "baa701c0",
   "metadata": {},
   "outputs": [
    {
     "data": {
      "text/plain": [
       "array([ True, False, False])"
      ]
     },
     "execution_count": 46,
     "metadata": {},
     "output_type": "execute_result"
    }
   ],
   "source": [
    "np.isnan([np.nan, 2, np.inf])"
   ]
  },
  {
   "cell_type": "code",
   "execution_count": 47,
   "id": "e96f6755",
   "metadata": {},
   "outputs": [
    {
     "data": {
      "text/plain": [
       "array([False])"
      ]
     },
     "execution_count": 47,
     "metadata": {},
     "output_type": "execute_result"
    }
   ],
   "source": [
    "np.isnat([np.datetime64(\"2016-01-01\")])"
   ]
  },
  {
   "cell_type": "code",
   "execution_count": 48,
   "id": "793cf2f0",
   "metadata": {},
   "outputs": [
    {
     "ename": "TypeError",
     "evalue": "ufunc 'isnat' is only defined for datetime and timedelta.",
     "output_type": "error",
     "traceback": [
      "\u001b[0;31m---------------------------------------------------------------------------\u001b[0m",
      "\u001b[0;31mTypeError\u001b[0m                                 Traceback (most recent call last)",
      "\u001b[0;32m<ipython-input-48-b44857751f20>\u001b[0m in \u001b[0;36m<module>\u001b[0;34m\u001b[0m\n\u001b[1;32m      1\u001b[0m \u001b[0;31m# 只支持时间格式\u001b[0m\u001b[0;34m\u001b[0m\u001b[0;34m\u001b[0m\u001b[0;34m\u001b[0m\u001b[0m\n\u001b[0;32m----> 2\u001b[0;31m \u001b[0mnp\u001b[0m\u001b[0;34m.\u001b[0m\u001b[0misnat\u001b[0m\u001b[0;34m(\u001b[0m\u001b[0;34m[\u001b[0m\u001b[0;36m2\u001b[0m\u001b[0;34m]\u001b[0m\u001b[0;34m)\u001b[0m\u001b[0;34m\u001b[0m\u001b[0;34m\u001b[0m\u001b[0m\n\u001b[0m",
      "\u001b[0;31mTypeError\u001b[0m: ufunc 'isnat' is only defined for datetime and timedelta."
     ]
    }
   ],
   "source": [
    "# 只支持时间格式\n",
    "np.isnat([2])"
   ]
  },
  {
   "cell_type": "code",
   "execution_count": 49,
   "id": "5da8312a",
   "metadata": {},
   "outputs": [
    {
     "data": {
      "text/plain": [
       "array([False,  True])"
      ]
     },
     "execution_count": 49,
     "metadata": {},
     "output_type": "execute_result"
    }
   ],
   "source": [
    "np.isinf([np.nan, np.inf])"
   ]
  },
  {
   "cell_type": "code",
   "execution_count": 50,
   "id": "3d971dc7",
   "metadata": {},
   "outputs": [
    {
     "data": {
      "text/plain": [
       "array([False,  True,  True])"
      ]
     },
     "execution_count": 50,
     "metadata": {},
     "output_type": "execute_result"
    }
   ],
   "source": [
    "np.isneginf([np.inf, -np.inf, np.NINF])"
   ]
  },
  {
   "cell_type": "code",
   "execution_count": 51,
   "id": "89600950",
   "metadata": {},
   "outputs": [
    {
     "data": {
      "text/plain": [
       "array([[2.+0.j, 3.+0.j],\n",
       "       [1.+1.j, 0.+0.j]])"
      ]
     },
     "execution_count": 51,
     "metadata": {},
     "output_type": "execute_result"
    }
   ],
   "source": [
    "a = np.array([[2, 3], [1+1j, 0]])\n",
    "a"
   ]
  },
  {
   "cell_type": "code",
   "execution_count": 52,
   "id": "0c9a33b6",
   "metadata": {},
   "outputs": [
    {
     "data": {
      "text/plain": [
       "array([[False, False],\n",
       "       [ True, False]])"
      ]
     },
     "execution_count": 52,
     "metadata": {},
     "output_type": "execute_result"
    }
   ],
   "source": [
    "np.iscomplex(a)"
   ]
  },
  {
   "cell_type": "code",
   "execution_count": 53,
   "id": "6d542c4a",
   "metadata": {},
   "outputs": [
    {
     "data": {
      "text/plain": [
       "True"
      ]
     },
     "execution_count": 53,
     "metadata": {},
     "output_type": "execute_result"
    }
   ],
   "source": [
    "np.iscomplexobj(a)"
   ]
  },
  {
   "cell_type": "code",
   "execution_count": 54,
   "id": "b4e6556c",
   "metadata": {},
   "outputs": [
    {
     "data": {
      "text/plain": [
       "array([[ True,  True],\n",
       "       [False,  True]])"
      ]
     },
     "execution_count": 54,
     "metadata": {},
     "output_type": "execute_result"
    }
   ],
   "source": [
    "np.isreal(a)"
   ]
  },
  {
   "cell_type": "code",
   "execution_count": 55,
   "id": "d990b820",
   "metadata": {},
   "outputs": [
    {
     "data": {
      "text/plain": [
       "False"
      ]
     },
     "execution_count": 55,
     "metadata": {},
     "output_type": "execute_result"
    }
   ],
   "source": [
    "np.isrealobj(a)"
   ]
  },
  {
   "cell_type": "code",
   "execution_count": 56,
   "id": "23fecec9",
   "metadata": {},
   "outputs": [
    {
     "data": {
      "text/plain": [
       "False"
      ]
     },
     "execution_count": 56,
     "metadata": {},
     "output_type": "execute_result"
    }
   ],
   "source": [
    "np.isfortran(a)"
   ]
  },
  {
   "cell_type": "code",
   "execution_count": 57,
   "id": "df29eeee",
   "metadata": {},
   "outputs": [
    {
     "data": {
      "text/plain": [
       "False"
      ]
     },
     "execution_count": 57,
     "metadata": {},
     "output_type": "execute_result"
    }
   ],
   "source": [
    "np.isscalar(np.array([2, 3]))"
   ]
  },
  {
   "cell_type": "code",
   "execution_count": 58,
   "id": "79e2d20c",
   "metadata": {},
   "outputs": [
    {
     "data": {
      "text/plain": [
       "True"
      ]
     },
     "execution_count": 58,
     "metadata": {},
     "output_type": "execute_result"
    }
   ],
   "source": [
    "np.isscalar(2)"
   ]
  },
  {
   "cell_type": "code",
   "execution_count": 59,
   "id": "2c762010",
   "metadata": {},
   "outputs": [
    {
     "data": {
      "text/plain": [
       "True"
      ]
     },
     "execution_count": 59,
     "metadata": {},
     "output_type": "execute_result"
    }
   ],
   "source": [
    "np.isscalar(\"fdf\")"
   ]
  },
  {
   "cell_type": "markdown",
   "id": "b6cb01ac",
   "metadata": {},
   "source": [
    "### 逻辑运算\n",
    "\n",
    "包括与、或、异或、非，以与为例。"
   ]
  },
  {
   "cell_type": "code",
   "execution_count": 60,
   "id": "4daa59dc",
   "metadata": {},
   "outputs": [
    {
     "data": {
      "text/plain": [
       "False"
      ]
     },
     "execution_count": 60,
     "metadata": {},
     "output_type": "execute_result"
    }
   ],
   "source": [
    "np.logical_and(True, False)"
   ]
  },
  {
   "cell_type": "code",
   "execution_count": 61,
   "id": "723a796e",
   "metadata": {},
   "outputs": [
    {
     "data": {
      "text/plain": [
       "array([ True, False])"
      ]
     },
     "execution_count": 61,
     "metadata": {},
     "output_type": "execute_result"
    }
   ],
   "source": [
    "np.logical_and([2, 3], [4, False])"
   ]
  },
  {
   "cell_type": "code",
   "execution_count": 62,
   "id": "e01561a9",
   "metadata": {},
   "outputs": [
    {
     "data": {
      "text/plain": [
       "array([False, False,  True,  True, False])"
      ]
     },
     "execution_count": 62,
     "metadata": {},
     "output_type": "execute_result"
    }
   ],
   "source": [
    "a = np.arange(5)\n",
    "np.logical_and(a>1, a<4)"
   ]
  },
  {
   "cell_type": "code",
   "execution_count": 63,
   "id": "e67d93fb",
   "metadata": {},
   "outputs": [
    {
     "data": {
      "text/plain": [
       "array([0, 0])"
      ]
     },
     "execution_count": 63,
     "metadata": {},
     "output_type": "execute_result"
    }
   ],
   "source": [
    "# & 等价\n",
    "np.array([1, 0]) & np.array([0, 1])"
   ]
  },
  {
   "cell_type": "markdown",
   "id": "996a6bca",
   "metadata": {},
   "source": [
    "### 比较\n",
    "\n",
    "相近判断：\n",
    "\n",
    "`allclose/isclose` 用于判断所有值是否在阈值范围内："
   ]
  },
  {
   "cell_type": "markdown",
   "id": "d792cd7f",
   "metadata": {},
   "source": [
    "$$\n",
    "|a - b| <= (\\text{atol} + \\text{rtol}  * |b|)\n",
    "$$"
   ]
  },
  {
   "cell_type": "markdown",
   "id": "a2228341",
   "metadata": {},
   "source": [
    "- atol默认值为1e-08\n",
    "- rtol默认值为1e-05\n",
    "\n",
    "常用于验证精度。"
   ]
  },
  {
   "cell_type": "code",
   "execution_count": 64,
   "id": "ec821d9f",
   "metadata": {},
   "outputs": [
    {
     "data": {
      "text/plain": [
       "True"
      ]
     },
     "execution_count": 64,
     "metadata": {},
     "output_type": "execute_result"
    }
   ],
   "source": [
    "np.allclose(1.0000089, 1.000009)"
   ]
  },
  {
   "cell_type": "code",
   "execution_count": 65,
   "id": "342ab5f0",
   "metadata": {},
   "outputs": [
    {
     "data": {
      "text/plain": [
       "True"
      ]
     },
     "execution_count": 65,
     "metadata": {},
     "output_type": "execute_result"
    }
   ],
   "source": [
    "np.allclose([1e10, 1e-9], [1.000001e10, 1e-8])"
   ]
  },
  {
   "cell_type": "code",
   "execution_count": 66,
   "id": "bf23a86d",
   "metadata": {},
   "outputs": [
    {
     "data": {
      "text/plain": [
       "False"
      ]
     },
     "execution_count": 66,
     "metadata": {},
     "output_type": "execute_result"
    }
   ],
   "source": [
    "np.allclose([1, np.nan], [1, np.nan])"
   ]
  },
  {
   "cell_type": "code",
   "execution_count": 67,
   "id": "2867f4df",
   "metadata": {},
   "outputs": [
    {
     "data": {
      "text/plain": [
       "True"
      ]
     },
     "execution_count": 67,
     "metadata": {},
     "output_type": "execute_result"
    }
   ],
   "source": [
    "np.allclose([1, np.nan], [1, np.nan], equal_nan=True)"
   ]
  },
  {
   "cell_type": "code",
   "execution_count": 68,
   "id": "418e8238",
   "metadata": {},
   "outputs": [
    {
     "data": {
      "text/plain": [
       "True"
      ]
     },
     "execution_count": 68,
     "metadata": {},
     "output_type": "execute_result"
    }
   ],
   "source": [
    "np.isclose(1.0000089, 1.000009)"
   ]
  },
  {
   "cell_type": "code",
   "execution_count": 69,
   "id": "85de214e",
   "metadata": {},
   "outputs": [
    {
     "data": {
      "text/plain": [
       "array([ True,  True])"
      ]
     },
     "execution_count": 69,
     "metadata": {},
     "output_type": "execute_result"
    }
   ],
   "source": [
    "np.isclose([1e10, 1e-9], [1.000001e10, 1e-8])"
   ]
  },
  {
   "cell_type": "code",
   "execution_count": 70,
   "id": "ecda1737",
   "metadata": {},
   "outputs": [
    {
     "data": {
      "text/plain": [
       "array([ True, False])"
      ]
     },
     "execution_count": 70,
     "metadata": {},
     "output_type": "execute_result"
    }
   ],
   "source": [
    "np.isclose([1, np.nan], [1, np.nan])"
   ]
  },
  {
   "cell_type": "code",
   "execution_count": 71,
   "id": "39d71861",
   "metadata": {},
   "outputs": [
    {
     "data": {
      "text/plain": [
       "array([ True,  True])"
      ]
     },
     "execution_count": 71,
     "metadata": {},
     "output_type": "execute_result"
    }
   ],
   "source": [
    "np.isclose([1, np.nan], [1, np.nan], equal_nan=True)"
   ]
  },
  {
   "cell_type": "markdown",
   "id": "0dcf9e01",
   "metadata": {},
   "source": [
    "相等判断："
   ]
  },
  {
   "cell_type": "code",
   "execution_count": 72,
   "id": "43a4e95b",
   "metadata": {},
   "outputs": [],
   "source": [
    "a = np.array([[1, 2], [3, 4]])\n",
    "b = np.array([[1, 2], [3, 4]])\n",
    "c = np.array([[1, np.nan], [3, np.nan]])\n",
    "d = np.array([[1, np.nan], [3, np.nan]])"
   ]
  },
  {
   "cell_type": "code",
   "execution_count": 73,
   "id": "04a00b6a",
   "metadata": {},
   "outputs": [
    {
     "data": {
      "text/plain": [
       "True"
      ]
     },
     "execution_count": 73,
     "metadata": {},
     "output_type": "execute_result"
    }
   ],
   "source": [
    "np.array_equal(a, b)"
   ]
  },
  {
   "cell_type": "code",
   "execution_count": 74,
   "id": "a8842841",
   "metadata": {},
   "outputs": [
    {
     "data": {
      "text/plain": [
       "False"
      ]
     },
     "execution_count": 74,
     "metadata": {},
     "output_type": "execute_result"
    }
   ],
   "source": [
    "np.array_equal(a, c)"
   ]
  },
  {
   "cell_type": "code",
   "execution_count": 75,
   "id": "ef3fdd2e",
   "metadata": {},
   "outputs": [
    {
     "data": {
      "text/plain": [
       "False"
      ]
     },
     "execution_count": 75,
     "metadata": {},
     "output_type": "execute_result"
    }
   ],
   "source": [
    "np.array_equal(c, d)"
   ]
  },
  {
   "cell_type": "code",
   "execution_count": 76,
   "id": "9811433a",
   "metadata": {},
   "outputs": [
    {
     "data": {
      "text/plain": [
       "True"
      ]
     },
     "execution_count": 76,
     "metadata": {},
     "output_type": "execute_result"
    }
   ],
   "source": [
    "np.array_equal(c, d, equal_nan=True)"
   ]
  },
  {
   "cell_type": "code",
   "execution_count": 77,
   "id": "86b57f27",
   "metadata": {},
   "outputs": [],
   "source": [
    "a = np.array([1, 2])\n",
    "b = np.array([[1, 2], [1, 2]])\n",
    "c = np.array([[1, 2]])"
   ]
  },
  {
   "cell_type": "code",
   "execution_count": 78,
   "id": "44e97479",
   "metadata": {},
   "outputs": [
    {
     "data": {
      "text/plain": [
       "False"
      ]
     },
     "execution_count": 78,
     "metadata": {},
     "output_type": "execute_result"
    }
   ],
   "source": [
    "np.array_equal(a, b)"
   ]
  },
  {
   "cell_type": "code",
   "execution_count": 79,
   "id": "79fc328f",
   "metadata": {},
   "outputs": [
    {
     "data": {
      "text/plain": [
       "True"
      ]
     },
     "execution_count": 79,
     "metadata": {},
     "output_type": "execute_result"
    }
   ],
   "source": [
    "# shape一致值相等\n",
    "np.array_equiv(a, b)"
   ]
  },
  {
   "cell_type": "code",
   "execution_count": 80,
   "id": "1a48c779",
   "metadata": {},
   "outputs": [
    {
     "data": {
      "text/plain": [
       "True"
      ]
     },
     "execution_count": 80,
     "metadata": {},
     "output_type": "execute_result"
    }
   ],
   "source": [
    "np.array_equiv(a, c)"
   ]
  },
  {
   "cell_type": "code",
   "execution_count": 81,
   "id": "066b4d88",
   "metadata": {},
   "outputs": [
    {
     "data": {
      "text/plain": [
       "True"
      ]
     },
     "execution_count": 81,
     "metadata": {},
     "output_type": "execute_result"
    }
   ],
   "source": [
    "np.array_equiv(b, c)"
   ]
  },
  {
   "cell_type": "markdown",
   "id": "e1596757",
   "metadata": {},
   "source": [
    "注意，这里的shape一致是指一个可以广播到另一个上。"
   ]
  },
  {
   "cell_type": "markdown",
   "id": "b16bb2ce",
   "metadata": {},
   "source": [
    "最后是比较运算，包括：>, >=, <, <=, ==, !=。"
   ]
  },
  {
   "cell_type": "code",
   "execution_count": 82,
   "id": "89bbb509",
   "metadata": {},
   "outputs": [],
   "source": [
    "a = np.array([[1, 2], [4, 2]])\n",
    "b = np.array([[1, 3], [2, 2]])"
   ]
  },
  {
   "cell_type": "code",
   "execution_count": 83,
   "id": "f887ab3b",
   "metadata": {},
   "outputs": [
    {
     "data": {
      "text/plain": [
       "array([[False, False],\n",
       "       [ True, False]])"
      ]
     },
     "execution_count": 83,
     "metadata": {},
     "output_type": "execute_result"
    }
   ],
   "source": [
    "np.greater(a, b)"
   ]
  },
  {
   "cell_type": "code",
   "execution_count": 84,
   "id": "f0c85487",
   "metadata": {},
   "outputs": [
    {
     "data": {
      "text/plain": [
       "array([[ True, False],\n",
       "       [ True,  True]])"
      ]
     },
     "execution_count": 84,
     "metadata": {},
     "output_type": "execute_result"
    }
   ],
   "source": [
    "np.greater_equal(a, b)"
   ]
  },
  {
   "cell_type": "code",
   "execution_count": 85,
   "id": "8f18308a",
   "metadata": {},
   "outputs": [
    {
     "data": {
      "text/plain": [
       "array([[False,  True],\n",
       "       [False, False]])"
      ]
     },
     "execution_count": 85,
     "metadata": {},
     "output_type": "execute_result"
    }
   ],
   "source": [
    "np.less(a, b)"
   ]
  },
  {
   "cell_type": "code",
   "execution_count": 86,
   "id": "437071a9",
   "metadata": {},
   "outputs": [
    {
     "data": {
      "text/plain": [
       "array([[ True,  True],\n",
       "       [False,  True]])"
      ]
     },
     "execution_count": 86,
     "metadata": {},
     "output_type": "execute_result"
    }
   ],
   "source": [
    "np.less_equal(a, b)"
   ]
  },
  {
   "cell_type": "code",
   "execution_count": 87,
   "id": "ae8ee6a6",
   "metadata": {},
   "outputs": [
    {
     "data": {
      "text/plain": [
       "array([[ True, False],\n",
       "       [False,  True]])"
      ]
     },
     "execution_count": 87,
     "metadata": {},
     "output_type": "execute_result"
    }
   ],
   "source": [
    "np.equal(a, b)"
   ]
  },
  {
   "cell_type": "code",
   "execution_count": 88,
   "id": "1e69e39e",
   "metadata": {},
   "outputs": [
    {
     "data": {
      "text/plain": [
       "array([[False,  True],\n",
       "       [ True, False]])"
      ]
     },
     "execution_count": 88,
     "metadata": {},
     "output_type": "execute_result"
    }
   ],
   "source": [
    "np.not_equal(a, b)"
   ]
  },
  {
   "cell_type": "markdown",
   "id": "46a7dae9",
   "metadata": {},
   "source": [
    "## 二进制运算\n",
    "\n",
    "主要是位运算相关API。"
   ]
  },
  {
   "cell_type": "markdown",
   "id": "017e7378",
   "metadata": {},
   "source": [
    "首先是逐位位运算，均为通函数，包括：与、或、异或、非、左移、右移等。"
   ]
  },
  {
   "cell_type": "markdown",
   "id": "30c989f7",
   "metadata": {},
   "source": [
    "### 位运算"
   ]
  },
  {
   "cell_type": "code",
   "execution_count": 487,
   "id": "32e37db7",
   "metadata": {},
   "outputs": [
    {
     "data": {
      "text/plain": [
       "(3, 12)"
      ]
     },
     "execution_count": 487,
     "metadata": {},
     "output_type": "execute_result"
    }
   ],
   "source": [
    "int(\"000011\", base=2), int(\"001100\", base=2)"
   ]
  },
  {
   "cell_type": "code",
   "execution_count": 489,
   "id": "e64f7f2c",
   "metadata": {},
   "outputs": [
    {
     "data": {
      "text/plain": [
       "(0, 0)"
      ]
     },
     "execution_count": 489,
     "metadata": {},
     "output_type": "execute_result"
    }
   ],
   "source": [
    "# 逐位与\n",
    "np.bitwise_and(3, 12), 3 & 12"
   ]
  },
  {
   "cell_type": "code",
   "execution_count": 501,
   "id": "65040cad",
   "metadata": {},
   "outputs": [
    {
     "data": {
      "text/plain": [
       "(242, 242)"
      ]
     },
     "execution_count": 501,
     "metadata": {},
     "output_type": "execute_result"
    }
   ],
   "source": [
    "# 非\n",
    "x = np.invert(np.array(13, dtype=np.uint8))\n",
    "x, 2**7+2**6+2**5+2**4+2"
   ]
  },
  {
   "cell_type": "code",
   "execution_count": 502,
   "id": "6248b9cd",
   "metadata": {},
   "outputs": [
    {
     "data": {
      "text/plain": [
       "('11110010', 13)"
      ]
     },
     "execution_count": 502,
     "metadata": {},
     "output_type": "execute_result"
    }
   ],
   "source": [
    "np.binary_repr(x, width=8), int(\"00001101\", base=2)"
   ]
  },
  {
   "cell_type": "markdown",
   "id": "95f8d25b",
   "metadata": {},
   "source": [
    "### 左右移"
   ]
  },
  {
   "cell_type": "markdown",
   "id": "81deafb5",
   "metadata": {},
   "source": [
    "或、异或和 与 类似，不再赘述。接下来的按位移动，以左移为例。"
   ]
  },
  {
   "cell_type": "code",
   "execution_count": 505,
   "id": "4f32d28a",
   "metadata": {},
   "outputs": [],
   "source": [
    "# 左移"
   ]
  },
  {
   "cell_type": "code",
   "execution_count": 508,
   "id": "54afaac5",
   "metadata": {},
   "outputs": [
    {
     "data": {
      "text/plain": [
       "4"
      ]
     },
     "execution_count": 508,
     "metadata": {},
     "output_type": "execute_result"
    }
   ],
   "source": [
    "2 << 1"
   ]
  },
  {
   "cell_type": "code",
   "execution_count": 511,
   "id": "c260ced9",
   "metadata": {},
   "outputs": [
    {
     "data": {
      "text/plain": [
       "4"
      ]
     },
     "execution_count": 511,
     "metadata": {},
     "output_type": "execute_result"
    }
   ],
   "source": [
    "np.left_shift(2, 1)"
   ]
  },
  {
   "cell_type": "code",
   "execution_count": 512,
   "id": "51e0ad4c",
   "metadata": {},
   "outputs": [
    {
     "data": {
      "text/plain": [
       "array([ 4,  8, 16])"
      ]
     },
     "execution_count": 512,
     "metadata": {},
     "output_type": "execute_result"
    }
   ],
   "source": [
    "np.left_shift(2, [1, 2, 3])"
   ]
  },
  {
   "cell_type": "code",
   "execution_count": 514,
   "id": "acb00741",
   "metadata": {},
   "outputs": [
    {
     "data": {
      "text/plain": [
       "array([ 4,  8, 12])"
      ]
     },
     "execution_count": 514,
     "metadata": {},
     "output_type": "execute_result"
    }
   ],
   "source": [
    "np.left_shift([1, 2, 3], 2)"
   ]
  },
  {
   "cell_type": "markdown",
   "id": "ee3abc81",
   "metadata": {},
   "source": [
    "### 打包解包"
   ]
  },
  {
   "cell_type": "markdown",
   "id": "efff4e86",
   "metadata": {},
   "source": [
    "最后介绍下打包和解包，分别将二进制转为 uint8 数组或反之。"
   ]
  },
  {
   "cell_type": "code",
   "execution_count": 521,
   "id": "a6f3276b",
   "metadata": {},
   "outputs": [],
   "source": [
    "arr = np.array([[1, 1, 0], [1, 0, 1]])"
   ]
  },
  {
   "cell_type": "code",
   "execution_count": 546,
   "id": "c740dcab",
   "metadata": {},
   "outputs": [
    {
     "data": {
      "text/plain": [
       "array([212], dtype=uint8)"
      ]
     },
     "execution_count": 546,
     "metadata": {},
     "output_type": "execute_result"
    }
   ],
   "source": [
    "# 打包\n",
    "np.packbits(arr)"
   ]
  },
  {
   "cell_type": "code",
   "execution_count": 527,
   "id": "46c186ed",
   "metadata": {},
   "outputs": [
    {
     "data": {
      "text/plain": [
       "array([212], dtype=uint8)"
      ]
     },
     "execution_count": 527,
     "metadata": {},
     "output_type": "execute_result"
    }
   ],
   "source": [
    "np.packbits(np.ravel(arr))"
   ]
  },
  {
   "cell_type": "code",
   "execution_count": 537,
   "id": "03cefb73",
   "metadata": {},
   "outputs": [
    {
     "data": {
      "text/plain": [
       "212"
      ]
     },
     "execution_count": 537,
     "metadata": {},
     "output_type": "execute_result"
    }
   ],
   "source": [
    "# 110101\n",
    "int(\"11010100\", base=2)"
   ]
  },
  {
   "cell_type": "code",
   "execution_count": 540,
   "id": "955751c7",
   "metadata": {},
   "outputs": [
    {
     "data": {
      "text/plain": [
       "array([[192, 128,  64]], dtype=uint8)"
      ]
     },
     "execution_count": 540,
     "metadata": {},
     "output_type": "execute_result"
    }
   ],
   "source": [
    "# 2**7+2**6 2**7 2**6\n",
    "np.packbits(arr, axis=0)"
   ]
  },
  {
   "cell_type": "code",
   "execution_count": 552,
   "id": "ffab38b6",
   "metadata": {},
   "outputs": [],
   "source": [
    "# 解包，注意，dtype 须为 uint8\n",
    "b = np.array([2], dtype=np.uint8)"
   ]
  },
  {
   "cell_type": "code",
   "execution_count": 553,
   "id": "92ae0a06",
   "metadata": {},
   "outputs": [
    {
     "data": {
      "text/plain": [
       "array([0, 0, 0, 0, 0, 0, 1, 0], dtype=uint8)"
      ]
     },
     "execution_count": 553,
     "metadata": {},
     "output_type": "execute_result"
    }
   ],
   "source": [
    "np.unpackbits(b)"
   ]
  },
  {
   "cell_type": "markdown",
   "id": "13e46885",
   "metadata": {},
   "source": [
    "## 字符串\n",
    "\n",
    "字符串在`NumPy`中也有很好的支持。所有的API在`np.char`下面，针对以下两种数据类型："
   ]
  },
  {
   "cell_type": "code",
   "execution_count": 611,
   "id": "4aae466b",
   "metadata": {},
   "outputs": [
    {
     "data": {
      "text/plain": [
       "(numpy.str_, numpy.str_, numpy.str_)"
      ]
     },
     "execution_count": 611,
     "metadata": {},
     "output_type": "execute_result"
    }
   ],
   "source": [
    "np.str_, np.unicode_, np.str0"
   ]
  },
  {
   "cell_type": "code",
   "execution_count": 613,
   "id": "1d870cdc",
   "metadata": {},
   "outputs": [
    {
     "data": {
      "text/plain": [
       "(numpy.bytes_, numpy.bytes_)"
      ]
     },
     "execution_count": 613,
     "metadata": {},
     "output_type": "execute_result"
    }
   ],
   "source": [
    "np.bytes_, np.string_"
   ]
  },
  {
   "cell_type": "markdown",
   "id": "dccf75b5",
   "metadata": {},
   "source": [
    "### 基本操作"
   ]
  },
  {
   "cell_type": "markdown",
   "id": "b5b12dff",
   "metadata": {},
   "source": [
    "首先是一些常用的字符串操作，与Python自带的类似。"
   ]
  },
  {
   "cell_type": "code",
   "execution_count": 614,
   "id": "e705103c",
   "metadata": {},
   "outputs": [],
   "source": [
    "a = np.array([\"1\", \"2\"], dtype=np.str_)\n",
    "b = np.array([\"a\", \"b\"], dtype=np.str_)"
   ]
  },
  {
   "cell_type": "markdown",
   "id": "677dec2c",
   "metadata": {},
   "source": [
    "加法就是字符的拼接："
   ]
  },
  {
   "cell_type": "code",
   "execution_count": 624,
   "id": "f51783e3",
   "metadata": {
    "scrolled": true
   },
   "outputs": [
    {
     "data": {
      "text/plain": [
       "array(['1a', '2b'], dtype='<U2')"
      ]
     },
     "execution_count": 624,
     "metadata": {},
     "output_type": "execute_result"
    }
   ],
   "source": [
    "# 加法\n",
    "np.char.add(a, b)"
   ]
  },
  {
   "cell_type": "code",
   "execution_count": 617,
   "id": "a7b10838",
   "metadata": {},
   "outputs": [
    {
     "ename": "UFuncTypeError",
     "evalue": "ufunc 'add' did not contain a loop with signature matching types (dtype('S1'), dtype('S1')) -> None",
     "output_type": "error",
     "traceback": [
      "\u001b[0;31m---------------------------------------------------------------------------\u001b[0m",
      "\u001b[0;31mUFuncTypeError\u001b[0m                            Traceback (most recent call last)",
      "\u001b[0;32m<ipython-input-617-49d28b8ba097>\u001b[0m in \u001b[0;36m<module>\u001b[0;34m\u001b[0m\n\u001b[0;32m----> 1\u001b[0;31m \u001b[0mnp\u001b[0m\u001b[0;34m.\u001b[0m\u001b[0marray\u001b[0m\u001b[0;34m(\u001b[0m\u001b[0;34m[\u001b[0m\u001b[0;36m1\u001b[0m\u001b[0;34m,\u001b[0m \u001b[0;36m2\u001b[0m\u001b[0;34m]\u001b[0m\u001b[0;34m,\u001b[0m \u001b[0mdtype\u001b[0m\u001b[0;34m=\u001b[0m\u001b[0mnp\u001b[0m\u001b[0;34m.\u001b[0m\u001b[0mbytes_\u001b[0m\u001b[0;34m)\u001b[0m \u001b[0;34m+\u001b[0m \u001b[0mnp\u001b[0m\u001b[0;34m.\u001b[0m\u001b[0marray\u001b[0m\u001b[0;34m(\u001b[0m\u001b[0;34m[\u001b[0m\u001b[0;36m1\u001b[0m\u001b[0;34m,\u001b[0m \u001b[0;36m2\u001b[0m\u001b[0;34m]\u001b[0m\u001b[0;34m,\u001b[0m \u001b[0mdtype\u001b[0m\u001b[0;34m=\u001b[0m\u001b[0mnp\u001b[0m\u001b[0;34m.\u001b[0m\u001b[0mbytes_\u001b[0m\u001b[0;34m)\u001b[0m\u001b[0;34m\u001b[0m\u001b[0;34m\u001b[0m\u001b[0m\n\u001b[0m",
      "\u001b[0;31mUFuncTypeError\u001b[0m: ufunc 'add' did not contain a loop with signature matching types (dtype('S1'), dtype('S1')) -> None"
     ]
    }
   ],
   "source": [
    "np.array([1, 2], dtype=np.bytes_) + np.array([1, 2], dtype=np.bytes_)"
   ]
  },
  {
   "cell_type": "code",
   "execution_count": 621,
   "id": "5058d8d1",
   "metadata": {},
   "outputs": [
    {
     "data": {
      "text/plain": [
       "array([b'11', b'22'], dtype='|S2')"
      ]
     },
     "execution_count": 621,
     "metadata": {},
     "output_type": "execute_result"
    }
   ],
   "source": [
    "np.char.add(np.array([1, 2], dtype=np.bytes_), np.array([1, 2], dtype=np.bytes_))"
   ]
  },
  {
   "cell_type": "code",
   "execution_count": 622,
   "id": "2b7f81f9",
   "metadata": {},
   "outputs": [
    {
     "data": {
      "text/plain": [
       "array(['11', '22'], dtype='<U2')"
      ]
     },
     "execution_count": 622,
     "metadata": {},
     "output_type": "execute_result"
    }
   ],
   "source": [
    "np.char.add(np.array([1, 2], dtype=np.bytes_), np.array([1, 2], dtype=np.str_))"
   ]
  },
  {
   "cell_type": "markdown",
   "id": "994a4d42",
   "metadata": {},
   "source": [
    "乘法是字符的重复："
   ]
  },
  {
   "cell_type": "code",
   "execution_count": 631,
   "id": "7d96cfb2",
   "metadata": {},
   "outputs": [
    {
     "data": {
      "text/plain": [
       "array(['111'], dtype='<U3')"
      ]
     },
     "execution_count": 631,
     "metadata": {},
     "output_type": "execute_result"
    }
   ],
   "source": [
    "np.char.multiply(np.array([1],dtype=np.str_), 3)"
   ]
  },
  {
   "cell_type": "code",
   "execution_count": 632,
   "id": "d0b3f0a9",
   "metadata": {},
   "outputs": [
    {
     "data": {
      "text/plain": [
       "array([''], dtype='<U1')"
      ]
     },
     "execution_count": 632,
     "metadata": {},
     "output_type": "execute_result"
    }
   ],
   "source": [
    "# 次数小于0时为0\n",
    "np.char.multiply(np.array([1],dtype=np.str_), -3)"
   ]
  },
  {
   "cell_type": "markdown",
   "id": "d0ec3020",
   "metadata": {},
   "source": [
    "其他API也与str自带的类似：\n",
    "- `capitalize`：首字母大写\n",
    "- `title`：按标题大写\n",
    "- `center`：给定长度居中填充\n",
    "- `ljust/rjust`：给定长度左右填充\n",
    "- `zfill`：0左填充\n",
    "- `decode/encode`：解编码\n",
    "- `expandtabs`：tab会被替换成一个或多个空格\n",
    "- `join`：拼接\n",
    "- `lower/upper`：大小写\n",
    "- `swapcase`：大小写互换\n",
    "- `lstrip/rstrip/strip`：strip\n",
    "- `replace`：替换\n",
    "- `translate`：转换\n",
    "- `partition/rpatition`：分为三元组（左/右）\n",
    "- `split/splitlines`：切分"
   ]
  },
  {
   "cell_type": "code",
   "execution_count": 666,
   "id": "49eaec18",
   "metadata": {},
   "outputs": [
    {
     "data": {
      "text/plain": [
       "array('Ab b c', dtype='<U6')"
      ]
     },
     "execution_count": 666,
     "metadata": {},
     "output_type": "execute_result"
    }
   ],
   "source": [
    "# 首字母大写\n",
    "np.char.capitalize(\"ab b c\")"
   ]
  },
  {
   "cell_type": "code",
   "execution_count": 667,
   "id": "81848f65",
   "metadata": {},
   "outputs": [
    {
     "data": {
      "text/plain": [
       "array('Ab B C', dtype='<U6')"
      ]
     },
     "execution_count": 667,
     "metadata": {},
     "output_type": "execute_result"
    }
   ],
   "source": [
    "# 标题大写\n",
    "np.char.title(\"ab b c\")"
   ]
  },
  {
   "cell_type": "code",
   "execution_count": 687,
   "id": "6a1e780b",
   "metadata": {},
   "outputs": [
    {
     "data": {
      "text/plain": [
       "(array('~~ab~', dtype='<U5'),\n",
       " array('a~~~~', dtype='<U5'),\n",
       " array('~~~~a', dtype='<U5'),\n",
       " array('00000a', dtype='<U6'))"
      ]
     },
     "execution_count": 687,
     "metadata": {},
     "output_type": "execute_result"
    }
   ],
   "source": [
    "# 给定长度居中\n",
    "(np.char.center(\"ab\", 5, \"~\"), \n",
    " np.char.ljust(\"a\", 5, \"~\"), \n",
    " np.char.rjust(\"a\", 5, \"~\"),\n",
    " np.char.zfill(\"a\", 6)\n",
    ")"
   ]
  },
  {
   "cell_type": "code",
   "execution_count": 644,
   "id": "016952b1",
   "metadata": {},
   "outputs": [
    {
     "data": {
      "text/plain": [
       "array(b'abc', dtype='|S3')"
      ]
     },
     "execution_count": 644,
     "metadata": {},
     "output_type": "execute_result"
    }
   ],
   "source": [
    "# 编解码\n",
    "np.char.encode(\"abc\", encoding=\"utf8\")"
   ]
  },
  {
   "cell_type": "code",
   "execution_count": 651,
   "id": "1889cc0c",
   "metadata": {},
   "outputs": [
    {
     "data": {
      "text/plain": [
       "array(' a', dtype='<U2')"
      ]
     },
     "execution_count": 651,
     "metadata": {},
     "output_type": "execute_result"
    }
   ],
   "source": [
    "# 替换tab\n",
    "val = np.char.expandtabs(\"\\ta\", tabsize=1)\n",
    "val"
   ]
  },
  {
   "cell_type": "code",
   "execution_count": 658,
   "id": "1fc63422",
   "metadata": {},
   "outputs": [
    {
     "data": {
      "text/plain": [
       "(' a', True)"
      ]
     },
     "execution_count": 658,
     "metadata": {},
     "output_type": "execute_result"
    }
   ],
   "source": [
    "val.tolist(), val.tolist()[0] == \" \""
   ]
  },
  {
   "cell_type": "code",
   "execution_count": 704,
   "id": "86b52f6b",
   "metadata": {},
   "outputs": [
    {
     "data": {
      "text/plain": [
       "array('1a2a3a4a5', dtype='<U9')"
      ]
     },
     "execution_count": 704,
     "metadata": {},
     "output_type": "execute_result"
    }
   ],
   "source": [
    "# 拼接\n",
    "np.char.join(\"a\", \"12345\")"
   ]
  },
  {
   "cell_type": "code",
   "execution_count": 709,
   "id": "5a3ce603",
   "metadata": {},
   "outputs": [
    {
     "data": {
      "text/plain": [
       "(array(['a'], dtype='<U1'), array('A', dtype='<U1'))"
      ]
     },
     "execution_count": 709,
     "metadata": {},
     "output_type": "execute_result"
    }
   ],
   "source": [
    "# 大小写\n",
    "np.char.lower(np.array([\"A\"],dtype=np.str_)), np.char.upper(\"a\")"
   ]
  },
  {
   "cell_type": "code",
   "execution_count": 741,
   "id": "5a3102ca",
   "metadata": {},
   "outputs": [
    {
     "data": {
      "text/plain": [
       "array('AbC', dtype='<U3')"
      ]
     },
     "execution_count": 741,
     "metadata": {},
     "output_type": "execute_result"
    }
   ],
   "source": [
    "# 互换\n",
    "np.char.swapcase(\"aBc\")"
   ]
  },
  {
   "cell_type": "code",
   "execution_count": 715,
   "id": "a6295d76",
   "metadata": {},
   "outputs": [
    {
     "data": {
      "text/plain": [
       "(array('abc', dtype='<U4'), array('ab', dtype='<U3'))"
      ]
     },
     "execution_count": 715,
     "metadata": {},
     "output_type": "execute_result"
    }
   ],
   "source": [
    "# strip\n",
    "np.char.strip(\"abc \"), np.char.strip(\"abc\", \"c\")"
   ]
  },
  {
   "cell_type": "code",
   "execution_count": 723,
   "id": "82d67708",
   "metadata": {},
   "outputs": [
    {
     "data": {
      "text/plain": [
       "array('AAabc', dtype='<U5')"
      ]
     },
     "execution_count": 723,
     "metadata": {},
     "output_type": "execute_result"
    }
   ],
   "source": [
    "# replace\n",
    "np.char.replace(\"aaabc\", \"a\", \"A\", count=2)"
   ]
  },
  {
   "cell_type": "code",
   "execution_count": 824,
   "id": "1850ddc2",
   "metadata": {},
   "outputs": [
    {
     "data": {
      "text/plain": [
       "array(['111', '1'], dtype='<U3')"
      ]
     },
     "execution_count": 824,
     "metadata": {},
     "output_type": "execute_result"
    }
   ],
   "source": [
    "# 转换\n",
    "np.char.translate([\"abc\", \"a\"],  \"1\"*255, deletechars=None)"
   ]
  },
  {
   "cell_type": "code",
   "execution_count": 831,
   "id": "b21c27e0",
   "metadata": {},
   "outputs": [
    {
     "data": {
      "text/plain": [
       "array([b'11', b''], dtype='|S3')"
      ]
     },
     "execution_count": 831,
     "metadata": {},
     "output_type": "execute_result"
    }
   ],
   "source": [
    "# 非unicode时才会删除\n",
    "np.char.translate(\n",
    "    np.array([\"abc\", \"a\"], dtype=np.bytes_), b\"1\"*256, deletechars=b\"a\")"
   ]
  },
  {
   "cell_type": "code",
   "execution_count": 738,
   "id": "bf364cd9",
   "metadata": {},
   "outputs": [
    {
     "data": {
      "text/plain": [
       "(array(['a', 'b', 'c'], dtype='<U1'),\n",
       " array(['a', 'b', 'c'], dtype='<U1'),\n",
       " array(['', 'a', 'bca'], dtype='<U3'),\n",
       " array(['abc', 'a', ''], dtype='<U3'))"
      ]
     },
     "execution_count": 738,
     "metadata": {},
     "output_type": "execute_result"
    }
   ],
   "source": [
    "# partition\n",
    "(\n",
    "    np.char.partition(\"abc\", \"b\"), \n",
    "    np.char.rpartition(\"abc\", \"b\"),\n",
    "    np.char.partition(\"abca\", \"a\"),\n",
    "    np.char.rpartition(\"abca\", \"a\")\n",
    ")"
   ]
  },
  {
   "cell_type": "code",
   "execution_count": 841,
   "id": "e571d919",
   "metadata": {},
   "outputs": [
    {
     "data": {
      "text/plain": [
       "(array(list(['a', 'b', 'c']), dtype=object),\n",
       " array(list(['a', 'b', 'c']), dtype=object))"
      ]
     },
     "execution_count": 841,
     "metadata": {},
     "output_type": "execute_result"
    }
   ],
   "source": [
    "# split\n",
    "np.char.split(\"a b c\", \" \"), np.char.splitlines(\"a\\nb\\nc\")"
   ]
  },
  {
   "cell_type": "markdown",
   "id": "4c67122e",
   "metadata": {},
   "source": [
    "### 比较\n",
    "\n",
    "主要比较字符串大小相等。"
   ]
  },
  {
   "cell_type": "code",
   "execution_count": 867,
   "id": "8a1834d4",
   "metadata": {},
   "outputs": [
    {
     "data": {
      "text/plain": [
       "array([False,  True])"
      ]
     },
     "execution_count": 867,
     "metadata": {},
     "output_type": "execute_result"
    }
   ],
   "source": [
    "np.char.equal([\"abc\", \"ab\"], [\"abd\", \"ab\"])"
   ]
  },
  {
   "cell_type": "code",
   "execution_count": 868,
   "id": "53f0bf25",
   "metadata": {},
   "outputs": [
    {
     "data": {
      "text/plain": [
       "array([ True, False])"
      ]
     },
     "execution_count": 868,
     "metadata": {},
     "output_type": "execute_result"
    }
   ],
   "source": [
    "np.char.not_equal([\"abc\", \"ab\"], [\"abd\", \"ab\"])"
   ]
  },
  {
   "cell_type": "code",
   "execution_count": 880,
   "id": "a2554529",
   "metadata": {},
   "outputs": [
    {
     "data": {
      "text/plain": [
       "(array([False,  True]), False)"
      ]
     },
     "execution_count": 880,
     "metadata": {},
     "output_type": "execute_result"
    }
   ],
   "source": [
    "# >=\n",
    "np.char.greater_equal([\"abc\", \"ab\"], [\"abd\", \"ab\"]), \"abc\">\"abd\""
   ]
  },
  {
   "cell_type": "code",
   "execution_count": 881,
   "id": "2ee8d6a9",
   "metadata": {},
   "outputs": [
    {
     "data": {
      "text/plain": [
       "array([False, False])"
      ]
     },
     "execution_count": 881,
     "metadata": {},
     "output_type": "execute_result"
    }
   ],
   "source": [
    "np.char.greater([\"abc\", \"ab\"], [\"abd\", \"ab\"])"
   ]
  },
  {
   "cell_type": "code",
   "execution_count": 882,
   "id": "f76bc7de",
   "metadata": {},
   "outputs": [
    {
     "data": {
      "text/plain": [
       "array([ True,  True])"
      ]
     },
     "execution_count": 882,
     "metadata": {},
     "output_type": "execute_result"
    }
   ],
   "source": [
    "# <=\n",
    "np.char.less_equal([\"abc\", \"ab\"], [\"abd\", \"ab\"])"
   ]
  },
  {
   "cell_type": "code",
   "execution_count": 883,
   "id": "b2dbafce",
   "metadata": {},
   "outputs": [
    {
     "data": {
      "text/plain": [
       "array([ True, False])"
      ]
     },
     "execution_count": 883,
     "metadata": {},
     "output_type": "execute_result"
    }
   ],
   "source": [
    "np.char.less([\"abc\", \"ab\"], [\"abd\", \"ab\"])"
   ]
  },
  {
   "cell_type": "code",
   "execution_count": 890,
   "id": "b2fdfd0b",
   "metadata": {},
   "outputs": [
    {
     "data": {
      "text/plain": [
       "array([False,  True,  True])"
      ]
     },
     "execution_count": 890,
     "metadata": {},
     "output_type": "execute_result"
    }
   ],
   "source": [
    "# 比较\n",
    "# cmp可以取 < <= == >= > !=\n",
    "np.char.compare_chararrays(\n",
    "    [\"abc\", \"ab\", \"a\"],\n",
    "    [\"ab\", \"ad\", \"ae\"],\n",
    "    cmp=\"<\",\n",
    "    rstrip=True\n",
    ")"
   ]
  },
  {
   "cell_type": "markdown",
   "id": "f04883b7",
   "metadata": {},
   "source": [
    "### 基本信息\n",
    "\n",
    "包括基本的判断和统计。"
   ]
  },
  {
   "cell_type": "code",
   "execution_count": 962,
   "id": "3b5bcba0",
   "metadata": {},
   "outputs": [
    {
     "data": {
      "text/plain": [
       "array(2)"
      ]
     },
     "execution_count": 962,
     "metadata": {},
     "output_type": "execute_result"
    }
   ],
   "source": [
    "np.char.count(\"abcab\", \"a\", start=0, end=None)"
   ]
  },
  {
   "cell_type": "code",
   "execution_count": 964,
   "id": "e3ca9206",
   "metadata": {},
   "outputs": [
    {
     "data": {
      "text/plain": [
       "array([5, 1])"
      ]
     },
     "execution_count": 964,
     "metadata": {},
     "output_type": "execute_result"
    }
   ],
   "source": [
    "np.char.str_len([\"abcab\", \"a\"])"
   ]
  },
  {
   "cell_type": "code",
   "execution_count": 959,
   "id": "c252c1d6",
   "metadata": {},
   "outputs": [
    {
     "data": {
      "text/plain": [
       "(array(0), array(3))"
      ]
     },
     "execution_count": 959,
     "metadata": {},
     "output_type": "execute_result"
    }
   ],
   "source": [
    "(\n",
    "    np.char.find(\"abcab\", \"a\", start=0, end=None),\n",
    "    np.char.rfind(\"abcab\", \"a\", start=0, end=None)\n",
    ")"
   ]
  },
  {
   "cell_type": "code",
   "execution_count": 906,
   "id": "3c2237d5",
   "metadata": {},
   "outputs": [
    {
     "data": {
      "text/plain": [
       "array(-1)"
      ]
     },
     "execution_count": 906,
     "metadata": {},
     "output_type": "execute_result"
    }
   ],
   "source": [
    "# 找不到返回-1\n",
    "np.char.find(\"abcab\", \"d\", start=2, end=None)"
   ]
  },
  {
   "cell_type": "code",
   "execution_count": 961,
   "id": "b55eece8",
   "metadata": {},
   "outputs": [
    {
     "data": {
      "text/plain": [
       "(array(0), array(3))"
      ]
     },
     "execution_count": 961,
     "metadata": {},
     "output_type": "execute_result"
    }
   ],
   "source": [
    "(\n",
    "    np.char.index(\"abcab\", \"a\", start=0),\n",
    "    np.char.rindex(\"abcab\", \"a\", start=0)\n",
    ")"
   ]
  },
  {
   "cell_type": "code",
   "execution_count": 908,
   "id": "e6f521e0",
   "metadata": {},
   "outputs": [
    {
     "ename": "ValueError",
     "evalue": "substring not found",
     "output_type": "error",
     "traceback": [
      "\u001b[0;31m---------------------------------------------------------------------------\u001b[0m",
      "\u001b[0;31mValueError\u001b[0m                                Traceback (most recent call last)",
      "\u001b[0;32m<ipython-input-908-6904110ea61f>\u001b[0m in \u001b[0;36m<module>\u001b[0;34m\u001b[0m\n\u001b[1;32m      1\u001b[0m \u001b[0;31m# 找不到抛出异常\u001b[0m\u001b[0;34m\u001b[0m\u001b[0;34m\u001b[0m\u001b[0;34m\u001b[0m\u001b[0m\n\u001b[0;32m----> 2\u001b[0;31m \u001b[0mnp\u001b[0m\u001b[0;34m.\u001b[0m\u001b[0mchar\u001b[0m\u001b[0;34m.\u001b[0m\u001b[0mindex\u001b[0m\u001b[0;34m(\u001b[0m\u001b[0;34m\"abcab\"\u001b[0m\u001b[0;34m,\u001b[0m \u001b[0;34m\"d\"\u001b[0m\u001b[0;34m,\u001b[0m \u001b[0mstart\u001b[0m\u001b[0;34m=\u001b[0m\u001b[0;36m2\u001b[0m\u001b[0;34m)\u001b[0m\u001b[0;34m\u001b[0m\u001b[0;34m\u001b[0m\u001b[0m\n\u001b[0m",
      "\u001b[0;32m/usr/local/lib/python3.8/site-packages/numpy/core/overrides.py\u001b[0m in \u001b[0;36mindex\u001b[0;34m(*args, **kwargs)\u001b[0m\n",
      "\u001b[0;32m/usr/local/lib/python3.8/site-packages/numpy/core/defchararray.py\u001b[0m in \u001b[0;36mindex\u001b[0;34m(a, sub, start, end)\u001b[0m\n\u001b[1;32m    742\u001b[0m \u001b[0;34m\u001b[0m\u001b[0m\n\u001b[1;32m    743\u001b[0m     \"\"\"\n\u001b[0;32m--> 744\u001b[0;31m     return _vec_string(\n\u001b[0m\u001b[1;32m    745\u001b[0m         a, int_, 'index', [sub, start] + _clean_args(end))\n\u001b[1;32m    746\u001b[0m \u001b[0;34m\u001b[0m\u001b[0m\n",
      "\u001b[0;31mValueError\u001b[0m: substring not found"
     ]
    }
   ],
   "source": [
    "# 找不到抛出异常\n",
    "np.char.index(\"abcab\", \"d\", start=2)"
   ]
  },
  {
   "cell_type": "code",
   "execution_count": 955,
   "id": "edd32d6f",
   "metadata": {},
   "outputs": [
    {
     "data": {
      "text/plain": [
       "(array([ True, False]), array([False,  True]))"
      ]
     },
     "execution_count": 955,
     "metadata": {},
     "output_type": "execute_result"
    }
   ],
   "source": [
    "# starts/ends\n",
    "(\n",
    "    np.char.endswith([\"a\", \"ba\"], \"a\", start=0, end=1),\n",
    "    np.char.startswith([\"a\", \"ba\"], \"a\", start=1, end=3)\n",
    ")"
   ]
  },
  {
   "cell_type": "code",
   "execution_count": 952,
   "id": "c3f35eb3",
   "metadata": {},
   "outputs": [
    {
     "data": {
      "text/plain": [
       "array([ True, False])"
      ]
     },
     "execution_count": 952,
     "metadata": {},
     "output_type": "execute_result"
    }
   ],
   "source": [
    "# 只有空格\n",
    "np.char.isspace([\"   \\t\\n\", \"a\"])"
   ]
  },
  {
   "cell_type": "code",
   "execution_count": 951,
   "id": "bf5d51e2",
   "metadata": {},
   "outputs": [
    {
     "data": {
      "text/plain": [
       "(array([ True, False]),\n",
       " array([False, False,  True]),\n",
       " array([ True, False, False]))"
      ]
     },
     "execution_count": 951,
     "metadata": {},
     "output_type": "execute_result"
    }
   ],
   "source": [
    "# 所有字符小/大写，首字母大写\n",
    "(\n",
    "    np.char.islower([\"a\", \"Ab\"]), \n",
    "    np.char.isupper([\"a\", \"Ab\", \"AB\"]),\n",
    "    np.char.istitle([\"Aa\", \"aB\", \"AB\"])\n",
    ")"
   ]
  },
  {
   "cell_type": "code",
   "execution_count": 979,
   "id": "d212936d",
   "metadata": {},
   "outputs": [
    {
     "data": {
      "text/plain": [
       "(array([ True, False, False, False, False, False, False, False]),\n",
       " array([ True,  True,  True,  True,  True,  True, False, False]),\n",
       " '',\n",
       " array([False,  True,  True,  True, False, False, False, False]),\n",
       " array([False,  True,  True,  True,  True, False, False, False]),\n",
       " array([False,  True,  True,  True,  True, False, False, False]))"
      ]
     },
     "execution_count": 979,
     "metadata": {},
     "output_type": "execute_result"
    }
   ],
   "source": [
    "# 判断\n",
    "lst = [\"a\", \"1\", \"01\", \"０３\", \"⒊⒏\", \"a1\", \"1.1\", \"\"]\n",
    "(\n",
    "    # 每个元素的所有字符都为字母，至少一个字符\n",
    "    np.char.isalpha(lst),\n",
    "    # 同上，字母或数字\n",
    "    np.char.isalnum(lst),\n",
    "    \"\",\n",
    "    # 只有decimal（小数点不算）\n",
    "    np.char.isdecimal(lst),\n",
    "    # 只有digit\n",
    "    np.char.isdigit(lst),\n",
    "    # 只有numeric\n",
    "    np.char.isnumeric(lst)\n",
    ")"
   ]
  },
  {
   "cell_type": "markdown",
   "id": "b822ce84",
   "metadata": {},
   "source": [
    "关于decimal、digit和numeric的区别可参考：\n",
    "\n",
    "- [string - What's the difference between str.isdigit, isnumeric and isdecimal in python? - Stack Overflow](https://stackoverflow.com/questions/44891070/whats-the-difference-between-str-isdigit-isnumeric-and-isdecimal-in-python)\n",
    "\n",
    "它们的主要区别在处理unicode的方式上。"
   ]
  },
  {
   "cell_type": "markdown",
   "id": "af71f006",
   "metadata": {},
   "source": [
    "## 小结"
   ]
  },
  {
   "cell_type": "markdown",
   "id": "1a0b50de",
   "metadata": {},
   "source": [
    "## 参考\n",
    "\n",
    "- [NumPy documentation — NumPy v1.23.dev0 Manual](https://numpy.org/devdocs/index.html)\n",
    "- [python - Memory growth with broadcast operations in NumPy - Stack Overflow](https://stackoverflow.com/questions/31536504/memory-growth-with-broadcast-operations-in-numpy)"
   ]
  },
  {
   "cell_type": "code",
   "execution_count": null,
   "id": "789f8668",
   "metadata": {},
   "outputs": [],
   "source": []
  }
 ],
 "metadata": {
  "kernelspec": {
   "display_name": "Python 3",
   "language": "python",
   "name": "python3"
  },
  "language_info": {
   "codemirror_mode": {
    "name": "ipython",
    "version": 3
   },
   "file_extension": ".py",
   "mimetype": "text/x-python",
   "name": "python",
   "nbconvert_exporter": "python",
   "pygments_lexer": "ipython3",
   "version": "3.8.13"
  },
  "latex_envs": {
   "LaTeX_envs_menu_present": true,
   "autoclose": false,
   "autocomplete": true,
   "bibliofile": "biblio.bib",
   "cite_by": "apalike",
   "current_citInitial": 1,
   "eqLabelWithNumbers": true,
   "eqNumInitial": 1,
   "hotkeys": {
    "equation": "Ctrl-E",
    "itemize": "Ctrl-I"
   },
   "labels_anchors": false,
   "latex_user_defs": false,
   "report_style_numbering": false,
   "user_envs_cfg": false
  },
  "toc": {
   "base_numbering": 1,
   "nav_menu": {},
   "number_sections": true,
   "sideBar": true,
   "skip_h1_title": false,
   "title_cell": "Table of Contents",
   "title_sidebar": "Contents",
   "toc_cell": true,
   "toc_position": {
    "height": "calc(100% - 180px)",
    "left": "10px",
    "top": "150px",
    "width": "165px"
   },
   "toc_section_display": true,
   "toc_window_display": true
  }
 },
 "nbformat": 4,
 "nbformat_minor": 5
}
