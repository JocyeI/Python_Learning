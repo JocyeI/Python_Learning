{
 "cells": [
  {
   "cell_type": "markdown",
   "id": "ba8884cc",
   "metadata": {
    "toc": true
   },
   "source": [
    "<h1>Table of Contents<span class=\"tocSkip\"></span></h1>\n",
    "<div class=\"toc\"><ul class=\"toc-item\"><li><span><a href=\"#数组乘法\" data-toc-modified-id=\"数组乘法-1\"><span class=\"toc-item-num\">1&nbsp;&nbsp;</span>数组乘法 </a></span><ul class=\"toc-item\"><li><span><a href=\"#点积/内积/数量积/标量积\" data-toc-modified-id=\"点积/内积/数量积/标量积-1.1\"><span class=\"toc-item-num\">1.1&nbsp;&nbsp;</span>点积/内积/数量积/标量积</a></span></li><li><span><a href=\"#叉积/外积/向量积\" data-toc-modified-id=\"叉积/外积/向量积-1.2\"><span class=\"toc-item-num\">1.2&nbsp;&nbsp;</span>叉积 / 外积 / 向量积 </a></span></li><li><span><a href=\"#张量积/外积\" data-toc-modified-id=\"张量积/外积-1.3\"><span class=\"toc-item-num\">1.3&nbsp;&nbsp;</span>张量积 / 外积 </a></span></li><li><span><a href=\"#矩阵乘法\" data-toc-modified-id=\"矩阵乘法-1.4\"><span class=\"toc-item-num\">1.4&nbsp;&nbsp;</span>矩阵乘法 </a></span></li><li><span><a href=\"#克罗内克积\" data-toc-modified-id=\"克罗内克积-1.5\"><span class=\"toc-item-num\">1.5&nbsp;&nbsp;</span>克罗内克积 </a></span></li><li><span><a href=\"#多矩阵乘法\" data-toc-modified-id=\"多矩阵乘法-1.6\"><span class=\"toc-item-num\">1.6&nbsp;&nbsp;</span>多矩阵乘法 </a></span></li></ul></li><li><span><a href=\"#基础概念\" data-toc-modified-id=\"基础概念-2\"><span class=\"toc-item-num\">2&nbsp;&nbsp;</span>基础概念 </a></span><ul class=\"toc-item\"><li><span><a href=\"#范数\" data-toc-modified-id=\"范数-2.1\"><span class=\"toc-item-num\">2.1&nbsp;&nbsp;</span>范数 </a></span></li><li><span><a href=\"#行列式、迹\" data-toc-modified-id=\"行列式、迹-2.2\"><span class=\"toc-item-num\">2.2&nbsp;&nbsp;</span>行列式、迹 </a></span></li><li><span><a href=\"#特征值\" data-toc-modified-id=\"特征值-2.3\"><span class=\"toc-item-num\">2.3&nbsp;&nbsp;</span>特征值 </a></span></li></ul></li><li><span><a href=\"#矩阵运算\" data-toc-modified-id=\"矩阵运算-3\"><span class=\"toc-item-num\">3&nbsp;&nbsp;</span>矩阵运算 </a></span><ul class=\"toc-item\"><li><span><a href=\"#矩阵求解\" data-toc-modified-id=\"矩阵求解-3.1\"><span class=\"toc-item-num\">3.1&nbsp;&nbsp;</span>矩阵求解 </a></span></li><li><span><a href=\"#逆矩阵\" data-toc-modified-id=\"逆矩阵-3.2\"><span class=\"toc-item-num\">3.2&nbsp;&nbsp;</span>逆矩阵 </a></span></li><li><span><a href=\"#矩阵分解\" data-toc-modified-id=\"矩阵分解-3.3\"><span class=\"toc-item-num\">3.3&nbsp;&nbsp;</span>矩阵分解 </a></span></li></ul></li><li><span><a href=\"#Einsum\" data-toc-modified-id=\"Einsum-4\"><span class=\"toc-item-num\">4&nbsp;&nbsp;</span>Einsum</a></span></li><li><span><a href=\"#Padding\" data-toc-modified-id=\"Padding-5\"><span class=\"toc-item-num\">5&nbsp;&nbsp;</span>Padding</a></span></li><li><span><a href=\"#卷积\" data-toc-modified-id=\"卷积-6\"><span class=\"toc-item-num\">6&nbsp;&nbsp;</span>卷积 </a></span></li><li><span><a href=\"#掩码运算\" data-toc-modified-id=\"掩码运算-7\"><span class=\"toc-item-num\">7&nbsp;&nbsp;</span>掩码运算 </a></span><ul class=\"toc-item\"><li><span><a href=\"#简介\" data-toc-modified-id=\"简介-7.1\"><span class=\"toc-item-num\">7.1&nbsp;&nbsp;</span>简介 </a></span></li><li><span><a href=\"#创建\" data-toc-modified-id=\"创建-7.2\"><span class=\"toc-item-num\">7.2&nbsp;&nbsp;</span>创建 </a></span></li><li><span><a href=\"#获取\" data-toc-modified-id=\"获取-7.3\"><span class=\"toc-item-num\">7.3&nbsp;&nbsp;</span>获取 </a></span></li><li><span><a href=\"#修改\" data-toc-modified-id=\"修改-7.4\"><span class=\"toc-item-num\">7.4&nbsp;&nbsp;</span>修改 </a></span></li><li><span><a href=\"#索引切片\" data-toc-modified-id=\"索引切片-7.5\"><span class=\"toc-item-num\">7.5&nbsp;&nbsp;</span>索引切片 </a></span></li><li><span><a href=\"#代数运算\" data-toc-modified-id=\"代数运算-7.6\"><span class=\"toc-item-num\">7.6&nbsp;&nbsp;</span>代数运算 </a></span></li><li><span><a href=\"#使用案例\" data-toc-modified-id=\"使用案例-7.7\"><span class=\"toc-item-num\">7.7&nbsp;&nbsp;</span>使用案例 </a></span></li></ul></li><li><span><a href=\"#小结\" data-toc-modified-id=\"小结-8\"><span class=\"toc-item-num\">8&nbsp;&nbsp;</span>小结 </a></span></li><li><span><a href=\"#参考\" data-toc-modified-id=\"参考-9\"><span class=\"toc-item-num\">9&nbsp;&nbsp;</span>参考 </a></span></li></ul></div>"
   ]
  },
  {
   "cell_type": "code",
   "execution_count": 1517,
   "id": "7841c98b",
   "metadata": {},
   "outputs": [
    {
     "data": {
      "text/plain": [
       "'1.22.3'"
      ]
     },
     "execution_count": 1517,
     "metadata": {},
     "output_type": "execute_result"
    }
   ],
   "source": [
    "import numpy as np\n",
    "np.__version__"
   ]
  },
  {
   "cell_type": "markdown",
   "id": "faadcbfc",
   "metadata": {},
   "source": [
    "文档阅读说明：\n",
    "\n",
    "- 🐧 表示 Tip\n",
    "- ⚠️ 表示注意事项"
   ]
  },
  {
   "cell_type": "markdown",
   "id": "095f649a",
   "metadata": {},
   "source": [
    "## 数组乘法"
   ]
  },
  {
   "cell_type": "markdown",
   "id": "42647681",
   "metadata": {},
   "source": [
    "注意：不要太关注它们叫什么，看看它们做了什么。"
   ]
  },
  {
   "cell_type": "markdown",
   "id": "a484e488",
   "metadata": {},
   "source": [
    "### 点积/内积/数量积/标量积\n",
    "\n",
    "**点积**\n",
    "\n",
    "`np.dot`:\n",
    "\n",
    "- 如果 a 和 b 是一维的，就是内积 `np.inner`\n",
    "- 如果 a 和 b 是二维的，是矩阵乘法 `np.matmul or a @ b`\n",
    "- 如果 a 或 b 任意一个是常量 `np.multiply or a * b`\n",
    "- 如果 a 是 N 维，b 是一维 `sum product`\n",
    "- 如果 a 是 N 维，b 是 M 维 `dot(a, b)[i,j,k,m] = sum(a[i,j,:] * b[k,:,m])`\n",
    "\n",
    "`np.vdot`: 多维输入会被flatten后计算点积。另外在计算复数时与`np.dot`有所不同。\n",
    "\n",
    "\n",
    "\n",
    "**内积**\n",
    "\n",
    "`np.inner`: 一维数组向量的普通内积（无复数共轭），在更高维度上，是最后一个轴上的sum product。\n",
    "\n",
    "- 对一维数组，就是元素乘积之和 `sum(a * b)\n",
    "- 如果有一个是标量，那就是直接相乘\n",
    "- 对多维数组，等于 `np.tensordot(a, b, axes=(-1, -1))`，对于某个具体的索引，就是相乘后在最后一个维度上求和 `inner(a, b)[i0,...,ir-2,j0,...,js-2] = sum(a[i0,...,ir-2,:]*b[j0,...,js-2,:])`\n",
    "\n",
    "[数量积 - 维基百科，自由的百科全书](https://zh.wikipedia.org/wiki/%E7%82%B9%E7%A7%AF)"
   ]
  },
  {
   "cell_type": "markdown",
   "id": "241d147c",
   "metadata": {},
   "source": [
    "a和b都是一维："
   ]
  },
  {
   "cell_type": "code",
   "execution_count": 912,
   "id": "dfa694ac",
   "metadata": {},
   "outputs": [],
   "source": [
    "a = np.array([1, 2, 4])\n",
    "b = np.array([4, 5, 6])"
   ]
  },
  {
   "cell_type": "code",
   "execution_count": 913,
   "id": "031e214f",
   "metadata": {
    "scrolled": false
   },
   "outputs": [
    {
     "data": {
      "text/plain": [
       "(38, 38, 38, 38)"
      ]
     },
     "execution_count": 913,
     "metadata": {},
     "output_type": "execute_result"
    }
   ],
   "source": [
    "np.dot(a, b), 1*4 + 2*5 + 4*6, np.inner(a, b), sum(a * b)"
   ]
  },
  {
   "cell_type": "code",
   "execution_count": 914,
   "id": "135e766f",
   "metadata": {},
   "outputs": [
    {
     "data": {
      "text/plain": [
       "38"
      ]
     },
     "execution_count": 914,
     "metadata": {},
     "output_type": "execute_result"
    }
   ],
   "source": [
    "np.vdot(a,b)"
   ]
  },
  {
   "cell_type": "markdown",
   "id": "438ae4fd",
   "metadata": {},
   "source": [
    "a和b都是二维："
   ]
  },
  {
   "cell_type": "code",
   "execution_count": 915,
   "id": "d02b8960",
   "metadata": {},
   "outputs": [],
   "source": [
    "rng = np.random.default_rng(42)\n",
    "a = rng.integers(0, 10, (3, 4))\n",
    "b = rng.integers(0, 10, (3, 4))"
   ]
  },
  {
   "cell_type": "code",
   "execution_count": 916,
   "id": "fdb394a8",
   "metadata": {},
   "outputs": [
    {
     "data": {
      "text/plain": [
       "array([[119,  71,  63],\n",
       "       [126,  52,  98],\n",
       "       [112,  86,  96]])"
      ]
     },
     "execution_count": 916,
     "metadata": {},
     "output_type": "execute_result"
    }
   ],
   "source": [
    "np.inner(a, b)"
   ]
  },
  {
   "cell_type": "code",
   "execution_count": 917,
   "id": "6e96a9d7",
   "metadata": {},
   "outputs": [
    {
     "data": {
      "text/plain": [
       "array([[119,  71,  63],\n",
       "       [126,  52,  98],\n",
       "       [112,  86,  96]])"
      ]
     },
     "execution_count": 917,
     "metadata": {},
     "output_type": "execute_result"
    }
   ],
   "source": [
    "np.tensordot(a, b, axes=(-1, -1))"
   ]
  },
  {
   "cell_type": "code",
   "execution_count": 918,
   "id": "59a30a5a",
   "metadata": {},
   "outputs": [
    {
     "data": {
      "text/plain": [
       "array([[119,  71,  63],\n",
       "       [126,  52,  98],\n",
       "       [112,  86,  96]])"
      ]
     },
     "execution_count": 918,
     "metadata": {},
     "output_type": "execute_result"
    }
   ],
   "source": [
    "a @ b.T"
   ]
  },
  {
   "cell_type": "code",
   "execution_count": 919,
   "id": "c22b254b",
   "metadata": {},
   "outputs": [
    {
     "data": {
      "text/plain": [
       "array([[119,  71,  63],\n",
       "       [126,  52,  98],\n",
       "       [112,  86,  96]])"
      ]
     },
     "execution_count": 919,
     "metadata": {},
     "output_type": "execute_result"
    }
   ],
   "source": [
    "np.matmul(a, b.T)"
   ]
  },
  {
   "cell_type": "code",
   "execution_count": 921,
   "id": "2bad90cc",
   "metadata": {},
   "outputs": [
    {
     "data": {
      "text/plain": [
       "(267, 267)"
      ]
     },
     "execution_count": 921,
     "metadata": {},
     "output_type": "execute_result"
    }
   ],
   "source": [
    "np.vdot(a, b), np.dot(a.flatten(), b.flatten())"
   ]
  },
  {
   "cell_type": "markdown",
   "id": "b90bb780",
   "metadata": {},
   "source": [
    "a或b是常量："
   ]
  },
  {
   "cell_type": "code",
   "execution_count": 458,
   "id": "abffa463",
   "metadata": {},
   "outputs": [
    {
     "data": {
      "text/plain": [
       "array([[ 0, 14, 12,  8],\n",
       "       [ 8, 16,  0, 12],\n",
       "       [ 4,  0, 10, 18]])"
      ]
     },
     "execution_count": 458,
     "metadata": {},
     "output_type": "execute_result"
    }
   ],
   "source": [
    "a * 2"
   ]
  },
  {
   "cell_type": "code",
   "execution_count": 461,
   "id": "3396ca68",
   "metadata": {},
   "outputs": [
    {
     "data": {
      "text/plain": [
       "array([[ 0, 14, 12,  8],\n",
       "       [ 8, 16,  0, 12],\n",
       "       [ 4,  0, 10, 18]])"
      ]
     },
     "execution_count": 461,
     "metadata": {},
     "output_type": "execute_result"
    }
   ],
   "source": [
    "np.dot(a, 2)"
   ]
  },
  {
   "cell_type": "code",
   "execution_count": 459,
   "id": "1cafc63d",
   "metadata": {},
   "outputs": [
    {
     "data": {
      "text/plain": [
       "array([[ 0, 14, 12,  8],\n",
       "       [ 8, 16,  0, 12],\n",
       "       [ 4,  0, 10, 18]])"
      ]
     },
     "execution_count": 459,
     "metadata": {},
     "output_type": "execute_result"
    }
   ],
   "source": [
    "np.multiply(a, 2)"
   ]
  },
  {
   "cell_type": "code",
   "execution_count": 460,
   "id": "a1139a43",
   "metadata": {},
   "outputs": [
    {
     "data": {
      "text/plain": [
       "array([[ 0, 14, 12,  8],\n",
       "       [ 8, 16,  0, 12],\n",
       "       [ 4,  0, 10, 18]])"
      ]
     },
     "execution_count": 460,
     "metadata": {},
     "output_type": "execute_result"
    }
   ],
   "source": [
    "np.inner(a, 2)"
   ]
  },
  {
   "cell_type": "markdown",
   "id": "ef991908",
   "metadata": {},
   "source": [
    "a是多维b是一维："
   ]
  },
  {
   "cell_type": "code",
   "execution_count": 462,
   "id": "4b62f3eb",
   "metadata": {},
   "outputs": [],
   "source": [
    "rng = np.random.default_rng(42)\n",
    "a = rng.integers(0, 10, (2, 3, 4))\n",
    "b = np.array([1, 2, 3, 4])"
   ]
  },
  {
   "cell_type": "code",
   "execution_count": 463,
   "id": "a54b0e92",
   "metadata": {
    "scrolled": true
   },
   "outputs": [
    {
     "data": {
      "text/plain": [
       "array([[48, 44, 53],\n",
       "       [70, 47, 50]])"
      ]
     },
     "execution_count": 463,
     "metadata": {},
     "output_type": "execute_result"
    }
   ],
   "source": [
    "np.dot(a, b)"
   ]
  },
  {
   "cell_type": "code",
   "execution_count": 464,
   "id": "101cb706",
   "metadata": {},
   "outputs": [
    {
     "data": {
      "text/plain": [
       "array([[48, 44, 53],\n",
       "       [70, 47, 50]])"
      ]
     },
     "execution_count": 464,
     "metadata": {},
     "output_type": "execute_result"
    }
   ],
   "source": [
    "# 最后一个维度乘积和\n",
    "np.inner(a, b)"
   ]
  },
  {
   "cell_type": "code",
   "execution_count": 465,
   "id": "741a34af",
   "metadata": {},
   "outputs": [
    {
     "data": {
      "text/plain": [
       "array([[48, 44, 53],\n",
       "       [70, 47, 50]])"
      ]
     },
     "execution_count": 465,
     "metadata": {},
     "output_type": "execute_result"
    }
   ],
   "source": [
    "np.tensordot(a, b, axes=(-1, -1))"
   ]
  },
  {
   "cell_type": "code",
   "execution_count": 466,
   "id": "e65a5fff",
   "metadata": {},
   "outputs": [
    {
     "data": {
      "text/plain": [
       "array([[48, 44, 53],\n",
       "       [70, 47, 50]])"
      ]
     },
     "execution_count": 466,
     "metadata": {},
     "output_type": "execute_result"
    }
   ],
   "source": [
    "np.sum(a*b, axis=-1)"
   ]
  },
  {
   "cell_type": "code",
   "execution_count": 467,
   "id": "7d6744bc",
   "metadata": {},
   "outputs": [
    {
     "data": {
      "text/plain": [
       "array([[48, 44, 53],\n",
       "       [70, 47, 50]])"
      ]
     },
     "execution_count": 467,
     "metadata": {},
     "output_type": "execute_result"
    }
   ],
   "source": [
    "a @ b"
   ]
  },
  {
   "cell_type": "markdown",
   "id": "6cbd9802",
   "metadata": {},
   "source": [
    "a是m维b是n维："
   ]
  },
  {
   "cell_type": "code",
   "execution_count": 720,
   "id": "79648b2d",
   "metadata": {},
   "outputs": [],
   "source": [
    "rng = np.random.default_rng(42)\n",
    "a = rng.integers(0, 10, (2, 4, 3))\n",
    "b = rng.integers(0, 10, (2, 3, 3))"
   ]
  },
  {
   "cell_type": "code",
   "execution_count": 721,
   "id": "f9ef1e5a",
   "metadata": {
    "scrolled": true
   },
   "outputs": [
    {
     "data": {
      "text/plain": [
       "(2, 4, 2, 3)"
      ]
     },
     "execution_count": 721,
     "metadata": {},
     "output_type": "execute_result"
    }
   ],
   "source": [
    "# a 和 b 最后一个维度可以不一样，也就是最后一个维度是自由的\n",
    "dab = np.dot(a, b)\n",
    "dab.shape"
   ]
  },
  {
   "cell_type": "code",
   "execution_count": 487,
   "id": "bbbd8f75",
   "metadata": {},
   "outputs": [
    {
     "data": {
      "text/plain": [
       "(102, 102)"
      ]
     },
     "execution_count": 487,
     "metadata": {},
     "output_type": "execute_result"
    }
   ],
   "source": [
    "# dot(a, b)[i,j,k,m] = sum(a[i,j,:] * b[k,:,m])\n",
    "dab[1,2,1,0], sum(a[1,2,:] * b[1,:,0])"
   ]
  },
  {
   "cell_type": "code",
   "execution_count": 483,
   "id": "b9714dc4",
   "metadata": {},
   "outputs": [
    {
     "data": {
      "text/plain": [
       "(2, 4, 2, 3)"
      ]
     },
     "execution_count": 483,
     "metadata": {},
     "output_type": "execute_result"
    }
   ],
   "source": [
    "# a 和 b 最后一个维度必须一样\n",
    "iab = np.inner(a, b)\n",
    "iab.shape"
   ]
  },
  {
   "cell_type": "code",
   "execution_count": 489,
   "id": "131a6a3d",
   "metadata": {},
   "outputs": [
    {
     "data": {
      "text/plain": [
       "(72, 72)"
      ]
     },
     "execution_count": 489,
     "metadata": {},
     "output_type": "execute_result"
    }
   ],
   "source": [
    "# inner(a, b)[i0,...,ir-2,j0,...,js-2] = sum(a[i0,...,ir-2,:]*b[j0,...,js-2,:])\n",
    "iab[1,2,1,0], sum(a[1,2,:] * b[1,0,:])"
   ]
  },
  {
   "cell_type": "code",
   "execution_count": 442,
   "id": "7aa32d37",
   "metadata": {},
   "outputs": [
    {
     "data": {
      "text/plain": [
       "True"
      ]
     },
     "execution_count": 442,
     "metadata": {},
     "output_type": "execute_result"
    }
   ],
   "source": [
    "np.alltrue(iab == np.tensordot(a, b, axes=(-1, -1)))"
   ]
  },
  {
   "cell_type": "code",
   "execution_count": 449,
   "id": "8c436890",
   "metadata": {},
   "outputs": [
    {
     "data": {
      "text/plain": [
       "(False, False)"
      ]
     },
     "execution_count": 449,
     "metadata": {},
     "output_type": "execute_result"
    }
   ],
   "source": [
    "np.alltrue(iab == dab), np.any(iab == dab)"
   ]
  },
  {
   "cell_type": "markdown",
   "id": "da44ade0",
   "metadata": {},
   "source": [
    "### 叉积/外积/向量积\n",
    "\n",
    "\n",
    "\\begin{aligned}\\mathbf {u\\times v} &={\\begin{vmatrix}u_{2}&u_{3}\\\\v_{2}&v_{3}\\end{vmatrix}}\\mathbf {i} -{\\begin{vmatrix}u_{1}&u_{3}\\\\v_{1}&v_{3}\\end{vmatrix}}\\mathbf {j} +{\\begin{vmatrix}u_{1}&u_{2}\\\\v_{1}&v_{2}\\end{vmatrix}}\\mathbf {k} \\\\&=(u_{2}v_{3}-u_{3}v_{2})\\mathbf {i} -(u_{1}v_{3}-u_{3}v_{1})\\mathbf {j} +(u_{1}v_{2}-u_{2}v_{1})\\mathbf {k} \\end{aligned}\n",
    "\n",
    "只支持二维或三维，表示与u和v都垂直的向量。\n",
    "\n",
    "[叉积 - 维基百科，自由的百科全书](https://zh.wikipedia.org/wiki/%E5%8F%89%E7%A7%AF)"
   ]
  },
  {
   "cell_type": "code",
   "execution_count": 546,
   "id": "99d34c2d",
   "metadata": {},
   "outputs": [],
   "source": [
    "# 二维\n",
    "a = [1, 1]\n",
    "b = [-1, 1]"
   ]
  },
  {
   "cell_type": "code",
   "execution_count": 551,
   "id": "3fc2e859",
   "metadata": {},
   "outputs": [
    {
     "data": {
      "text/plain": [
       "array(2)"
      ]
     },
     "execution_count": 551,
     "metadata": {},
     "output_type": "execute_result"
    }
   ],
   "source": [
    "# 向量积在二维中不起作用，因为返回的向量在二维之外\n",
    "# 长度就是面积（根号2×根号2）\n",
    "np.cross(a, b)"
   ]
  },
  {
   "cell_type": "code",
   "execution_count": 566,
   "id": "f39303fc",
   "metadata": {},
   "outputs": [
    {
     "data": {
      "text/plain": [
       "(array([[0, 7],\n",
       "        [6, 4]]),\n",
       " array([[4, 8],\n",
       "        [0, 6]]))"
      ]
     },
     "execution_count": 566,
     "metadata": {},
     "output_type": "execute_result"
    }
   ],
   "source": [
    "# 行变多并不等于维度变多\n",
    "rng = np.random.default_rng(42)\n",
    "a = rng.integers(0, 10, (2, 2))\n",
    "b = rng.integers(0, 10, (2, 2))\n",
    "a, b"
   ]
  },
  {
   "cell_type": "code",
   "execution_count": 567,
   "id": "bd16cf95",
   "metadata": {},
   "outputs": [
    {
     "data": {
      "text/plain": [
       "array([-28,  36])"
      ]
     },
     "execution_count": 567,
     "metadata": {},
     "output_type": "execute_result"
    }
   ],
   "source": [
    "np.cross(a, b)"
   ]
  },
  {
   "cell_type": "code",
   "execution_count": 568,
   "id": "41bdec6c",
   "metadata": {},
   "outputs": [
    {
     "data": {
      "text/plain": [
       "(array(-28), array(36))"
      ]
     },
     "execution_count": 568,
     "metadata": {},
     "output_type": "execute_result"
    }
   ],
   "source": [
    "np.cross([0,7], [4,8]), np.cross([6, 4], [0, 6])"
   ]
  },
  {
   "cell_type": "code",
   "execution_count": 589,
   "id": "15b838f1",
   "metadata": {},
   "outputs": [],
   "source": [
    "# 三维\n",
    "a = [1, 2, 4]\n",
    "b = [4, 5, 6]"
   ]
  },
  {
   "cell_type": "code",
   "execution_count": 590,
   "id": "b9b5c133",
   "metadata": {},
   "outputs": [
    {
     "data": {
      "text/plain": [
       "(-8, 10, -3)"
      ]
     },
     "execution_count": 590,
     "metadata": {},
     "output_type": "execute_result"
    }
   ],
   "source": [
    "2*6-4*5, -(1*6-4*4), 1*5-2*4"
   ]
  },
  {
   "cell_type": "code",
   "execution_count": 591,
   "id": "757426b3",
   "metadata": {
    "scrolled": true
   },
   "outputs": [
    {
     "data": {
      "text/plain": [
       "array([-8, 10, -3])"
      ]
     },
     "execution_count": 591,
     "metadata": {},
     "output_type": "execute_result"
    }
   ],
   "source": [
    "# 与a和b都垂直的向量\n",
    "np.cross(a, b)"
   ]
  },
  {
   "cell_type": "markdown",
   "id": "842b7d0e",
   "metadata": {},
   "source": [
    "还有几个关于维度的三参数，用于改变数组的定义（有点类似C和F Style）。"
   ]
  },
  {
   "cell_type": "code",
   "execution_count": 596,
   "id": "549772e3",
   "metadata": {},
   "outputs": [
    {
     "data": {
      "text/plain": [
       "(array([[0, 7, 6],\n",
       "        [4, 4, 8]]),\n",
       " array([[0, 6, 2],\n",
       "        [0, 5, 9]]))"
      ]
     },
     "execution_count": 596,
     "metadata": {},
     "output_type": "execute_result"
    }
   ],
   "source": [
    "# 行变多并不等于维度变多\n",
    "rng = np.random.default_rng(42)\n",
    "a = rng.integers(0, 10, (2, 3))\n",
    "b = rng.integers(0, 10, (2, 3))\n",
    "a, b"
   ]
  },
  {
   "cell_type": "code",
   "execution_count": 600,
   "id": "bc8f61c5",
   "metadata": {},
   "outputs": [
    {
     "data": {
      "text/plain": [
       "array([[-22,   0,   0],\n",
       "       [ -4, -36,  20]])"
      ]
     },
     "execution_count": 600,
     "metadata": {},
     "output_type": "execute_result"
    }
   ],
   "source": [
    "np.cross(a, b)"
   ]
  },
  {
   "cell_type": "code",
   "execution_count": 611,
   "id": "4163ecdf",
   "metadata": {},
   "outputs": [
    {
     "data": {
      "text/plain": [
       "(array([-22,   0,   0]), array([ -4, -36,  20]))"
      ]
     },
     "execution_count": 611,
     "metadata": {},
     "output_type": "execute_result"
    }
   ],
   "source": [
    "np.cross([0,7,6], [0,6,2]), np.cross([4,4,8], [0,5,9])"
   ]
  },
  {
   "cell_type": "code",
   "execution_count": 627,
   "id": "21b0ae6c",
   "metadata": {},
   "outputs": [
    {
     "data": {
      "text/plain": [
       "array([[-22,  -4],\n",
       "       [  0, -36],\n",
       "       [  0,  20]])"
      ]
     },
     "execution_count": 627,
     "metadata": {},
     "output_type": "execute_result"
    }
   ],
   "source": [
    "np.cross(a, b, axisc=0)"
   ]
  },
  {
   "cell_type": "code",
   "execution_count": 628,
   "id": "fd1a9fb4",
   "metadata": {},
   "outputs": [
    {
     "data": {
      "text/plain": [
       "(array([[0, 4],\n",
       "        [7, 4],\n",
       "        [6, 8]]),\n",
       " array([[0, 0],\n",
       "        [6, 5],\n",
       "        [2, 9]]))"
      ]
     },
     "execution_count": 628,
     "metadata": {},
     "output_type": "execute_result"
    }
   ],
   "source": [
    "a.T,b.T"
   ]
  },
  {
   "cell_type": "code",
   "execution_count": 630,
   "id": "d557c986",
   "metadata": {},
   "outputs": [
    {
     "data": {
      "text/plain": [
       "array([ 0, 11, 38])"
      ]
     },
     "execution_count": 630,
     "metadata": {},
     "output_type": "execute_result"
    }
   ],
   "source": [
    "np.cross(a.T, b.T)"
   ]
  },
  {
   "cell_type": "code",
   "execution_count": 631,
   "id": "1f7a9006",
   "metadata": {},
   "outputs": [
    {
     "data": {
      "text/plain": [
       "array([ 0, 11, 38])"
      ]
     },
     "execution_count": 631,
     "metadata": {},
     "output_type": "execute_result"
    }
   ],
   "source": [
    "np.cross(a, b, axisa=0, axisb=0)"
   ]
  },
  {
   "cell_type": "code",
   "execution_count": 633,
   "id": "21b660bd",
   "metadata": {},
   "outputs": [
    {
     "data": {
      "text/plain": [
       "(array(0), array(11), array(38))"
      ]
     },
     "execution_count": 633,
     "metadata": {},
     "output_type": "execute_result"
    }
   ],
   "source": [
    "np.cross([0,4], [0,0]), np.cross([7,4],[6,5]), np.cross([6,8], [2,9])"
   ]
  },
  {
   "cell_type": "code",
   "execution_count": 641,
   "id": "057e0a43",
   "metadata": {},
   "outputs": [
    {
     "data": {
      "text/plain": [
       "array([ 0, 11, 38])"
      ]
     },
     "execution_count": 641,
     "metadata": {},
     "output_type": "execute_result"
    }
   ],
   "source": [
    "# 这个是实际计算时沿着的维度，和上面的不一样\n",
    "np.cross(a, b, axis=0)"
   ]
  },
  {
   "cell_type": "markdown",
   "id": "ec4ca440",
   "metadata": {},
   "source": [
    "### 张量积/外积\n",
    "\n",
    "- [张量积 - 维基百科，自由的百科全书](https://zh.wikipedia.org/wiki/%E5%BC%A0%E9%87%8F%E7%A7%AF)\n",
    "- [外积 - 维基百科，自由的百科全书](https://zh.wikipedia.org/wiki/%E5%A4%96%E7%A7%AF)"
   ]
  },
  {
   "cell_type": "code",
   "execution_count": 522,
   "id": "c823c47c",
   "metadata": {},
   "outputs": [],
   "source": [
    "a = [1, 2, 4]\n",
    "b = [4, 5, 6]"
   ]
  },
  {
   "cell_type": "code",
   "execution_count": 523,
   "id": "a25d651f",
   "metadata": {},
   "outputs": [
    {
     "data": {
      "text/plain": [
       "array([[ 4,  5,  6],\n",
       "       [ 8, 10, 12],\n",
       "       [16, 20, 24]])"
      ]
     },
     "execution_count": 523,
     "metadata": {},
     "output_type": "execute_result"
    }
   ],
   "source": [
    "np.outer(a, b)"
   ]
  },
  {
   "cell_type": "code",
   "execution_count": 524,
   "id": "de216354",
   "metadata": {},
   "outputs": [],
   "source": [
    "rng = np.random.default_rng(42)\n",
    "a = rng.integers(0, 10, (2, 3, 4))\n",
    "b = rng.integers(0, 10, (2, 3, 4))"
   ]
  },
  {
   "cell_type": "code",
   "execution_count": 525,
   "id": "a21e2d16",
   "metadata": {},
   "outputs": [
    {
     "data": {
      "text/plain": [
       "True"
      ]
     },
     "execution_count": 525,
     "metadata": {},
     "output_type": "execute_result"
    }
   ],
   "source": [
    "np.alltrue(\n",
    "    np.outer(a,b) == a.ravel().reshape(24, 1) @ b.ravel().reshape(1, 24)\n",
    ")"
   ]
  },
  {
   "cell_type": "code",
   "execution_count": 526,
   "id": "d8aa26ef",
   "metadata": {},
   "outputs": [
    {
     "data": {
      "text/plain": [
       "True"
      ]
     },
     "execution_count": 526,
     "metadata": {},
     "output_type": "execute_result"
    }
   ],
   "source": [
    "np.alltrue(np.outer(a, b) == np.tensordot(a.ravel(), b.ravel(), axes=((), ())))"
   ]
  },
  {
   "cell_type": "markdown",
   "id": "3d6ee0de",
   "metadata": {},
   "source": [
    "### 矩阵乘法\n",
    "\n",
    "`np.dot`上面已经提过了，其实还有个`np.matmul`和它很类似，但二者是有一些区别的。\n",
    "\n",
    "- `dot`不是通函数，而`matmul`是通函数，也就意味这有通函数的一些通用参数\n",
    "- `matmul`不支持向量和数字相乘\n",
    "- `matmul`矩阵（好像元素一样）堆叠在一起广播\n",
    "\n",
    "关于`np.matmul`：\n",
    "\n",
    "- 如果都是二维，就是常规的矩阵乘法\n",
    "- 如果任意个是多维（>2），则把它当成驻留在最后两个索引中的矩阵堆栈，并相应地广播\n",
    "- 如果第一个是一维，则通过在其维度前面加上 1 来将其提升为矩阵，矩阵乘法后删除前面附加的 1\n",
    "- 如果第二个是一维，则在维度上append 1，矩阵乘法后再删除后面附加的 1"
   ]
  },
  {
   "cell_type": "markdown",
   "id": "8c02410a",
   "metadata": {},
   "source": [
    "二维的情况："
   ]
  },
  {
   "cell_type": "code",
   "execution_count": 652,
   "id": "cd35c8e4",
   "metadata": {},
   "outputs": [
    {
     "data": {
      "text/plain": [
       "(array([[0, 7, 6],\n",
       "        [4, 4, 8]]),\n",
       " array([[0, 6],\n",
       "        [2, 0],\n",
       "        [5, 9]]))"
      ]
     },
     "execution_count": 652,
     "metadata": {},
     "output_type": "execute_result"
    }
   ],
   "source": [
    "rng = np.random.default_rng(42)\n",
    "a = rng.integers(0, 10, (2, 3))\n",
    "b = rng.integers(0, 10, (3, 2))\n",
    "a, b"
   ]
  },
  {
   "cell_type": "code",
   "execution_count": 653,
   "id": "a557ce47",
   "metadata": {},
   "outputs": [
    {
     "data": {
      "text/plain": [
       "array([[44, 54],\n",
       "       [48, 96]])"
      ]
     },
     "execution_count": 653,
     "metadata": {},
     "output_type": "execute_result"
    }
   ],
   "source": [
    "np.matmul(a, b)"
   ]
  },
  {
   "cell_type": "markdown",
   "id": "73bfb761",
   "metadata": {},
   "source": [
    "其中一个是一维的情况："
   ]
  },
  {
   "cell_type": "code",
   "execution_count": 655,
   "id": "07a63037",
   "metadata": {},
   "outputs": [
    {
     "data": {
      "text/plain": [
       "(array([[0, 7, 6],\n",
       "        [4, 4, 8]]),\n",
       " array([0, 6, 2]))"
      ]
     },
     "execution_count": 655,
     "metadata": {},
     "output_type": "execute_result"
    }
   ],
   "source": [
    "rng = np.random.default_rng(42)\n",
    "a = rng.integers(0, 10, (2, 3))\n",
    "b = rng.integers(0, 10, (3,))\n",
    "a, b"
   ]
  },
  {
   "cell_type": "code",
   "execution_count": 680,
   "id": "a01602c1",
   "metadata": {},
   "outputs": [
    {
     "data": {
      "text/plain": [
       "(array([54, 40]), array([54, 40]))"
      ]
     },
     "execution_count": 680,
     "metadata": {},
     "output_type": "execute_result"
    }
   ],
   "source": [
    "np.matmul(a, b), (a @ np.stack((b, [1, 1, 1]), axis=1))[:,0]"
   ]
  },
  {
   "cell_type": "code",
   "execution_count": 690,
   "id": "fcf27367",
   "metadata": {
    "scrolled": true
   },
   "outputs": [
    {
     "data": {
      "text/plain": [
       "(array([54, 40]), array([54, 40]))"
      ]
     },
     "execution_count": 690,
     "metadata": {},
     "output_type": "execute_result"
    }
   ],
   "source": [
    "np.matmul(b, a.T), (np.stack(([1, 1, 1], b), axis=0) @ a.T)[1,:]"
   ]
  },
  {
   "cell_type": "markdown",
   "id": "17b8ceb4",
   "metadata": {},
   "source": [
    "任意一个是多维："
   ]
  },
  {
   "cell_type": "code",
   "execution_count": 723,
   "id": "0916ef34",
   "metadata": {},
   "outputs": [],
   "source": [
    "rng = np.random.default_rng(42)\n",
    "a = rng.integers(0, 10, (2, 3, 4, 5))\n",
    "b = rng.integers(0, 10, (2, 3, 5, 9))"
   ]
  },
  {
   "cell_type": "code",
   "execution_count": 712,
   "id": "83d29c43",
   "metadata": {},
   "outputs": [
    {
     "data": {
      "text/plain": [
       "(2, 3, 4, 9)"
      ]
     },
     "execution_count": 712,
     "metadata": {},
     "output_type": "execute_result"
    }
   ],
   "source": [
    "np.matmul(a, b).shape"
   ]
  },
  {
   "cell_type": "code",
   "execution_count": 725,
   "id": "24117140",
   "metadata": {},
   "outputs": [
    {
     "data": {
      "text/plain": [
       "(2, 3, 4, 9)"
      ]
     },
     "execution_count": 725,
     "metadata": {},
     "output_type": "execute_result"
    }
   ],
   "source": [
    "(a @ b).shape"
   ]
  },
  {
   "cell_type": "code",
   "execution_count": 713,
   "id": "4be5524a",
   "metadata": {},
   "outputs": [
    {
     "data": {
      "text/plain": [
       "(2, 3, 4, 2, 3, 9)"
      ]
     },
     "execution_count": 713,
     "metadata": {},
     "output_type": "execute_result"
    }
   ],
   "source": [
    "np.dot(a, b).shape"
   ]
  },
  {
   "cell_type": "code",
   "execution_count": 702,
   "id": "0209a2e3",
   "metadata": {},
   "outputs": [
    {
     "data": {
      "text/plain": [
       "True"
      ]
     },
     "execution_count": 702,
     "metadata": {},
     "output_type": "execute_result"
    }
   ],
   "source": [
    "np.alltrue(np.dot(a, b) == np.matmul(a, b))"
   ]
  },
  {
   "cell_type": "markdown",
   "id": "290a564a",
   "metadata": {},
   "source": [
    "看个简单点的例子："
   ]
  },
  {
   "cell_type": "code",
   "execution_count": 728,
   "id": "a53d249d",
   "metadata": {},
   "outputs": [],
   "source": [
    "rng = np.random.default_rng(42)\n",
    "a = rng.integers(0, 10, (2, 3, 2))\n",
    "b = rng.integers(0, 10, (2, 2, 2))"
   ]
  },
  {
   "cell_type": "code",
   "execution_count": 767,
   "id": "31323f34",
   "metadata": {},
   "outputs": [
    {
     "data": {
      "text/plain": [
       "array([[[49, 49],\n",
       "        [70, 70],\n",
       "        [84, 84]],\n",
       "\n",
       "       [[48, 24],\n",
       "        [10,  2],\n",
       "        [97, 41]]])"
      ]
     },
     "execution_count": 767,
     "metadata": {},
     "output_type": "execute_result"
    }
   ],
   "source": [
    "# 2x3x2\n",
    "np.matmul(a, b)"
   ]
  },
  {
   "cell_type": "code",
   "execution_count": 739,
   "id": "fc219f66",
   "metadata": {},
   "outputs": [
    {
     "data": {
      "text/plain": [
       "array([[49, 49],\n",
       "       [70, 70],\n",
       "       [84, 84]])"
      ]
     },
     "execution_count": 739,
     "metadata": {},
     "output_type": "execute_result"
    }
   ],
   "source": [
    "a[0,:,:] @ b[0,:,:]"
   ]
  },
  {
   "cell_type": "code",
   "execution_count": 745,
   "id": "d3be2aff",
   "metadata": {},
   "outputs": [
    {
     "data": {
      "text/plain": [
       "array([[48, 24],\n",
       "       [10,  2],\n",
       "       [97, 41]])"
      ]
     },
     "execution_count": 745,
     "metadata": {},
     "output_type": "execute_result"
    }
   ],
   "source": [
    "a[1,:,:] @ b[1,:,:]"
   ]
  },
  {
   "cell_type": "code",
   "execution_count": 761,
   "id": "cb6aff10",
   "metadata": {},
   "outputs": [
    {
     "data": {
      "text/plain": [
       "array([[[49, 49],\n",
       "        [70, 70],\n",
       "        [84, 84]],\n",
       "\n",
       "       [[56, 28],\n",
       "        [62, 22],\n",
       "        [84, 36]]])"
      ]
     },
     "execution_count": 761,
     "metadata": {},
     "output_type": "execute_result"
    }
   ],
   "source": [
    "# 2x3x2\n",
    "np.matmul(a[0,:,:], b)"
   ]
  },
  {
   "cell_type": "code",
   "execution_count": 763,
   "id": "36837587",
   "metadata": {},
   "outputs": [
    {
     "data": {
      "text/plain": [
       "array([[[42, 42],\n",
       "        [14, 14],\n",
       "        [98, 98]],\n",
       "\n",
       "       [[48, 24],\n",
       "        [10,  2],\n",
       "        [97, 41]]])"
      ]
     },
     "execution_count": 763,
     "metadata": {},
     "output_type": "execute_result"
    }
   ],
   "source": [
    "# 2x3x2\n",
    "np.matmul(a[1,:,:], b)"
   ]
  },
  {
   "cell_type": "markdown",
   "id": "8ebbbbc9",
   "metadata": {},
   "source": [
    "看看dot是咋样表现的："
   ]
  },
  {
   "cell_type": "code",
   "execution_count": 756,
   "id": "bfcd2142",
   "metadata": {
    "scrolled": true
   },
   "outputs": [
    {
     "data": {
      "text/plain": [
       "array([[[[49, 49],\n",
       "         [56, 28]],\n",
       "\n",
       "        [[70, 70],\n",
       "         [62, 22]],\n",
       "\n",
       "        [[84, 84],\n",
       "         [84, 36]]],\n",
       "\n",
       "\n",
       "       [[[42, 42],\n",
       "         [48, 24]],\n",
       "\n",
       "        [[14, 14],\n",
       "         [10,  2]],\n",
       "\n",
       "        [[98, 98],\n",
       "         [97, 41]]]])"
      ]
     },
     "execution_count": 756,
     "metadata": {},
     "output_type": "execute_result"
    }
   ],
   "source": [
    "# 2x3x2x2\n",
    "np.dot(a,b)"
   ]
  },
  {
   "cell_type": "code",
   "execution_count": 758,
   "id": "39458a79",
   "metadata": {},
   "outputs": [
    {
     "data": {
      "text/plain": [
       "array([[[49, 49],\n",
       "        [56, 28]],\n",
       "\n",
       "       [[70, 70],\n",
       "        [62, 22]],\n",
       "\n",
       "       [[84, 84],\n",
       "        [84, 36]]])"
      ]
     },
     "execution_count": 758,
     "metadata": {},
     "output_type": "execute_result"
    }
   ],
   "source": [
    "# 3x2x2\n",
    "np.dot(a[0,:,:], b[:,:,:])"
   ]
  },
  {
   "cell_type": "code",
   "execution_count": 765,
   "id": "00bd858c",
   "metadata": {
    "scrolled": true
   },
   "outputs": [
    {
     "data": {
      "text/plain": [
       "array([[[42, 42],\n",
       "        [48, 24]],\n",
       "\n",
       "       [[14, 14],\n",
       "        [10,  2]],\n",
       "\n",
       "       [[98, 98],\n",
       "        [97, 41]]])"
      ]
     },
     "execution_count": 765,
     "metadata": {},
     "output_type": "execute_result"
    }
   ],
   "source": [
    "# 3x2x2\n",
    "np.dot(a[1,:,:], b[:,:,:])"
   ]
  },
  {
   "cell_type": "markdown",
   "id": "25fbd938",
   "metadata": {},
   "source": [
    "### 克罗内克积\n",
    "\n",
    ">维基百科：是两个任意大小的矩阵间的运算，表示为⊗。克罗内克积是外积从向量到矩阵的推广，也是张量积在标准基下的矩阵表示。\n",
    "\n",
    "[克罗内克积 - 维基百科，自由的百科全书](https://zh.m.wikipedia.org/zh-hans/%E5%85%8B%E7%BD%97%E5%86%85%E5%85%8B%E7%A7%AF)"
   ]
  },
  {
   "cell_type": "markdown",
   "id": "dd9a48cd",
   "metadata": {},
   "source": [
    "$$\n",
    "A\\otimes B={\\begin{bmatrix}a_{{11}}B&\\cdots &a_{{1n}}B\\\\\\vdots &\\ddots &\\vdots \\\\a_{{m1}}B&\\cdots &a_{{mn}}B\\end{bmatrix}}.\n",
    "$$"
   ]
  },
  {
   "cell_type": "markdown",
   "id": "77e96294",
   "metadata": {},
   "source": [
    "$$\n",
    "{\\begin{bmatrix}1&2\\\\3&1\\\\\\end{bmatrix}}\\otimes {\\begin{bmatrix}0&3\\\\2&1\\\\\\end{bmatrix}}={\\begin{bmatrix}1\\cdot 0&1\\cdot 3&2\\cdot 0&2\\cdot 3\\\\1\\cdot 2&1\\cdot 1&2\\cdot 2&2\\cdot 1\\\\3\\cdot 0&3\\cdot 3&1\\cdot 0&1\\cdot 3\\\\3\\cdot 2&3\\cdot 1&1\\cdot 2&1\\cdot 1\\\\\\end{bmatrix}}={\\begin{bmatrix}0&3&0&6\\\\2&1&4&2\\\\0&9&0&3\\\\6&3&2&1\\end{bmatrix}}.\n",
    "$$"
   ]
  },
  {
   "cell_type": "code",
   "execution_count": 932,
   "id": "591af17c",
   "metadata": {},
   "outputs": [
    {
     "data": {
      "text/plain": [
       "array([  1,  10, 100,   2,  20, 200,   3,  30, 300])"
      ]
     },
     "execution_count": 932,
     "metadata": {},
     "output_type": "execute_result"
    }
   ],
   "source": [
    "np.kron([1,2,3], [1, 10, 100])"
   ]
  },
  {
   "cell_type": "code",
   "execution_count": 933,
   "id": "32323ce5",
   "metadata": {},
   "outputs": [
    {
     "data": {
      "text/plain": [
       "array([  1,   2,   3,  10,  20,  30, 100, 200, 300])"
      ]
     },
     "execution_count": 933,
     "metadata": {},
     "output_type": "execute_result"
    }
   ],
   "source": [
    "np.kron([1, 10, 100], [1,2,3])"
   ]
  },
  {
   "cell_type": "code",
   "execution_count": 934,
   "id": "0500c686",
   "metadata": {},
   "outputs": [],
   "source": [
    "a = np.array([[1,2],[3,1]])\n",
    "b = np.array([[0,3],[2,1]])"
   ]
  },
  {
   "cell_type": "code",
   "execution_count": 935,
   "id": "c3fd5d44",
   "metadata": {},
   "outputs": [
    {
     "data": {
      "text/plain": [
       "array([[0, 3, 0, 6],\n",
       "       [2, 1, 4, 2],\n",
       "       [0, 9, 0, 3],\n",
       "       [6, 3, 2, 1]])"
      ]
     },
     "execution_count": 935,
     "metadata": {},
     "output_type": "execute_result"
    }
   ],
   "source": [
    "np.kron(a,b)"
   ]
  },
  {
   "cell_type": "code",
   "execution_count": 949,
   "id": "dd591223",
   "metadata": {},
   "outputs": [
    {
     "data": {
      "text/plain": [
       "(2, 10, 6, 20)"
      ]
     },
     "execution_count": 949,
     "metadata": {},
     "output_type": "execute_result"
    }
   ],
   "source": [
    "a = np.ones((2,5,2,5))\n",
    "b = np.ones((2,3,4))\n",
    "np.kron(a,b).shape"
   ]
  },
  {
   "cell_type": "markdown",
   "id": "71300620",
   "metadata": {},
   "source": [
    "### 多矩阵乘法\n",
    "\n",
    "`linalg.multi_dot`链式调用`np.dot`，自动选择最快的顺序。\n",
    "\n",
    "- 如果第一个数组是一维，则被当做行向量\n",
    "- 如果最后一个数组是一维，则被当做列向量\n",
    "- 如果输入的向量超过两个，则其他向量必须是二维"
   ]
  },
  {
   "cell_type": "code",
   "execution_count": 962,
   "id": "6d3b1142",
   "metadata": {},
   "outputs": [],
   "source": [
    "a = np.ones((2, 4))\n",
    "b = np.ones((4, 3))\n",
    "c = np.ones((3, 5))"
   ]
  },
  {
   "cell_type": "code",
   "execution_count": 963,
   "id": "55525d6b",
   "metadata": {},
   "outputs": [
    {
     "data": {
      "text/plain": [
       "(2, 5)"
      ]
     },
     "execution_count": 963,
     "metadata": {},
     "output_type": "execute_result"
    }
   ],
   "source": [
    "np.linalg.multi_dot((a,b,c)).shape"
   ]
  },
  {
   "cell_type": "markdown",
   "id": "9dc4d1ce",
   "metadata": {},
   "source": [
    "不同的顺序性能不同，比如：\n",
    "\n",
    "`A_{10x100}, B_{100x5}, C_{5x50}`\n",
    "\n",
    "\n",
    "`cost((AB)C) = 10*100*5 + 10*5*50   = 5000 + 2500   = 7500`\n",
    "`cost(A(BC)) = 10*100*50 + 100*5*50 = 50000 + 25000 = 75000`"
   ]
  },
  {
   "cell_type": "code",
   "execution_count": 964,
   "id": "9db77e82",
   "metadata": {},
   "outputs": [],
   "source": [
    "rng = np.random.default_rng(42)\n",
    "a = rng.integers(0, 10, (10, 100))\n",
    "b = rng.integers(0, 10, (100, 5))\n",
    "c = rng.integers(0, 10, (5, 50))"
   ]
  },
  {
   "cell_type": "code",
   "execution_count": 970,
   "id": "60a90a40",
   "metadata": {},
   "outputs": [
    {
     "name": "stdout",
     "output_type": "stream",
     "text": [
      "8.74 µs ± 745 ns per loop (mean ± std. dev. of 7 runs, 100000 loops each)\n"
     ]
    }
   ],
   "source": [
    "%timeit a.dot(b).dot(c).shape"
   ]
  },
  {
   "cell_type": "code",
   "execution_count": 971,
   "id": "96fd6265",
   "metadata": {},
   "outputs": [
    {
     "name": "stdout",
     "output_type": "stream",
     "text": [
      "66 µs ± 4.96 µs per loop (mean ± std. dev. of 7 runs, 10000 loops each)\n"
     ]
    }
   ],
   "source": [
    "%timeit a.dot(b.dot(c)).shape"
   ]
  },
  {
   "cell_type": "code",
   "execution_count": 973,
   "id": "7d8a4745",
   "metadata": {},
   "outputs": [
    {
     "name": "stdout",
     "output_type": "stream",
     "text": [
      "13.6 µs ± 335 ns per loop (mean ± std. dev. of 7 runs, 100000 loops each)\n"
     ]
    }
   ],
   "source": [
    "%timeit np.linalg.multi_dot((a, b, c)).shape"
   ]
  },
  {
   "cell_type": "markdown",
   "id": "ae39143a",
   "metadata": {},
   "source": [
    "如果首尾是一维："
   ]
  },
  {
   "cell_type": "code",
   "execution_count": 983,
   "id": "eeb8abb5",
   "metadata": {},
   "outputs": [],
   "source": [
    "a = np.ones((3))\n",
    "b = np.ones((3, 5))\n",
    "c = np.ones((5, 8))\n",
    "d = np.ones(8)"
   ]
  },
  {
   "cell_type": "code",
   "execution_count": 984,
   "id": "f0ddfb23",
   "metadata": {},
   "outputs": [
    {
     "data": {
      "text/plain": [
       "(8,)"
      ]
     },
     "execution_count": 984,
     "metadata": {},
     "output_type": "execute_result"
    }
   ],
   "source": [
    "a.dot(b).dot(c).shape"
   ]
  },
  {
   "cell_type": "code",
   "execution_count": 989,
   "id": "eb61209f",
   "metadata": {},
   "outputs": [
    {
     "data": {
      "text/plain": [
       "(8,)"
      ]
     },
     "execution_count": 989,
     "metadata": {},
     "output_type": "execute_result"
    }
   ],
   "source": [
    "# a=1x3\n",
    "np.linalg.multi_dot((a, b, c)).shape"
   ]
  },
  {
   "cell_type": "code",
   "execution_count": 995,
   "id": "35608806",
   "metadata": {},
   "outputs": [
    {
     "data": {
      "text/plain": [
       "(3,)"
      ]
     },
     "execution_count": 995,
     "metadata": {},
     "output_type": "execute_result"
    }
   ],
   "source": [
    "# d=8x1\n",
    "np.linalg.multi_dot((b, c, d)).shape"
   ]
  },
  {
   "cell_type": "code",
   "execution_count": 997,
   "id": "246db309",
   "metadata": {
    "scrolled": true
   },
   "outputs": [
    {
     "data": {
      "text/plain": [
       "(3,)"
      ]
     },
     "execution_count": 997,
     "metadata": {},
     "output_type": "execute_result"
    }
   ],
   "source": [
    "b.dot(c).dot(d).shape"
   ]
  },
  {
   "cell_type": "markdown",
   "id": "b9f0571e",
   "metadata": {},
   "source": [
    "## 基础概念\n",
    "\n",
    "介绍线性代数几个常用的API，不涉及数学知识。"
   ]
  },
  {
   "cell_type": "code",
   "execution_count": 1076,
   "id": "99416500",
   "metadata": {},
   "outputs": [],
   "source": [
    "from numpy import linalg as LA"
   ]
  },
  {
   "cell_type": "markdown",
   "id": "5e73c9bb",
   "metadata": {},
   "source": [
    "### 范数\n",
    "\n",
    "共包括：\n",
    "\n",
    "```\n",
    "=====  ============================  ==========================\n",
    "ord    norm for matrices             norm for vectors\n",
    "=====  ============================  ==========================\n",
    "None   Frobenius norm                2-norm\n",
    "'fro'  Frobenius norm                --\n",
    "'nuc'  nuclear norm                  --\n",
    "inf    max(sum(abs(x), axis=1))      max(abs(x))\n",
    "-inf   min(sum(abs(x), axis=1))      min(abs(x))\n",
    "0      --                            sum(x != 0)\n",
    "1      max(sum(abs(x), axis=0))      as below\n",
    "-1     min(sum(abs(x), axis=0))      as below\n",
    "2      2-norm (largest sing. value)  as below\n",
    "-2     smallest singular value       as below\n",
    "other  --                            sum(abs(x)**ord)**(1./ord)\n",
    "=====  ============================  ==========================\n",
    "```\n",
    "\n",
    "- [Matrix norm - Wikipedia](https://en.wikipedia.org/wiki/Matrix_norm)"
   ]
  },
  {
   "cell_type": "code",
   "execution_count": 1078,
   "id": "ba3bff7b",
   "metadata": {},
   "outputs": [
    {
     "data": {
      "text/plain": [
       "array([[0, 1, 2],\n",
       "       [3, 4, 5]])"
      ]
     },
     "execution_count": 1078,
     "metadata": {},
     "output_type": "execute_result"
    }
   ],
   "source": [
    "a = np.arange(6).reshape(2, 3)\n",
    "a"
   ]
  },
  {
   "cell_type": "code",
   "execution_count": 1080,
   "id": "3f0d8396",
   "metadata": {},
   "outputs": [
    {
     "data": {
      "text/plain": [
       "7.416198487095663"
      ]
     },
     "execution_count": 1080,
     "metadata": {},
     "output_type": "execute_result"
    }
   ],
   "source": [
    "LA.norm(a)"
   ]
  },
  {
   "cell_type": "code",
   "execution_count": 1093,
   "id": "6b4b9f57",
   "metadata": {},
   "outputs": [
    {
     "data": {
      "text/plain": [
       "(7.416198487095663, 7.416198487095663)"
      ]
     },
     "execution_count": 1093,
     "metadata": {},
     "output_type": "execute_result"
    }
   ],
   "source": [
    "# F范数\n",
    "LA.norm(a, \"fro\"), np.sqrt(np.sum(a**2))"
   ]
  },
  {
   "cell_type": "code",
   "execution_count": 1094,
   "id": "72626b9b",
   "metadata": {},
   "outputs": [
    {
     "data": {
      "text/plain": [
       "(8.348469228349535, 8.348469228349535)"
      ]
     },
     "execution_count": 1094,
     "metadata": {},
     "output_type": "execute_result"
    }
   ],
   "source": [
    "# 核范数\n",
    "LA.norm(a, \"nuc\"), np.sum(LA.svd(a)[1])"
   ]
  },
  {
   "cell_type": "code",
   "execution_count": 1105,
   "id": "95ca0239",
   "metadata": {},
   "outputs": [
    {
     "data": {
      "text/plain": [
       "(12.0, 12)"
      ]
     },
     "execution_count": 1105,
     "metadata": {},
     "output_type": "execute_result"
    }
   ],
   "source": [
    "# inf\n",
    "LA.norm(a, np.inf), np.max(np.sum(abs(a), axis=1))"
   ]
  },
  {
   "cell_type": "code",
   "execution_count": 1106,
   "id": "d57ed284",
   "metadata": {},
   "outputs": [
    {
     "data": {
      "text/plain": [
       "(3.0, 3)"
      ]
     },
     "execution_count": 1106,
     "metadata": {},
     "output_type": "execute_result"
    }
   ],
   "source": [
    "# -inf\n",
    "LA.norm(a, -np.inf), np.min(np.sum(abs(a), axis=1))"
   ]
  },
  {
   "cell_type": "code",
   "execution_count": 1110,
   "id": "86927364",
   "metadata": {},
   "outputs": [
    {
     "data": {
      "text/plain": [
       "(7.0, 7)"
      ]
     },
     "execution_count": 1110,
     "metadata": {},
     "output_type": "execute_result"
    }
   ],
   "source": [
    "# 1\n",
    "LA.norm(a, 1), np.max(np.sum(abs(a), axis=0))"
   ]
  },
  {
   "cell_type": "code",
   "execution_count": 1111,
   "id": "63a416ed",
   "metadata": {},
   "outputs": [
    {
     "data": {
      "text/plain": [
       "(3.0, 3)"
      ]
     },
     "execution_count": 1111,
     "metadata": {},
     "output_type": "execute_result"
    }
   ],
   "source": [
    "# -1\n",
    "LA.norm(a, -1), np.min(np.sum(abs(a), axis=0))"
   ]
  },
  {
   "cell_type": "code",
   "execution_count": 1129,
   "id": "67c8281a",
   "metadata": {},
   "outputs": [
    {
     "data": {
      "text/plain": [
       "(7.3484692283495345, 7.3484692283495345)"
      ]
     },
     "execution_count": 1129,
     "metadata": {},
     "output_type": "execute_result"
    }
   ],
   "source": [
    "# 2\n",
    "LA.norm(a, 2), np.max(LA.svd(a)[1])"
   ]
  },
  {
   "cell_type": "code",
   "execution_count": 1130,
   "id": "7340b6e7",
   "metadata": {},
   "outputs": [
    {
     "data": {
      "text/plain": [
       "(0.9999999999999998, 0.9999999999999998)"
      ]
     },
     "execution_count": 1130,
     "metadata": {},
     "output_type": "execute_result"
    }
   ],
   "source": [
    "# -2\n",
    "LA.norm(a, -2), np.min(LA.svd(a)[1])"
   ]
  },
  {
   "cell_type": "markdown",
   "id": "4279a0b1",
   "metadata": {},
   "source": [
    "### 行列式、迹"
   ]
  },
  {
   "cell_type": "code",
   "execution_count": 1195,
   "id": "5713ae44",
   "metadata": {},
   "outputs": [
    {
     "data": {
      "text/plain": [
       "array([[1, 5],\n",
       "       [3, 4]])"
      ]
     },
     "execution_count": 1195,
     "metadata": {},
     "output_type": "execute_result"
    }
   ],
   "source": [
    "a = np.array(([1,5],[3,4]))\n",
    "a"
   ]
  },
  {
   "cell_type": "code",
   "execution_count": 1196,
   "id": "3245c856",
   "metadata": {},
   "outputs": [
    {
     "data": {
      "text/plain": [
       "(-11.000000000000002, -11)"
      ]
     },
     "execution_count": 1196,
     "metadata": {},
     "output_type": "execute_result"
    }
   ],
   "source": [
    "LA.det(a), 1*4-5*3"
   ]
  },
  {
   "cell_type": "code",
   "execution_count": 1199,
   "id": "f29ad493",
   "metadata": {},
   "outputs": [
    {
     "data": {
      "text/plain": [
       "5"
      ]
     },
     "execution_count": 1199,
     "metadata": {},
     "output_type": "execute_result"
    }
   ],
   "source": [
    "a[0,0] + a[1,1]"
   ]
  },
  {
   "cell_type": "code",
   "execution_count": 1166,
   "id": "46e13aea",
   "metadata": {},
   "outputs": [
    {
     "data": {
      "text/plain": [
       "5"
      ]
     },
     "execution_count": 1166,
     "metadata": {},
     "output_type": "execute_result"
    }
   ],
   "source": [
    "# 二维\n",
    "np.trace(a)"
   ]
  },
  {
   "cell_type": "code",
   "execution_count": 1189,
   "id": "69cdfa01",
   "metadata": {},
   "outputs": [
    {
     "data": {
      "text/plain": [
       "array([[[0, 1],\n",
       "        [2, 3]],\n",
       "\n",
       "       [[4, 5],\n",
       "        [6, 7]]])"
      ]
     },
     "execution_count": 1189,
     "metadata": {},
     "output_type": "execute_result"
    }
   ],
   "source": [
    "a = np.arange(8).reshape((2,2,2))\n",
    "a"
   ]
  },
  {
   "cell_type": "code",
   "execution_count": 1193,
   "id": "61a4b281",
   "metadata": {},
   "outputs": [
    {
     "data": {
      "text/plain": [
       "array([6, 8])"
      ]
     },
     "execution_count": 1193,
     "metadata": {},
     "output_type": "execute_result"
    }
   ],
   "source": [
    "a[0,0] + a[1,1]"
   ]
  },
  {
   "cell_type": "code",
   "execution_count": 1194,
   "id": "2ad8bf15",
   "metadata": {},
   "outputs": [
    {
     "data": {
      "text/plain": [
       "array([6, 8])"
      ]
     },
     "execution_count": 1194,
     "metadata": {},
     "output_type": "execute_result"
    }
   ],
   "source": [
    "np.trace(a)"
   ]
  },
  {
   "cell_type": "markdown",
   "id": "ff35ee2e",
   "metadata": {},
   "source": [
    "### 特征值"
   ]
  },
  {
   "cell_type": "markdown",
   "id": "48d685d5",
   "metadata": {},
   "source": [
    "`eig`计算一个方阵的特征值和右特征向量，`eigvals`与之的区别是不返回特征向量。"
   ]
  },
  {
   "cell_type": "code",
   "execution_count": 1060,
   "id": "ec6f3e29",
   "metadata": {},
   "outputs": [],
   "source": [
    "a = np.diag([1,2,3])\n",
    "w, v = LA.eig(a)"
   ]
  },
  {
   "cell_type": "code",
   "execution_count": 1061,
   "id": "dfbf10e9",
   "metadata": {},
   "outputs": [
    {
     "data": {
      "text/plain": [
       "array([1., 2., 3.])"
      ]
     },
     "execution_count": 1061,
     "metadata": {},
     "output_type": "execute_result"
    }
   ],
   "source": [
    "w"
   ]
  },
  {
   "cell_type": "code",
   "execution_count": 1062,
   "id": "726a56d9",
   "metadata": {},
   "outputs": [
    {
     "data": {
      "text/plain": [
       "array([[1., 0., 0.],\n",
       "       [0., 1., 0.],\n",
       "       [0., 0., 1.]])"
      ]
     },
     "execution_count": 1062,
     "metadata": {},
     "output_type": "execute_result"
    }
   ],
   "source": [
    "v"
   ]
  },
  {
   "cell_type": "code",
   "execution_count": 1063,
   "id": "5946f350",
   "metadata": {},
   "outputs": [
    {
     "data": {
      "text/plain": [
       "array([1., 2., 3.])"
      ]
     },
     "execution_count": 1063,
     "metadata": {},
     "output_type": "execute_result"
    }
   ],
   "source": [
    "LA.eigvals(a)"
   ]
  },
  {
   "cell_type": "code",
   "execution_count": 1064,
   "id": "bec104e3",
   "metadata": {},
   "outputs": [
    {
     "data": {
      "text/plain": [
       "array([[ True,  True,  True],\n",
       "       [ True,  True,  True],\n",
       "       [ True,  True,  True]])"
      ]
     },
     "execution_count": 1064,
     "metadata": {},
     "output_type": "execute_result"
    }
   ],
   "source": [
    "a @ v == w * v"
   ]
  },
  {
   "cell_type": "code",
   "execution_count": 1065,
   "id": "3839574b",
   "metadata": {},
   "outputs": [
    {
     "data": {
      "text/plain": [
       "array([[0, 7, 6],\n",
       "       [4, 4, 8],\n",
       "       [0, 6, 2]])"
      ]
     },
     "execution_count": 1065,
     "metadata": {},
     "output_type": "execute_result"
    }
   ],
   "source": [
    "rng = np.random.default_rng(42)\n",
    "a = rng.integers(0, 10, (3, 3))\n",
    "a"
   ]
  },
  {
   "cell_type": "code",
   "execution_count": 1066,
   "id": "5b2fbfab",
   "metadata": {},
   "outputs": [],
   "source": [
    "w, v = LA.eig(a)"
   ]
  },
  {
   "cell_type": "code",
   "execution_count": 1067,
   "id": "476c705f",
   "metadata": {},
   "outputs": [
    {
     "data": {
      "text/plain": [
       "True"
      ]
     },
     "execution_count": 1067,
     "metadata": {},
     "output_type": "execute_result"
    }
   ],
   "source": [
    "np.allclose(a @ v, w * v)"
   ]
  },
  {
   "cell_type": "code",
   "execution_count": 1069,
   "id": "c745a387",
   "metadata": {},
   "outputs": [
    {
     "data": {
      "text/plain": [
       "array([ True,  True,  True])"
      ]
     },
     "execution_count": 1069,
     "metadata": {},
     "output_type": "execute_result"
    }
   ],
   "source": [
    "LA.eigvals(a) == w"
   ]
  },
  {
   "cell_type": "markdown",
   "id": "99524aad",
   "metadata": {},
   "source": [
    "`eigh`计算埃尔米特矩阵或实对称矩阵的特征值和特征向量，`eigvalsh`与之的区别是后者不返回特征向量。\n",
    "\n",
    "\n",
    "- [埃尔米特矩阵 - 维基百科，自由的百科全书](https://zh.wikipedia.org/wiki/%E5%9F%83%E5%B0%94%E7%B1%B3%E7%89%B9%E7%9F%A9%E9%98%B5)\n",
    "- [對稱矩陣 - 维基百科，自由的百科全书](https://zh.wikipedia.org/zh/%E5%B0%8D%E7%A8%B1%E7%9F%A9%E9%99%A3)\n",
    "\n",
    "\n",
    "以实对称矩阵为例。"
   ]
  },
  {
   "cell_type": "code",
   "execution_count": 1071,
   "id": "8791485c",
   "metadata": {},
   "outputs": [],
   "source": [
    "a = np.array([\n",
    "    [1, 2, 3],\n",
    "    [2, 4, -5],\n",
    "    [3, -5, 6]\n",
    "])"
   ]
  },
  {
   "cell_type": "code",
   "execution_count": 1072,
   "id": "ba846915",
   "metadata": {},
   "outputs": [
    {
     "data": {
      "text/plain": [
       "(array([-3.07730361,  3.84139016, 10.23591345]),\n",
       " array([[-0.65271955,  0.74655097,  0.12891408],\n",
       "        [ 0.55145509,  0.58486128, -0.59483995],\n",
       "        [ 0.5194752 ,  0.31717334,  0.79343972]]))"
      ]
     },
     "execution_count": 1072,
     "metadata": {},
     "output_type": "execute_result"
    }
   ],
   "source": [
    "LA.eigh(a)"
   ]
  },
  {
   "cell_type": "code",
   "execution_count": 1073,
   "id": "c89e0afa",
   "metadata": {},
   "outputs": [
    {
     "data": {
      "text/plain": [
       "array([-3.07730361,  3.84139016, 10.23591345])"
      ]
     },
     "execution_count": 1073,
     "metadata": {},
     "output_type": "execute_result"
    }
   ],
   "source": [
    "LA.eigvalsh(a)"
   ]
  },
  {
   "cell_type": "code",
   "execution_count": 1052,
   "id": "688c2fa4",
   "metadata": {},
   "outputs": [
    {
     "data": {
      "text/plain": [
       "(array([-3.07730361,  3.84139016, 10.23591345]),\n",
       " array([[-0.65271955,  0.74655097,  0.12891408],\n",
       "        [ 0.55145509,  0.58486128, -0.59483995],\n",
       "        [ 0.5194752 ,  0.31717334,  0.79343972]]))"
      ]
     },
     "execution_count": 1052,
     "metadata": {},
     "output_type": "execute_result"
    }
   ],
   "source": [
    "LA.eig(a)"
   ]
  },
  {
   "cell_type": "markdown",
   "id": "02c16b09",
   "metadata": {},
   "source": [
    "## 矩阵运算"
   ]
  },
  {
   "cell_type": "markdown",
   "id": "666b87dd",
   "metadata": {},
   "source": [
    "### 矩阵求解"
   ]
  },
  {
   "cell_type": "markdown",
   "id": "653923fb",
   "metadata": {},
   "source": [
    "`solve`可直接求解："
   ]
  },
  {
   "cell_type": "code",
   "execution_count": 1346,
   "id": "2cb0badb",
   "metadata": {},
   "outputs": [],
   "source": [
    "x = np.array([[1, 2], [3, 5]])\n",
    "y = np.array([1, 2])\n",
    "w = LA.solve(x, y)"
   ]
  },
  {
   "cell_type": "code",
   "execution_count": 1252,
   "id": "436704e2",
   "metadata": {},
   "outputs": [
    {
     "data": {
      "text/plain": [
       "True"
      ]
     },
     "execution_count": 1252,
     "metadata": {},
     "output_type": "execute_result"
    }
   ],
   "source": [
    "np.allclose(x.dot(w), y)"
   ]
  },
  {
   "cell_type": "markdown",
   "id": "5513f48c",
   "metadata": {},
   "source": [
    "`tensorsolve`更加通用一些："
   ]
  },
  {
   "cell_type": "code",
   "execution_count": 1253,
   "id": "c94ca8b5",
   "metadata": {},
   "outputs": [
    {
     "data": {
      "text/plain": [
       "array([-1.,  1.])"
      ]
     },
     "execution_count": 1253,
     "metadata": {},
     "output_type": "execute_result"
    }
   ],
   "source": [
    "LA.tensorsolve(x, y)"
   ]
  },
  {
   "cell_type": "code",
   "execution_count": 1254,
   "id": "6630c657",
   "metadata": {},
   "outputs": [],
   "source": [
    "rng = np.random.default_rng(42)\n",
    "x = rng.integers(0, 10, (6, 4, 2, 3, 4))\n",
    "y = rng.integers(0, 10, (6, 4))"
   ]
  },
  {
   "cell_type": "code",
   "execution_count": 1255,
   "id": "54cec8ad",
   "metadata": {},
   "outputs": [
    {
     "data": {
      "text/plain": [
       "(2, 3, 4)"
      ]
     },
     "execution_count": 1255,
     "metadata": {},
     "output_type": "execute_result"
    }
   ],
   "source": [
    "LA.tensorsolve(x, y).shape"
   ]
  },
  {
   "cell_type": "code",
   "execution_count": 1256,
   "id": "7b222991",
   "metadata": {},
   "outputs": [
    {
     "ename": "LinAlgError",
     "evalue": "Last 2 dimensions of the array must be square",
     "output_type": "error",
     "traceback": [
      "\u001b[0;31m---------------------------------------------------------------------------\u001b[0m",
      "\u001b[0;31mLinAlgError\u001b[0m                               Traceback (most recent call last)",
      "\u001b[0;32m<ipython-input-1256-9be96e929103>\u001b[0m in \u001b[0;36m<module>\u001b[0;34m\u001b[0m\n\u001b[0;32m----> 1\u001b[0;31m \u001b[0mLA\u001b[0m\u001b[0;34m.\u001b[0m\u001b[0msolve\u001b[0m\u001b[0;34m(\u001b[0m\u001b[0mx\u001b[0m\u001b[0;34m,\u001b[0m\u001b[0my\u001b[0m\u001b[0;34m)\u001b[0m\u001b[0;34m\u001b[0m\u001b[0;34m\u001b[0m\u001b[0m\n\u001b[0m",
      "\u001b[0;32m/usr/local/lib/python3.8/site-packages/numpy/core/overrides.py\u001b[0m in \u001b[0;36msolve\u001b[0;34m(*args, **kwargs)\u001b[0m\n",
      "\u001b[0;32m/usr/local/lib/python3.8/site-packages/numpy/linalg/linalg.py\u001b[0m in \u001b[0;36msolve\u001b[0;34m(a, b)\u001b[0m\n\u001b[1;32m    378\u001b[0m     \u001b[0ma\u001b[0m\u001b[0;34m,\u001b[0m \u001b[0m_\u001b[0m \u001b[0;34m=\u001b[0m \u001b[0m_makearray\u001b[0m\u001b[0;34m(\u001b[0m\u001b[0ma\u001b[0m\u001b[0;34m)\u001b[0m\u001b[0;34m\u001b[0m\u001b[0;34m\u001b[0m\u001b[0m\n\u001b[1;32m    379\u001b[0m     \u001b[0m_assert_stacked_2d\u001b[0m\u001b[0;34m(\u001b[0m\u001b[0ma\u001b[0m\u001b[0;34m)\u001b[0m\u001b[0;34m\u001b[0m\u001b[0;34m\u001b[0m\u001b[0m\n\u001b[0;32m--> 380\u001b[0;31m     \u001b[0m_assert_stacked_square\u001b[0m\u001b[0;34m(\u001b[0m\u001b[0ma\u001b[0m\u001b[0;34m)\u001b[0m\u001b[0;34m\u001b[0m\u001b[0;34m\u001b[0m\u001b[0m\n\u001b[0m\u001b[1;32m    381\u001b[0m     \u001b[0mb\u001b[0m\u001b[0;34m,\u001b[0m \u001b[0mwrap\u001b[0m \u001b[0;34m=\u001b[0m \u001b[0m_makearray\u001b[0m\u001b[0;34m(\u001b[0m\u001b[0mb\u001b[0m\u001b[0;34m)\u001b[0m\u001b[0;34m\u001b[0m\u001b[0;34m\u001b[0m\u001b[0m\n\u001b[1;32m    382\u001b[0m     \u001b[0mt\u001b[0m\u001b[0;34m,\u001b[0m \u001b[0mresult_t\u001b[0m \u001b[0;34m=\u001b[0m \u001b[0m_commonType\u001b[0m\u001b[0;34m(\u001b[0m\u001b[0ma\u001b[0m\u001b[0;34m,\u001b[0m \u001b[0mb\u001b[0m\u001b[0;34m)\u001b[0m\u001b[0;34m\u001b[0m\u001b[0;34m\u001b[0m\u001b[0m\n",
      "\u001b[0;32m/usr/local/lib/python3.8/site-packages/numpy/linalg/linalg.py\u001b[0m in \u001b[0;36m_assert_stacked_square\u001b[0;34m(*arrays)\u001b[0m\n\u001b[1;32m    201\u001b[0m         \u001b[0mm\u001b[0m\u001b[0;34m,\u001b[0m \u001b[0mn\u001b[0m \u001b[0;34m=\u001b[0m \u001b[0ma\u001b[0m\u001b[0;34m.\u001b[0m\u001b[0mshape\u001b[0m\u001b[0;34m[\u001b[0m\u001b[0;34m-\u001b[0m\u001b[0;36m2\u001b[0m\u001b[0;34m:\u001b[0m\u001b[0;34m]\u001b[0m\u001b[0;34m\u001b[0m\u001b[0;34m\u001b[0m\u001b[0m\n\u001b[1;32m    202\u001b[0m         \u001b[0;32mif\u001b[0m \u001b[0mm\u001b[0m \u001b[0;34m!=\u001b[0m \u001b[0mn\u001b[0m\u001b[0;34m:\u001b[0m\u001b[0;34m\u001b[0m\u001b[0;34m\u001b[0m\u001b[0m\n\u001b[0;32m--> 203\u001b[0;31m             \u001b[0;32mraise\u001b[0m \u001b[0mLinAlgError\u001b[0m\u001b[0;34m(\u001b[0m\u001b[0;34m'Last 2 dimensions of the array must be square'\u001b[0m\u001b[0;34m)\u001b[0m\u001b[0;34m\u001b[0m\u001b[0;34m\u001b[0m\u001b[0m\n\u001b[0m\u001b[1;32m    204\u001b[0m \u001b[0;34m\u001b[0m\u001b[0m\n\u001b[1;32m    205\u001b[0m \u001b[0;32mdef\u001b[0m \u001b[0m_assert_finite\u001b[0m\u001b[0;34m(\u001b[0m\u001b[0;34m*\u001b[0m\u001b[0marrays\u001b[0m\u001b[0;34m)\u001b[0m\u001b[0;34m:\u001b[0m\u001b[0;34m\u001b[0m\u001b[0;34m\u001b[0m\u001b[0m\n",
      "\u001b[0;31mLinAlgError\u001b[0m: Last 2 dimensions of the array must be square"
     ]
    }
   ],
   "source": [
    "LA.solve(x,y)"
   ]
  },
  {
   "cell_type": "markdown",
   "id": "7ffcb3c5",
   "metadata": {},
   "source": [
    "可以使用最小二乘法近似求解："
   ]
  },
  {
   "cell_type": "code",
   "execution_count": 1267,
   "id": "b37ee58c",
   "metadata": {},
   "outputs": [],
   "source": [
    "from sklearn.datasets import load_iris\n",
    "from sklearn.model_selection import train_test_split"
   ]
  },
  {
   "cell_type": "code",
   "execution_count": 1264,
   "id": "a7a978c2",
   "metadata": {},
   "outputs": [],
   "source": [
    "data = load_iris()"
   ]
  },
  {
   "cell_type": "code",
   "execution_count": 1265,
   "id": "7d2f2ad0",
   "metadata": {},
   "outputs": [],
   "source": [
    "x = data[\"data\"]\n",
    "y = data[\"target\"]"
   ]
  },
  {
   "cell_type": "code",
   "execution_count": 1279,
   "id": "96f49f24",
   "metadata": {},
   "outputs": [],
   "source": [
    "x_train, x_test, y_train, y_test = \\\n",
    "train_test_split(x, y, test_size=0.2)"
   ]
  },
  {
   "cell_type": "code",
   "execution_count": 1317,
   "id": "864c3b4b",
   "metadata": {},
   "outputs": [],
   "source": [
    "w = LA.lstsq(x_train, y_train, rcond=None)[0]"
   ]
  },
  {
   "cell_type": "code",
   "execution_count": 1326,
   "id": "06e00e61",
   "metadata": {},
   "outputs": [
    {
     "data": {
      "text/plain": [
       "1.0"
      ]
     },
     "execution_count": 1326,
     "metadata": {},
     "output_type": "execute_result"
    }
   ],
   "source": [
    "# 精准率\n",
    "np.sum(\n",
    "    np.abs(x_test.dot(w)).round()==y_test\n",
    ")/len(y_test)"
   ]
  },
  {
   "cell_type": "markdown",
   "id": "916c513a",
   "metadata": {},
   "source": [
    "### 逆矩阵"
   ]
  },
  {
   "cell_type": "markdown",
   "id": "53401414",
   "metadata": {},
   "source": [
    "`inv`可用于求矩阵逆："
   ]
  },
  {
   "cell_type": "code",
   "execution_count": 1339,
   "id": "2f1bb363",
   "metadata": {},
   "outputs": [
    {
     "data": {
      "text/plain": [
       "array([[1, 2],\n",
       "       [3, 4]])"
      ]
     },
     "execution_count": 1339,
     "metadata": {},
     "output_type": "execute_result"
    }
   ],
   "source": [
    "a = np.arange(1, 5).reshape(2, 2)\n",
    "a"
   ]
  },
  {
   "cell_type": "code",
   "execution_count": 1340,
   "id": "eedec4dd",
   "metadata": {},
   "outputs": [],
   "source": [
    "inva = LA.inv(a)"
   ]
  },
  {
   "cell_type": "code",
   "execution_count": 1341,
   "id": "077bdfaa",
   "metadata": {},
   "outputs": [
    {
     "data": {
      "text/plain": [
       "True"
      ]
     },
     "execution_count": 1341,
     "metadata": {},
     "output_type": "execute_result"
    }
   ],
   "source": [
    "np.allclose(inva.dot(a), np.eye(2))"
   ]
  },
  {
   "cell_type": "markdown",
   "id": "533cd049",
   "metadata": {},
   "source": [
    "使用奇异值分解计算矩阵伪逆。"
   ]
  },
  {
   "cell_type": "code",
   "execution_count": 1353,
   "id": "ce20791c",
   "metadata": {},
   "outputs": [
    {
     "data": {
      "text/plain": [
       "array([[0, 7, 6],\n",
       "       [4, 4, 8]])"
      ]
     },
     "execution_count": 1353,
     "metadata": {},
     "output_type": "execute_result"
    }
   ],
   "source": [
    "rng = np.random.default_rng(42)\n",
    "a = rng.integers(0, 10, (2, 3))\n",
    "a"
   ]
  },
  {
   "cell_type": "code",
   "execution_count": 1354,
   "id": "7b495625",
   "metadata": {},
   "outputs": [
    {
     "data": {
      "text/plain": [
       "array([[-0.12751678,  0.14261745],\n",
       "       [ 0.15436242, -0.08053691],\n",
       "       [-0.01342282,  0.09395973]])"
      ]
     },
     "execution_count": 1354,
     "metadata": {},
     "output_type": "execute_result"
    }
   ],
   "source": [
    "inva = LA.pinv(a)\n",
    "inva"
   ]
  },
  {
   "cell_type": "code",
   "execution_count": 1364,
   "id": "c578fa59",
   "metadata": {},
   "outputs": [
    {
     "data": {
      "text/plain": [
       "True"
      ]
     },
     "execution_count": 1364,
     "metadata": {},
     "output_type": "execute_result"
    }
   ],
   "source": [
    "np.allclose(a.dot(inva), np.eye(2))"
   ]
  },
  {
   "cell_type": "code",
   "execution_count": 1367,
   "id": "3fc9a22e",
   "metadata": {},
   "outputs": [
    {
     "data": {
      "text/plain": [
       "True"
      ]
     },
     "execution_count": 1367,
     "metadata": {},
     "output_type": "execute_result"
    }
   ],
   "source": [
    "np.allclose(a.dot(inva).dot(a), a)"
   ]
  },
  {
   "cell_type": "code",
   "execution_count": 1378,
   "id": "656dc777",
   "metadata": {},
   "outputs": [
    {
     "data": {
      "text/plain": [
       "True"
      ]
     },
     "execution_count": 1378,
     "metadata": {},
     "output_type": "execute_result"
    }
   ],
   "source": [
    "np.allclose(a.dot(inva.dot(a)), a)"
   ]
  },
  {
   "cell_type": "code",
   "execution_count": 1363,
   "id": "b9374a25",
   "metadata": {},
   "outputs": [
    {
     "data": {
      "text/plain": [
       "True"
      ]
     },
     "execution_count": 1363,
     "metadata": {},
     "output_type": "execute_result"
    }
   ],
   "source": [
    "np.allclose(inva.dot(a.dot(inva)), inva)"
   ]
  },
  {
   "cell_type": "markdown",
   "id": "f0fbddba",
   "metadata": {},
   "source": [
    "`tensorinv`适用于高维数组求逆："
   ]
  },
  {
   "cell_type": "code",
   "execution_count": 1404,
   "id": "c345fd76",
   "metadata": {},
   "outputs": [],
   "source": [
    "rng = np.random.default_rng(42)\n",
    "a = rng.integers(0, 10, (4, 6, 8, 3))"
   ]
  },
  {
   "cell_type": "code",
   "execution_count": 1405,
   "id": "3005547c",
   "metadata": {},
   "outputs": [],
   "source": [
    "ainv = np.linalg.tensorinv(a, ind=2)"
   ]
  },
  {
   "cell_type": "code",
   "execution_count": 1408,
   "id": "166d01b1",
   "metadata": {},
   "outputs": [
    {
     "data": {
      "text/plain": [
       "(4, 6, 4, 6)"
      ]
     },
     "execution_count": 1408,
     "metadata": {},
     "output_type": "execute_result"
    }
   ],
   "source": [
    "np.tensordot(a, ainv).shape"
   ]
  },
  {
   "cell_type": "code",
   "execution_count": 1409,
   "id": "9d8e3311",
   "metadata": {},
   "outputs": [],
   "source": [
    "eye = np.eye(4*6)\n",
    "eye.shape = (4, 6, 4, 6)"
   ]
  },
  {
   "cell_type": "code",
   "execution_count": 1410,
   "id": "5b998d4f",
   "metadata": {},
   "outputs": [
    {
     "data": {
      "text/plain": [
       "True"
      ]
     },
     "execution_count": 1410,
     "metadata": {},
     "output_type": "execute_result"
    }
   ],
   "source": [
    "np.allclose(np.tensordot(a, ainv), eye)"
   ]
  },
  {
   "cell_type": "markdown",
   "id": "c2a9a428",
   "metadata": {},
   "source": [
    "### 矩阵分解"
   ]
  },
  {
   "cell_type": "markdown",
   "id": "b075e281",
   "metadata": {},
   "source": [
    "`cholesky`分解是把一个对称正定的矩阵表示成一个下三角矩阵L和其转置的乘积的分解。要求所有的特征值必须大于零。\n",
    "\n",
    "\n",
    "[科列斯基分解 - 维基百科，自由的百科全书](https://zh.wikipedia.org/zh-sg/%E7%A7%91%E5%88%97%E6%96%AF%E5%9F%BA%E5%88%86%E8%A7%A3)"
   ]
  },
  {
   "cell_type": "code",
   "execution_count": 1511,
   "id": "038763fc",
   "metadata": {},
   "outputs": [],
   "source": [
    "a = np.array([\n",
    "    [4, 12, -16],\n",
    "    [12, 37, -43],\n",
    "    [-16, -43, 98]\n",
    "])"
   ]
  },
  {
   "cell_type": "code",
   "execution_count": 1513,
   "id": "adb25f97",
   "metadata": {},
   "outputs": [
    {
     "data": {
      "text/plain": [
       "array([[ 2.,  0.,  0.],\n",
       "       [ 6.,  1.,  0.],\n",
       "       [-8.,  5.,  3.]])"
      ]
     },
     "execution_count": 1513,
     "metadata": {},
     "output_type": "execute_result"
    }
   ],
   "source": [
    "ca = LA.cholesky(a)\n",
    "ca"
   ]
  },
  {
   "cell_type": "code",
   "execution_count": 1515,
   "id": "b6448d62",
   "metadata": {},
   "outputs": [
    {
     "data": {
      "text/plain": [
       "True"
      ]
     },
     "execution_count": 1515,
     "metadata": {},
     "output_type": "execute_result"
    }
   ],
   "source": [
    "np.array_equal(ca.dot(ca.T), a)"
   ]
  },
  {
   "cell_type": "markdown",
   "id": "760679f3",
   "metadata": {},
   "source": [
    "`qr`分解将矩阵分解成一个正交矩阵和一个上三角矩阵的积。\n",
    "\n",
    "\n",
    "[QR 分解 - 维基百科，自由的百科全书](https://zh.wikipedia.org/zh-hans/QR%E5%88%86%E8%A7%A3)"
   ]
  },
  {
   "cell_type": "code",
   "execution_count": 1412,
   "id": "ff972237",
   "metadata": {},
   "outputs": [
    {
     "data": {
      "text/plain": [
       "array([[0, 7, 6, 4, 4],\n",
       "       [8, 0, 6, 2, 0],\n",
       "       [5, 9, 7, 7, 7],\n",
       "       [7, 5, 1, 8, 4]])"
      ]
     },
     "execution_count": 1412,
     "metadata": {},
     "output_type": "execute_result"
    }
   ],
   "source": [
    "rng = np.random.default_rng(42)\n",
    "a = rng.integers(0, 10, (4, 5))\n",
    "a"
   ]
  },
  {
   "cell_type": "code",
   "execution_count": 1417,
   "id": "dee04736",
   "metadata": {},
   "outputs": [],
   "source": [
    "# q是正交矩阵，r是上三角矩阵\n",
    "q, r = LA.qr(a)"
   ]
  },
  {
   "cell_type": "code",
   "execution_count": 1425,
   "id": "adcc40ef",
   "metadata": {},
   "outputs": [
    {
     "data": {
      "text/plain": [
       "((4, 4), (4, 5))"
      ]
     },
     "execution_count": 1425,
     "metadata": {},
     "output_type": "execute_result"
    }
   ],
   "source": [
    "q.shape, r.shape"
   ]
  },
  {
   "cell_type": "code",
   "execution_count": 1418,
   "id": "aaba0281",
   "metadata": {},
   "outputs": [
    {
     "data": {
      "text/plain": [
       "True"
      ]
     },
     "execution_count": 1418,
     "metadata": {},
     "output_type": "execute_result"
    }
   ],
   "source": [
    "np.allclose(q.dot(r), a)"
   ]
  },
  {
   "cell_type": "code",
   "execution_count": 1422,
   "id": "f5b0a6f7",
   "metadata": {},
   "outputs": [
    {
     "data": {
      "text/plain": [
       "True"
      ]
     },
     "execution_count": 1422,
     "metadata": {},
     "output_type": "execute_result"
    }
   ],
   "source": [
    "# 转置=逆\n",
    "np.allclose(LA.inv(q), q.T)"
   ]
  },
  {
   "cell_type": "markdown",
   "id": "def0a0ca",
   "metadata": {},
   "source": [
    "`svd`分解将矩阵分解为一个酉矩阵`U`、一个非负实对角矩阵`Σ`和一个共轭转置矩阵`V*`的乘积。Σ对角线上的元素为奇异值。\n",
    "\n",
    "`M = UΣV*`\n",
    "\n",
    "\n",
    "[奇异值分解 - 维基百科，自由的百科全书](https://zh.wikipedia.org/zh-hans/%E5%A5%87%E5%BC%82%E5%80%BC%E5%88%86%E8%A7%A3)"
   ]
  },
  {
   "cell_type": "code",
   "execution_count": 1488,
   "id": "6cdf1dcc",
   "metadata": {},
   "outputs": [
    {
     "data": {
      "text/plain": [
       "array([[0, 7, 6, 4, 4],\n",
       "       [8, 0, 6, 2, 0],\n",
       "       [5, 9, 7, 7, 7],\n",
       "       [7, 5, 1, 8, 4]])"
      ]
     },
     "execution_count": 1488,
     "metadata": {},
     "output_type": "execute_result"
    }
   ],
   "source": [
    "a"
   ]
  },
  {
   "cell_type": "code",
   "execution_count": 1489,
   "id": "d3600021",
   "metadata": {},
   "outputs": [],
   "source": [
    "u, s, vh = LA.svd(a)"
   ]
  },
  {
   "cell_type": "code",
   "execution_count": 1490,
   "id": "44e5467b",
   "metadata": {},
   "outputs": [
    {
     "data": {
      "text/plain": [
       "((4, 4), (4,), (5, 5))"
      ]
     },
     "execution_count": 1490,
     "metadata": {},
     "output_type": "execute_result"
    }
   ],
   "source": [
    "u.shape, s.shape, vh.shape"
   ]
  },
  {
   "cell_type": "code",
   "execution_count": 1503,
   "id": "61684788",
   "metadata": {},
   "outputs": [
    {
     "data": {
      "text/plain": [
       "(4, 5)"
      ]
     },
     "execution_count": 1503,
     "metadata": {},
     "output_type": "execute_result"
    }
   ],
   "source": [
    "xgm = np.insert(np.diag(s), s.shape[0], 0, axis=1)\n",
    "xgm.shape"
   ]
  },
  {
   "cell_type": "code",
   "execution_count": 1505,
   "id": "fe9d2bc1",
   "metadata": {},
   "outputs": [
    {
     "data": {
      "text/plain": [
       "True"
      ]
     },
     "execution_count": 1505,
     "metadata": {},
     "output_type": "execute_result"
    }
   ],
   "source": [
    "np.allclose(u.dot(xgm).dot(vh), a)"
   ]
  },
  {
   "cell_type": "markdown",
   "id": "e3a0cf9a",
   "metadata": {},
   "source": [
    "## Einsum\n",
    "\n",
    "使用`einsum`可以让很多常见的数组运算以简洁的方式表示。\n",
    "\n",
    "下标字符串是一个逗号分隔的下标标签列表，每个标签指的是相应操作的一个维度。\n",
    "- 标签重复时会被求和`np.einsum(\"i,i\", a, b)`，等价于`np.inner(a,b)`。\n",
    "- 如果只出现一次`np.einsum(\"i\", a)`，返回自己的view。\n",
    "- 重复下标标签取对角线`np.einsum(\"ii\", a)`，等价于`np.trace(a)`\n",
    "\n",
    "\n",
    "在隐式模式下，下标很重要，输出的轴会按字母重新排序。比如：\n",
    "- `np.einsum(\"ij\",a)`不会影响二维数组，但`np.einsum(\"ji\",a)`则返回转置。\n",
    "- `np.einsum(\"ij,jk\", a, b)`会返回矩阵乘法，而`np.einsum(\"ij,jh\", a, b)`则返回乘法的转置。\n",
    "\n",
    "\n",
    "在显式模式下，可以通过指定输出下标标签直接控制输出。此时需要`->`标识符。\n",
    "- `np.einsum(\"i->\", a)`类似于`np.sum(a, axis=-1)`。\n",
    "- `np.einsum(\"ii->i\", a)`类似于`np.diag(a)`。\n",
    "- `np.einsum(\"ij,jh->ih\", a, b)`返回乘法结果，而不是结果的转置。\n",
    "\n",
    "`einsum`默认不支持广播，要启用需使用（在左侧添加）省略号。\n",
    "- `np.einsum(\"..ii->...i\", a)`\n",
    "- 跟踪第一个和最后一个维度：`np.einsum(\"i...i\", a)`\n",
    "- 用最左边的轴矩阵乘法：`np.einsum(\"ij...,jk...->ik...\", a, b)`"
   ]
  },
  {
   "cell_type": "code",
   "execution_count": 182,
   "id": "46aa85a1",
   "metadata": {},
   "outputs": [],
   "source": [
    "a = np.arange(3)\n",
    "b = np.arange(9).reshape(3, 3)\n",
    "c = np.arange(6).reshape(2,3)\n",
    "d = np.arange(6).reshape(3,2)\n",
    "e = np.arange(60).reshape(3,4,5)\n",
    "f = np.arange(24).reshape(4,3,2)\n",
    "g = np.arange(30).reshape(3,5,2)"
   ]
  },
  {
   "cell_type": "markdown",
   "id": "fb1f1566",
   "metadata": {},
   "source": [
    "一个标签："
   ]
  },
  {
   "cell_type": "code",
   "execution_count": 126,
   "id": "9bfe3cdd",
   "metadata": {},
   "outputs": [
    {
     "data": {
      "text/plain": [
       "array([0, 1, 2])"
      ]
     },
     "execution_count": 126,
     "metadata": {},
     "output_type": "execute_result"
    }
   ],
   "source": [
    "# 返回自己的view\n",
    "np.einsum(\"i\", a)"
   ]
  },
  {
   "cell_type": "code",
   "execution_count": 127,
   "id": "7a2adb41",
   "metadata": {},
   "outputs": [
    {
     "data": {
      "text/plain": [
       "array([[0, 1, 2],\n",
       "       [3, 4, 5],\n",
       "       [6, 7, 8]])"
      ]
     },
     "execution_count": 127,
     "metadata": {},
     "output_type": "execute_result"
    }
   ],
   "source": [
    "# 广播\n",
    "np.einsum(\"...i\", b)"
   ]
  },
  {
   "cell_type": "code",
   "execution_count": 128,
   "id": "d63a081b",
   "metadata": {},
   "outputs": [
    {
     "data": {
      "text/plain": [
       "(5, 5)"
      ]
     },
     "execution_count": 128,
     "metadata": {},
     "output_type": "execute_result"
    }
   ],
   "source": [
    "# 内积\n",
    "np.einsum(\"i,i\", a,a), np.inner(a, a)"
   ]
  },
  {
   "cell_type": "code",
   "execution_count": 129,
   "id": "a5336189",
   "metadata": {},
   "outputs": [
    {
     "data": {
      "text/plain": [
       "(12, 12)"
      ]
     },
     "execution_count": 129,
     "metadata": {},
     "output_type": "execute_result"
    }
   ],
   "source": [
    "# 迹\n",
    "np.einsum(\"ii\", b), np.trace(b)"
   ]
  },
  {
   "cell_type": "markdown",
   "id": "62f8d78c",
   "metadata": {},
   "source": [
    "隐式模式："
   ]
  },
  {
   "cell_type": "code",
   "execution_count": 130,
   "id": "057beeba",
   "metadata": {},
   "outputs": [
    {
     "data": {
      "text/plain": [
       "array([[0, 1, 2],\n",
       "       [3, 4, 5]])"
      ]
     },
     "execution_count": 130,
     "metadata": {},
     "output_type": "execute_result"
    }
   ],
   "source": [
    "# 不影响结果\n",
    "np.einsum(\"ij\", c)"
   ]
  },
  {
   "cell_type": "code",
   "execution_count": 131,
   "id": "b10fd07b",
   "metadata": {},
   "outputs": [
    {
     "data": {
      "text/plain": [
       "array([[0, 3],\n",
       "       [1, 4],\n",
       "       [2, 5]])"
      ]
     },
     "execution_count": 131,
     "metadata": {},
     "output_type": "execute_result"
    }
   ],
   "source": [
    "# 返回转置\n",
    "np.einsum(\"ji\", c)"
   ]
  },
  {
   "cell_type": "code",
   "execution_count": 155,
   "id": "51980177",
   "metadata": {},
   "outputs": [
    {
     "data": {
      "text/plain": [
       "(array([[0, 0, 0],\n",
       "        [0, 1, 2],\n",
       "        [0, 2, 4]]),\n",
       " array([[0, 0, 0],\n",
       "        [0, 1, 2],\n",
       "        [0, 2, 4]]))"
      ]
     },
     "execution_count": 155,
     "metadata": {},
     "output_type": "execute_result"
    }
   ],
   "source": [
    "# 外积\n",
    "np.einsum(\"i,j\", a,a), np.outer(a, a)"
   ]
  },
  {
   "cell_type": "code",
   "execution_count": 132,
   "id": "13706de8",
   "metadata": {},
   "outputs": [
    {
     "data": {
      "text/plain": [
       "array([[10, 13],\n",
       "       [28, 40]])"
      ]
     },
     "execution_count": 132,
     "metadata": {},
     "output_type": "execute_result"
    }
   ],
   "source": [
    "# 矩阵乘法\n",
    "np.einsum(\"ij,jk\", c, d)"
   ]
  },
  {
   "cell_type": "code",
   "execution_count": 133,
   "id": "e6399c9f",
   "metadata": {},
   "outputs": [
    {
     "data": {
      "text/plain": [
       "array([[10, 28],\n",
       "       [13, 40]])"
      ]
     },
     "execution_count": 133,
     "metadata": {},
     "output_type": "execute_result"
    }
   ],
   "source": [
    "# h在i之前，返回转置\n",
    "np.einsum(\"ij,jh\", c, d)"
   ]
  },
  {
   "cell_type": "code",
   "execution_count": 136,
   "id": "0b4800ff",
   "metadata": {},
   "outputs": [
    {
     "data": {
      "text/plain": [
       "(array([ 5, 14]), array([ 5, 14]))"
      ]
     },
     "execution_count": 136,
     "metadata": {},
     "output_type": "execute_result"
    }
   ],
   "source": [
    "np.einsum(\"ij,j\", c,a), np.dot(c,a)"
   ]
  },
  {
   "cell_type": "markdown",
   "id": "d61bc2d4",
   "metadata": {},
   "source": [
    "显式模式："
   ]
  },
  {
   "cell_type": "code",
   "execution_count": 80,
   "id": "39e625a5",
   "metadata": {},
   "outputs": [
    {
     "data": {
      "text/plain": [
       "10"
      ]
     },
     "execution_count": 80,
     "metadata": {},
     "output_type": "execute_result"
    }
   ],
   "source": [
    "# 求和\n",
    "np.einsum(\"i->\", a)"
   ]
  },
  {
   "cell_type": "code",
   "execution_count": 104,
   "id": "bb336dfa",
   "metadata": {},
   "outputs": [
    {
     "data": {
      "text/plain": [
       "(array([ 3, 12, 21]), array([ 3, 12, 21]))"
      ]
     },
     "execution_count": 104,
     "metadata": {},
     "output_type": "execute_result"
    }
   ],
   "source": [
    "# np.sum(b, axis=1)\n",
    "np.einsum(\"ij->i\", b), np.sum(b, axis=1)"
   ]
  },
  {
   "cell_type": "code",
   "execution_count": 107,
   "id": "bcc7db92",
   "metadata": {
    "scrolled": true
   },
   "outputs": [
    {
     "data": {
      "text/plain": [
       "(array([ 3, 12]), array([ 3, 12]))"
      ]
     },
     "execution_count": 107,
     "metadata": {},
     "output_type": "execute_result"
    }
   ],
   "source": [
    "# 求和\n",
    "np.einsum(\"ij->i\", c), np.sum(c, axis=1)"
   ]
  },
  {
   "cell_type": "code",
   "execution_count": 106,
   "id": "8742b7b2",
   "metadata": {},
   "outputs": [
    {
     "data": {
      "text/plain": [
       "(array([6, 9]), array([6, 9]))"
      ]
     },
     "execution_count": 106,
     "metadata": {},
     "output_type": "execute_result"
    }
   ],
   "source": [
    "# np.sum(d, axis=0)\n",
    "np.einsum(\"ij->j\", d), np.sum(d, axis=0)"
   ]
  },
  {
   "cell_type": "code",
   "execution_count": 294,
   "id": "dde02d56",
   "metadata": {},
   "outputs": [
    {
     "data": {
      "text/plain": [
       "(array([0, 1, 4]), array([0, 1, 4]))"
      ]
     },
     "execution_count": 294,
     "metadata": {},
     "output_type": "execute_result"
    }
   ],
   "source": [
    "# 元素相乘\n",
    "np.einsum(\"i,i->i\", a, a), a*a"
   ]
  },
  {
   "cell_type": "code",
   "execution_count": 306,
   "id": "b7e697bb",
   "metadata": {},
   "outputs": [
    {
     "data": {
      "text/plain": [
       "(9, 9)"
      ]
     },
     "execution_count": 306,
     "metadata": {},
     "output_type": "execute_result"
    }
   ],
   "source": [
    "np.einsum(\"i,j->\", a, a), np.outer(a,a).sum()"
   ]
  },
  {
   "cell_type": "code",
   "execution_count": 111,
   "id": "0e414d7f",
   "metadata": {},
   "outputs": [
    {
     "data": {
      "text/plain": [
       "array([[0, 3],\n",
       "       [1, 4],\n",
       "       [2, 5]])"
      ]
     },
     "execution_count": 111,
     "metadata": {},
     "output_type": "execute_result"
    }
   ],
   "source": [
    "# 显式，转置\n",
    "np.einsum(\"ij->ji\", c)"
   ]
  },
  {
   "cell_type": "code",
   "execution_count": 91,
   "id": "1adcfc9d",
   "metadata": {},
   "outputs": [
    {
     "data": {
      "text/plain": [
       "array([0, 4, 8])"
      ]
     },
     "execution_count": 91,
     "metadata": {},
     "output_type": "execute_result"
    }
   ],
   "source": [
    "# 返回diag\n",
    "np.einsum(\"ii->i\", b)"
   ]
  },
  {
   "cell_type": "code",
   "execution_count": 389,
   "id": "184ee8bb",
   "metadata": {
    "scrolled": true
   },
   "outputs": [
    {
     "data": {
      "text/plain": [
       "array([[ 0,  1,  4],\n",
       "       [ 9, 16, 25]])"
      ]
     },
     "execution_count": 389,
     "metadata": {},
     "output_type": "execute_result"
    }
   ],
   "source": [
    "# 元素相乘\n",
    "np.einsum(\"ij,ij->ij\", c, c)"
   ]
  },
  {
   "cell_type": "code",
   "execution_count": 282,
   "id": "2ac4d4f8",
   "metadata": {
    "scrolled": true
   },
   "outputs": [
    {
     "data": {
      "text/plain": [
       "array([[10, 13],\n",
       "       [28, 40]])"
      ]
     },
     "execution_count": 282,
     "metadata": {},
     "output_type": "execute_result"
    }
   ],
   "source": [
    "# 矩阵乘法，因为显式指定，不会转置\n",
    "np.einsum(\"ij,jh->ih\", c,d)"
   ]
  },
  {
   "cell_type": "code",
   "execution_count": 284,
   "id": "e2083b2b",
   "metadata": {},
   "outputs": [
    {
     "data": {
      "text/plain": [
       "array([23, 68])"
      ]
     },
     "execution_count": 284,
     "metadata": {},
     "output_type": "execute_result"
    }
   ],
   "source": [
    "# 求和\n",
    "np.einsum(\"ij,jh->i\", c, d)"
   ]
  },
  {
   "cell_type": "code",
   "execution_count": 285,
   "id": "a2559dee",
   "metadata": {},
   "outputs": [
    {
     "data": {
      "text/plain": [
       "array([38, 53])"
      ]
     },
     "execution_count": 285,
     "metadata": {},
     "output_type": "execute_result"
    }
   ],
   "source": [
    "np.einsum(\"ij,jh->h\", c, d)"
   ]
  },
  {
   "cell_type": "code",
   "execution_count": 192,
   "id": "ca3c97d6",
   "metadata": {
    "scrolled": true
   },
   "outputs": [
    {
     "data": {
      "text/plain": [
       "(5, 2)"
      ]
     },
     "execution_count": 192,
     "metadata": {},
     "output_type": "execute_result"
    }
   ],
   "source": [
    "# 多维\n",
    "# e=(3,4,5), f=(4,3,2)\n",
    "np.einsum(\"ijk,jil->kl\", e, f).shape"
   ]
  },
  {
   "cell_type": "code",
   "execution_count": 189,
   "id": "5a4919cd",
   "metadata": {},
   "outputs": [
    {
     "data": {
      "text/plain": [
       "(3, 4, 2)"
      ]
     },
     "execution_count": 189,
     "metadata": {},
     "output_type": "execute_result"
    }
   ],
   "source": [
    "np.einsum(\"ijk,ikh->ijh\", e, g).shape"
   ]
  },
  {
   "cell_type": "code",
   "execution_count": 191,
   "id": "3b60c06a",
   "metadata": {},
   "outputs": [
    {
     "data": {
      "text/plain": [
       "True"
      ]
     },
     "execution_count": 191,
     "metadata": {},
     "output_type": "execute_result"
    }
   ],
   "source": [
    "np.array_equal(\n",
    "    np.einsum(\"ijk,ikh->ijh\", e, g), \n",
    "    np.matmul(e,g)\n",
    ")"
   ]
  },
  {
   "cell_type": "code",
   "execution_count": 317,
   "id": "61c20343",
   "metadata": {},
   "outputs": [
    {
     "data": {
      "text/plain": [
       "(2, 3, 3, 2)"
      ]
     },
     "execution_count": 317,
     "metadata": {},
     "output_type": "execute_result"
    }
   ],
   "source": [
    "np.einsum(\"ij,kl -> ijkl\", c, d).shape"
   ]
  },
  {
   "cell_type": "code",
   "execution_count": 373,
   "id": "94226f88",
   "metadata": {},
   "outputs": [
    {
     "data": {
      "text/plain": [
       "True"
      ]
     },
     "execution_count": 373,
     "metadata": {},
     "output_type": "execute_result"
    }
   ],
   "source": [
    "np.array_equal(\n",
    "    np.einsum(\"ij,kl->ijkl\", c, d),\n",
    "    c[:,:,None,None] * d\n",
    ")"
   ]
  },
  {
   "cell_type": "code",
   "execution_count": 385,
   "id": "1159012b",
   "metadata": {},
   "outputs": [
    {
     "data": {
      "text/plain": [
       "(2, 3, 2)"
      ]
     },
     "execution_count": 385,
     "metadata": {},
     "output_type": "execute_result"
    }
   ],
   "source": [
    "np.einsum(\"ij,jk->ijk\", c, d).shape"
   ]
  },
  {
   "cell_type": "code",
   "execution_count": 384,
   "id": "f93ba575",
   "metadata": {},
   "outputs": [
    {
     "data": {
      "text/plain": [
       "True"
      ]
     },
     "execution_count": 384,
     "metadata": {},
     "output_type": "execute_result"
    }
   ],
   "source": [
    "np.array_equal(np.einsum(\"ij,jk->ijk\", c, d), c[:,:,None]*d)"
   ]
  },
  {
   "cell_type": "markdown",
   "id": "bbe8b001",
   "metadata": {},
   "source": [
    "广播："
   ]
  },
  {
   "cell_type": "code",
   "execution_count": 150,
   "id": "48560880",
   "metadata": {},
   "outputs": [
    {
     "data": {
      "text/plain": [
       "array([ 5, 14])"
      ]
     },
     "execution_count": 150,
     "metadata": {},
     "output_type": "execute_result"
    }
   ],
   "source": [
    "# 矩阵乘法\n",
    "# c=(2,3), a=(3,)\n",
    "np.einsum(\"...j,j\", c, a)"
   ]
  },
  {
   "cell_type": "code",
   "execution_count": 149,
   "id": "d8d47b06",
   "metadata": {},
   "outputs": [
    {
     "data": {
      "text/plain": [
       "array([ 5, 14])"
      ]
     },
     "execution_count": 149,
     "metadata": {},
     "output_type": "execute_result"
    }
   ],
   "source": [
    "# a=(3,), c=(2,3)\n",
    "np.einsum(\"j,...j\", a, c)"
   ]
  },
  {
   "cell_type": "code",
   "execution_count": 147,
   "id": "bcecf2ba",
   "metadata": {},
   "outputs": [
    {
     "data": {
      "text/plain": [
       "array([10, 13])"
      ]
     },
     "execution_count": 147,
     "metadata": {},
     "output_type": "execute_result"
    }
   ],
   "source": [
    "# a=(3,), d=(3, 2)\n",
    "np.einsum(\"j,j...\", a, d)"
   ]
  },
  {
   "cell_type": "code",
   "execution_count": 279,
   "id": "dd4f015e",
   "metadata": {},
   "outputs": [
    {
     "data": {
      "text/plain": [
       "array([[10, 13],\n",
       "       [28, 40]])"
      ]
     },
     "execution_count": 279,
     "metadata": {},
     "output_type": "execute_result"
    }
   ],
   "source": [
    "# 延续上面的乘法，显式\n",
    "np.einsum(\"ij,j...->i...\", c, d)"
   ]
  },
  {
   "cell_type": "code",
   "execution_count": 280,
   "id": "e19b8839",
   "metadata": {},
   "outputs": [
    {
     "data": {
      "text/plain": [
       "array([[10, 13],\n",
       "       [28, 40]])"
      ]
     },
     "execution_count": 280,
     "metadata": {},
     "output_type": "execute_result"
    }
   ],
   "source": [
    "# 隐式\n",
    "np.einsum(\"...j,ji\", c, d)"
   ]
  },
  {
   "cell_type": "markdown",
   "id": "8c3887ba",
   "metadata": {},
   "source": [
    "## Padding"
   ]
  },
  {
   "cell_type": "markdown",
   "id": "0d86cc03",
   "metadata": {},
   "source": [
    "Padding操作，参数如下：\n",
    "\n",
    "- 数组\n",
    "- pad_width：序列、整数或数组，每个轴边缘扩展的数量。\n",
    "- 模式：默认constant。还包括：edge, linear_ramp, maximum, mean, median, minimum, reflect, symmetric, wrap, empty。\n",
    "- stat_length：序列、整数或数组，模式是`maximum`, `minimum`, `mean`, `median`\\时，用来计算每个轴边缘的值，默认None。\n",
    "- constant_values：序列或标量，padding的值，默认0。\n",
    "- end_values：虚列或标量，模式是`linear_ramp`时使用，用于结束值，经形成填充数组的边缘，默认0。\n",
    "- reflect_type：模式是`reflect`和`symmetric`时使用，默认使用`even`风格，边缘值周围不改变反射，`odd`模式，数组的拓展部分是通过从边缘值的两倍中减去反射值来创建的。"
   ]
  },
  {
   "cell_type": "markdown",
   "id": "7429bdef",
   "metadata": {},
   "source": [
    "首先看pad_width参数："
   ]
  },
  {
   "cell_type": "code",
   "execution_count": 798,
   "id": "c9ab024c",
   "metadata": {},
   "outputs": [
    {
     "data": {
      "text/plain": [
       "array([4, 4, 1, 2, 3, 4, 5, 6, 6, 6])"
      ]
     },
     "execution_count": 798,
     "metadata": {},
     "output_type": "execute_result"
    }
   ],
   "source": [
    "# tuple\n",
    "np.pad(\n",
    "    [1,2,3,4,5], \n",
    "    (2,3),  # 等于((2,3),), ((2,3))\n",
    "    \"constant\", \n",
    "    constant_values=(4, 6)\n",
    ")"
   ]
  },
  {
   "cell_type": "code",
   "execution_count": 805,
   "id": "fd7ccfcb",
   "metadata": {},
   "outputs": [
    {
     "data": {
      "text/plain": [
       "array([4, 4, 1, 2, 3, 4, 5, 6, 6])"
      ]
     },
     "execution_count": 805,
     "metadata": {},
     "output_type": "execute_result"
    }
   ],
   "source": [
    "np.pad(\n",
    "    [1,2,3,4,5], \n",
    "    2, # 等于(2), (2, )\n",
    "    \"constant\", \n",
    "    constant_values=(4, 6)\n",
    ")"
   ]
  },
  {
   "cell_type": "code",
   "execution_count": 809,
   "id": "508ff00e",
   "metadata": {},
   "outputs": [
    {
     "data": {
      "text/plain": [
       "array([[0, 0, 0, 0, 0, 0],\n",
       "       [0, 1, 2, 3, 0, 0],\n",
       "       [0, 4, 5, 6, 0, 0],\n",
       "       [0, 0, 0, 0, 0, 0],\n",
       "       [0, 0, 0, 0, 0, 0]])"
      ]
     },
     "execution_count": 809,
     "metadata": {},
     "output_type": "execute_result"
    }
   ],
   "source": [
    "# 分别左上，右下\n",
    "np.pad(\n",
    "    [[1,2,3],[4,5,6]],\n",
    "    (1, 2)\n",
    ")"
   ]
  },
  {
   "cell_type": "code",
   "execution_count": 813,
   "id": "f6061651",
   "metadata": {},
   "outputs": [
    {
     "data": {
      "text/plain": [
       "array([[0, 0, 0, 0, 0, 0],\n",
       "       [0, 0, 1, 2, 3, 0],\n",
       "       [0, 0, 4, 5, 6, 0],\n",
       "       [0, 0, 0, 0, 0, 0],\n",
       "       [0, 0, 0, 0, 0, 0]])"
      ]
     },
     "execution_count": 813,
     "metadata": {},
     "output_type": "execute_result"
    }
   ],
   "source": [
    "# 行（1,2）\n",
    "# 列（2,1）\n",
    "np.pad(\n",
    "    [[1,2,3],[4,5,6]],\n",
    "    ((1, 2), (2, 1))\n",
    ")"
   ]
  },
  {
   "cell_type": "code",
   "execution_count": 815,
   "id": "465bc50a",
   "metadata": {},
   "outputs": [
    {
     "data": {
      "text/plain": [
       "array([[0, 0, 0, 0, 0],\n",
       "       [0, 1, 2, 3, 0],\n",
       "       [0, 4, 5, 6, 0],\n",
       "       [0, 0, 0, 0, 0]])"
      ]
     },
     "execution_count": 815,
     "metadata": {},
     "output_type": "execute_result"
    }
   ],
   "source": [
    "np.pad(\n",
    "    [[1,2,3],[4,5,6]],\n",
    "    1\n",
    ")"
   ]
  },
  {
   "cell_type": "markdown",
   "id": "a3fd91de",
   "metadata": {},
   "source": [
    "接下来看下不同模式，顺带了解不同模式对应的额外参数。简单起见，`pad_width`我们统一使用整数。"
   ]
  },
  {
   "cell_type": "code",
   "execution_count": 816,
   "id": "2e41e171",
   "metadata": {},
   "outputs": [
    {
     "data": {
      "text/plain": [
       "array([[1, 2],\n",
       "       [3, 4],\n",
       "       [5, 6]])"
      ]
     },
     "execution_count": 816,
     "metadata": {},
     "output_type": "execute_result"
    }
   ],
   "source": [
    "a = np.arange(1, 7).reshape(3, 2)\n",
    "a"
   ]
  },
  {
   "cell_type": "code",
   "execution_count": 817,
   "id": "22ce4249",
   "metadata": {},
   "outputs": [
    {
     "data": {
      "text/plain": [
       "array([[1, 1, 2, 2],\n",
       "       [1, 1, 2, 2],\n",
       "       [3, 3, 4, 4],\n",
       "       [5, 5, 6, 6],\n",
       "       [5, 5, 6, 6]])"
      ]
     },
     "execution_count": 817,
     "metadata": {},
     "output_type": "execute_result"
    }
   ],
   "source": [
    "# edge\n",
    "np.pad(a, 1, \"edge\")"
   ]
  },
  {
   "cell_type": "code",
   "execution_count": 821,
   "id": "7b12186d",
   "metadata": {},
   "outputs": [
    {
     "data": {
      "text/plain": [
       "array([[0, 0, 0, 0],\n",
       "       [0, 1, 2, 0],\n",
       "       [0, 3, 4, 0],\n",
       "       [0, 5, 6, 0],\n",
       "       [0, 0, 0, 0]])"
      ]
     },
     "execution_count": 821,
     "metadata": {},
     "output_type": "execute_result"
    }
   ],
   "source": [
    "# linear_ramp\n",
    "# 需要额外参数：end_values，默认0\n",
    "np.pad(a, 1, \"linear_ramp\")"
   ]
  },
  {
   "cell_type": "code",
   "execution_count": 824,
   "id": "32f939e0",
   "metadata": {},
   "outputs": [
    {
     "data": {
      "text/plain": [
       "array([[1, 1, 1, 1],\n",
       "       [1, 1, 2, 1],\n",
       "       [1, 3, 4, 1],\n",
       "       [1, 5, 6, 1],\n",
       "       [1, 1, 1, 1]])"
      ]
     },
     "execution_count": 824,
     "metadata": {},
     "output_type": "execute_result"
    }
   ],
   "source": [
    "np.pad(a, 1, \"linear_ramp\", end_values=(1, ))"
   ]
  },
  {
   "cell_type": "code",
   "execution_count": 825,
   "id": "e8449f8b",
   "metadata": {},
   "outputs": [
    {
     "data": {
      "text/plain": [
       "array([[1, 1, 1, 2],\n",
       "       [1, 1, 2, 2],\n",
       "       [1, 3, 4, 2],\n",
       "       [1, 5, 6, 2],\n",
       "       [1, 2, 2, 2]])"
      ]
     },
     "execution_count": 825,
     "metadata": {},
     "output_type": "execute_result"
    }
   ],
   "source": [
    "np.pad(a, 1, \"linear_ramp\", end_values=(1, 2), )"
   ]
  },
  {
   "cell_type": "code",
   "execution_count": 827,
   "id": "655a003c",
   "metadata": {},
   "outputs": [
    {
     "data": {
      "text/plain": [
       "array([[3, 1, 1, 4],\n",
       "       [3, 1, 2, 4],\n",
       "       [3, 3, 4, 4],\n",
       "       [3, 5, 6, 4],\n",
       "       [3, 2, 2, 4]])"
      ]
     },
     "execution_count": 827,
     "metadata": {},
     "output_type": "execute_result"
    }
   ],
   "source": [
    "# 行（1,2）\n",
    "# 列（3,4）\n",
    "np.pad(a, 1, \"linear_ramp\", end_values=((1, 2), (3, 4)))"
   ]
  },
  {
   "cell_type": "code",
   "execution_count": 829,
   "id": "c2e1997b",
   "metadata": {},
   "outputs": [
    {
     "data": {
      "text/plain": [
       "array([[3, 1, 1, 4],\n",
       "       [3, 1, 2, 4],\n",
       "       [3, 3, 4, 4],\n",
       "       [3, 5, 6, 4],\n",
       "       [3, 2, 2, 4]])"
      ]
     },
     "execution_count": 829,
     "metadata": {},
     "output_type": "execute_result"
    }
   ],
   "source": [
    "# 和这个等价\n",
    "np.pad(\n",
    "    a,\n",
    "    1,\n",
    "    \"constant\", \n",
    "    constant_values=((1, 2), (3,4))\n",
    ")"
   ]
  },
  {
   "cell_type": "code",
   "execution_count": 832,
   "id": "e74a3c67",
   "metadata": {},
   "outputs": [
    {
     "data": {
      "text/plain": [
       "array([[6, 5, 6, 6],\n",
       "       [2, 1, 2, 2],\n",
       "       [4, 3, 4, 4],\n",
       "       [6, 5, 6, 6],\n",
       "       [6, 5, 6, 6]])"
      ]
     },
     "execution_count": 832,
     "metadata": {},
     "output_type": "execute_result"
    }
   ],
   "source": [
    "# maximum, minmum, mean, median\n",
    "# 需要额外参数stat_length，默认None，使用该轴所有值\n",
    "np.pad(a, 1, \"maximum\")"
   ]
  },
  {
   "cell_type": "code",
   "execution_count": 837,
   "id": "0b9668c9",
   "metadata": {},
   "outputs": [
    {
     "data": {
      "text/plain": [
       "array([[4, 3, 4, 4],\n",
       "       [2, 1, 2, 2],\n",
       "       [4, 3, 4, 4],\n",
       "       [6, 5, 6, 6],\n",
       "       [6, 5, 6, 6]])"
      ]
     },
     "execution_count": 837,
     "metadata": {},
     "output_type": "execute_result"
    }
   ],
   "source": [
    "# 只取2个\n",
    "np.pad(a, 1, \"maximum\", stat_length=2)"
   ]
  },
  {
   "cell_type": "code",
   "execution_count": 844,
   "id": "b483f540",
   "metadata": {},
   "outputs": [
    {
     "data": {
      "text/plain": [
       "array([[4, 3, 4, 4],\n",
       "       [2, 1, 2, 2],\n",
       "       [4, 3, 4, 4],\n",
       "       [6, 5, 6, 6],\n",
       "       [6, 5, 6, 6]])"
      ]
     },
     "execution_count": 844,
     "metadata": {},
     "output_type": "execute_result"
    }
   ],
   "source": [
    "# 分别取，左上2，右下1\n",
    "np.pad(a, 1, \"maximum\", stat_length=((2, 1), ))"
   ]
  },
  {
   "cell_type": "code",
   "execution_count": 850,
   "id": "21c45fcd",
   "metadata": {},
   "outputs": [
    {
     "data": {
      "text/plain": [
       "array([[3, 3, 4, 4],\n",
       "       [1, 1, 2, 2],\n",
       "       [3, 3, 4, 4],\n",
       "       [5, 5, 6, 6],\n",
       "       [5, 5, 6, 6]])"
      ]
     },
     "execution_count": 850,
     "metadata": {},
     "output_type": "execute_result"
    }
   ],
   "source": [
    "# 各自分别指定\n",
    "# 行（2,1）\n",
    "# 列（1,2）\n",
    "np.pad(a, 1, \"maximum\", stat_length=((2, 1), (1, 2)))"
   ]
  },
  {
   "cell_type": "code",
   "execution_count": 858,
   "id": "eb3de5ae",
   "metadata": {},
   "outputs": [],
   "source": [
    "b = a.astype(np.float16)"
   ]
  },
  {
   "cell_type": "code",
   "execution_count": 860,
   "id": "e525b65a",
   "metadata": {},
   "outputs": [
    {
     "data": {
      "text/plain": [
       "array([[2. , 2. , 3. , 2.5],\n",
       "       [1. , 1. , 2. , 1.5],\n",
       "       [3. , 3. , 4. , 3.5],\n",
       "       [5. , 5. , 6. , 5.5],\n",
       "       [5. , 5. , 6. , 5.5]], dtype=float16)"
      ]
     },
     "execution_count": 860,
     "metadata": {},
     "output_type": "execute_result"
    }
   ],
   "source": [
    "# mean和median类似\n",
    "# 行（2,1）\n",
    "# 列（1,2）\n",
    "np.pad(b, 1, \"mean\", stat_length=((2, 1), (1, 2)))"
   ]
  },
  {
   "cell_type": "code",
   "execution_count": 870,
   "id": "67c36c61",
   "metadata": {},
   "outputs": [],
   "source": [
    "a = [1,2,3,4,5]"
   ]
  },
  {
   "cell_type": "code",
   "execution_count": 883,
   "id": "a2fcc295",
   "metadata": {},
   "outputs": [
    {
     "data": {
      "text/plain": [
       "array([4, 3, 2, 1, 2, 3, 4, 5, 4, 3, 2])"
      ]
     },
     "execution_count": 883,
     "metadata": {},
     "output_type": "execute_result"
    }
   ],
   "source": [
    "# reflect, symmetric\n",
    "# 需要额外参数reflect_type，默认even\n",
    "# 首末是对称轴\n",
    "np.pad(a, 3, \"reflect\")"
   ]
  },
  {
   "cell_type": "code",
   "execution_count": 884,
   "id": "1f38aa99",
   "metadata": {},
   "outputs": [
    {
     "data": {
      "text/plain": [
       "array([-2, -1,  0,  1,  2,  3,  4,  5,  6,  7,  8])"
      ]
     },
     "execution_count": 884,
     "metadata": {},
     "output_type": "execute_result"
    }
   ],
   "source": [
    "# 首末是对称轴\n",
    "np.pad(a, 3, \"reflect\", reflect_type=\"odd\")"
   ]
  },
  {
   "cell_type": "code",
   "execution_count": 885,
   "id": "d76d4fff",
   "metadata": {},
   "outputs": [
    {
     "data": {
      "text/plain": [
       "array([3, 2, 1, 1, 2, 3, 4, 5, 5, 4, 3])"
      ]
     },
     "execution_count": 885,
     "metadata": {},
     "output_type": "execute_result"
    }
   ],
   "source": [
    "# 边缘是对称轴\n",
    "np.pad(a, 3, \"symmetric\")"
   ]
  },
  {
   "cell_type": "code",
   "execution_count": 886,
   "id": "c54ea1d6",
   "metadata": {},
   "outputs": [
    {
     "data": {
      "text/plain": [
       "array([-1,  0,  1,  1,  2,  3,  4,  5,  5,  6,  7])"
      ]
     },
     "execution_count": 886,
     "metadata": {},
     "output_type": "execute_result"
    }
   ],
   "source": [
    "# 边缘是对称轴\n",
    "np.pad(a, 3, \"symmetric\", reflect_type=\"odd\")"
   ]
  },
  {
   "cell_type": "code",
   "execution_count": 889,
   "id": "b7b5e865",
   "metadata": {},
   "outputs": [
    {
     "data": {
      "text/plain": [
       "array([4, 5, 1, 2, 3, 4, 5, 1, 2])"
      ]
     },
     "execution_count": 889,
     "metadata": {},
     "output_type": "execute_result"
    }
   ],
   "source": [
    "# wrap\n",
    "# 首尾互换\n",
    "np.pad(a, 2, \"wrap\")"
   ]
  },
  {
   "cell_type": "code",
   "execution_count": 900,
   "id": "7f7f2259",
   "metadata": {},
   "outputs": [
    {
     "data": {
      "text/plain": [
       "array([              0,               1,               2,               3,\n",
       "                     4,               5, 123145302310976])"
      ]
     },
     "execution_count": 900,
     "metadata": {},
     "output_type": "execute_result"
    }
   ],
   "source": [
    "# empty\n",
    "# 未定义值扩展\n",
    "np.pad(a, 1, \"empty\")"
   ]
  },
  {
   "cell_type": "markdown",
   "id": "311d657c",
   "metadata": {},
   "source": [
    "## 卷积"
   ]
  },
  {
   "cell_type": "markdown",
   "id": "0e8684ec",
   "metadata": {},
   "source": [
    "卷积函数（一维）遵循以下规则：\n",
    "\n",
    "$$\n",
    "(a * v)[n] = \\sum_{m = -\\infty}^{\\infty} a[m] v[n - m]\n",
    "$$"
   ]
  },
  {
   "cell_type": "code",
   "execution_count": 782,
   "id": "3dfb82bc",
   "metadata": {},
   "outputs": [
    {
     "data": {
      "text/plain": [
       "(array([2.5]), 2.5)"
      ]
     },
     "execution_count": 782,
     "metadata": {},
     "output_type": "execute_result"
    }
   ],
   "source": [
    "np.convolve([1, 2, 3], [0, 1, 0.5], \"valid\"), 0.5*1+1*2+0*3"
   ]
  },
  {
   "cell_type": "code",
   "execution_count": 783,
   "id": "7ec88ad7",
   "metadata": {},
   "outputs": [
    {
     "data": {
      "text/plain": [
       "array([1. , 2.5, 4. ])"
      ]
     },
     "execution_count": 783,
     "metadata": {},
     "output_type": "execute_result"
    }
   ],
   "source": [
    "np.convolve([1, 2, 3], [0, 1, 0.5], \"same\")"
   ]
  },
  {
   "cell_type": "code",
   "execution_count": 784,
   "id": "bea5bd6a",
   "metadata": {},
   "outputs": [
    {
     "data": {
      "text/plain": [
       "array([1. , 2.5, 4. ])"
      ]
     },
     "execution_count": 784,
     "metadata": {},
     "output_type": "execute_result"
    }
   ],
   "source": [
    "np.convolve([0, 1, 2, 3, 0], [0, 1, 0.5], \"valid\") "
   ]
  },
  {
   "cell_type": "code",
   "execution_count": 785,
   "id": "0e34eab9",
   "metadata": {
    "scrolled": true
   },
   "outputs": [
    {
     "data": {
      "text/plain": [
       "array([0. , 1. , 2.5, 4. , 1.5])"
      ]
     },
     "execution_count": 785,
     "metadata": {},
     "output_type": "execute_result"
    }
   ],
   "source": [
    "# 默认 full\n",
    "np.convolve([1, 2, 3], [0, 1, 0.5])"
   ]
  },
  {
   "cell_type": "code",
   "execution_count": 786,
   "id": "4498ff02",
   "metadata": {},
   "outputs": [
    {
     "data": {
      "text/plain": [
       "array([0. , 1. , 2.5, 4. , 1.5])"
      ]
     },
     "execution_count": 786,
     "metadata": {},
     "output_type": "execute_result"
    }
   ],
   "source": [
    "np.convolve([0, 0, 1, 2, 3, 0, 0], [0, 1, 0.5], \"valid\")"
   ]
  },
  {
   "cell_type": "markdown",
   "id": "dc54c39e",
   "metadata": {},
   "source": [
    "## 掩码运算\n",
    "\n",
    "使用NumPy的`ma`模块，其很多功能和NumPy一样，我们主要介绍与MASK相关的功能。\n",
    "\n",
    "本模块主要用于处理不完整数据或包含无效数据，或需要人为覆盖掉一部分数据的情况。\n",
    "\n",
    "一个mask数组是一个ndarray和一个mask的组合。mask既可以是`nomask`，表示相关联数组对应的值是无效的；要么是一个布尔数组，为False时，关联数组对应位置值有效（未遮掩），为True时无效（被遮掩）。\n",
    "\n",
    "\n",
    "[Masked arrays — NumPy v1.23.dev0 Manual](https://numpy.org/devdocs/reference/maskedarray.html)"
   ]
  },
  {
   "cell_type": "code",
   "execution_count": 391,
   "id": "2807b49d",
   "metadata": {},
   "outputs": [],
   "source": [
    "import numpy.ma as ma"
   ]
  },
  {
   "cell_type": "markdown",
   "id": "52188b1c",
   "metadata": {},
   "source": [
    "### 简介"
   ]
  },
  {
   "cell_type": "code",
   "execution_count": 395,
   "id": "7f871a68",
   "metadata": {},
   "outputs": [],
   "source": [
    "x = np.array([1, 2, 3, -1, 5])"
   ]
  },
  {
   "cell_type": "code",
   "execution_count": 396,
   "id": "5e566446",
   "metadata": {
    "scrolled": true
   },
   "outputs": [
    {
     "data": {
      "text/plain": [
       "masked_array(data=[1, 2, 3, --, 5],\n",
       "             mask=[False, False, False,  True, False],\n",
       "       fill_value=999999)"
      ]
     },
     "execution_count": 396,
     "metadata": {},
     "output_type": "execute_result"
    }
   ],
   "source": [
    "mx = ma.masked_array(x, mask=[0,0,0,1,0])\n",
    "mx"
   ]
  },
  {
   "cell_type": "code",
   "execution_count": 398,
   "id": "b12cb3aa",
   "metadata": {},
   "outputs": [
    {
     "data": {
      "text/plain": [
       "(2.75, 2.75)"
      ]
     },
     "execution_count": 398,
     "metadata": {},
     "output_type": "execute_result"
    }
   ],
   "source": [
    "mx.mean(), (1+2+3+5)/4"
   ]
  },
  {
   "cell_type": "markdown",
   "id": "651a6453",
   "metadata": {},
   "source": [
    "也可以指定mask的值，这里两个阈值rtol和atol，默认值和`np.allclose`一样，表示在该范围内的值都被mask。"
   ]
  },
  {
   "cell_type": "code",
   "execution_count": 404,
   "id": "8186eecf",
   "metadata": {},
   "outputs": [
    {
     "data": {
      "text/plain": [
       "masked_array(data=[1.0, --, --, 2.0, 3.0, 4.0],\n",
       "             mask=[False,  True,  True, False, False, False],\n",
       "       fill_value=1.1)"
      ]
     },
     "execution_count": 404,
     "metadata": {},
     "output_type": "execute_result"
    }
   ],
   "source": [
    "# mask掉1.1\n",
    "ma.masked_values([1, 1.1, 1.1+1e-8, 2, 3, 4], 1.1)"
   ]
  },
  {
   "cell_type": "code",
   "execution_count": 413,
   "id": "98a73669",
   "metadata": {},
   "outputs": [
    {
     "data": {
      "text/plain": [
       "masked_array(data=[1, --, 3, 4],\n",
       "             mask=[False,  True, False, False],\n",
       "       fill_value=2)"
      ]
     },
     "execution_count": 413,
     "metadata": {},
     "output_type": "execute_result"
    }
   ],
   "source": [
    "# 整数时完全相等才算\n",
    "ma.masked_values([1, 2, 3, 4], 2, rtol=1, atol=2)"
   ]
  },
  {
   "cell_type": "code",
   "execution_count": 428,
   "id": "cd97a32b",
   "metadata": {},
   "outputs": [
    {
     "data": {
      "text/plain": [
       "masked_array(data=[--, --, --, --],\n",
       "             mask=[ True,  True,  True,  True],\n",
       "       fill_value=2.0,\n",
       "            dtype=float64)"
      ]
     },
     "execution_count": 428,
     "metadata": {},
     "output_type": "execute_result"
    }
   ],
   "source": [
    "# 小数时按np.isclose`\n",
    "# abs(a-b) < atol + rtol * abs(b)\n",
    "# 以4为例，4-2 < 1.5+1*2\n",
    "ma.masked_values([1., 2., 3., 4.], 2, rtol=1, atol=1.5)"
   ]
  },
  {
   "cell_type": "code",
   "execution_count": 430,
   "id": "d0237aad",
   "metadata": {},
   "outputs": [
    {
     "data": {
      "text/plain": [
       "(True, True)"
      ]
     },
     "execution_count": 430,
     "metadata": {},
     "output_type": "execute_result"
    }
   ],
   "source": [
    "(np.isclose(4, 2, rtol=1, atol=1.5), \n",
    " np.allclose(4,2,rtol=1, atol=1.5))"
   ]
  },
  {
   "cell_type": "markdown",
   "id": "f5ddb11f",
   "metadata": {},
   "source": [
    "### 创建\n",
    "\n",
    "有多种方法可以构造mask数组：\n",
    "\n",
    "- 直接调用`MaskedArray`类：需要指定数据数组和Mask数组。\n",
    "- 使用构造器：`array`和`masked_array`，后者是`MaskedArray`的alias，前者在参数上略有不同。\n",
    "- 对已有数组通过`view`转为mask数组。\n",
    "- 其他一些内置的函数，比如上面提到的`masked_values`，还有比如与给定value完全相等的会被mask的`masked_object`，根据条件mask的`masked_where`等。更多可参考下面的文档。\n",
    "\n",
    "[The numpy.ma module — NumPy v1.23.dev0 Manual](https://numpy.org/devdocs/reference/maskedarray.generic.html#constructing-masked-arrays)"
   ]
  },
  {
   "cell_type": "code",
   "execution_count": 440,
   "id": "1e9b3563",
   "metadata": {},
   "outputs": [],
   "source": [
    "a = np.arange(6).reshape(2, 3)\n",
    "mask = [[False, True, False],[False, False, True]]"
   ]
  },
  {
   "cell_type": "code",
   "execution_count": 441,
   "id": "c5088ad8",
   "metadata": {},
   "outputs": [
    {
     "data": {
      "text/plain": [
       "masked_array(\n",
       "  data=[[0, --, 2],\n",
       "        [3, 4, --]],\n",
       "  mask=[[False,  True, False],\n",
       "        [False, False,  True]],\n",
       "  fill_value=999999)"
      ]
     },
     "execution_count": 441,
     "metadata": {},
     "output_type": "execute_result"
    }
   ],
   "source": [
    "# 直接调用类\n",
    "ma.MaskedArray(a, mask=mask)"
   ]
  },
  {
   "cell_type": "code",
   "execution_count": 443,
   "id": "8ac46057",
   "metadata": {},
   "outputs": [
    {
     "data": {
      "text/plain": [
       "masked_array(\n",
       "  data=[[0, --, 2],\n",
       "        [3, 4, --]],\n",
       "  mask=[[False,  True, False],\n",
       "        [False, False,  True]],\n",
       "  fill_value=999999)"
      ]
     },
     "execution_count": 443,
     "metadata": {},
     "output_type": "execute_result"
    }
   ],
   "source": [
    "# 使用构造器\n",
    "ma.array(a, mask=mask)"
   ]
  },
  {
   "cell_type": "code",
   "execution_count": 455,
   "id": "82abd5a2",
   "metadata": {},
   "outputs": [
    {
     "data": {
      "text/plain": [
       "masked_array(\n",
       "  data=[[0, --, 2],\n",
       "        [3, 4, --]],\n",
       "  mask=[[False,  True, False],\n",
       "        [False, False,  True]],\n",
       "  fill_value=999999)"
      ]
     },
     "execution_count": 455,
     "metadata": {},
     "output_type": "execute_result"
    }
   ],
   "source": [
    "# 类的alias\n",
    "ma.masked_array(a, mask)"
   ]
  },
  {
   "cell_type": "code",
   "execution_count": 456,
   "id": "c4dc6f64",
   "metadata": {},
   "outputs": [
    {
     "data": {
      "text/plain": [
       "masked_array(\n",
       "  data=[[0, 1, 2],\n",
       "        [3, 4, 5]],\n",
       "  mask=False,\n",
       "  fill_value=999999)"
      ]
     },
     "execution_count": 456,
     "metadata": {},
     "output_type": "execute_result"
    }
   ],
   "source": [
    "# view\n",
    "a.view(ma.MaskedArray)"
   ]
  },
  {
   "cell_type": "code",
   "execution_count": 471,
   "id": "7a5c19d8",
   "metadata": {},
   "outputs": [
    {
     "data": {
      "text/plain": [
       "masked_array(\n",
       "  data=[[0, 1, 2],\n",
       "        [--, 4, 5]],\n",
       "  mask=[[False, False, False],\n",
       "        [ True, False, False]],\n",
       "  fill_value=3)"
      ]
     },
     "execution_count": 471,
     "metadata": {},
     "output_type": "execute_result"
    }
   ],
   "source": [
    "# masked_object一般用于对象\n",
    "ma.masked_object(a, 3)"
   ]
  },
  {
   "cell_type": "code",
   "execution_count": 466,
   "id": "a3d41fa6",
   "metadata": {},
   "outputs": [
    {
     "data": {
      "text/plain": [
       "masked_array(data=['a', --, 'c'],\n",
       "             mask=[False,  True, False],\n",
       "       fill_value='b',\n",
       "            dtype=object)"
      ]
     },
     "execution_count": 466,
     "metadata": {},
     "output_type": "execute_result"
    }
   ],
   "source": [
    "ma.masked_object(\n",
    "    np.array([\"a\", \"b\", \"c\"], dtype=object), \n",
    "    \"b\"\n",
    ")"
   ]
  },
  {
   "cell_type": "code",
   "execution_count": 476,
   "id": "d9ea7987",
   "metadata": {},
   "outputs": [
    {
     "data": {
      "text/plain": [
       "masked_array(\n",
       "  data=[[0, 1, 2],\n",
       "        [3, --, --]],\n",
       "  mask=[[False, False, False],\n",
       "        [False,  True,  True]],\n",
       "  fill_value=999999)"
      ]
     },
     "execution_count": 476,
     "metadata": {},
     "output_type": "execute_result"
    }
   ],
   "source": [
    "# 有条件的\n",
    "ma.masked_where(a>3, a)"
   ]
  },
  {
   "cell_type": "markdown",
   "id": "161e775c",
   "metadata": {},
   "source": [
    "### 获取"
   ]
  },
  {
   "cell_type": "code",
   "execution_count": 477,
   "id": "fce58fc5",
   "metadata": {},
   "outputs": [
    {
     "data": {
      "text/plain": [
       "array([[0, 1, 2],\n",
       "       [3, 4, 5]])"
      ]
     },
     "execution_count": 477,
     "metadata": {},
     "output_type": "execute_result"
    }
   ],
   "source": [
    "a"
   ]
  },
  {
   "cell_type": "code",
   "execution_count": 478,
   "id": "ed16f643",
   "metadata": {},
   "outputs": [
    {
     "data": {
      "text/plain": [
       "masked_array(\n",
       "  data=[[--, 1, --],\n",
       "        [3, --, 5]],\n",
       "  mask=[[ True, False,  True],\n",
       "        [False,  True, False]],\n",
       "  fill_value=999999)"
      ]
     },
     "execution_count": 478,
     "metadata": {},
     "output_type": "execute_result"
    }
   ],
   "source": [
    "m = ma.masked_where(a%2==0, a)\n",
    "m"
   ]
  },
  {
   "cell_type": "code",
   "execution_count": 480,
   "id": "d9de5ec1",
   "metadata": {},
   "outputs": [
    {
     "data": {
      "text/plain": [
       "array([[0, 1, 2],\n",
       "       [3, 4, 5]])"
      ]
     },
     "execution_count": 480,
     "metadata": {},
     "output_type": "execute_result"
    }
   ],
   "source": [
    "m.data"
   ]
  },
  {
   "cell_type": "code",
   "execution_count": 479,
   "id": "c152fde3",
   "metadata": {},
   "outputs": [
    {
     "data": {
      "text/plain": [
       "array([[ True, False,  True],\n",
       "       [False,  True, False]])"
      ]
     },
     "execution_count": 479,
     "metadata": {},
     "output_type": "execute_result"
    }
   ],
   "source": [
    "m.mask"
   ]
  },
  {
   "cell_type": "code",
   "execution_count": 482,
   "id": "24fcd5d7",
   "metadata": {},
   "outputs": [
    {
     "data": {
      "text/plain": [
       "array([0, 2, 4])"
      ]
     },
     "execution_count": 482,
     "metadata": {},
     "output_type": "execute_result"
    }
   ],
   "source": [
    "a[m.mask]"
   ]
  },
  {
   "cell_type": "code",
   "execution_count": 483,
   "id": "e7ad42c4",
   "metadata": {},
   "outputs": [
    {
     "data": {
      "text/plain": [
       "array([1, 3, 5])"
      ]
     },
     "execution_count": 483,
     "metadata": {},
     "output_type": "execute_result"
    }
   ],
   "source": [
    "a[~m.mask]"
   ]
  },
  {
   "cell_type": "code",
   "execution_count": 486,
   "id": "86d547a0",
   "metadata": {},
   "outputs": [
    {
     "data": {
      "text/plain": [
       "array([1, 3, 5])"
      ]
     },
     "execution_count": 486,
     "metadata": {},
     "output_type": "execute_result"
    }
   ],
   "source": [
    "cm = m.compressed()\n",
    "cm"
   ]
  },
  {
   "cell_type": "code",
   "execution_count": 491,
   "id": "8a772138",
   "metadata": {},
   "outputs": [
    {
     "data": {
      "text/plain": [
       "array([1, 3, 5])"
      ]
     },
     "execution_count": 491,
     "metadata": {},
     "output_type": "execute_result"
    }
   ],
   "source": [
    "cm.data.obj"
   ]
  },
  {
   "cell_type": "markdown",
   "id": "4aaa84ef",
   "metadata": {},
   "source": [
    "### 修改\n",
    "\n",
    "mask一个或多个值可以直接指定。"
   ]
  },
  {
   "cell_type": "markdown",
   "id": "46f027cc",
   "metadata": {},
   "source": [
    "首先是mask操作："
   ]
  },
  {
   "cell_type": "code",
   "execution_count": 515,
   "id": "d924b8a2",
   "metadata": {},
   "outputs": [
    {
     "data": {
      "text/plain": [
       "array([[0, 1, 0],\n",
       "       [3, 0, 5]])"
      ]
     },
     "execution_count": 515,
     "metadata": {},
     "output_type": "execute_result"
    }
   ],
   "source": [
    "a = np.arange(6).reshape(2, 3)\n",
    "# 第0行第2列，第1行第1列\n",
    "a[(0,1),(2,1)] = ma.masked\n",
    "a"
   ]
  },
  {
   "cell_type": "code",
   "execution_count": 520,
   "id": "7d4ce1bd",
   "metadata": {},
   "outputs": [
    {
     "data": {
      "text/plain": [
       "array([[0, 0, 2],\n",
       "       [3, 0, 5]])"
      ]
     },
     "execution_count": 520,
     "metadata": {},
     "output_type": "execute_result"
    }
   ],
   "source": [
    "a = np.arange(6).reshape(2, 3)\n",
    "# 第1列\n",
    "a[:,1] = ma.masked\n",
    "a"
   ]
  },
  {
   "cell_type": "code",
   "execution_count": 525,
   "id": "5cf76af2",
   "metadata": {},
   "outputs": [
    {
     "data": {
      "text/plain": [
       "array([[0, 0, 0],\n",
       "       [3, 0, 0]])"
      ]
     },
     "execution_count": 525,
     "metadata": {},
     "output_type": "execute_result"
    }
   ],
   "source": [
    "a = np.arange(6).reshape(2, 3)\n",
    "# 第1列以后的\n",
    "a[:,1:] = ma.masked\n",
    "a"
   ]
  },
  {
   "cell_type": "code",
   "execution_count": 527,
   "id": "f5396272",
   "metadata": {},
   "outputs": [
    {
     "data": {
      "text/plain": [
       "masked_array(\n",
       "  data=[[--, 1, --],\n",
       "        [--, 4, --]],\n",
       "  mask=[[ True, False,  True],\n",
       "        [ True, False,  True]],\n",
       "  fill_value=999999)"
      ]
     },
     "execution_count": 527,
     "metadata": {},
     "output_type": "execute_result"
    }
   ],
   "source": [
    "a = ma.arange(6).reshape(2, 3)\n",
    "a.mask = [1,0,1]\n",
    "a"
   ]
  },
  {
   "cell_type": "code",
   "execution_count": 529,
   "id": "142d6464",
   "metadata": {},
   "outputs": [
    {
     "data": {
      "text/plain": [
       "masked_array(\n",
       "  data=[[0, 1, 2],\n",
       "        [3, 4, 5]],\n",
       "  mask=False,\n",
       "  fill_value=999999)"
      ]
     },
     "execution_count": 529,
     "metadata": {},
     "output_type": "execute_result"
    }
   ],
   "source": [
    "ma.arange(6).reshape(2,3)"
   ]
  },
  {
   "cell_type": "markdown",
   "id": "23048500",
   "metadata": {},
   "source": [
    "取消Mask，只需要给对应位置一个有效值即可。"
   ]
  },
  {
   "cell_type": "code",
   "execution_count": 539,
   "id": "3aab3799",
   "metadata": {},
   "outputs": [],
   "source": [
    "a = np.arange(6).reshape(2, 3)\n",
    "mask = [[False, True, False],[False, False, True]]"
   ]
  },
  {
   "cell_type": "code",
   "execution_count": 540,
   "id": "ce9aeb8f",
   "metadata": {},
   "outputs": [
    {
     "data": {
      "text/plain": [
       "masked_array(\n",
       "  data=[[0, --, 2],\n",
       "        [3, 4, --]],\n",
       "  mask=[[False,  True, False],\n",
       "        [False, False,  True]],\n",
       "  fill_value=999999)"
      ]
     },
     "execution_count": 540,
     "metadata": {},
     "output_type": "execute_result"
    }
   ],
   "source": [
    "x = ma.array(a, mask=mask)\n",
    "x"
   ]
  },
  {
   "cell_type": "code",
   "execution_count": 541,
   "id": "8ed00553",
   "metadata": {},
   "outputs": [
    {
     "data": {
      "text/plain": [
       "masked_array(\n",
       "  data=[[0, -1, 2],\n",
       "        [3, 4, --]],\n",
       "  mask=[[False, False, False],\n",
       "        [False, False,  True]],\n",
       "  fill_value=999999)"
      ]
     },
     "execution_count": 541,
     "metadata": {},
     "output_type": "execute_result"
    }
   ],
   "source": [
    "x[0,1] = -1\n",
    "x"
   ]
  },
  {
   "cell_type": "markdown",
   "id": "5cb437d3",
   "metadata": {},
   "source": [
    "如果是hardmask（mask的值不能unmask），则需要先soft："
   ]
  },
  {
   "cell_type": "code",
   "execution_count": 548,
   "id": "3c12c08b",
   "metadata": {},
   "outputs": [
    {
     "data": {
      "text/plain": [
       "masked_array(\n",
       "  data=[[0, --, 2],\n",
       "        [3, 4, --]],\n",
       "  mask=[[False,  True, False],\n",
       "        [False, False,  True]],\n",
       "  fill_value=999999)"
      ]
     },
     "execution_count": 548,
     "metadata": {},
     "output_type": "execute_result"
    }
   ],
   "source": [
    "x = ma.array(a, mask=mask, hard_mask=True)\n",
    "x"
   ]
  },
  {
   "cell_type": "code",
   "execution_count": 550,
   "id": "c430fa09",
   "metadata": {},
   "outputs": [
    {
     "data": {
      "text/plain": [
       "masked_array(\n",
       "  data=[[0, --, 2],\n",
       "        [3, 4, --]],\n",
       "  mask=[[False,  True, False],\n",
       "        [False, False,  True]],\n",
       "  fill_value=999999)"
      ]
     },
     "execution_count": 550,
     "metadata": {},
     "output_type": "execute_result"
    }
   ],
   "source": [
    "# 看，没啥用\n",
    "x[0,1] = -1\n",
    "x"
   ]
  },
  {
   "cell_type": "code",
   "execution_count": 551,
   "id": "7bb7c30b",
   "metadata": {},
   "outputs": [
    {
     "data": {
      "text/plain": [
       "masked_array(\n",
       "  data=[[0, -1, 2],\n",
       "        [3, 4, --]],\n",
       "  mask=[[False, False, False],\n",
       "        [False, False,  True]],\n",
       "  fill_value=999999)"
      ]
     },
     "execution_count": 551,
     "metadata": {},
     "output_type": "execute_result"
    }
   ],
   "source": [
    "# 成功\n",
    "x.soften_mask()\n",
    "x[0,1] = -1\n",
    "x"
   ]
  },
  {
   "cell_type": "code",
   "execution_count": 553,
   "id": "d336d996",
   "metadata": {},
   "outputs": [
    {
     "data": {
      "text/plain": [
       "masked_array(\n",
       "  data=[[0, -1, 2],\n",
       "        [3, 4, --]],\n",
       "  mask=[[False, False, False],\n",
       "        [False, False,  True]],\n",
       "  fill_value=999999)"
      ]
     },
     "execution_count": 553,
     "metadata": {},
     "output_type": "execute_result"
    }
   ],
   "source": [
    "# 再转成hard\n",
    "x.harden_mask()"
   ]
  },
  {
   "cell_type": "code",
   "execution_count": 554,
   "id": "0666a90a",
   "metadata": {},
   "outputs": [
    {
     "data": {
      "text/plain": [
       "masked_array(\n",
       "  data=[[0, -1, 2],\n",
       "        [3, 4, --]],\n",
       "  mask=[[False, False, False],\n",
       "        [False, False,  True]],\n",
       "  fill_value=999999)"
      ]
     },
     "execution_count": 554,
     "metadata": {},
     "output_type": "execute_result"
    }
   ],
   "source": [
    "x"
   ]
  },
  {
   "cell_type": "code",
   "execution_count": 556,
   "id": "ddad3585",
   "metadata": {},
   "outputs": [
    {
     "data": {
      "text/plain": [
       "masked_array(\n",
       "  data=[[0, -1, 2],\n",
       "        [3, 4, --]],\n",
       "  mask=[[False, False, False],\n",
       "        [False, False,  True]],\n",
       "  fill_value=999999)"
      ]
     },
     "execution_count": 556,
     "metadata": {},
     "output_type": "execute_result"
    }
   ],
   "source": [
    "# hard后就不能在unmask了\n",
    "x[1,2] = -2\n",
    "x"
   ]
  },
  {
   "cell_type": "markdown",
   "id": "539c779f",
   "metadata": {},
   "source": [
    "如果想要unmask掉所有的，直接用`nomask`："
   ]
  },
  {
   "cell_type": "code",
   "execution_count": 564,
   "id": "eaacd542",
   "metadata": {},
   "outputs": [
    {
     "data": {
      "text/plain": [
       "masked_array(\n",
       "  data=[[0, --, 2],\n",
       "        [3, 4, --]],\n",
       "  mask=[[False,  True, False],\n",
       "        [False, False,  True]],\n",
       "  fill_value=999999)"
      ]
     },
     "execution_count": 564,
     "metadata": {},
     "output_type": "execute_result"
    }
   ],
   "source": [
    "a = np.arange(6).reshape(2, 3)\n",
    "mask = [[False, True, False],[False, False, True]]\n",
    "x = ma.array(a, mask=mask)\n",
    "x"
   ]
  },
  {
   "cell_type": "code",
   "execution_count": 567,
   "id": "8f92c12c",
   "metadata": {},
   "outputs": [
    {
     "data": {
      "text/plain": [
       "masked_array(\n",
       "  data=[[0, 1, 2],\n",
       "        [3, 4, 5]],\n",
       "  mask=[[False, False, False],\n",
       "        [False, False, False]],\n",
       "  fill_value=999999)"
      ]
     },
     "execution_count": 567,
     "metadata": {},
     "output_type": "execute_result"
    }
   ],
   "source": [
    "# 注意，hard后是不可以的\n",
    "x.mask = ma.nomask\n",
    "x"
   ]
  },
  {
   "cell_type": "markdown",
   "id": "44e0c2a3",
   "metadata": {},
   "source": [
    "### 索引切片\n",
    "\n",
    "因为是`ndarray`的子类，所以和`array`是类似的，当前，很多其他方面也是通用的。"
   ]
  },
  {
   "cell_type": "code",
   "execution_count": 570,
   "id": "f469a668",
   "metadata": {},
   "outputs": [
    {
     "data": {
      "text/plain": [
       "masked_array(\n",
       "  data=[[0, --, 2],\n",
       "        [3, 4, --]],\n",
       "  mask=[[False,  True, False],\n",
       "        [False, False,  True]],\n",
       "  fill_value=999999)"
      ]
     },
     "execution_count": 570,
     "metadata": {},
     "output_type": "execute_result"
    }
   ],
   "source": [
    "a = np.arange(6).reshape(2, 3)\n",
    "mask = [[False, True, False],[False, False, True]]\n",
    "x = ma.array(a, mask=mask)\n",
    "x"
   ]
  },
  {
   "cell_type": "code",
   "execution_count": 572,
   "id": "4fd48bb3",
   "metadata": {},
   "outputs": [
    {
     "data": {
      "text/plain": [
       "masked_array(data=[0, --, 2],\n",
       "             mask=[False,  True, False],\n",
       "       fill_value=999999)"
      ]
     },
     "execution_count": 572,
     "metadata": {},
     "output_type": "execute_result"
    }
   ],
   "source": [
    "x[0]"
   ]
  },
  {
   "cell_type": "code",
   "execution_count": 573,
   "id": "d6e27462",
   "metadata": {},
   "outputs": [
    {
     "data": {
      "text/plain": [
       "0"
      ]
     },
     "execution_count": 573,
     "metadata": {},
     "output_type": "execute_result"
    }
   ],
   "source": [
    "x[0,0]"
   ]
  },
  {
   "cell_type": "code",
   "execution_count": 574,
   "id": "f7d4df89",
   "metadata": {},
   "outputs": [
    {
     "data": {
      "text/plain": [
       "masked"
      ]
     },
     "execution_count": 574,
     "metadata": {},
     "output_type": "execute_result"
    }
   ],
   "source": [
    "x[0,1]"
   ]
  },
  {
   "cell_type": "code",
   "execution_count": 575,
   "id": "bea031a2",
   "metadata": {},
   "outputs": [
    {
     "data": {
      "text/plain": [
       "masked_array(data=[2, --],\n",
       "             mask=[False,  True],\n",
       "       fill_value=999999)"
      ]
     },
     "execution_count": 575,
     "metadata": {},
     "output_type": "execute_result"
    }
   ],
   "source": [
    "x[:,-1]"
   ]
  },
  {
   "cell_type": "code",
   "execution_count": 577,
   "id": "9781f1c9",
   "metadata": {},
   "outputs": [
    {
     "data": {
      "text/plain": [
       "masked_array(data=[[0, --, 2]],\n",
       "             mask=[[False,  True, False]],\n",
       "       fill_value=999999)"
      ]
     },
     "execution_count": 577,
     "metadata": {},
     "output_type": "execute_result"
    }
   ],
   "source": [
    "x[:1]"
   ]
  },
  {
   "cell_type": "markdown",
   "id": "22432879",
   "metadata": {},
   "source": [
    "### 代数运算\n",
    "\n",
    "`ma`模块有大多数通函数的特定时限，位置被mask或值计算无效时，都会直接变成mask。\n",
    "\n",
    "`ma`也支持标准的通函数，输入mask数组，输出对应位置依然也是mask的。"
   ]
  },
  {
   "cell_type": "code",
   "execution_count": 578,
   "id": "f2f5a994",
   "metadata": {},
   "outputs": [
    {
     "data": {
      "text/plain": [
       "masked_array(data=[--, --, 0.0, 0.6931471805599453],\n",
       "             mask=[ True,  True, False, False],\n",
       "       fill_value=1e+20)"
      ]
     },
     "execution_count": 578,
     "metadata": {},
     "output_type": "execute_result"
    }
   ],
   "source": [
    "ma.log([-1, 0, 1, 2])"
   ]
  },
  {
   "cell_type": "code",
   "execution_count": 579,
   "id": "29bea5f0",
   "metadata": {},
   "outputs": [
    {
     "data": {
      "text/plain": [
       "masked_array(\n",
       "  data=[[0, --, 2],\n",
       "        [3, 4, --]],\n",
       "  mask=[[False,  True, False],\n",
       "        [False, False,  True]],\n",
       "  fill_value=999999)"
      ]
     },
     "execution_count": 579,
     "metadata": {},
     "output_type": "execute_result"
    }
   ],
   "source": [
    "x"
   ]
  },
  {
   "cell_type": "code",
   "execution_count": 581,
   "id": "bcedaa97",
   "metadata": {},
   "outputs": [
    {
     "name": "stderr",
     "output_type": "stream",
     "text": [
      "<ipython-input-581-de666c833898>:1: RuntimeWarning: divide by zero encountered in log\n",
      "  np.log(x)\n"
     ]
    },
    {
     "data": {
      "text/plain": [
       "masked_array(\n",
       "  data=[[--, --, 0.6931471805599453],\n",
       "        [1.0986122886681098, 1.3862943611198906, --]],\n",
       "  mask=[[ True,  True, False],\n",
       "        [False, False,  True]],\n",
       "  fill_value=999999)"
      ]
     },
     "execution_count": 581,
     "metadata": {},
     "output_type": "execute_result"
    }
   ],
   "source": [
    "np.log(x)"
   ]
  },
  {
   "cell_type": "code",
   "execution_count": 582,
   "id": "6b13a388",
   "metadata": {},
   "outputs": [
    {
     "data": {
      "text/plain": [
       "masked_array(\n",
       "  data=[[1.0, --, 7.38905609893065],\n",
       "        [20.085536923187668, 54.598150033144236, --]],\n",
       "  mask=[[False,  True, False],\n",
       "        [False, False,  True]],\n",
       "  fill_value=999999)"
      ]
     },
     "execution_count": 582,
     "metadata": {},
     "output_type": "execute_result"
    }
   ],
   "source": [
    "np.exp(x)"
   ]
  },
  {
   "cell_type": "markdown",
   "id": "1d7a2466",
   "metadata": {},
   "source": [
    "### 使用案例\n",
    "\n",
    "一般用于缺失值或异常值的处理。"
   ]
  },
  {
   "cell_type": "code",
   "execution_count": 585,
   "id": "94ee6e5f",
   "metadata": {},
   "outputs": [
    {
     "data": {
      "text/plain": [
       "masked_array(\n",
       "  data=[[0, 1, --],\n",
       "        [3, 4, 5]],\n",
       "  mask=[[False, False,  True],\n",
       "        [False, False, False]],\n",
       "  fill_value=-9999)"
      ]
     },
     "execution_count": 585,
     "metadata": {},
     "output_type": "execute_result"
    }
   ],
   "source": [
    "# 假设a[0,2]这个值是缺失值\n",
    "a[0,2] = -9999\n",
    "x = ma.masked_values(a, -9999)\n",
    "x"
   ]
  },
  {
   "cell_type": "code",
   "execution_count": 588,
   "id": "baa0a90b",
   "metadata": {},
   "outputs": [
    {
     "data": {
      "text/plain": [
       "(2.6, 2.6)"
      ]
     },
     "execution_count": 588,
     "metadata": {},
     "output_type": "execute_result"
    }
   ],
   "source": [
    "x.mean(), 13/5"
   ]
  },
  {
   "cell_type": "code",
   "execution_count": 589,
   "id": "73de79ca",
   "metadata": {},
   "outputs": [
    {
     "data": {
      "text/plain": [
       "masked_array(\n",
       "  data=[[-2.6, -1.6, --],\n",
       "        [0.3999999999999999, 1.4, 2.4]],\n",
       "  mask=[[False, False,  True],\n",
       "        [False, False, False]],\n",
       "  fill_value=-9999)"
      ]
     },
     "execution_count": 589,
     "metadata": {},
     "output_type": "execute_result"
    }
   ],
   "source": [
    "x - x.mean()"
   ]
  },
  {
   "cell_type": "code",
   "execution_count": 591,
   "id": "cc0e9918",
   "metadata": {},
   "outputs": [
    {
     "data": {
      "text/plain": [
       "masked_array(\n",
       "  data=[[-2.6, -1.6, --],\n",
       "        [0.3999999999999999, 1.4, 2.4]],\n",
       "  mask=[[False, False,  True],\n",
       "        [False, False, False]],\n",
       "  fill_value=-9999)"
      ]
     },
     "execution_count": 591,
     "metadata": {},
     "output_type": "execute_result"
    }
   ],
   "source": [
    "x.anom()"
   ]
  },
  {
   "cell_type": "code",
   "execution_count": 594,
   "id": "8853604e",
   "metadata": {},
   "outputs": [
    {
     "data": {
      "text/plain": [
       "masked_array(\n",
       "  data=[[-1.5, -1.5, --],\n",
       "        [1.5, 1.5, 0.0]],\n",
       "  mask=[[False, False,  True],\n",
       "        [False, False, False]],\n",
       "  fill_value=-9999)"
      ]
     },
     "execution_count": 594,
     "metadata": {},
     "output_type": "execute_result"
    }
   ],
   "source": [
    "x.anom(axis=0)"
   ]
  },
  {
   "cell_type": "code",
   "execution_count": 595,
   "id": "dc2c0cc3",
   "metadata": {},
   "outputs": [
    {
     "data": {
      "text/plain": [
       "masked_array(\n",
       "  data=[[-1.5, -1.5, --],\n",
       "        [1.5, 1.5, 0.0]],\n",
       "  mask=[[False, False,  True],\n",
       "        [False, False, False]],\n",
       "  fill_value=-9999)"
      ]
     },
     "execution_count": 595,
     "metadata": {},
     "output_type": "execute_result"
    }
   ],
   "source": [
    "x - x.mean(axis=0)"
   ]
  },
  {
   "cell_type": "markdown",
   "id": "48c02d8d",
   "metadata": {},
   "source": [
    "填充缺失值："
   ]
  },
  {
   "cell_type": "code",
   "execution_count": 601,
   "id": "7385bcff",
   "metadata": {},
   "outputs": [
    {
     "data": {
      "text/plain": [
       "array([[0, 1, 2],\n",
       "       [3, 4, 5]])"
      ]
     },
     "execution_count": 601,
     "metadata": {},
     "output_type": "execute_result"
    }
   ],
   "source": [
    "x.filled(x.mean())"
   ]
  },
  {
   "cell_type": "code",
   "execution_count": 602,
   "id": "4bc4e13e",
   "metadata": {},
   "outputs": [
    {
     "data": {
      "text/plain": [
       "masked_array(\n",
       "  data=[[0, 1, --],\n",
       "        [3, 4, 5]],\n",
       "  mask=[[False, False,  True],\n",
       "        [False, False, False]],\n",
       "  fill_value=-9999)"
      ]
     },
     "execution_count": 602,
     "metadata": {},
     "output_type": "execute_result"
    }
   ],
   "source": [
    "x"
   ]
  },
  {
   "cell_type": "markdown",
   "id": "78737b1b",
   "metadata": {},
   "source": [
    "两个mask掉的数组也可以计算："
   ]
  },
  {
   "cell_type": "code",
   "execution_count": 622,
   "id": "f74bd232",
   "metadata": {},
   "outputs": [
    {
     "data": {
      "text/plain": [
       "(masked_array(\n",
       "   data=[[0, --, 2],\n",
       "         [3, 4, --]],\n",
       "   mask=[[False,  True, False],\n",
       "         [False, False,  True]],\n",
       "   fill_value=999999),\n",
       " masked_array(\n",
       "   data=[[0, 1, --],\n",
       "         [3, 4, --]],\n",
       "   mask=[[False, False,  True],\n",
       "         [False, False,  True]],\n",
       "   fill_value=999999))"
      ]
     },
     "execution_count": 622,
     "metadata": {},
     "output_type": "execute_result"
    }
   ],
   "source": [
    "a = np.arange(6).reshape(2, 3)\n",
    "mask1 = [[False, True, False],[False, False, True]]\n",
    "mask2 = [[False, False, True],[False, False, True]]\n",
    "x1 = ma.array(a, mask=mask1)\n",
    "x2 = ma.array(a, mask=mask2)\n",
    "x1, x2"
   ]
  },
  {
   "cell_type": "code",
   "execution_count": 623,
   "id": "d3dcdc7e",
   "metadata": {},
   "outputs": [
    {
     "data": {
      "text/plain": [
       "masked_array(\n",
       "  data=[[0, --, --],\n",
       "        [6, 8, --]],\n",
       "  mask=[[False,  True,  True],\n",
       "        [False, False,  True]],\n",
       "  fill_value=999999)"
      ]
     },
     "execution_count": 623,
     "metadata": {},
     "output_type": "execute_result"
    }
   ],
   "source": [
    "x1+x2"
   ]
  },
  {
   "cell_type": "code",
   "execution_count": 625,
   "id": "88b29afd",
   "metadata": {},
   "outputs": [
    {
     "data": {
      "text/plain": [
       "masked_array(\n",
       "  data=[[--, --, --],\n",
       "        [1.0, 1.0, --]],\n",
       "  mask=[[ True,  True,  True],\n",
       "        [False, False,  True]],\n",
       "  fill_value=999999)"
      ]
     },
     "execution_count": 625,
     "metadata": {},
     "output_type": "execute_result"
    }
   ],
   "source": [
    "# 0/0无效，直接变成mask\n",
    "np.sqrt(x1/x2)"
   ]
  },
  {
   "cell_type": "markdown",
   "id": "514d53cd",
   "metadata": {},
   "source": [
    "可以根据条件处理数组："
   ]
  },
  {
   "cell_type": "code",
   "execution_count": 630,
   "id": "5001ee88",
   "metadata": {},
   "outputs": [
    {
     "data": {
      "text/plain": [
       "array([[0, 1, 2],\n",
       "       [3, 4, 5]])"
      ]
     },
     "execution_count": 630,
     "metadata": {},
     "output_type": "execute_result"
    }
   ],
   "source": [
    "a = np.arange(6).reshape(2, 3)\n",
    "a"
   ]
  },
  {
   "cell_type": "code",
   "execution_count": 634,
   "id": "eb854f4a",
   "metadata": {},
   "outputs": [
    {
     "data": {
      "text/plain": [
       "masked_array(\n",
       "  data=[[--, 1, 2],\n",
       "        [3, 4, --]],\n",
       "  mask=[[ True, False, False],\n",
       "        [False, False,  True]],\n",
       "  fill_value=999999)"
      ]
     },
     "execution_count": 634,
     "metadata": {},
     "output_type": "execute_result"
    }
   ],
   "source": [
    "# 在给定范围之外的就给mask掉\n",
    "m = ma.masked_outside(a, 1, 4)\n",
    "m"
   ]
  },
  {
   "cell_type": "code",
   "execution_count": 636,
   "id": "4e5609d5",
   "metadata": {},
   "outputs": [
    {
     "data": {
      "text/plain": [
       "(2.5, 2.5)"
      ]
     },
     "execution_count": 636,
     "metadata": {},
     "output_type": "execute_result"
    }
   ],
   "source": [
    "m.mean(), (1+2+3+4)/4"
   ]
  },
  {
   "cell_type": "code",
   "execution_count": 639,
   "id": "96ee46c7",
   "metadata": {},
   "outputs": [
    {
     "data": {
      "text/plain": [
       "masked_array(\n",
       "  data=[[0, 1, 2],\n",
       "        [--, --, --]],\n",
       "  mask=[[False, False, False],\n",
       "        [ True,  True,  True]],\n",
       "  fill_value=999999)"
      ]
     },
     "execution_count": 639,
     "metadata": {},
     "output_type": "execute_result"
    }
   ],
   "source": [
    "# 3到5之间的都给mask掉\n",
    "m = ma.masked_inside(a, 3, 5)\n",
    "m"
   ]
  },
  {
   "cell_type": "code",
   "execution_count": 643,
   "id": "ddc739ff",
   "metadata": {},
   "outputs": [
    {
     "data": {
      "text/plain": [
       "masked_array(\n",
       "  data=[[0, 1, 2],\n",
       "        [--, --, --]],\n",
       "  mask=[[False, False, False],\n",
       "        [ True,  True,  True]],\n",
       "  fill_value=999999)"
      ]
     },
     "execution_count": 643,
     "metadata": {},
     "output_type": "execute_result"
    }
   ],
   "source": [
    "m = ma.masked_greater(a, 2)\n",
    "m"
   ]
  },
  {
   "cell_type": "markdown",
   "id": "c0d42739",
   "metadata": {},
   "source": [
    "## 小结"
   ]
  },
  {
   "cell_type": "markdown",
   "id": "fb71e173",
   "metadata": {},
   "source": []
  },
  {
   "cell_type": "markdown",
   "id": "8b4534af",
   "metadata": {},
   "source": [
    "## 参考\n",
    "\n",
    "- [python - Understanding NumPy's einsum - Stack Overflow](https://stackoverflow.com/questions/26089893/understanding-numpys-einsum)\n",
    "- [Tim Rocktäschel](https://rockt.github.io/2018/04/30/einsum)"
   ]
  },
  {
   "cell_type": "code",
   "execution_count": null,
   "id": "ae68c940",
   "metadata": {},
   "outputs": [],
   "source": []
  }
 ],
 "metadata": {
  "kernelspec": {
   "display_name": "Python 3",
   "language": "python",
   "name": "python3"
  },
  "language_info": {
   "codemirror_mode": {
    "name": "ipython",
    "version": 3
   },
   "file_extension": ".py",
   "mimetype": "text/x-python",
   "name": "python",
   "nbconvert_exporter": "python",
   "pygments_lexer": "ipython3",
   "version": "3.8.13"
  },
  "latex_envs": {
   "LaTeX_envs_menu_present": true,
   "autoclose": false,
   "autocomplete": true,
   "bibliofile": "biblio.bib",
   "cite_by": "apalike",
   "current_citInitial": 1,
   "eqLabelWithNumbers": true,
   "eqNumInitial": 1,
   "hotkeys": {
    "equation": "Ctrl-E",
    "itemize": "Ctrl-I"
   },
   "labels_anchors": false,
   "latex_user_defs": false,
   "report_style_numbering": false,
   "user_envs_cfg": false
  },
  "toc": {
   "base_numbering": 1,
   "nav_menu": {},
   "number_sections": true,
   "sideBar": true,
   "skip_h1_title": false,
   "title_cell": "Table of Contents",
   "title_sidebar": "Contents",
   "toc_cell": true,
   "toc_position": {
    "height": "calc(100% - 180px)",
    "left": "10px",
    "top": "150px",
    "width": "238px"
   },
   "toc_section_display": true,
   "toc_window_display": true
  }
 },
 "nbformat": 4,
 "nbformat_minor": 5
}
