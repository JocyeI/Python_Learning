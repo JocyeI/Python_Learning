{
 "cells": [
  {
   "cell_type": "markdown",
   "id": "d4fc1054",
   "metadata": {
    "toc": true
   },
   "source": [
    "<h1>Table of Contents<span class=\"tocSkip\"></span></h1>\n",
    "<div class=\"toc\"><ul class=\"toc-item\"><li><span><a href=\"#广播\" data-toc-modified-id=\"广播-1\"><span class=\"toc-item-num\">1&nbsp;&nbsp;</span>广播 </a></span></li><li><span><a href=\"#通函数\" data-toc-modified-id=\"通函数-2\"><span class=\"toc-item-num\">2&nbsp;&nbsp;</span>通函数 </a></span></li><li><span><a href=\"#基本操作\" data-toc-modified-id=\"基本操作-3\"><span class=\"toc-item-num\">3&nbsp;&nbsp;</span>基本操作</a></span><ul class=\"toc-item\"><li><span><a href=\"#Shape\" data-toc-modified-id=\"Shape-3.1\"><span class=\"toc-item-num\">3.1&nbsp;&nbsp;</span>Shape</a></span></li><li><span><a href=\"#轴变换\" data-toc-modified-id=\"轴变换-3.2\"><span class=\"toc-item-num\">3.2&nbsp;&nbsp;</span>轴变换 </a></span></li><li><span><a href=\"#维度\" data-toc-modified-id=\"维度-3.3\"><span class=\"toc-item-num\">3.3&nbsp;&nbsp;</span>维度 </a></span></li><li><span><a href=\"#构造\" data-toc-modified-id=\"构造-3.4\"><span class=\"toc-item-num\">3.4&nbsp;&nbsp;</span>构造 </a></span></li><li><span><a href=\"#增删元素\" data-toc-modified-id=\"增删元素-3.5\"><span class=\"toc-item-num\">3.5&nbsp;&nbsp;</span>增删元素 </a></span></li><li><span><a href=\"#重排元素\" data-toc-modified-id=\"重排元素-3.6\"><span class=\"toc-item-num\">3.6&nbsp;&nbsp;</span>重排元素 </a></span></li></ul></li><li><span><a href=\"#排序搜索\" data-toc-modified-id=\"排序搜索-4\"><span class=\"toc-item-num\">4&nbsp;&nbsp;</span>排序搜索 </a></span><ul class=\"toc-item\"><li><span><a href=\"#极值\" data-toc-modified-id=\"极值-4.1\"><span class=\"toc-item-num\">4.1&nbsp;&nbsp;</span>极值 </a></span></li><li><span><a href=\"#搜索\" data-toc-modified-id=\"搜索-4.2\"><span class=\"toc-item-num\">4.2&nbsp;&nbsp;</span>搜索 </a></span></li><li><span><a href=\"#排序\" data-toc-modified-id=\"排序-4.3\"><span class=\"toc-item-num\">4.3&nbsp;&nbsp;</span>排序 </a></span></li></ul></li><li><span><a href=\"#集合操作\" data-toc-modified-id=\"集合操作-5\"><span class=\"toc-item-num\">5&nbsp;&nbsp;</span>集合操作 </a></span><ul class=\"toc-item\"><li><span><a href=\"#包含\" data-toc-modified-id=\"包含-5.1\"><span class=\"toc-item-num\">5.1&nbsp;&nbsp;</span>包含 </a></span></li><li><span><a href=\"#交集\" data-toc-modified-id=\"交集-5.2\"><span class=\"toc-item-num\">5.2&nbsp;&nbsp;</span>交集 </a></span></li><li><span><a href=\"#并集\" data-toc-modified-id=\"并集-5.3\"><span class=\"toc-item-num\">5.3&nbsp;&nbsp;</span>并集 </a></span></li><li><span><a href=\"#差集\" data-toc-modified-id=\"差集-5.4\"><span class=\"toc-item-num\">5.4&nbsp;&nbsp;</span>差集 </a></span></li><li><span><a href=\"#异或集\" data-toc-modified-id=\"异或集-5.5\"><span class=\"toc-item-num\">5.5&nbsp;&nbsp;</span>异或集 </a></span></li></ul></li><li><span><a href=\"#函数式编程\" data-toc-modified-id=\"函数式编程-6\"><span class=\"toc-item-num\">6&nbsp;&nbsp;</span>函数式编程 </a></span></li><li><span><a href=\"#测试\" data-toc-modified-id=\"测试-7\"><span class=\"toc-item-num\">7&nbsp;&nbsp;</span>测试 </a></span><ul class=\"toc-item\"><li><span><a href=\"#相等\" data-toc-modified-id=\"相等-7.1\"><span class=\"toc-item-num\">7.1&nbsp;&nbsp;</span>相等 </a></span></li><li><span><a href=\"#相近\" data-toc-modified-id=\"相近-7.2\"><span class=\"toc-item-num\">7.2&nbsp;&nbsp;</span>相近 </a></span></li><li><span><a href=\"#小于\" data-toc-modified-id=\"小于-7.3\"><span class=\"toc-item-num\">7.3&nbsp;&nbsp;</span>小于 </a></span></li><li><span><a href=\"#异常\" data-toc-modified-id=\"异常-7.4\"><span class=\"toc-item-num\">7.4&nbsp;&nbsp;</span>异常 </a></span></li></ul></li><li><span><a href=\"#小结\" data-toc-modified-id=\"小结-8\"><span class=\"toc-item-num\">8&nbsp;&nbsp;</span>小结 </a></span></li><li><span><a href=\"#参考\" data-toc-modified-id=\"参考-9\"><span class=\"toc-item-num\">9&nbsp;&nbsp;</span>参考 </a></span></li></ul></div>"
   ]
  },
  {
   "cell_type": "code",
   "execution_count": 730,
   "id": "34de71fa",
   "metadata": {},
   "outputs": [
    {
     "data": {
      "text/plain": [
       "'1.22.3'"
      ]
     },
     "execution_count": 730,
     "metadata": {},
     "output_type": "execute_result"
    }
   ],
   "source": [
    "import numpy as np\n",
    "np.__version__"
   ]
  },
  {
   "cell_type": "markdown",
   "id": "64389993",
   "metadata": {},
   "source": [
    "文档阅读说明：\n",
    "\n",
    "- 🐧 表示 Tip\n",
    "- ⚠️ 表示注意事项"
   ]
  },
  {
   "cell_type": "markdown",
   "id": "6b19a91b",
   "metadata": {},
   "source": [
    "## 广播\n",
    "\n",
    "广播描述了NumPy在数值计算如何处理不同形状的数组。在一定限制条件下，小数组会广播到大数组以适配其形状。"
   ]
  },
  {
   "cell_type": "code",
   "execution_count": 464,
   "id": "0d17adaf",
   "metadata": {},
   "outputs": [
    {
     "data": {
      "text/plain": [
       "array([1., 2., 3.])"
      ]
     },
     "execution_count": 464,
     "metadata": {},
     "output_type": "execute_result"
    }
   ],
   "source": [
    "# 最简单的例子\n",
    "a = np.array([1., 2., 3.])\n",
    "a"
   ]
  },
  {
   "cell_type": "code",
   "execution_count": 465,
   "id": "c2b83a49",
   "metadata": {},
   "outputs": [
    {
     "data": {
      "text/plain": [
       "array([2., 4., 6.])"
      ]
     },
     "execution_count": 465,
     "metadata": {},
     "output_type": "execute_result"
    }
   ],
   "source": [
    "a * 2"
   ]
  },
  {
   "cell_type": "code",
   "execution_count": 466,
   "id": "f4f639d7",
   "metadata": {},
   "outputs": [
    {
     "data": {
      "text/plain": [
       "array([2., 4., 6.])"
      ]
     },
     "execution_count": 466,
     "metadata": {},
     "output_type": "execute_result"
    }
   ],
   "source": [
    "# 上面的例子等价于\n",
    "b = np.array([2, 2, 2])\n",
    "a * b"
   ]
  },
  {
   "cell_type": "markdown",
   "id": "668f36b4",
   "metadata": {},
   "source": [
    "广播的规则如下：\n",
    "\n",
    "- 从右到左比较\n",
    "- 兼容时相等或某个维度为1\n",
    "- 数组可以不同维度"
   ]
  },
  {
   "cell_type": "code",
   "execution_count": 467,
   "id": "94fdd77d",
   "metadata": {},
   "outputs": [],
   "source": [
    "a = np.ones((8, 1, 6, 1))\n",
    "b = np.ones((7, 1, 5))"
   ]
  },
  {
   "cell_type": "code",
   "execution_count": 468,
   "id": "634c1f9b",
   "metadata": {},
   "outputs": [
    {
     "data": {
      "text/plain": [
       "(8, 7, 6, 5)"
      ]
     },
     "execution_count": 468,
     "metadata": {},
     "output_type": "execute_result"
    }
   ],
   "source": [
    "# b 等价于变成了 (1, 7, 1, 5) 的shape\n",
    "c = a + b\n",
    "c.shape"
   ]
  },
  {
   "cell_type": "code",
   "execution_count": 475,
   "id": "b3884103",
   "metadata": {},
   "outputs": [
    {
     "ename": "ValueError",
     "evalue": "operands could not be broadcast together with shapes (2,3,4) (2,3) ",
     "output_type": "error",
     "traceback": [
      "\u001b[0;31m---------------------------------------------------------------------------\u001b[0m",
      "\u001b[0;31mValueError\u001b[0m                                Traceback (most recent call last)",
      "\u001b[0;32m<ipython-input-475-796f45d71953>\u001b[0m in \u001b[0;36m<module>\u001b[0;34m\u001b[0m\n\u001b[1;32m      2\u001b[0m \u001b[0ma\u001b[0m \u001b[0;34m=\u001b[0m \u001b[0mnp\u001b[0m\u001b[0;34m.\u001b[0m\u001b[0mones\u001b[0m\u001b[0;34m(\u001b[0m\u001b[0;34m(\u001b[0m\u001b[0;36m2\u001b[0m\u001b[0;34m,\u001b[0m \u001b[0;36m3\u001b[0m\u001b[0;34m,\u001b[0m \u001b[0;36m4\u001b[0m\u001b[0;34m)\u001b[0m\u001b[0;34m)\u001b[0m\u001b[0;34m\u001b[0m\u001b[0;34m\u001b[0m\u001b[0m\n\u001b[1;32m      3\u001b[0m \u001b[0mb\u001b[0m \u001b[0;34m=\u001b[0m \u001b[0mnp\u001b[0m\u001b[0;34m.\u001b[0m\u001b[0mones\u001b[0m\u001b[0;34m(\u001b[0m\u001b[0;34m(\u001b[0m\u001b[0;36m2\u001b[0m\u001b[0;34m,\u001b[0m \u001b[0;36m3\u001b[0m\u001b[0;34m)\u001b[0m\u001b[0;34m)\u001b[0m\u001b[0;34m\u001b[0m\u001b[0;34m\u001b[0m\u001b[0m\n\u001b[0;32m----> 4\u001b[0;31m \u001b[0ma\u001b[0m \u001b[0;34m+\u001b[0m \u001b[0mb\u001b[0m\u001b[0;34m\u001b[0m\u001b[0;34m\u001b[0m\u001b[0m\n\u001b[0m",
      "\u001b[0;31mValueError\u001b[0m: operands could not be broadcast together with shapes (2,3,4) (2,3) "
     ]
    }
   ],
   "source": [
    "# 不能广播的例子\n",
    "a = np.ones((2, 3, 4))\n",
    "b = np.ones((2, 3))\n",
    "a + b"
   ]
  },
  {
   "cell_type": "code",
   "execution_count": 476,
   "id": "8e31ce22",
   "metadata": {},
   "outputs": [
    {
     "data": {
      "text/plain": [
       "(2,)"
      ]
     },
     "execution_count": 476,
     "metadata": {},
     "output_type": "execute_result"
    }
   ],
   "source": [
    "# 当然一维向量数字的数量就是维度\n",
    "# 这样是不行的\n",
    "a = np.ones((2, 3))\n",
    "b = np.ones((2, ))\n",
    "b.shape"
   ]
  },
  {
   "cell_type": "code",
   "execution_count": 472,
   "id": "0ca556d7",
   "metadata": {},
   "outputs": [
    {
     "ename": "ValueError",
     "evalue": "operands could not be broadcast together with shapes (2,3) (2,) ",
     "output_type": "error",
     "traceback": [
      "\u001b[0;31m---------------------------------------------------------------------------\u001b[0m",
      "\u001b[0;31mValueError\u001b[0m                                Traceback (most recent call last)",
      "\u001b[0;32m<ipython-input-472-bd58363a63fc>\u001b[0m in \u001b[0;36m<module>\u001b[0;34m\u001b[0m\n\u001b[0;32m----> 1\u001b[0;31m \u001b[0ma\u001b[0m \u001b[0;34m+\u001b[0m \u001b[0mb\u001b[0m\u001b[0;34m\u001b[0m\u001b[0;34m\u001b[0m\u001b[0m\n\u001b[0m",
      "\u001b[0;31mValueError\u001b[0m: operands could not be broadcast together with shapes (2,3) (2,) "
     ]
    }
   ],
   "source": [
    "a + b"
   ]
  },
  {
   "cell_type": "code",
   "execution_count": 473,
   "id": "e2897490",
   "metadata": {},
   "outputs": [
    {
     "data": {
      "text/plain": [
       "array([[2., 2., 2.],\n",
       "       [2., 2., 2.]])"
      ]
     },
     "execution_count": 473,
     "metadata": {},
     "output_type": "execute_result"
    }
   ],
   "source": [
    "# 这样就可以\n",
    "b = np.ones((3, ))\n",
    "a + b"
   ]
  },
  {
   "cell_type": "markdown",
   "id": "dcbb4f51",
   "metadata": {},
   "source": [
    "大部分时候我们可以无伤地使用它，但当数据量很大时，广播会复制数组，可能会导致内存溢出。"
   ]
  },
  {
   "cell_type": "code",
   "execution_count": 477,
   "id": "f6031f28",
   "metadata": {},
   "outputs": [],
   "source": [
    "rng = np.random.default_rng(42)\n",
    "a = rng.random((102400, 256, 64))\n",
    "b = rng.random((102400, 256))\n",
    "c = rng.random((256, 64))"
   ]
  },
  {
   "cell_type": "code",
   "execution_count": 478,
   "id": "6209d8f6",
   "metadata": {},
   "outputs": [
    {
     "data": {
      "text/plain": [
       "12.5"
      ]
     },
     "execution_count": 478,
     "metadata": {},
     "output_type": "execute_result"
    }
   ],
   "source": [
    "# a=12.5G\n",
    "102400*256*64*8/1024/1024/1024"
   ]
  },
  {
   "cell_type": "code",
   "execution_count": null,
   "id": "e09fe54c",
   "metadata": {},
   "outputs": [],
   "source": [
    "# 如果内存小于25G，这里会超出内存，因为差的结果还是会存在临时空间\n",
    "a[:] = b[:, :, np.newaxis] - c"
   ]
  },
  {
   "cell_type": "code",
   "execution_count": null,
   "id": "ba1e95c0",
   "metadata": {},
   "outputs": [],
   "source": [
    "# 可以用之前提到的 out 参数，不会额外增加内存\n",
    "d = np.subtract(b[:, :, np.newaxis], c, out=a)"
   ]
  },
  {
   "cell_type": "markdown",
   "id": "fb97ad5d",
   "metadata": {},
   "source": [
    "不过，一般会使用虚拟内存，不用过于担心。"
   ]
  },
  {
   "cell_type": "markdown",
   "id": "ae048f05",
   "metadata": {},
   "source": [
    "## 通函数\n",
    "\n",
    "通函数（ufunc）是以逐个元素的方式对ndarray进行操作的函数，支持数组广播、类型转换等。在NumPy中，通用函数都是`np.ufunc`的实例。"
   ]
  },
  {
   "cell_type": "code",
   "execution_count": 479,
   "id": "c6454752",
   "metadata": {},
   "outputs": [
    {
     "data": {
      "text/plain": [
       "True"
      ]
     },
     "execution_count": 479,
     "metadata": {},
     "output_type": "execute_result"
    }
   ],
   "source": [
    "isinstance(np.add, np.ufunc)"
   ]
  },
  {
   "cell_type": "markdown",
   "id": "8ce772ff",
   "metadata": {},
   "source": [
    "`+`是`np.add`的快捷方式，其他的函数也类似："
   ]
  },
  {
   "cell_type": "code",
   "execution_count": 481,
   "id": "bd759c1c",
   "metadata": {},
   "outputs": [],
   "source": [
    "x1 = np.arange(9).reshape((3, 3))\n",
    "x2 = np.arange(3)"
   ]
  },
  {
   "cell_type": "code",
   "execution_count": 482,
   "id": "497f31cf",
   "metadata": {},
   "outputs": [
    {
     "data": {
      "text/plain": [
       "array([[ 0,  2,  4],\n",
       "       [ 3,  5,  7],\n",
       "       [ 6,  8, 10]])"
      ]
     },
     "execution_count": 482,
     "metadata": {},
     "output_type": "execute_result"
    }
   ],
   "source": [
    "x1 + x2"
   ]
  },
  {
   "cell_type": "code",
   "execution_count": 483,
   "id": "eb5a3cd9",
   "metadata": {},
   "outputs": [
    {
     "data": {
      "text/plain": [
       "array([[ 0,  2,  4],\n",
       "       [ 3,  5,  7],\n",
       "       [ 6,  8, 10]])"
      ]
     },
     "execution_count": 483,
     "metadata": {},
     "output_type": "execute_result"
    }
   ],
   "source": [
    "np.add(x1, x2)"
   ]
  },
  {
   "cell_type": "code",
   "execution_count": 484,
   "id": "a693b9ff",
   "metadata": {},
   "outputs": [
    {
     "data": {
      "text/plain": [
       "array([[ 0,  1,  4],\n",
       "       [ 0,  4, 10],\n",
       "       [ 0,  7, 16]])"
      ]
     },
     "execution_count": 484,
     "metadata": {},
     "output_type": "execute_result"
    }
   ],
   "source": [
    "x1 * x2"
   ]
  },
  {
   "cell_type": "code",
   "execution_count": 485,
   "id": "d3ed4408",
   "metadata": {},
   "outputs": [
    {
     "data": {
      "text/plain": [
       "array([[ 0,  1,  4],\n",
       "       [ 0,  4, 10],\n",
       "       [ 0,  7, 16]])"
      ]
     },
     "execution_count": 485,
     "metadata": {},
     "output_type": "execute_result"
    }
   ],
   "source": [
    "np.multiply(x1, x2)"
   ]
  },
  {
   "cell_type": "markdown",
   "id": "63e521b4",
   "metadata": {},
   "source": [
    "out 参数主要是用来存储计算结果："
   ]
  },
  {
   "cell_type": "code",
   "execution_count": 486,
   "id": "3d0a9d25",
   "metadata": {},
   "outputs": [
    {
     "data": {
      "text/plain": [
       "array([[0, 0, 0],\n",
       "       [0, 0, 0],\n",
       "       [0, 0, 0]], dtype=int8)"
      ]
     },
     "execution_count": 486,
     "metadata": {},
     "output_type": "execute_result"
    }
   ],
   "source": [
    "x3 = np.zeros((3, 3), dtype=np.int8)\n",
    "x3"
   ]
  },
  {
   "cell_type": "code",
   "execution_count": 487,
   "id": "6844e6e6",
   "metadata": {},
   "outputs": [
    {
     "data": {
      "text/plain": [
       "array([[ 0,  2,  4],\n",
       "       [ 3,  5,  7],\n",
       "       [ 6,  8, 10]], dtype=int8)"
      ]
     },
     "execution_count": 487,
     "metadata": {},
     "output_type": "execute_result"
    }
   ],
   "source": [
    "np.add(x1, x2, out=x3)"
   ]
  },
  {
   "cell_type": "code",
   "execution_count": 488,
   "id": "80c5bab1",
   "metadata": {},
   "outputs": [
    {
     "data": {
      "text/plain": [
       "array([[ 0,  2,  4],\n",
       "       [ 3,  5,  7],\n",
       "       [ 6,  8, 10]], dtype=int8)"
      ]
     },
     "execution_count": 488,
     "metadata": {},
     "output_type": "execute_result"
    }
   ],
   "source": [
    "x3"
   ]
  },
  {
   "cell_type": "markdown",
   "id": "070ca6f1",
   "metadata": {},
   "source": [
    "where 参数确定哪些可以存储："
   ]
  },
  {
   "cell_type": "code",
   "execution_count": 489,
   "id": "cc162c36",
   "metadata": {},
   "outputs": [
    {
     "data": {
      "text/plain": [
       "array([[0, 0, 0],\n",
       "       [0, 0, 0],\n",
       "       [0, 0, 0]], dtype=int8)"
      ]
     },
     "execution_count": 489,
     "metadata": {},
     "output_type": "execute_result"
    }
   ],
   "source": [
    "x4 = np.zeros((3, 3), dtype=np.int8)\n",
    "x4"
   ]
  },
  {
   "cell_type": "code",
   "execution_count": 490,
   "id": "8993bb1a",
   "metadata": {},
   "outputs": [
    {
     "data": {
      "text/plain": [
       "array([[0, 0, 0],\n",
       "       [3, 0, 0],\n",
       "       [6, 0, 0]], dtype=int8)"
      ]
     },
     "execution_count": 490,
     "metadata": {},
     "output_type": "execute_result"
    }
   ],
   "source": [
    "np.add(x1, x2, out=x4, where=[True, False, False])"
   ]
  },
  {
   "cell_type": "code",
   "execution_count": 491,
   "id": "7a1583e7",
   "metadata": {},
   "outputs": [
    {
     "data": {
      "text/plain": [
       "array([[0, 0, 0],\n",
       "       [3, 0, 0],\n",
       "       [6, 0, 0]], dtype=int8)"
      ]
     },
     "execution_count": 491,
     "metadata": {},
     "output_type": "execute_result"
    }
   ],
   "source": [
    "x4"
   ]
  },
  {
   "cell_type": "markdown",
   "id": "f74df0c6",
   "metadata": {},
   "source": [
    "NumPy中的ufunc数量很多，包括数学运算、三角函数、位操作、逻辑函数、浮点函数等，具体可查看：\n",
    "\n",
    "- https://numpy.org/devdocs/reference/ufuncs.html#available-ufuncs\n",
    "\n",
    "ufunc可以被`__array_ufunc__`方法覆盖，具体可参考第一章《核心概念：自定义数组容器》。\n",
    "\n",
    "ufunc支持以下方法：\n",
    "\n",
    "- reduce：沿着某个维度累积\n",
    "- accumulate：所有元素累积\n",
    "- reduceat：沿着某个维度指定的slice累积\n",
    "- outer：对A和B中所有元素对运算\n",
    "- at：对指定索引的元素的执行无缓冲的就地运算"
   ]
  },
  {
   "cell_type": "code",
   "execution_count": 492,
   "id": "7ff25341",
   "metadata": {},
   "outputs": [
    {
     "data": {
      "text/plain": [
       "array([[ 0,  1,  2],\n",
       "       [ 3,  4,  5],\n",
       "       [ 6,  7,  8],\n",
       "       [ 9, 10, 11]])"
      ]
     },
     "execution_count": 492,
     "metadata": {},
     "output_type": "execute_result"
    }
   ],
   "source": [
    "a = np.arange(12).reshape(4, 3)\n",
    "a"
   ]
  },
  {
   "cell_type": "markdown",
   "id": "0a787488",
   "metadata": {},
   "source": [
    "`reduce`的参数和初级课程介绍的很多接口差不多：\n",
    "\n",
    "- array：数组\n",
    "- axis：维度\n",
    "- dtype：数据类型\n",
    "- out：同上\n",
    "- where：同上\n",
    "- keepdims：是否保持维度，《基础教程》中有介绍\n",
    "- initial：初始值"
   ]
  },
  {
   "cell_type": "code",
   "execution_count": 493,
   "id": "27838e6c",
   "metadata": {},
   "outputs": [
    {
     "data": {
      "text/plain": [
       "array([28, 32, 36])"
      ]
     },
     "execution_count": 493,
     "metadata": {},
     "output_type": "execute_result"
    }
   ],
   "source": [
    "np.add.reduce(a, axis=0, initial=10)"
   ]
  },
  {
   "cell_type": "code",
   "execution_count": 494,
   "id": "2c1d8afa",
   "metadata": {},
   "outputs": [
    {
     "data": {
      "text/plain": [
       "array([[13],\n",
       "       [22],\n",
       "       [31],\n",
       "       [40]])"
      ]
     },
     "execution_count": 494,
     "metadata": {},
     "output_type": "execute_result"
    }
   ],
   "source": [
    "np.add.reduce(a, axis=1, initial=10, keepdims=True)"
   ]
  },
  {
   "cell_type": "markdown",
   "id": "d07383ce",
   "metadata": {},
   "source": [
    "`accumulate`的参数少很多：\n",
    "\n",
    "- array：数组\n",
    "- axis：维度\n",
    "- dtype：数据类型\n",
    "- out：同上"
   ]
  },
  {
   "cell_type": "code",
   "execution_count": 495,
   "id": "01337235",
   "metadata": {},
   "outputs": [
    {
     "data": {
      "text/plain": [
       "array([[ 0,  1,  2],\n",
       "       [ 3,  4,  5],\n",
       "       [ 6,  7,  8],\n",
       "       [ 9, 10, 11]])"
      ]
     },
     "execution_count": 495,
     "metadata": {},
     "output_type": "execute_result"
    }
   ],
   "source": [
    "a"
   ]
  },
  {
   "cell_type": "code",
   "execution_count": 496,
   "id": "7203bf21",
   "metadata": {},
   "outputs": [
    {
     "data": {
      "text/plain": [
       "array([[  0,   0,   0],\n",
       "       [  3,  12,  60],\n",
       "       [  6,  42, 336],\n",
       "       [  9,  90, 990]])"
      ]
     },
     "execution_count": 496,
     "metadata": {},
     "output_type": "execute_result"
    }
   ],
   "source": [
    "# 沿着行\n",
    "np.multiply.accumulate(a, axis=1)"
   ]
  },
  {
   "cell_type": "code",
   "execution_count": 497,
   "id": "b5276951",
   "metadata": {},
   "outputs": [
    {
     "data": {
      "text/plain": [
       "array([[  0,   1,   2],\n",
       "       [  0,   4,  10],\n",
       "       [  0,  28,  80],\n",
       "       [  0, 280, 880]])"
      ]
     },
     "execution_count": 497,
     "metadata": {},
     "output_type": "execute_result"
    }
   ],
   "source": [
    "np.multiply.accumulate(a)"
   ]
  },
  {
   "cell_type": "markdown",
   "id": "87841d64",
   "metadata": {},
   "source": [
    "`reduceat`相比`accumulate`增加了索引位置：\n",
    "\n",
    "- indices：index的复数\n",
    "- 其他参数同`accumulate`\n",
    "\n",
    "\n",
    "计算 `array[indices[i]:indices[i+1]]`，i 表示第i行/列，计算规则如下：\n",
    "\n",
    "- 当`i = len(indices) - 1`（最后一个index）：`indices[i+1] = array.shape[axis]`\n",
    "- 当`indices[i] >= indices[i + 1]`，第i个就是 `array[indices[i]]`\n",
    "- 当`indices[i] >= len(array)` 或 `indices[i] < 0`，错误"
   ]
  },
  {
   "cell_type": "code",
   "execution_count": 498,
   "id": "ef9b0d8c",
   "metadata": {},
   "outputs": [
    {
     "data": {
      "text/plain": [
       "array([[ 0,  1,  2],\n",
       "       [ 3,  4,  5],\n",
       "       [ 6,  7,  8],\n",
       "       [ 9, 10, 11]])"
      ]
     },
     "execution_count": 498,
     "metadata": {},
     "output_type": "execute_result"
    }
   ],
   "source": [
    "a"
   ]
  },
  {
   "cell_type": "code",
   "execution_count": 499,
   "id": "c009271e",
   "metadata": {},
   "outputs": [
    {
     "data": {
      "text/plain": [
       "array([[ 3,  4,  5],\n",
       "       [15, 17, 19]])"
      ]
     },
     "execution_count": 499,
     "metadata": {},
     "output_type": "execute_result"
    }
   ],
   "source": [
    "np.add.reduceat(a, [1,2])"
   ]
  },
  {
   "cell_type": "code",
   "execution_count": 500,
   "id": "6bfde07e",
   "metadata": {},
   "outputs": [
    {
     "data": {
      "text/plain": [
       "array([[ 1,  2,  1,  3],\n",
       "       [ 7,  5,  4, 12],\n",
       "       [13,  8,  7, 21],\n",
       "       [19, 11, 10, 30]])"
      ]
     },
     "execution_count": 500,
     "metadata": {},
     "output_type": "execute_result"
    }
   ],
   "source": [
    "# 四列\n",
    "# 第0列：indices[0]: indices[1]，即第0:2累积（0+1列）\n",
    "# 第1列：indices[1] > indices[2]，等于第2列\n",
    "# 第2列：indices[2] > indices[3]，等于第1列\n",
    "# 第3列：最后一个，indices[3]: indices[a.shape[1]=3]，等于0:3累积（0,1,2列）\n",
    "np.add.reduceat(a, [0, 2, 1, 0], axis=1)"
   ]
  },
  {
   "cell_type": "markdown",
   "id": "bb90d0b2",
   "metadata": {},
   "source": [
    "`outer`接受两个数组，等价于以下结果：\n",
    "\n",
    "```python\n",
    "r = empty(len(A),len(B))\n",
    "for i in range(len(A)):\n",
    "    for j in range(len(B)):\n",
    "        r[i,j] = op(A[i], B[j])\n",
    "```"
   ]
  },
  {
   "cell_type": "code",
   "execution_count": 501,
   "id": "934dd058",
   "metadata": {},
   "outputs": [
    {
     "data": {
      "text/plain": [
       "(4, 3, 4, 3)"
      ]
     },
     "execution_count": 501,
     "metadata": {},
     "output_type": "execute_result"
    }
   ],
   "source": [
    "np.add.outer(a, a).shape"
   ]
  },
  {
   "cell_type": "code",
   "execution_count": 502,
   "id": "3e827381",
   "metadata": {},
   "outputs": [
    {
     "data": {
      "text/plain": [
       "array([[5, 6, 7],\n",
       "       [6, 7, 8],\n",
       "       [7, 8, 9]])"
      ]
     },
     "execution_count": 502,
     "metadata": {},
     "output_type": "execute_result"
    }
   ],
   "source": [
    "np.add.outer([1,2,3], [4,5,6])"
   ]
  },
  {
   "cell_type": "markdown",
   "id": "b741a46c",
   "metadata": {},
   "source": [
    "`at` 参数如下：\n",
    "\n",
    "- a：数组\n",
    "- indices：索引\n",
    "- b：两个操作对象时另一个操作对象"
   ]
  },
  {
   "cell_type": "code",
   "execution_count": 503,
   "id": "05d9b033",
   "metadata": {},
   "outputs": [
    {
     "data": {
      "text/plain": [
       "array([[ 0,  1,  2],\n",
       "       [ 3,  4,  5],\n",
       "       [ 6,  7,  8],\n",
       "       [ 9, 10, 11]])"
      ]
     },
     "execution_count": 503,
     "metadata": {},
     "output_type": "execute_result"
    }
   ],
   "source": [
    "a = np.arange(12).reshape(4, 3)\n",
    "a"
   ]
  },
  {
   "cell_type": "code",
   "execution_count": 504,
   "id": "4f7b66ef",
   "metadata": {},
   "outputs": [],
   "source": [
    "# 对第0和1行加1\n",
    "np.add.at(a, [0, 1], [1])"
   ]
  },
  {
   "cell_type": "code",
   "execution_count": 505,
   "id": "da589c37",
   "metadata": {},
   "outputs": [
    {
     "data": {
      "text/plain": [
       "array([[ 1,  2,  3],\n",
       "       [ 4,  5,  6],\n",
       "       [ 6,  7,  8],\n",
       "       [ 9, 10, 11]])"
      ]
     },
     "execution_count": 505,
     "metadata": {},
     "output_type": "execute_result"
    }
   ],
   "source": [
    "a"
   ]
  },
  {
   "cell_type": "code",
   "execution_count": 506,
   "id": "0d6a165f",
   "metadata": {},
   "outputs": [
    {
     "data": {
      "text/plain": [
       "array([[ 0,  1,  2],\n",
       "       [ 3,  4,  5],\n",
       "       [ 6,  7,  8],\n",
       "       [ 9, 10, 11]])"
      ]
     },
     "execution_count": 506,
     "metadata": {},
     "output_type": "execute_result"
    }
   ],
   "source": [
    "# 4x3 和 1x3 可以通过广播运算\n",
    "a = np.arange(12).reshape(4, 3)\n",
    "a"
   ]
  },
  {
   "cell_type": "code",
   "execution_count": 507,
   "id": "97c58e61",
   "metadata": {},
   "outputs": [
    {
     "data": {
      "text/plain": [
       "array([[ 1,  3,  5],\n",
       "       [ 4,  6,  8],\n",
       "       [ 6,  7,  8],\n",
       "       [ 9, 10, 11]])"
      ]
     },
     "execution_count": 507,
     "metadata": {},
     "output_type": "execute_result"
    }
   ],
   "source": [
    "np.add.at(a, [0, 1], np.array([[1, 2, 3]]))\n",
    "a"
   ]
  },
  {
   "cell_type": "markdown",
   "id": "b1b6924a",
   "metadata": {},
   "source": [
    "可以使用`np.frompyfunc`来生成通函数实例。本章后面会进一步介绍，不再赘述。"
   ]
  },
  {
   "cell_type": "markdown",
   "id": "f415da93",
   "metadata": {},
   "source": [
    "## 基本操作\n",
    "\n",
    "其中不少常用的操作我们在《从入门到小白》中已有介绍，比如`shape`, `reshape`, `squeeze`, `expand_dims`, `stack`, `concatenate`, `split`, `repeat`等，接下来就介绍下剩下的一些使用频率稍低但也比较重要的操作。"
   ]
  },
  {
   "cell_type": "markdown",
   "id": "ebfb4ade",
   "metadata": {},
   "source": [
    "### Shape"
   ]
  },
  {
   "cell_type": "code",
   "execution_count": 194,
   "id": "ea4951fa",
   "metadata": {},
   "outputs": [
    {
     "data": {
      "text/plain": [
       "array([[0, 7, 6, 4],\n",
       "       [4, 8, 0, 6],\n",
       "       [2, 0, 5, 9]])"
      ]
     },
     "execution_count": 194,
     "metadata": {},
     "output_type": "execute_result"
    }
   ],
   "source": [
    "rng = np.random.default_rng(42)\n",
    "a = rng.integers(0, 10, (3, 4))\n",
    "a"
   ]
  },
  {
   "cell_type": "code",
   "execution_count": 202,
   "id": "9092bbab",
   "metadata": {},
   "outputs": [
    {
     "data": {
      "text/plain": [
       "[0, 7, 6, 4, 4, 8, 0, 6, 2, 0, 5, 9]"
      ]
     },
     "execution_count": 202,
     "metadata": {},
     "output_type": "execute_result"
    }
   ],
   "source": [
    "# flat\n",
    "list(a.flat)"
   ]
  },
  {
   "cell_type": "code",
   "execution_count": 204,
   "id": "9cae64dd",
   "metadata": {},
   "outputs": [
    {
     "data": {
      "text/plain": [
       "array([0, 7, 6, 4, 4, 8, 0, 6, 2, 0, 5, 9])"
      ]
     },
     "execution_count": 204,
     "metadata": {},
     "output_type": "execute_result"
    }
   ],
   "source": [
    "# 返回copy\n",
    "a.flatten()"
   ]
  },
  {
   "cell_type": "code",
   "execution_count": 208,
   "id": "3148f111",
   "metadata": {},
   "outputs": [
    {
     "data": {
      "text/plain": [
       "array([0, 4, 2, 7, 8, 0, 6, 0, 5, 4, 6, 9])"
      ]
     },
     "execution_count": 208,
     "metadata": {},
     "output_type": "execute_result"
    }
   ],
   "source": [
    "# 不同的Style\n",
    "a.flatten(\"F\")"
   ]
  },
  {
   "cell_type": "code",
   "execution_count": 211,
   "id": "7ac23e24",
   "metadata": {},
   "outputs": [
    {
     "data": {
      "text/plain": [
       "array([0, 7, 6, 4, 4, 8, 0, 6, 2, 0, 5, 9])"
      ]
     },
     "execution_count": 211,
     "metadata": {},
     "output_type": "execute_result"
    }
   ],
   "source": [
    "# 返回view\n",
    "np.ravel(a)"
   ]
  },
  {
   "cell_type": "code",
   "execution_count": 212,
   "id": "5c05dc4f",
   "metadata": {},
   "outputs": [
    {
     "data": {
      "text/plain": [
       "array([0, 4, 2, 7, 8, 0, 6, 0, 5, 4, 6, 9])"
      ]
     },
     "execution_count": 212,
     "metadata": {},
     "output_type": "execute_result"
    }
   ],
   "source": [
    "np.ravel(a, \"F\")"
   ]
  },
  {
   "cell_type": "markdown",
   "id": "8a122a4b",
   "metadata": {},
   "source": [
    "### 轴变换"
   ]
  },
  {
   "cell_type": "code",
   "execution_count": 216,
   "id": "f6a1930b",
   "metadata": {},
   "outputs": [],
   "source": [
    "a = np.ones((3, 4, 5))"
   ]
  },
  {
   "cell_type": "code",
   "execution_count": 217,
   "id": "128de3d1",
   "metadata": {},
   "outputs": [
    {
     "data": {
      "text/plain": [
       "(4, 3, 5)"
      ]
     },
     "execution_count": 217,
     "metadata": {},
     "output_type": "execute_result"
    }
   ],
   "source": [
    "np.moveaxis(a, 0, 1).shape"
   ]
  },
  {
   "cell_type": "code",
   "execution_count": 229,
   "id": "f8ccc1fe",
   "metadata": {},
   "outputs": [
    {
     "data": {
      "text/plain": [
       "(5, 3, 4)"
      ]
     },
     "execution_count": 229,
     "metadata": {},
     "output_type": "execute_result"
    }
   ],
   "source": [
    "# 坐标轴的值可以是数组\n",
    "np.moveaxis(a, [0, 2], [1, 0]).shape"
   ]
  },
  {
   "cell_type": "code",
   "execution_count": 230,
   "id": "25d559f2",
   "metadata": {},
   "outputs": [
    {
     "data": {
      "text/plain": [
       "(4, 3, 5)"
      ]
     },
     "execution_count": 230,
     "metadata": {},
     "output_type": "execute_result"
    }
   ],
   "source": [
    "# 坐标轴的值必须是整数\n",
    "np.swapaxes(a, 0, 1).shape"
   ]
  },
  {
   "cell_type": "markdown",
   "id": "ffe2d02a",
   "metadata": {},
   "source": [
    "### 维度"
   ]
  },
  {
   "cell_type": "code",
   "execution_count": 245,
   "id": "d703a1c0",
   "metadata": {},
   "outputs": [
    {
     "data": {
      "text/plain": [
       "array([1])"
      ]
     },
     "execution_count": 245,
     "metadata": {},
     "output_type": "execute_result"
    }
   ],
   "source": [
    "np.atleast_1d(1)"
   ]
  },
  {
   "cell_type": "code",
   "execution_count": 246,
   "id": "521d4cb0",
   "metadata": {},
   "outputs": [
    {
     "data": {
      "text/plain": [
       "[array([1]), array([2])]"
      ]
     },
     "execution_count": 246,
     "metadata": {},
     "output_type": "execute_result"
    }
   ],
   "source": [
    "np.atleast_1d(1, 2)"
   ]
  },
  {
   "cell_type": "code",
   "execution_count": 252,
   "id": "bad66253",
   "metadata": {},
   "outputs": [
    {
     "data": {
      "text/plain": [
       "[array([[1]]), array([[2]])]"
      ]
     },
     "execution_count": 252,
     "metadata": {},
     "output_type": "execute_result"
    }
   ],
   "source": [
    "np.atleast_2d(1, 2)"
   ]
  },
  {
   "cell_type": "code",
   "execution_count": 247,
   "id": "e1039920",
   "metadata": {},
   "outputs": [],
   "source": [
    "a = np.ones((2, 3))"
   ]
  },
  {
   "cell_type": "code",
   "execution_count": 255,
   "id": "c37bde2d",
   "metadata": {},
   "outputs": [
    {
     "data": {
      "text/plain": [
       "(2, 3, 1)"
      ]
     },
     "execution_count": 255,
     "metadata": {},
     "output_type": "execute_result"
    }
   ],
   "source": [
    "np.atleast_3d(a).shape"
   ]
  },
  {
   "cell_type": "markdown",
   "id": "6503f92c",
   "metadata": {},
   "source": [
    "### 构造"
   ]
  },
  {
   "cell_type": "markdown",
   "id": "f0a7d2ed",
   "metadata": {},
   "source": [
    "`block`经常被用于构建block矩阵。"
   ]
  },
  {
   "cell_type": "code",
   "execution_count": 301,
   "id": "9e90ba47",
   "metadata": {},
   "outputs": [],
   "source": [
    "a = np.eye(2)*2\n",
    "b = np.eye(3)*3"
   ]
  },
  {
   "cell_type": "code",
   "execution_count": 303,
   "id": "be3642bf",
   "metadata": {},
   "outputs": [
    {
     "data": {
      "text/plain": [
       "array([[2., 0., 0., 0., 0.],\n",
       "       [0., 2., 0., 0., 0.],\n",
       "       [1., 1., 3., 0., 0.],\n",
       "       [1., 1., 0., 3., 0.],\n",
       "       [1., 1., 0., 0., 3.]])"
      ]
     },
     "execution_count": 303,
     "metadata": {},
     "output_type": "execute_result"
    }
   ],
   "source": [
    "np.block([\n",
    "    [a, np.zeros((2, 3))],\n",
    "    [np.ones((3, 2)), b]\n",
    "])"
   ]
  },
  {
   "cell_type": "markdown",
   "id": "052ccf8a",
   "metadata": {},
   "source": [
    "另外，block在某些情况下等价于其他几个API：\n",
    "\n",
    "- depth=1时，可以作为`hstack`\n",
    "- depth=2时，可以作为`vstack`\n",
    "- 可以替换`atleast_1d`和`atleast_2d`"
   ]
  },
  {
   "cell_type": "markdown",
   "id": "c729d02b",
   "metadata": {},
   "source": [
    "《从小白到入门》中我们提过，`concatenate`和`hstack`, `vstack`, `dstack`是可以通用的，前者加上不同的维度就可以达到后几者的效果。\n",
    "\n",
    "不过后几个是可以处理0维的（也就是整数），前者不可以；处理向量时也有一些不同。如果是二维以上的，建议还按照之前的做法；对于一维或零维的，也可以先处理一下再按之前的做法。"
   ]
  },
  {
   "cell_type": "code",
   "execution_count": 323,
   "id": "40b289af",
   "metadata": {},
   "outputs": [],
   "source": [
    "a = np.array([0, 1, 2])"
   ]
  },
  {
   "cell_type": "code",
   "execution_count": 324,
   "id": "05ca83c4",
   "metadata": {},
   "outputs": [
    {
     "data": {
      "text/plain": [
       "array([0, 1, 2, 3])"
      ]
     },
     "execution_count": 324,
     "metadata": {},
     "output_type": "execute_result"
    }
   ],
   "source": [
    "np.hstack((a, 3))"
   ]
  },
  {
   "cell_type": "code",
   "execution_count": 327,
   "id": "41b27df8",
   "metadata": {},
   "outputs": [
    {
     "data": {
      "text/plain": [
       "array([0, 1, 2, 3])"
      ]
     },
     "execution_count": 327,
     "metadata": {},
     "output_type": "execute_result"
    }
   ],
   "source": [
    "# 这样方可以\n",
    "np.concatenate((a, [3]))"
   ]
  },
  {
   "cell_type": "code",
   "execution_count": 333,
   "id": "e95d9579",
   "metadata": {
    "scrolled": true
   },
   "outputs": [
    {
     "data": {
      "text/plain": [
       "array([[0, 1, 2],\n",
       "       [3, 4, 5]])"
      ]
     },
     "execution_count": 333,
     "metadata": {},
     "output_type": "execute_result"
    }
   ],
   "source": [
    "np.vstack((a, (3,4,5)))"
   ]
  },
  {
   "cell_type": "code",
   "execution_count": 351,
   "id": "98286b0f",
   "metadata": {},
   "outputs": [
    {
     "data": {
      "text/plain": [
       "array([[0, 1, 2],\n",
       "       [3, 4, 5]])"
      ]
     },
     "execution_count": 351,
     "metadata": {},
     "output_type": "execute_result"
    }
   ],
   "source": [
    "np.concatenate((np.atleast_2d(a), [[3,4,5]]))"
   ]
  },
  {
   "cell_type": "markdown",
   "id": "9e24efe2",
   "metadata": {},
   "source": [
    "`tile`用于构建对输入数组值重复给定次数的数组。"
   ]
  },
  {
   "cell_type": "code",
   "execution_count": 355,
   "id": "39bf2b97",
   "metadata": {},
   "outputs": [],
   "source": [
    "a = np.array([0, 1, 2])"
   ]
  },
  {
   "cell_type": "code",
   "execution_count": 357,
   "id": "828cd96a",
   "metadata": {},
   "outputs": [
    {
     "data": {
      "text/plain": [
       "array([0, 1, 2, 0, 1, 2])"
      ]
     },
     "execution_count": 357,
     "metadata": {},
     "output_type": "execute_result"
    }
   ],
   "source": [
    "np.tile(a, 2)"
   ]
  },
  {
   "cell_type": "markdown",
   "id": "850c5928",
   "metadata": {},
   "source": [
    "注意与`repeat`的区别："
   ]
  },
  {
   "cell_type": "code",
   "execution_count": 359,
   "id": "e1c84591",
   "metadata": {},
   "outputs": [
    {
     "data": {
      "text/plain": [
       "array([0, 0, 1, 1, 2, 2])"
      ]
     },
     "execution_count": 359,
     "metadata": {},
     "output_type": "execute_result"
    }
   ],
   "source": [
    "np.repeat(a, 2)"
   ]
  },
  {
   "cell_type": "markdown",
   "id": "1ec7ea00",
   "metadata": {},
   "source": [
    "可以指定重复多个维度："
   ]
  },
  {
   "cell_type": "code",
   "execution_count": 364,
   "id": "f1e0f4fa",
   "metadata": {},
   "outputs": [
    {
     "data": {
      "text/plain": [
       "(2, 2, 6)"
      ]
     },
     "execution_count": 364,
     "metadata": {},
     "output_type": "execute_result"
    }
   ],
   "source": [
    "np.tile(a, (2, 2, 2)).shape"
   ]
  },
  {
   "cell_type": "markdown",
   "id": "f18e96ee",
   "metadata": {},
   "source": [
    "对于多维数组也是类似的："
   ]
  },
  {
   "cell_type": "code",
   "execution_count": 366,
   "id": "2f82e6d1",
   "metadata": {},
   "outputs": [],
   "source": [
    "b = np.array([[1,2], [3,4]])"
   ]
  },
  {
   "cell_type": "code",
   "execution_count": 368,
   "id": "7fc602db",
   "metadata": {},
   "outputs": [
    {
     "data": {
      "text/plain": [
       "array([[1, 2, 1, 2],\n",
       "       [3, 4, 3, 4]])"
      ]
     },
     "execution_count": 368,
     "metadata": {},
     "output_type": "execute_result"
    }
   ],
   "source": [
    "np.tile(b, 2)"
   ]
  },
  {
   "cell_type": "code",
   "execution_count": 374,
   "id": "4e5440e0",
   "metadata": {},
   "outputs": [
    {
     "data": {
      "text/plain": [
       "array([[1, 1, 2, 2],\n",
       "       [3, 3, 4, 4]])"
      ]
     },
     "execution_count": 374,
     "metadata": {},
     "output_type": "execute_result"
    }
   ],
   "source": [
    "np.repeat(b, 2, axis=1)"
   ]
  },
  {
   "cell_type": "code",
   "execution_count": 377,
   "id": "b2e1f24b",
   "metadata": {},
   "outputs": [
    {
     "data": {
      "text/plain": [
       "(8, 2)"
      ]
     },
     "execution_count": 377,
     "metadata": {},
     "output_type": "execute_result"
    }
   ],
   "source": [
    "np.tile(b, (4, 1)).shape"
   ]
  },
  {
   "cell_type": "markdown",
   "id": "06556bb3",
   "metadata": {},
   "source": [
    "### 增删元素"
   ]
  },
  {
   "cell_type": "markdown",
   "id": "3774cfa7",
   "metadata": {},
   "source": [
    "`delte`用来删除元素，如果不指定axis，则会被打平；否则会删除对应index的所有元素。"
   ]
  },
  {
   "cell_type": "code",
   "execution_count": 396,
   "id": "968e7e27",
   "metadata": {},
   "outputs": [
    {
     "data": {
      "text/plain": [
       "array([[0, 1],\n",
       "       [2, 3],\n",
       "       [4, 5]])"
      ]
     },
     "execution_count": 396,
     "metadata": {},
     "output_type": "execute_result"
    }
   ],
   "source": [
    "a = np.arange(6).reshape(3, 2)\n",
    "a"
   ]
  },
  {
   "cell_type": "code",
   "execution_count": 397,
   "id": "72b41fcc",
   "metadata": {},
   "outputs": [
    {
     "data": {
      "text/plain": [
       "array([0, 1, 2, 3, 4])"
      ]
     },
     "execution_count": 397,
     "metadata": {},
     "output_type": "execute_result"
    }
   ],
   "source": [
    "np.delete(a, 5)"
   ]
  },
  {
   "cell_type": "code",
   "execution_count": 398,
   "id": "79653b30",
   "metadata": {},
   "outputs": [
    {
     "data": {
      "text/plain": [
       "array([0, 1, 2, 4])"
      ]
     },
     "execution_count": 398,
     "metadata": {},
     "output_type": "execute_result"
    }
   ],
   "source": [
    "np.delete(a, [3, 5])"
   ]
  },
  {
   "cell_type": "code",
   "execution_count": 400,
   "id": "8c279f20",
   "metadata": {},
   "outputs": [
    {
     "data": {
      "text/plain": [
       "array([[0, 1],\n",
       "       [4, 5]])"
      ]
     },
     "execution_count": 400,
     "metadata": {},
     "output_type": "execute_result"
    }
   ],
   "source": [
    "# 指定axis=0，删除行\n",
    "np.delete(a, 1, 0)"
   ]
  },
  {
   "cell_type": "markdown",
   "id": "93585851",
   "metadata": {},
   "source": [
    "`insert`用来插入元素，与删除类似。"
   ]
  },
  {
   "cell_type": "code",
   "execution_count": 402,
   "id": "bab4b2fb",
   "metadata": {},
   "outputs": [
    {
     "data": {
      "text/plain": [
       "array([[0, 1],\n",
       "       [2, 3],\n",
       "       [4, 5]])"
      ]
     },
     "execution_count": 402,
     "metadata": {},
     "output_type": "execute_result"
    }
   ],
   "source": [
    "a"
   ]
  },
  {
   "cell_type": "code",
   "execution_count": 405,
   "id": "0084ce97",
   "metadata": {},
   "outputs": [
    {
     "data": {
      "text/plain": [
       "array([ 0, -1,  1,  2,  3,  4,  5])"
      ]
     },
     "execution_count": 405,
     "metadata": {},
     "output_type": "execute_result"
    }
   ],
   "source": [
    "# 在index=1的位置插入-1，不指定axis\n",
    "np.insert(a, 1, -1)"
   ]
  },
  {
   "cell_type": "code",
   "execution_count": 406,
   "id": "1e5e79f9",
   "metadata": {},
   "outputs": [
    {
     "data": {
      "text/plain": [
       "array([ 0, -1,  1, -1,  2,  3,  4,  5])"
      ]
     },
     "execution_count": 406,
     "metadata": {},
     "output_type": "execute_result"
    }
   ],
   "source": [
    "# 在index=[1,2]的位置插入-1，不指定axis\n",
    "np.insert(a, [1,2], -1)"
   ]
  },
  {
   "cell_type": "code",
   "execution_count": 413,
   "id": "8815afcc",
   "metadata": {
    "scrolled": true
   },
   "outputs": [
    {
     "data": {
      "text/plain": [
       "array([ 0, -1, -2,  1,  2,  3,  4,  5])"
      ]
     },
     "execution_count": 413,
     "metadata": {},
     "output_type": "execute_result"
    }
   ],
   "source": [
    "# 在index=1的位置插入[-1, -2]，不指定axis\n",
    "np.insert(a, 1, [-1, -2])"
   ]
  },
  {
   "cell_type": "code",
   "execution_count": 414,
   "id": "8984692e",
   "metadata": {},
   "outputs": [
    {
     "data": {
      "text/plain": [
       "array([ 0, -1,  1, -2,  2,  3,  4,  5])"
      ]
     },
     "execution_count": 414,
     "metadata": {},
     "output_type": "execute_result"
    }
   ],
   "source": [
    "# 在index=[1,2]的位置插入[-1, -2]，不指定axis\n",
    "np.insert(a, [1,2], [-1, -2])"
   ]
  },
  {
   "cell_type": "code",
   "execution_count": 422,
   "id": "6d2d99b1",
   "metadata": {},
   "outputs": [
    {
     "data": {
      "text/plain": [
       "array([[ 0,  1],\n",
       "       [-1, -1],\n",
       "       [ 2,  3],\n",
       "       [ 4,  5]])"
      ]
     },
     "execution_count": 422,
     "metadata": {},
     "output_type": "execute_result"
    }
   ],
   "source": [
    "# 指定axis，index=1的位置插入\n",
    "np.insert(a, 1, -1, axis=0)"
   ]
  },
  {
   "cell_type": "code",
   "execution_count": 423,
   "id": "fad64c62",
   "metadata": {},
   "outputs": [
    {
     "data": {
      "text/plain": [
       "array([[ 0,  1],\n",
       "       [-1, -2],\n",
       "       [ 2,  3],\n",
       "       [ 4,  5]])"
      ]
     },
     "execution_count": 423,
     "metadata": {},
     "output_type": "execute_result"
    }
   ],
   "source": [
    "# index=1的位置插入不同值\n",
    "np.insert(a, 1, [-1, -2], axis=0)"
   ]
  },
  {
   "cell_type": "code",
   "execution_count": 426,
   "id": "c6083b0e",
   "metadata": {},
   "outputs": [
    {
     "data": {
      "text/plain": [
       "array([[ 0,  1],\n",
       "       [-1, -1],\n",
       "       [ 2,  3],\n",
       "       [-1, -1],\n",
       "       [ 4,  5]])"
      ]
     },
     "execution_count": 426,
     "metadata": {},
     "output_type": "execute_result"
    }
   ],
   "source": [
    "np.insert(a, [1,2], -1, axis=0)"
   ]
  },
  {
   "cell_type": "code",
   "execution_count": 425,
   "id": "61536180",
   "metadata": {},
   "outputs": [
    {
     "data": {
      "text/plain": [
       "array([[ 0,  1],\n",
       "       [-1, -2],\n",
       "       [ 2,  3],\n",
       "       [-1, -2],\n",
       "       [ 4,  5]])"
      ]
     },
     "execution_count": 425,
     "metadata": {},
     "output_type": "execute_result"
    }
   ],
   "source": [
    "np.insert(a, [1,2], [-1, -2], axis=0)"
   ]
  },
  {
   "cell_type": "code",
   "execution_count": 428,
   "id": "a40730a1",
   "metadata": {},
   "outputs": [
    {
     "data": {
      "text/plain": [
       "array([[ 0,  1],\n",
       "       [-1, -2],\n",
       "       [ 2,  3],\n",
       "       [-1, -2],\n",
       "       [ 4,  5]])"
      ]
     },
     "execution_count": 428,
     "metadata": {},
     "output_type": "execute_result"
    }
   ],
   "source": [
    "np.insert(a, [1,2], [[-1, -2]], axis=0)"
   ]
  },
  {
   "cell_type": "markdown",
   "id": "5d3c330a",
   "metadata": {},
   "source": [
    "`append`类似于Python的append。"
   ]
  },
  {
   "cell_type": "code",
   "execution_count": 434,
   "id": "58b5f014",
   "metadata": {},
   "outputs": [
    {
     "data": {
      "text/plain": [
       "array([0, 1, 2, 3, 4, 5, 1])"
      ]
     },
     "execution_count": 434,
     "metadata": {},
     "output_type": "execute_result"
    }
   ],
   "source": [
    "np.append(a, 1)"
   ]
  },
  {
   "cell_type": "code",
   "execution_count": 436,
   "id": "dacb75e0",
   "metadata": {},
   "outputs": [
    {
     "data": {
      "text/plain": [
       "array([0, 1, 2, 3, 4, 5, 1, 2])"
      ]
     },
     "execution_count": 436,
     "metadata": {},
     "output_type": "execute_result"
    }
   ],
   "source": [
    "np.append(a, [1,2])"
   ]
  },
  {
   "cell_type": "code",
   "execution_count": 445,
   "id": "53252a9a",
   "metadata": {},
   "outputs": [
    {
     "data": {
      "text/plain": [
       "array([[0, 1],\n",
       "       [2, 3],\n",
       "       [4, 5]])"
      ]
     },
     "execution_count": 445,
     "metadata": {},
     "output_type": "execute_result"
    }
   ],
   "source": [
    "a"
   ]
  },
  {
   "cell_type": "code",
   "execution_count": 447,
   "id": "4914de16",
   "metadata": {},
   "outputs": [
    {
     "data": {
      "text/plain": [
       "array([[0, 1],\n",
       "       [2, 3],\n",
       "       [4, 5],\n",
       "       [6, 7]])"
      ]
     },
     "execution_count": 447,
     "metadata": {},
     "output_type": "execute_result"
    }
   ],
   "source": [
    "np.append(a, [[6,7]], axis=0)"
   ]
  },
  {
   "cell_type": "code",
   "execution_count": 451,
   "id": "1c55cfec",
   "metadata": {},
   "outputs": [
    {
     "data": {
      "text/plain": [
       "array([[0, 1, 6],\n",
       "       [2, 3, 7],\n",
       "       [4, 5, 8]])"
      ]
     },
     "execution_count": 451,
     "metadata": {},
     "output_type": "execute_result"
    }
   ],
   "source": [
    "np.append(a, [[6],[7],[8]], axis=1)"
   ]
  },
  {
   "cell_type": "markdown",
   "id": "0e803d62",
   "metadata": {},
   "source": [
    "`trim_zeros`用于清理一维数组或序列的零值。"
   ]
  },
  {
   "cell_type": "code",
   "execution_count": 384,
   "id": "7b562c14",
   "metadata": {},
   "outputs": [
    {
     "data": {
      "text/plain": [
       "array([1, 2, 3, 0, 2, 1])"
      ]
     },
     "execution_count": 384,
     "metadata": {},
     "output_type": "execute_result"
    }
   ],
   "source": [
    "a = np.array((0, 0, 0, 1, 2, 3, 0, 2, 1, 0))\n",
    "np.trim_zeros(a)"
   ]
  },
  {
   "cell_type": "code",
   "execution_count": 386,
   "id": "cccef9d0",
   "metadata": {},
   "outputs": [
    {
     "data": {
      "text/plain": [
       "array([0, 0, 0, 1, 2, 3, 0, 2, 1])"
      ]
     },
     "execution_count": 386,
     "metadata": {},
     "output_type": "execute_result"
    }
   ],
   "source": [
    "np.trim_zeros(a, \"b\")"
   ]
  },
  {
   "cell_type": "code",
   "execution_count": 387,
   "id": "7bf233f0",
   "metadata": {},
   "outputs": [
    {
     "data": {
      "text/plain": [
       "array([1, 2, 3, 0, 2, 1, 0])"
      ]
     },
     "execution_count": 387,
     "metadata": {},
     "output_type": "execute_result"
    }
   ],
   "source": [
    "np.trim_zeros(a, \"f\")"
   ]
  },
  {
   "cell_type": "markdown",
   "id": "8a83c9c4",
   "metadata": {},
   "source": [
    "### 重排元素"
   ]
  },
  {
   "cell_type": "markdown",
   "id": "5b29090f",
   "metadata": {},
   "source": [
    "`flip`主要是翻转元素："
   ]
  },
  {
   "cell_type": "code",
   "execution_count": 453,
   "id": "94030dd2",
   "metadata": {},
   "outputs": [],
   "source": [
    "a = np.arange(8).reshape((2,2,2))"
   ]
  },
  {
   "cell_type": "code",
   "execution_count": 461,
   "id": "4243eac0",
   "metadata": {
    "scrolled": true
   },
   "outputs": [
    {
     "data": {
      "text/plain": [
       "array([[[7, 6],\n",
       "        [5, 4]],\n",
       "\n",
       "       [[3, 2],\n",
       "        [1, 0]]])"
      ]
     },
     "execution_count": 461,
     "metadata": {},
     "output_type": "execute_result"
    }
   ],
   "source": [
    "np.flip(a)"
   ]
  },
  {
   "cell_type": "code",
   "execution_count": 462,
   "id": "42b437e3",
   "metadata": {},
   "outputs": [
    {
     "data": {
      "text/plain": [
       "array([[[7, 6],\n",
       "        [5, 4]],\n",
       "\n",
       "       [[3, 2],\n",
       "        [1, 0]]])"
      ]
     },
     "execution_count": 462,
     "metadata": {},
     "output_type": "execute_result"
    }
   ],
   "source": [
    "np.flip(a, [0,1,2])"
   ]
  },
  {
   "cell_type": "code",
   "execution_count": 455,
   "id": "f808a95e",
   "metadata": {},
   "outputs": [
    {
     "data": {
      "text/plain": [
       "array([[[4, 5],\n",
       "        [6, 7]],\n",
       "\n",
       "       [[0, 1],\n",
       "        [2, 3]]])"
      ]
     },
     "execution_count": 455,
     "metadata": {},
     "output_type": "execute_result"
    }
   ],
   "source": [
    "np.flip(a, 0)"
   ]
  },
  {
   "cell_type": "code",
   "execution_count": 458,
   "id": "1b1d1b41",
   "metadata": {},
   "outputs": [
    {
     "data": {
      "text/plain": [
       "array([[[2, 3],\n",
       "        [0, 1]],\n",
       "\n",
       "       [[6, 7],\n",
       "        [4, 5]]])"
      ]
     },
     "execution_count": 458,
     "metadata": {},
     "output_type": "execute_result"
    }
   ],
   "source": [
    "np.flip(a, 1)"
   ]
  },
  {
   "cell_type": "code",
   "execution_count": 460,
   "id": "da349ff6",
   "metadata": {},
   "outputs": [
    {
     "data": {
      "text/plain": [
       "array([[[1, 0],\n",
       "        [3, 2]],\n",
       "\n",
       "       [[5, 4],\n",
       "        [7, 6]]])"
      ]
     },
     "execution_count": 460,
     "metadata": {},
     "output_type": "execute_result"
    }
   ],
   "source": [
    "np.flip(a, 2)"
   ]
  },
  {
   "cell_type": "code",
   "execution_count": 464,
   "id": "7e448d23",
   "metadata": {},
   "outputs": [
    {
     "data": {
      "text/plain": [
       "array([[[6, 7],\n",
       "        [4, 5]],\n",
       "\n",
       "       [[2, 3],\n",
       "        [0, 1]]])"
      ]
     },
     "execution_count": 464,
     "metadata": {},
     "output_type": "execute_result"
    }
   ],
   "source": [
    "np.flip(a, [0,1])"
   ]
  },
  {
   "cell_type": "markdown",
   "id": "ad17497a",
   "metadata": {},
   "source": [
    "`roll`和`rot90`用于旋转元素，不过两者并不一样。"
   ]
  },
  {
   "cell_type": "markdown",
   "id": "389926d1",
   "metadata": {},
   "source": [
    "`roll`用于旋转给定轴的元素，参数包括：\n",
    "\n",
    "- 数组\n",
    "- shift：整数或元组整数，旋转的数量，如果是tuple，要和对应的axis一样长\n",
    "- axis：坐标轴，整数或元组整数，默认会打平后shift，然后再reshape回去"
   ]
  },
  {
   "cell_type": "code",
   "execution_count": 469,
   "id": "129d3d8d",
   "metadata": {},
   "outputs": [],
   "source": [
    "a = np.arange(10)"
   ]
  },
  {
   "cell_type": "code",
   "execution_count": 470,
   "id": "b00c277f",
   "metadata": {},
   "outputs": [
    {
     "data": {
      "text/plain": [
       "array([7, 8, 9, 0, 1, 2, 3, 4, 5, 6])"
      ]
     },
     "execution_count": 470,
     "metadata": {},
     "output_type": "execute_result"
    }
   ],
   "source": [
    "np.roll(a, 3)"
   ]
  },
  {
   "cell_type": "code",
   "execution_count": 471,
   "id": "1508564f",
   "metadata": {},
   "outputs": [
    {
     "data": {
      "text/plain": [
       "array([2, 3, 4, 5, 6, 7, 8, 9, 0, 1])"
      ]
     },
     "execution_count": 471,
     "metadata": {},
     "output_type": "execute_result"
    }
   ],
   "source": [
    "np.roll(a, -2)"
   ]
  },
  {
   "cell_type": "code",
   "execution_count": 475,
   "id": "86520198",
   "metadata": {},
   "outputs": [
    {
     "data": {
      "text/plain": [
       "array([7, 8, 9, 0, 1, 2, 3, 4, 5, 6])"
      ]
     },
     "execution_count": 475,
     "metadata": {},
     "output_type": "execute_result"
    }
   ],
   "source": [
    "np.roll(a, (1, 2))"
   ]
  },
  {
   "cell_type": "code",
   "execution_count": 476,
   "id": "bba50604",
   "metadata": {},
   "outputs": [
    {
     "data": {
      "text/plain": [
       "array([[0, 1, 2, 3, 4],\n",
       "       [5, 6, 7, 8, 9]])"
      ]
     },
     "execution_count": 476,
     "metadata": {},
     "output_type": "execute_result"
    }
   ],
   "source": [
    "a = np.arange(10).reshape(2, 5)\n",
    "a"
   ]
  },
  {
   "cell_type": "code",
   "execution_count": 479,
   "id": "0788b4e2",
   "metadata": {
    "scrolled": true
   },
   "outputs": [
    {
     "data": {
      "text/plain": [
       "array([[5, 6, 7, 8, 9],\n",
       "       [0, 1, 2, 3, 4]])"
      ]
     },
     "execution_count": 479,
     "metadata": {},
     "output_type": "execute_result"
    }
   ],
   "source": [
    "np.roll(a, 1, axis=0)"
   ]
  },
  {
   "cell_type": "code",
   "execution_count": 480,
   "id": "d32d7e44",
   "metadata": {},
   "outputs": [
    {
     "data": {
      "text/plain": [
       "array([[4, 0, 1, 2, 3],\n",
       "       [9, 5, 6, 7, 8]])"
      ]
     },
     "execution_count": 480,
     "metadata": {},
     "output_type": "execute_result"
    }
   ],
   "source": [
    "np.roll(a, 1, axis=1)"
   ]
  },
  {
   "cell_type": "code",
   "execution_count": 509,
   "id": "0bbd9172",
   "metadata": {},
   "outputs": [
    {
     "data": {
      "text/plain": [
       "array([[9, 0, 1, 2, 3],\n",
       "       [4, 5, 6, 7, 8]])"
      ]
     },
     "execution_count": 509,
     "metadata": {},
     "output_type": "execute_result"
    }
   ],
   "source": [
    "np.roll(a, 1)"
   ]
  },
  {
   "cell_type": "code",
   "execution_count": 511,
   "id": "c864dba0",
   "metadata": {},
   "outputs": [
    {
     "data": {
      "text/plain": [
       "array([[9, 0, 1, 2, 3],\n",
       "       [4, 5, 6, 7, 8]])"
      ]
     },
     "execution_count": 511,
     "metadata": {},
     "output_type": "execute_result"
    }
   ],
   "source": [
    "# 等价于\n",
    "np.roll(a.flatten(), 1).reshape((2, 5))"
   ]
  },
  {
   "cell_type": "code",
   "execution_count": 490,
   "id": "48e23246",
   "metadata": {},
   "outputs": [
    {
     "data": {
      "text/plain": [
       "array([[1, 2, 3, 4, 5],\n",
       "       [6, 7, 8, 9, 0]])"
      ]
     },
     "execution_count": 490,
     "metadata": {},
     "output_type": "execute_result"
    }
   ],
   "source": [
    "np.roll(a, -1)"
   ]
  },
  {
   "cell_type": "code",
   "execution_count": 508,
   "id": "8498b488",
   "metadata": {},
   "outputs": [
    {
     "data": {
      "text/plain": [
       "array([[9, 5, 6, 7, 8],\n",
       "       [4, 0, 1, 2, 3]])"
      ]
     },
     "execution_count": 508,
     "metadata": {},
     "output_type": "execute_result"
    }
   ],
   "source": [
    "# 两个tuple等长\n",
    "np.roll(a, (1, 1), axis=(1, 0))"
   ]
  },
  {
   "cell_type": "code",
   "execution_count": 503,
   "id": "fe4c1fe1",
   "metadata": {
    "scrolled": true
   },
   "outputs": [
    {
     "data": {
      "text/plain": [
       "array([[9, 5, 6, 7, 8],\n",
       "       [4, 0, 1, 2, 3]])"
      ]
     },
     "execution_count": 503,
     "metadata": {},
     "output_type": "execute_result"
    }
   ],
   "source": [
    "# 上式等价于\n",
    "np.roll(a, 1, axis=(1, 0))"
   ]
  },
  {
   "cell_type": "code",
   "execution_count": 499,
   "id": "65c92dec",
   "metadata": {},
   "outputs": [
    {
     "data": {
      "text/plain": [
       "array([[8, 9, 5, 6, 7],\n",
       "       [3, 4, 0, 1, 2]])"
      ]
     },
     "execution_count": 499,
     "metadata": {},
     "output_type": "execute_result"
    }
   ],
   "source": [
    "np.roll(a, (2, 1), axis=(1, 0))"
   ]
  },
  {
   "cell_type": "markdown",
   "id": "be469719",
   "metadata": {},
   "source": [
    "`rot90`表示按指定轴旋转90°，方向是从第一个轴到第二个轴。参数包括：\n",
    "\n",
    "- 数组：二维或更高维\n",
    "- k：整数，旋转次数，默认1\n",
    "- axes：两个以上元素的tuple，且元素必须不同，默认（0,1）"
   ]
  },
  {
   "cell_type": "code",
   "execution_count": 514,
   "id": "d9247119",
   "metadata": {},
   "outputs": [
    {
     "data": {
      "text/plain": [
       "array([[0, 1, 2, 3, 4],\n",
       "       [5, 6, 7, 8, 9]])"
      ]
     },
     "execution_count": 514,
     "metadata": {},
     "output_type": "execute_result"
    }
   ],
   "source": [
    "a"
   ]
  },
  {
   "cell_type": "code",
   "execution_count": 515,
   "id": "f18c4725",
   "metadata": {},
   "outputs": [
    {
     "data": {
      "text/plain": [
       "array([[4, 9],\n",
       "       [3, 8],\n",
       "       [2, 7],\n",
       "       [1, 6],\n",
       "       [0, 5]])"
      ]
     },
     "execution_count": 515,
     "metadata": {},
     "output_type": "execute_result"
    }
   ],
   "source": [
    "np.rot90(a)"
   ]
  },
  {
   "cell_type": "code",
   "execution_count": 517,
   "id": "aaaf26a4",
   "metadata": {},
   "outputs": [
    {
     "data": {
      "text/plain": [
       "array([[9, 8, 7, 6, 5],\n",
       "       [4, 3, 2, 1, 0]])"
      ]
     },
     "execution_count": 517,
     "metadata": {},
     "output_type": "execute_result"
    }
   ],
   "source": [
    "# 180°\n",
    "np.rot90(a, 2)"
   ]
  },
  {
   "cell_type": "code",
   "execution_count": 519,
   "id": "5874d19b",
   "metadata": {},
   "outputs": [
    {
     "data": {
      "text/plain": [
       "array([[0, 1, 2, 3, 4],\n",
       "       [5, 6, 7, 8, 9]])"
      ]
     },
     "execution_count": 519,
     "metadata": {},
     "output_type": "execute_result"
    }
   ],
   "source": [
    "# 转回来\n",
    "np.rot90(a, 4)"
   ]
  },
  {
   "cell_type": "code",
   "execution_count": 521,
   "id": "78b0bb84",
   "metadata": {},
   "outputs": [
    {
     "data": {
      "text/plain": [
       "array([[5, 0],\n",
       "       [6, 1],\n",
       "       [7, 2],\n",
       "       [8, 3],\n",
       "       [9, 4]])"
      ]
     },
     "execution_count": 521,
     "metadata": {},
     "output_type": "execute_result"
    }
   ],
   "source": [
    "# 顺时针\n",
    "np.rot90(a, 1, (1, 0))"
   ]
  },
  {
   "cell_type": "markdown",
   "id": "dc5ae242",
   "metadata": {},
   "source": [
    "## 排序搜索"
   ]
  },
  {
   "cell_type": "markdown",
   "id": "87049d65",
   "metadata": {},
   "source": [
    "### 极值"
   ]
  },
  {
   "cell_type": "markdown",
   "id": "25084417",
   "metadata": {},
   "source": [
    "关于最大最小值的方法不少，我们看看。\n",
    "\n",
    "`np.maximum`和`np.minimum`是通函数，以max为例，其他相关的还有`np.max`（等价的`np.amax`），`np.fmax`和`np.nanmax`。区分如下：\n",
    "\n",
    "- `minimum`：两个数组逐元素比较\n",
    "- `fmax`：同上，但忽略缺失值\n",
    "- `amax`：沿着给定维度\n",
    "- `nanmax`：同上，但忽略缺失值\n",
    "\n",
    "我们以极大值为例。"
   ]
  },
  {
   "cell_type": "code",
   "execution_count": 15,
   "id": "0d8cdfab",
   "metadata": {},
   "outputs": [
    {
     "data": {
      "text/plain": [
       "array([1., 5., 3.])"
      ]
     },
     "execution_count": 15,
     "metadata": {},
     "output_type": "execute_result"
    }
   ],
   "source": [
    "# 等价于 np.where(x1 >= x2, x1, x2)\n",
    "np.fmax([np.nan, 2, 3], [1, 5, np.nan])"
   ]
  },
  {
   "cell_type": "code",
   "execution_count": 13,
   "id": "c1eb5135",
   "metadata": {},
   "outputs": [
    {
     "data": {
      "text/plain": [
       "array([2., 3., 5.])"
      ]
     },
     "execution_count": 13,
     "metadata": {},
     "output_type": "execute_result"
    }
   ],
   "source": [
    "np.nanmax([[np.nan, 3, 5], [2, 1, np.nan]], axis=0)"
   ]
  },
  {
   "cell_type": "markdown",
   "id": "972b2505",
   "metadata": {},
   "source": [
    "### 搜索"
   ]
  },
  {
   "cell_type": "markdown",
   "id": "ebc7c74c",
   "metadata": {},
   "source": [
    "`argmax/argmin`我们在《从小白到入门》中已经做了介绍，这里主要介绍带非数值（NaN）的版本，以极小值为例。"
   ]
  },
  {
   "cell_type": "code",
   "execution_count": 513,
   "id": "ce8bf5d3",
   "metadata": {},
   "outputs": [],
   "source": [
    "a = np.array([\n",
    "    [np.nan, 2, 3],\n",
    "    [1, np.nan, 4]\n",
    "])"
   ]
  },
  {
   "cell_type": "code",
   "execution_count": 516,
   "id": "3d46b693",
   "metadata": {},
   "outputs": [
    {
     "data": {
      "text/plain": [
       "array([0, 1, 0])"
      ]
     },
     "execution_count": 516,
     "metadata": {},
     "output_type": "execute_result"
    }
   ],
   "source": [
    "np.argmin(a, axis=0)"
   ]
  },
  {
   "cell_type": "code",
   "execution_count": 517,
   "id": "c3276372",
   "metadata": {},
   "outputs": [
    {
     "data": {
      "text/plain": [
       "array([1, 0, 0])"
      ]
     },
     "execution_count": 517,
     "metadata": {},
     "output_type": "execute_result"
    }
   ],
   "source": [
    "np.nanargmin(a, axis=0)"
   ]
  },
  {
   "cell_type": "markdown",
   "id": "1d22d0d9",
   "metadata": {},
   "source": [
    "`argwhere`和《从小白到入门》中介绍的`where`有所不同，它返回所有非0元素的index，是`where`的弱化版本。"
   ]
  },
  {
   "cell_type": "code",
   "execution_count": 524,
   "id": "f759d15a",
   "metadata": {},
   "outputs": [
    {
     "data": {
      "text/plain": [
       "array([[0, 1, 2],\n",
       "       [3, 4, 5]])"
      ]
     },
     "execution_count": 524,
     "metadata": {},
     "output_type": "execute_result"
    }
   ],
   "source": [
    "a = np.arange(6).reshape(2, 3)\n",
    "a"
   ]
  },
  {
   "cell_type": "code",
   "execution_count": 526,
   "id": "af499d92",
   "metadata": {},
   "outputs": [
    {
     "data": {
      "text/plain": [
       "array([[0, 1],\n",
       "       [0, 2],\n",
       "       [1, 0],\n",
       "       [1, 1],\n",
       "       [1, 2]])"
      ]
     },
     "execution_count": 526,
     "metadata": {},
     "output_type": "execute_result"
    }
   ],
   "source": [
    "# 默认返回非0的元素index\n",
    "np.argwhere(a)"
   ]
  },
  {
   "cell_type": "code",
   "execution_count": 529,
   "id": "01f1f67d",
   "metadata": {},
   "outputs": [
    {
     "data": {
      "text/plain": [
       "array([[1, 1],\n",
       "       [1, 2]])"
      ]
     },
     "execution_count": 529,
     "metadata": {},
     "output_type": "execute_result"
    }
   ],
   "source": [
    "# 这个不是指定条件，而是a>3本身是个数组\n",
    "np.argwhere(a>3)"
   ]
  },
  {
   "cell_type": "markdown",
   "id": "c3728aad",
   "metadata": {},
   "source": [
    "对于非0位置的索引，还有两个API："
   ]
  },
  {
   "cell_type": "code",
   "execution_count": 535,
   "id": "2d2f8952",
   "metadata": {},
   "outputs": [
    {
     "data": {
      "text/plain": [
       "(array([1, 1, 1]), array([0, 1, 2]))"
      ]
     },
     "execution_count": 535,
     "metadata": {},
     "output_type": "execute_result"
    }
   ],
   "source": [
    "# 返回非0元素的索引\n",
    "np.nonzero(a>2)"
   ]
  },
  {
   "cell_type": "code",
   "execution_count": 537,
   "id": "bdc8bf0d",
   "metadata": {},
   "outputs": [
    {
     "data": {
      "text/plain": [
       "array([3, 4, 5])"
      ]
     },
     "execution_count": 537,
     "metadata": {},
     "output_type": "execute_result"
    }
   ],
   "source": [
    "# 返回打平后的索引\n",
    "np.flatnonzero(a>2)"
   ]
  },
  {
   "cell_type": "markdown",
   "id": "eb95c2b6",
   "metadata": {},
   "source": [
    "最后是`searchsorted`，返回给定值应该插入的位置索引。给定的数组应为一维，但插入的值可以是数组。参数如下：\n",
    "\n",
    "- 被插入的一维数组。\n",
    "- 要插入的值，数组。\n",
    "- side：默认left，第一个合适的位置；right为最后一个合适的位置。\n",
    "- sorter：一维数组，可选的索引，将要插入的数组排序为升序。"
   ]
  },
  {
   "cell_type": "code",
   "execution_count": 558,
   "id": "3fe40c8e",
   "metadata": {},
   "outputs": [
    {
     "data": {
      "text/plain": [
       "array([1, 2, 3, 4, 5])"
      ]
     },
     "execution_count": 558,
     "metadata": {},
     "output_type": "execute_result"
    }
   ],
   "source": [
    "a = np.arange(1, 6)\n",
    "b = np.array([3, 2, 1, 5, 4])\n",
    "a"
   ]
  },
  {
   "cell_type": "code",
   "execution_count": 547,
   "id": "6e454329",
   "metadata": {},
   "outputs": [
    {
     "data": {
      "text/plain": [
       "1"
      ]
     },
     "execution_count": 547,
     "metadata": {},
     "output_type": "execute_result"
    }
   ],
   "source": [
    "np.searchsorted(a, 2)"
   ]
  },
  {
   "cell_type": "code",
   "execution_count": 548,
   "id": "350962a4",
   "metadata": {},
   "outputs": [
    {
     "data": {
      "text/plain": [
       "3"
      ]
     },
     "execution_count": 548,
     "metadata": {},
     "output_type": "execute_result"
    }
   ],
   "source": [
    "np.searchsorted(b, 2)"
   ]
  },
  {
   "cell_type": "code",
   "execution_count": 554,
   "id": "fa48fdad",
   "metadata": {},
   "outputs": [
    {
     "data": {
      "text/plain": [
       "array([[1, 1],\n",
       "       [1, 1]])"
      ]
     },
     "execution_count": 554,
     "metadata": {},
     "output_type": "execute_result"
    }
   ],
   "source": [
    "# 要插入的值可以是多维数组\n",
    "np.searchsorted(a, [[2,2],[2,2]])"
   ]
  },
  {
   "cell_type": "markdown",
   "id": "e9a1b2b2",
   "metadata": {},
   "source": [
    "side控制在所有合适位置中插入位置的index："
   ]
  },
  {
   "cell_type": "code",
   "execution_count": 564,
   "id": "3362af30",
   "metadata": {
    "code_folding": []
   },
   "outputs": [
    {
     "data": {
      "text/plain": [
       "5"
      ]
     },
     "execution_count": 564,
     "metadata": {},
     "output_type": "execute_result"
    }
   ],
   "source": [
    "np.searchsorted([1,1,1,1,1], 1, \"right\")"
   ]
  },
  {
   "cell_type": "code",
   "execution_count": 565,
   "id": "1e28affb",
   "metadata": {},
   "outputs": [
    {
     "data": {
      "text/plain": [
       "0"
      ]
     },
     "execution_count": 565,
     "metadata": {},
     "output_type": "execute_result"
    }
   ],
   "source": [
    "np.searchsorted([1,1,1,1,1], 1, \"left\")"
   ]
  },
  {
   "cell_type": "markdown",
   "id": "f8ab336d",
   "metadata": {},
   "source": [
    "sorter表示被插入数组元素的索引，该索引将数组按升序排列。"
   ]
  },
  {
   "cell_type": "code",
   "execution_count": 578,
   "id": "ef08ded5",
   "metadata": {},
   "outputs": [
    {
     "data": {
      "text/plain": [
       "array([3, 2, 1, 5, 4])"
      ]
     },
     "execution_count": 578,
     "metadata": {},
     "output_type": "execute_result"
    }
   ],
   "source": [
    "b"
   ]
  },
  {
   "cell_type": "code",
   "execution_count": 579,
   "id": "4065e7f5",
   "metadata": {},
   "outputs": [
    {
     "data": {
      "text/plain": [
       "3"
      ]
     },
     "execution_count": 579,
     "metadata": {},
     "output_type": "execute_result"
    }
   ],
   "source": [
    "np.searchsorted(b, 2)"
   ]
  },
  {
   "cell_type": "code",
   "execution_count": 583,
   "id": "8b721537",
   "metadata": {},
   "outputs": [
    {
     "data": {
      "text/plain": [
       "1"
      ]
     },
     "execution_count": 583,
     "metadata": {},
     "output_type": "execute_result"
    }
   ],
   "source": [
    "# 1 2 3 4 5\n",
    "np.searchsorted(b, 2, sorter=[2,1,0,4,3])"
   ]
  },
  {
   "cell_type": "code",
   "execution_count": 587,
   "id": "181be6c3",
   "metadata": {},
   "outputs": [
    {
     "data": {
      "text/plain": [
       "1"
      ]
     },
     "execution_count": 587,
     "metadata": {},
     "output_type": "execute_result"
    }
   ],
   "source": [
    "np.searchsorted([1,2,3,4,5],2)"
   ]
  },
  {
   "cell_type": "code",
   "execution_count": 585,
   "id": "c8e89e9a",
   "metadata": {},
   "outputs": [
    {
     "data": {
      "text/plain": [
       "0"
      ]
     },
     "execution_count": 585,
     "metadata": {},
     "output_type": "execute_result"
    }
   ],
   "source": [
    "# 5 4 3 2 1\n",
    "np.searchsorted(b, 2, sorter=[3,4,0,1,2])"
   ]
  },
  {
   "cell_type": "code",
   "execution_count": 586,
   "id": "6da78a59",
   "metadata": {},
   "outputs": [
    {
     "data": {
      "text/plain": [
       "0"
      ]
     },
     "execution_count": 586,
     "metadata": {},
     "output_type": "execute_result"
    }
   ],
   "source": [
    "np.searchsorted([5,4,3,2,1],2)"
   ]
  },
  {
   "cell_type": "markdown",
   "id": "7cacbd52",
   "metadata": {},
   "source": [
    "### 排序\n",
    "\n",
    "`argsort`在《从小白到入门》中已有介绍，此处不再赘述。这里介绍其他几个和排序相关的API：\n",
    "\n",
    "- `sort/lexsort/ndarray.sort`：数组排序\n",
    "- `msort`：排序第一轴\n",
    "- `sort_complex`：复数排序\n",
    "- `prtition/argpartition/ndarray.partition`：部分排序"
   ]
  },
  {
   "cell_type": "code",
   "execution_count": 633,
   "id": "dd702d83",
   "metadata": {},
   "outputs": [
    {
     "data": {
      "text/plain": [
       "array([[0, 7, 6, 4],\n",
       "       [4, 8, 0, 6],\n",
       "       [2, 0, 5, 9]])"
      ]
     },
     "execution_count": 633,
     "metadata": {},
     "output_type": "execute_result"
    }
   ],
   "source": [
    "rng = np.random.default_rng(42)\n",
    "a = rng.integers(0, 10, (3, 4))\n",
    "a"
   ]
  },
  {
   "cell_type": "markdown",
   "id": "c33a32f4",
   "metadata": {},
   "source": [
    "`sort`包括以下参数：\n",
    "\n",
    "- 数组\n",
    "- axis：默认最后一个轴（-1）\n",
    "- kind：kind是排序算法，支持：quicksort、mergesort、heapsort和stable，默认quicksort\n",
    "- order：用来排序的field（数组有field时）\n",
    "\n",
    "沿着最后一个维度（默认）排序时不创建临时复制，因此速度最快，不占用额外空间。\n",
    "\n",
    "stable会根据被排序的数据类型自动选择最稳定的排序算法。"
   ]
  },
  {
   "cell_type": "code",
   "execution_count": 634,
   "id": "ab472b91",
   "metadata": {},
   "outputs": [
    {
     "data": {
      "text/plain": [
       "array([[0, 4, 6, 7],\n",
       "       [0, 4, 6, 8],\n",
       "       [0, 2, 5, 9]])"
      ]
     },
     "execution_count": 634,
     "metadata": {},
     "output_type": "execute_result"
    }
   ],
   "source": [
    "# 默认axis=-1\n",
    "np.sort(a)"
   ]
  },
  {
   "cell_type": "code",
   "execution_count": 635,
   "id": "af395df8",
   "metadata": {},
   "outputs": [
    {
     "data": {
      "text/plain": [
       "array([[0, 0, 0, 4],\n",
       "       [2, 7, 5, 6],\n",
       "       [4, 8, 6, 9]])"
      ]
     },
     "execution_count": 635,
     "metadata": {},
     "output_type": "execute_result"
    }
   ],
   "source": [
    "# 指定轴\n",
    "np.sort(a, axis=0)"
   ]
  },
  {
   "cell_type": "code",
   "execution_count": 636,
   "id": "2e9d72b8",
   "metadata": {},
   "outputs": [
    {
     "data": {
      "text/plain": [
       "array([[0, 4, 6, 7],\n",
       "       [0, 4, 6, 8],\n",
       "       [0, 2, 5, 9]])"
      ]
     },
     "execution_count": 636,
     "metadata": {},
     "output_type": "execute_result"
    }
   ],
   "source": [
    "# 指定排序算法\n",
    "np.sort(a, kind=\"stable\")"
   ]
  },
  {
   "cell_type": "code",
   "execution_count": 637,
   "id": "bccd3d37",
   "metadata": {},
   "outputs": [
    {
     "data": {
      "text/plain": [
       "array([('Galahad', 1.7, 38), ('Arthur', 1.8, 41), ('Lancelot', 1.9, 38)],\n",
       "      dtype=[('name', '<U10'), ('height', '<f2'), ('age', '<i4')])"
      ]
     },
     "execution_count": 637,
     "metadata": {},
     "output_type": "execute_result"
    }
   ],
   "source": [
    "# 指定order\n",
    "# String, float16, int32\n",
    "dtype = [(\"name\", \"U10\"), (\"height\", \"f2\"), (\"age\", \"i4\")]\n",
    "values = [\n",
    "    (\"Arthur\", 1.8, 41), \n",
    "    (\"Lancelot\", 1.9, 38), \n",
    "    (\"Galahad\", 1.7, 38)\n",
    "]\n",
    "b = np.array(values, dtype=dtype)\n",
    "np.sort(b, order=[\"height\"])"
   ]
  },
  {
   "cell_type": "markdown",
   "id": "6ee5c468",
   "metadata": {},
   "source": [
    "`lexsort`，后面的key优先。"
   ]
  },
  {
   "cell_type": "code",
   "execution_count": 638,
   "id": "12f6e0a7",
   "metadata": {},
   "outputs": [
    {
     "data": {
      "text/plain": [
       "array([2, 1, 0])"
      ]
     },
     "execution_count": 638,
     "metadata": {},
     "output_type": "execute_result"
    }
   ],
   "source": [
    "surnames =    ('Zertz',    'Halilei', 'Halilei')\n",
    "first_names = ('Heinrich', 'Gzlileo', 'Gustav')\n",
    "# 先surname，在按firstname\n",
    "ind = np.lexsort((first_names, surnames))\n",
    "ind"
   ]
  },
  {
   "cell_type": "code",
   "execution_count": 639,
   "id": "be576eba",
   "metadata": {},
   "outputs": [
    {
     "data": {
      "text/plain": [
       "['Halilei, Gustav', 'Halilei, Gzlileo', 'Zertz, Heinrich']"
      ]
     },
     "execution_count": 639,
     "metadata": {},
     "output_type": "execute_result"
    }
   ],
   "source": [
    "[surnames[i] + \", \" + first_names[i] for i in ind]"
   ]
  },
  {
   "cell_type": "markdown",
   "id": "0d108d63",
   "metadata": {},
   "source": [
    "`ndarray.sort`是in-place排序。其余参数与`np.sort`一样。"
   ]
  },
  {
   "cell_type": "code",
   "execution_count": 645,
   "id": "002e336a",
   "metadata": {},
   "outputs": [
    {
     "data": {
      "text/plain": [
       "array([[0, 7, 6, 4],\n",
       "       [4, 8, 0, 6],\n",
       "       [2, 0, 5, 9]])"
      ]
     },
     "execution_count": 645,
     "metadata": {},
     "output_type": "execute_result"
    }
   ],
   "source": [
    "rng = np.random.default_rng(42)\n",
    "a = rng.integers(0, 10, (3, 4))\n",
    "a"
   ]
  },
  {
   "cell_type": "code",
   "execution_count": 646,
   "id": "a591b0e9",
   "metadata": {},
   "outputs": [],
   "source": [
    "a.sort()"
   ]
  },
  {
   "cell_type": "code",
   "execution_count": 647,
   "id": "2cc358a9",
   "metadata": {},
   "outputs": [
    {
     "data": {
      "text/plain": [
       "array([[0, 4, 6, 7],\n",
       "       [0, 4, 6, 8],\n",
       "       [0, 2, 5, 9]])"
      ]
     },
     "execution_count": 647,
     "metadata": {},
     "output_type": "execute_result"
    }
   ],
   "source": [
    "a"
   ]
  },
  {
   "cell_type": "markdown",
   "id": "c1d7a612",
   "metadata": {},
   "source": [
    "`msort`与`np.sort(a, axis=0)`等价。"
   ]
  },
  {
   "cell_type": "code",
   "execution_count": 650,
   "id": "af9e325d",
   "metadata": {},
   "outputs": [
    {
     "data": {
      "text/plain": [
       "array([[0, 7, 6, 4],\n",
       "       [4, 8, 0, 6],\n",
       "       [2, 0, 5, 9]])"
      ]
     },
     "execution_count": 650,
     "metadata": {},
     "output_type": "execute_result"
    }
   ],
   "source": [
    "rng = np.random.default_rng(42)\n",
    "a = rng.integers(0, 10, (3, 4))\n",
    "a"
   ]
  },
  {
   "cell_type": "code",
   "execution_count": 651,
   "id": "6f333e9d",
   "metadata": {},
   "outputs": [
    {
     "data": {
      "text/plain": [
       "array([[0, 0, 0, 4],\n",
       "       [2, 7, 5, 6],\n",
       "       [4, 8, 6, 9]])"
      ]
     },
     "execution_count": 651,
     "metadata": {},
     "output_type": "execute_result"
    }
   ],
   "source": [
    "np.msort(a)"
   ]
  },
  {
   "cell_type": "markdown",
   "id": "46205576",
   "metadata": {},
   "source": [
    "`sort_complex`先用实部排，再用虚部。"
   ]
  },
  {
   "cell_type": "code",
   "execution_count": 657,
   "id": "1f2e8889",
   "metadata": {},
   "outputs": [
    {
     "data": {
      "text/plain": [
       "array([1.+1.j, 1.+2.j, 2.-1.j, 3.-3.j, 3.-2.j, 3.+5.j])"
      ]
     },
     "execution_count": 657,
     "metadata": {},
     "output_type": "execute_result"
    }
   ],
   "source": [
    "np.sort_complex([1 + 2j, 1+1j, 2 - 1j, 3 - 2j, 3 - 3j, 3 + 5j])"
   ]
  },
  {
   "cell_type": "markdown",
   "id": "49bab350",
   "metadata": {},
   "source": [
    "`partition`和`argpartition`的关系和`sort`与`argsort`类似。参数包括：\n",
    "\n",
    "- 数组\n",
    "- kth：切分的位置，整数或整数序列\n",
    "- axis：轴，默认-1\n",
    "- kind：选择算法，默认`introselect`\n",
    "- order：str或List[str]，和前面介绍的`sort`中的参数用法一样。\n",
    "\n",
    "注意，返回的结果中，第k个元素的位置是排好序时的位置（不是原始数组中的index）。"
   ]
  },
  {
   "cell_type": "code",
   "execution_count": 723,
   "id": "69e70e8b",
   "metadata": {},
   "outputs": [
    {
     "data": {
      "text/plain": [
       "array([ 78,  87,  88, 101,  99, 100,  98])"
      ]
     },
     "execution_count": 723,
     "metadata": {},
     "output_type": "execute_result"
    }
   ],
   "source": [
    "a = [100, 99, 87, 101, 88, 78, 98]\n",
    "# 88 排好时在index=2的数字\n",
    "# 比88小的在左边，比88大或相等的在右边\n",
    "np.partition(a, 2)"
   ]
  },
  {
   "cell_type": "code",
   "execution_count": 724,
   "id": "637db77b",
   "metadata": {},
   "outputs": [
    {
     "data": {
      "text/plain": [
       "array([5, 2, 4, 3, 1, 0, 6])"
      ]
     },
     "execution_count": 724,
     "metadata": {},
     "output_type": "execute_result"
    }
   ],
   "source": [
    "np.argpartition(a, 2)"
   ]
  },
  {
   "cell_type": "code",
   "execution_count": 725,
   "id": "c851f06d",
   "metadata": {},
   "outputs": [
    {
     "data": {
      "text/plain": [
       "array([2, 1, 3, 4])"
      ]
     },
     "execution_count": 725,
     "metadata": {},
     "output_type": "execute_result"
    }
   ],
   "source": [
    "a = [3, 4, 2, 1]\n",
    "# 4 是排好序时index=3的数字\n",
    "np.partition(a, 3)"
   ]
  },
  {
   "cell_type": "code",
   "execution_count": 726,
   "id": "82cfc970",
   "metadata": {},
   "outputs": [
    {
     "data": {
      "text/plain": [
       "array([2, 3, 0, 1])"
      ]
     },
     "execution_count": 726,
     "metadata": {},
     "output_type": "execute_result"
    }
   ],
   "source": [
    "np.argpartition(a, 3)"
   ]
  },
  {
   "cell_type": "code",
   "execution_count": 727,
   "id": "b33e8c37",
   "metadata": {},
   "outputs": [
    {
     "data": {
      "text/plain": [
       "array([[0, 7, 6, 4, 4, 8, 0, 6],\n",
       "       [2, 0, 5, 9, 7, 7, 7, 7],\n",
       "       [5, 1, 8, 4, 5, 3, 1, 9]])"
      ]
     },
     "execution_count": 727,
     "metadata": {},
     "output_type": "execute_result"
    }
   ],
   "source": [
    "rng = np.random.default_rng(42)\n",
    "a = rng.integers(0, 10, (3, 8))\n",
    "a"
   ]
  },
  {
   "cell_type": "code",
   "execution_count": 728,
   "id": "a7b0eb29",
   "metadata": {},
   "outputs": [
    {
     "data": {
      "text/plain": [
       "array([[0, 0, 4, 6, 4, 8, 7, 6],\n",
       "       [0, 2, 5, 9, 7, 7, 7, 7],\n",
       "       [1, 1, 3, 4, 5, 8, 5, 9]])"
      ]
     },
     "execution_count": 728,
     "metadata": {},
     "output_type": "execute_result"
    }
   ],
   "source": [
    "# 注意第一行，比4大或相等的在右边 \n",
    "np.partition(a, 2)"
   ]
  },
  {
   "cell_type": "code",
   "execution_count": 729,
   "id": "e33153dd",
   "metadata": {
    "scrolled": true
   },
   "outputs": [
    {
     "data": {
      "text/plain": [
       "array([[0, 6, 3, 2, 4, 5, 1, 7],\n",
       "       [1, 0, 2, 3, 4, 5, 6, 7],\n",
       "       [1, 6, 5, 3, 4, 2, 0, 7]])"
      ]
     },
     "execution_count": 729,
     "metadata": {},
     "output_type": "execute_result"
    }
   ],
   "source": [
    "np.argpartition(a, 2)"
   ]
  },
  {
   "cell_type": "markdown",
   "id": "dae0f68b",
   "metadata": {},
   "source": [
    "## 集合操作"
   ]
  },
  {
   "cell_type": "markdown",
   "id": "9947452a",
   "metadata": {},
   "source": [
    "### 包含"
   ]
  },
  {
   "cell_type": "markdown",
   "id": "20fc5dad",
   "metadata": {},
   "source": [
    "第一个数组的元素是否在第二个数组："
   ]
  },
  {
   "cell_type": "code",
   "execution_count": 192,
   "id": "a49206e6",
   "metadata": {},
   "outputs": [
    {
     "data": {
      "text/plain": [
       "array([1, 2, 3])"
      ]
     },
     "execution_count": 192,
     "metadata": {},
     "output_type": "execute_result"
    }
   ],
   "source": [
    "a = np.array([[1, 2], [2, 3]])\n",
    "np.unique(a)"
   ]
  },
  {
   "cell_type": "code",
   "execution_count": 193,
   "id": "ba585724",
   "metadata": {
    "scrolled": true
   },
   "outputs": [
    {
     "data": {
      "text/plain": [
       "array([ True,  True,  True, False])"
      ]
     },
     "execution_count": 193,
     "metadata": {},
     "output_type": "execute_result"
    }
   ],
   "source": [
    "np.in1d([1,2,3,4], a)"
   ]
  },
  {
   "cell_type": "code",
   "execution_count": 194,
   "id": "68c4e61c",
   "metadata": {},
   "outputs": [
    {
     "data": {
      "text/plain": [
       "array([False, False, False,  True])"
      ]
     },
     "execution_count": 194,
     "metadata": {},
     "output_type": "execute_result"
    }
   ],
   "source": [
    "# 翻转\n",
    "np.in1d([1,2,3,4], a, invert=True)"
   ]
  },
  {
   "cell_type": "code",
   "execution_count": 195,
   "id": "b4cf0806",
   "metadata": {},
   "outputs": [
    {
     "data": {
      "text/plain": [
       "array([ True,  True,  True, False])"
      ]
     },
     "execution_count": 195,
     "metadata": {},
     "output_type": "execute_result"
    }
   ],
   "source": [
    "# 两个数组里的值均unique\n",
    "# 可以加速计算\n",
    "np.in1d([1,2,3,4], a, assume_unique=True)"
   ]
  },
  {
   "cell_type": "code",
   "execution_count": 200,
   "id": "7f8b4e10",
   "metadata": {},
   "outputs": [
    {
     "data": {
      "text/plain": [
       "array([ True,  True,  True, False])"
      ]
     },
     "execution_count": 200,
     "metadata": {},
     "output_type": "execute_result"
    }
   ],
   "source": [
    "# 打平\n",
    "np.in1d([[1,2],[3,4]], a)"
   ]
  },
  {
   "cell_type": "code",
   "execution_count": 201,
   "id": "ebad0dfc",
   "metadata": {},
   "outputs": [
    {
     "data": {
      "text/plain": [
       "array([ True,  True,  True, False])"
      ]
     },
     "execution_count": 201,
     "metadata": {},
     "output_type": "execute_result"
    }
   ],
   "source": [
    "# 不打平\n",
    "np.isin([1,2,3,4], a)"
   ]
  },
  {
   "cell_type": "code",
   "execution_count": 198,
   "id": "1127b4ba",
   "metadata": {},
   "outputs": [
    {
     "data": {
      "text/plain": [
       "array([[ True,  True],\n",
       "       [ True, False]])"
      ]
     },
     "execution_count": 198,
     "metadata": {},
     "output_type": "execute_result"
    }
   ],
   "source": [
    "np.isin([[1,2],[3,4]], a)"
   ]
  },
  {
   "cell_type": "markdown",
   "id": "b5e4e9d4",
   "metadata": {},
   "source": [
    "其余参数和`in1d`一样。"
   ]
  },
  {
   "cell_type": "markdown",
   "id": "81861526",
   "metadata": {},
   "source": [
    "### 交集"
   ]
  },
  {
   "cell_type": "markdown",
   "id": "0f7cf029",
   "metadata": {},
   "source": [
    "交集，输入的数组会打平："
   ]
  },
  {
   "cell_type": "code",
   "execution_count": 210,
   "id": "e7b14f5f",
   "metadata": {},
   "outputs": [
    {
     "data": {
      "text/plain": [
       "array([[1, 2],\n",
       "       [2, 3]])"
      ]
     },
     "execution_count": 210,
     "metadata": {},
     "output_type": "execute_result"
    }
   ],
   "source": [
    "a"
   ]
  },
  {
   "cell_type": "code",
   "execution_count": 211,
   "id": "b42da2f3",
   "metadata": {},
   "outputs": [],
   "source": [
    "b = np.array([[2, 4, 1]])"
   ]
  },
  {
   "cell_type": "code",
   "execution_count": 212,
   "id": "87336b6a",
   "metadata": {},
   "outputs": [
    {
     "data": {
      "text/plain": [
       "array([1, 2])"
      ]
     },
     "execution_count": 212,
     "metadata": {},
     "output_type": "execute_result"
    }
   ],
   "source": [
    "np.intersect1d(a, b)"
   ]
  },
  {
   "cell_type": "code",
   "execution_count": 213,
   "id": "83a5b999",
   "metadata": {},
   "outputs": [
    {
     "data": {
      "text/plain": [
       "array([1, 2, 2])"
      ]
     },
     "execution_count": 213,
     "metadata": {},
     "output_type": "execute_result"
    }
   ],
   "source": [
    "# 如果假设为unique，其实不是，结果会有误\n",
    "np.intersect1d(a, b, assume_unique=True)"
   ]
  },
  {
   "cell_type": "code",
   "execution_count": 214,
   "id": "76f676d2",
   "metadata": {},
   "outputs": [
    {
     "data": {
      "text/plain": [
       "(array([1, 2]), array([0, 1]), array([2, 0]))"
      ]
     },
     "execution_count": 214,
     "metadata": {},
     "output_type": "execute_result"
    }
   ],
   "source": [
    "# 返回索引，如果有多个，返回第一个\n",
    "np.intersect1d(a, b, return_indices=True)"
   ]
  },
  {
   "cell_type": "markdown",
   "id": "992b7041",
   "metadata": {},
   "source": [
    "### 并集"
   ]
  },
  {
   "cell_type": "markdown",
   "id": "dce48407",
   "metadata": {},
   "source": [
    "并集，输入的数组会打平："
   ]
  },
  {
   "cell_type": "code",
   "execution_count": 215,
   "id": "a3925e52",
   "metadata": {},
   "outputs": [
    {
     "data": {
      "text/plain": [
       "array([[1, 2],\n",
       "       [2, 3]])"
      ]
     },
     "execution_count": 215,
     "metadata": {},
     "output_type": "execute_result"
    }
   ],
   "source": [
    "a"
   ]
  },
  {
   "cell_type": "code",
   "execution_count": 218,
   "id": "060a5c60",
   "metadata": {},
   "outputs": [
    {
     "data": {
      "text/plain": [
       "array([[2, 4, 1]])"
      ]
     },
     "execution_count": 218,
     "metadata": {},
     "output_type": "execute_result"
    }
   ],
   "source": [
    "b"
   ]
  },
  {
   "cell_type": "code",
   "execution_count": 216,
   "id": "95ca08c8",
   "metadata": {
    "scrolled": true
   },
   "outputs": [
    {
     "data": {
      "text/plain": [
       "array([1, 2, 3, 4])"
      ]
     },
     "execution_count": 216,
     "metadata": {},
     "output_type": "execute_result"
    }
   ],
   "source": [
    "np.union1d(a, b)"
   ]
  },
  {
   "cell_type": "markdown",
   "id": "1e519cd3",
   "metadata": {},
   "source": [
    "### 差集"
   ]
  },
  {
   "cell_type": "markdown",
   "id": "7f72a2ea",
   "metadata": {},
   "source": [
    "差集，返回在数组1不在数组2的："
   ]
  },
  {
   "cell_type": "code",
   "execution_count": 219,
   "id": "aecf73c1",
   "metadata": {},
   "outputs": [
    {
     "data": {
      "text/plain": [
       "array([3])"
      ]
     },
     "execution_count": 219,
     "metadata": {},
     "output_type": "execute_result"
    }
   ],
   "source": [
    "np.setdiff1d(a, b)"
   ]
  },
  {
   "cell_type": "code",
   "execution_count": 220,
   "id": "16a43669",
   "metadata": {},
   "outputs": [
    {
     "data": {
      "text/plain": [
       "array([4])"
      ]
     },
     "execution_count": 220,
     "metadata": {},
     "output_type": "execute_result"
    }
   ],
   "source": [
    "np.setdiff1d(b, a)"
   ]
  },
  {
   "cell_type": "markdown",
   "id": "f3b7b034",
   "metadata": {},
   "source": [
    "### 异或集"
   ]
  },
  {
   "cell_type": "markdown",
   "id": "6adf59b2",
   "metadata": {},
   "source": [
    "异或集："
   ]
  },
  {
   "cell_type": "code",
   "execution_count": 224,
   "id": "2f0030cd",
   "metadata": {},
   "outputs": [
    {
     "data": {
      "text/plain": [
       "array([3, 4])"
      ]
     },
     "execution_count": 224,
     "metadata": {},
     "output_type": "execute_result"
    }
   ],
   "source": [
    "np.setxor1d(a, b)"
   ]
  },
  {
   "cell_type": "markdown",
   "id": "2e9e6a27",
   "metadata": {},
   "source": [
    "对于多个数组，可以使用`reduce`方法："
   ]
  },
  {
   "cell_type": "code",
   "execution_count": 206,
   "id": "67dd79c8",
   "metadata": {},
   "outputs": [],
   "source": [
    "from functools import reduce"
   ]
  },
  {
   "cell_type": "code",
   "execution_count": 208,
   "id": "946d75c0",
   "metadata": {},
   "outputs": [
    {
     "data": {
      "text/plain": [
       "array([1, 2, 3, 4, 6])"
      ]
     },
     "execution_count": 208,
     "metadata": {},
     "output_type": "execute_result"
    }
   ],
   "source": [
    "reduce(\n",
    "    np.union1d, \n",
    "    ([1, 3, 4, 3], [3, 1, 2, 1], [6, 3, 4, 2])\n",
    ")"
   ]
  },
  {
   "cell_type": "markdown",
   "id": "0ef6cc1f",
   "metadata": {},
   "source": [
    "## 函数式编程\n",
    "\n",
    "NumPy的向量化计算也可以被自定义使用。下面我们就看看如何在NumPy上使用自定义方法。"
   ]
  },
  {
   "cell_type": "markdown",
   "id": "35a2c783",
   "metadata": {},
   "source": [
    "`apply_along_axis`是沿着某个维度应用一个函数，等于是沿着某个维度对原数组值进行映射。"
   ]
  },
  {
   "cell_type": "code",
   "execution_count": 230,
   "id": "864ee65d",
   "metadata": {},
   "outputs": [],
   "source": [
    "def func(a):\n",
    "    return (a[0] + a[-1]) / 2"
   ]
  },
  {
   "cell_type": "code",
   "execution_count": 232,
   "id": "dab55456",
   "metadata": {},
   "outputs": [
    {
     "data": {
      "text/plain": [
       "array([[1, 2, 3],\n",
       "       [4, 5, 6],\n",
       "       [7, 8, 9]])"
      ]
     },
     "execution_count": 232,
     "metadata": {},
     "output_type": "execute_result"
    }
   ],
   "source": [
    "b = np.arange(1, 10).reshape(3, 3)\n",
    "b"
   ]
  },
  {
   "cell_type": "code",
   "execution_count": 233,
   "id": "e700e174",
   "metadata": {},
   "outputs": [
    {
     "data": {
      "text/plain": [
       "array([4., 5., 6.])"
      ]
     },
     "execution_count": 233,
     "metadata": {},
     "output_type": "execute_result"
    }
   ],
   "source": [
    "np.apply_along_axis(func, 0, b)"
   ]
  },
  {
   "cell_type": "code",
   "execution_count": 236,
   "id": "22f673ee",
   "metadata": {},
   "outputs": [
    {
     "data": {
      "text/plain": [
       "array([2., 5., 8.])"
      ]
     },
     "execution_count": 236,
     "metadata": {},
     "output_type": "execute_result"
    }
   ],
   "source": [
    "np.apply_along_axis(func, 1, b)"
   ]
  },
  {
   "cell_type": "code",
   "execution_count": 242,
   "id": "95c9b724",
   "metadata": {},
   "outputs": [
    {
     "data": {
      "text/plain": [
       "array([[8, 1, 7],\n",
       "       [4, 3, 9],\n",
       "       [5, 2, 6]])"
      ]
     },
     "execution_count": 242,
     "metadata": {},
     "output_type": "execute_result"
    }
   ],
   "source": [
    "b = np.array([[8,1,7], [4,3,9], [5,2,6]])\n",
    "b"
   ]
  },
  {
   "cell_type": "code",
   "execution_count": 240,
   "id": "3ec4c2ae",
   "metadata": {},
   "outputs": [
    {
     "data": {
      "text/plain": [
       "array([[1, 7, 8],\n",
       "       [3, 4, 9],\n",
       "       [2, 5, 6]])"
      ]
     },
     "execution_count": 240,
     "metadata": {},
     "output_type": "execute_result"
    }
   ],
   "source": [
    "np.apply_along_axis(sorted, 1, b)"
   ]
  },
  {
   "cell_type": "code",
   "execution_count": 245,
   "id": "8addab98",
   "metadata": {},
   "outputs": [
    {
     "data": {
      "text/plain": [
       "array([[4, 1, 6],\n",
       "       [5, 2, 7],\n",
       "       [8, 3, 9]])"
      ]
     },
     "execution_count": 245,
     "metadata": {},
     "output_type": "execute_result"
    }
   ],
   "source": [
    "np.apply_along_axis(sorted, 0, b)"
   ]
  },
  {
   "cell_type": "code",
   "execution_count": 253,
   "id": "0276def6",
   "metadata": {},
   "outputs": [
    {
     "data": {
      "text/plain": [
       "array([[[8, 0, 0],\n",
       "        [0, 1, 0],\n",
       "        [0, 0, 7]],\n",
       "\n",
       "       [[4, 0, 0],\n",
       "        [0, 3, 0],\n",
       "        [0, 0, 9]],\n",
       "\n",
       "       [[5, 0, 0],\n",
       "        [0, 2, 0],\n",
       "        [0, 0, 6]]])"
      ]
     },
     "execution_count": 253,
     "metadata": {},
     "output_type": "execute_result"
    }
   ],
   "source": [
    "np.apply_along_axis(np.diag, 1, b)"
   ]
  },
  {
   "cell_type": "code",
   "execution_count": 254,
   "id": "359f1e24",
   "metadata": {},
   "outputs": [
    {
     "data": {
      "text/plain": [
       "array([[[8, 0, 0],\n",
       "        [0, 4, 0],\n",
       "        [0, 0, 5]],\n",
       "\n",
       "       [[1, 0, 0],\n",
       "        [0, 3, 0],\n",
       "        [0, 0, 2]],\n",
       "\n",
       "       [[7, 0, 0],\n",
       "        [0, 9, 0],\n",
       "        [0, 0, 6]]])"
      ]
     },
     "execution_count": 254,
     "metadata": {},
     "output_type": "execute_result"
    }
   ],
   "source": [
    "np.apply_along_axis(np.diag, 0, b).T"
   ]
  },
  {
   "cell_type": "markdown",
   "id": "ff93e4b6",
   "metadata": {},
   "source": [
    "`apply_over_axes`会将一个函数重复多次应用到多个轴。\n",
    "\n",
    "注意：函数接受两个参数（和`apply_along_axis`的一个参数区别），分别是数组和维度。"
   ]
  },
  {
   "cell_type": "code",
   "execution_count": 268,
   "id": "b8e7f201",
   "metadata": {},
   "outputs": [
    {
     "data": {
      "text/plain": [
       "array([[8, 1, 7],\n",
       "       [4, 3, 9],\n",
       "       [5, 2, 6]])"
      ]
     },
     "execution_count": 268,
     "metadata": {},
     "output_type": "execute_result"
    }
   ],
   "source": [
    "b"
   ]
  },
  {
   "cell_type": "code",
   "execution_count": 266,
   "id": "48388f33",
   "metadata": {},
   "outputs": [
    {
     "data": {
      "text/plain": [
       "array([[16],\n",
       "       [16],\n",
       "       [13]])"
      ]
     },
     "execution_count": 266,
     "metadata": {},
     "output_type": "execute_result"
    }
   ],
   "source": [
    "np.apply_over_axes(np.sum, b, 1)"
   ]
  },
  {
   "cell_type": "code",
   "execution_count": 267,
   "id": "698a55cf",
   "metadata": {},
   "outputs": [
    {
     "data": {
      "text/plain": [
       "array([[17,  6, 22]])"
      ]
     },
     "execution_count": 267,
     "metadata": {},
     "output_type": "execute_result"
    }
   ],
   "source": [
    "np.apply_over_axes(np.sum, b, 0)"
   ]
  },
  {
   "cell_type": "code",
   "execution_count": 265,
   "id": "0d94df56",
   "metadata": {
    "scrolled": true
   },
   "outputs": [
    {
     "data": {
      "text/plain": [
       "array([[45]])"
      ]
     },
     "execution_count": 265,
     "metadata": {},
     "output_type": "execute_result"
    }
   ],
   "source": [
    "np.apply_over_axes(np.sum, b, [0, 1])"
   ]
  },
  {
   "cell_type": "markdown",
   "id": "a9cf706d",
   "metadata": {},
   "source": [
    "`vectorize`是通用类，将自定义函数向量化，主要是方便，而不是为了提高性能，内部实际是一个for循环。"
   ]
  },
  {
   "cell_type": "code",
   "execution_count": 270,
   "id": "e57d1130",
   "metadata": {},
   "outputs": [],
   "source": [
    "def func(a, b):\n",
    "    if a > b:\n",
    "        return a - b\n",
    "    else:\n",
    "        return a + b"
   ]
  },
  {
   "cell_type": "code",
   "execution_count": 271,
   "id": "c2d10658",
   "metadata": {},
   "outputs": [],
   "source": [
    "vfunc = np.vectorize(func)"
   ]
  },
  {
   "cell_type": "code",
   "execution_count": 272,
   "id": "7c3996b8",
   "metadata": {},
   "outputs": [
    {
     "data": {
      "text/plain": [
       "array([3, 4, 5, 6, 1, 2, 3, 4, 5, 6])"
      ]
     },
     "execution_count": 272,
     "metadata": {},
     "output_type": "execute_result"
    }
   ],
   "source": [
    "vfunc(np.arange(10), 3)"
   ]
  },
  {
   "cell_type": "markdown",
   "id": "26e7affc",
   "metadata": {},
   "source": [
    "可以指定输出的类型："
   ]
  },
  {
   "cell_type": "code",
   "execution_count": 274,
   "id": "6b1ec373",
   "metadata": {},
   "outputs": [],
   "source": [
    "vfunc = np.vectorize(func, otypes=[np.float16])"
   ]
  },
  {
   "cell_type": "code",
   "execution_count": 275,
   "id": "f7007f2b",
   "metadata": {},
   "outputs": [
    {
     "data": {
      "text/plain": [
       "array([3., 4., 5., 6., 1., 2., 3., 4., 5., 6.], dtype=float16)"
      ]
     },
     "execution_count": 275,
     "metadata": {},
     "output_type": "execute_result"
    }
   ],
   "source": [
    "vfunc(np.arange(10), 3)"
   ]
  },
  {
   "cell_type": "markdown",
   "id": "6688fedd",
   "metadata": {},
   "source": [
    "或者指定不进行向量化的参数："
   ]
  },
  {
   "cell_type": "code",
   "execution_count": 290,
   "id": "a7dfe5f0",
   "metadata": {},
   "outputs": [],
   "source": [
    "def func(a, b):\n",
    "    res = np.zeros_like(b)\n",
    "    for i in a:\n",
    "        res += i * b\n",
    "    return res"
   ]
  },
  {
   "cell_type": "code",
   "execution_count": 291,
   "id": "a0a84dd2",
   "metadata": {},
   "outputs": [
    {
     "data": {
      "text/plain": [
       "array([12, 24])"
      ]
     },
     "execution_count": 291,
     "metadata": {},
     "output_type": "execute_result"
    }
   ],
   "source": [
    "func([1,2,3], np.array([2,4]))"
   ]
  },
  {
   "cell_type": "code",
   "execution_count": 305,
   "id": "b7fc5f1b",
   "metadata": {},
   "outputs": [],
   "source": [
    "vfunc = np.vectorize(func, excluded=[\"a\"])"
   ]
  },
  {
   "cell_type": "code",
   "execution_count": 306,
   "id": "5e2869be",
   "metadata": {},
   "outputs": [
    {
     "data": {
      "text/plain": [
       "array([12, 24])"
      ]
     },
     "execution_count": 306,
     "metadata": {},
     "output_type": "execute_result"
    }
   ],
   "source": [
    "vfunc(a=[1,2,3], b=[2,4])"
   ]
  },
  {
   "cell_type": "markdown",
   "id": "69123046",
   "metadata": {},
   "source": [
    "或事后指定："
   ]
  },
  {
   "cell_type": "code",
   "execution_count": 328,
   "id": "9108ca66",
   "metadata": {},
   "outputs": [],
   "source": [
    "vfunc = np.vectorize(func)\n",
    "# 第一个参数排除\n",
    "vfunc.excluded.add(0)"
   ]
  },
  {
   "cell_type": "code",
   "execution_count": 329,
   "id": "2aee3b42",
   "metadata": {},
   "outputs": [
    {
     "data": {
      "text/plain": [
       "array([12, 24])"
      ]
     },
     "execution_count": 329,
     "metadata": {},
     "output_type": "execute_result"
    }
   ],
   "source": [
    "vfunc([1,2,3], [2,4])"
   ]
  },
  {
   "cell_type": "markdown",
   "id": "6aec24d6",
   "metadata": {},
   "source": [
    "如果输入的参数不能直接执行，则需要签名："
   ]
  },
  {
   "cell_type": "code",
   "execution_count": 426,
   "id": "0454d041",
   "metadata": {},
   "outputs": [],
   "source": [
    "conv = np.vectorize(np.convolve, signature=\"(n),(m)->(k)\")"
   ]
  },
  {
   "cell_type": "code",
   "execution_count": 427,
   "id": "0cfa13c2",
   "metadata": {},
   "outputs": [
    {
     "data": {
      "text/plain": [
       "array([[ 1. ,  2.5,  4. ,  1.5],\n",
       "       [ 4. ,  7. ,  8.5,  3. ],\n",
       "       [ 7. , 11.5, 13. ,  4.5]])"
      ]
     },
     "execution_count": 427,
     "metadata": {},
     "output_type": "execute_result"
    }
   ],
   "source": [
    "conv([[1,2,3],[4,5,6],[7,8,9]], [1, 0.5])"
   ]
  },
  {
   "cell_type": "code",
   "execution_count": 428,
   "id": "f43d13dc",
   "metadata": {},
   "outputs": [
    {
     "data": {
      "text/plain": [
       "array([ 1. ,  2.5,  4. ,  5.5,  7. ,  8.5, 10. , 11.5, 13. ,  4.5])"
      ]
     },
     "execution_count": 428,
     "metadata": {},
     "output_type": "execute_result"
    }
   ],
   "source": [
    "np.convolve([1,2,3,4,5,6,7,8,9], [1, 0.5])"
   ]
  },
  {
   "cell_type": "markdown",
   "id": "7f9b4dfa",
   "metadata": {},
   "source": [
    "相比`vectorize`，`frompyfunc`更加通用，它可以将任意的Python函数转为通函数。"
   ]
  },
  {
   "cell_type": "code",
   "execution_count": 433,
   "id": "a66ad9aa",
   "metadata": {},
   "outputs": [],
   "source": [
    "def func(x):\n",
    "    return str(x)"
   ]
  },
  {
   "cell_type": "code",
   "execution_count": 439,
   "id": "7acc8007",
   "metadata": {},
   "outputs": [],
   "source": [
    "ufunc = np.frompyfunc(func, 1, 1)"
   ]
  },
  {
   "cell_type": "code",
   "execution_count": 441,
   "id": "a838e99a",
   "metadata": {},
   "outputs": [
    {
     "data": {
      "text/plain": [
       "array(['0', '1', '2', '3', '4'], dtype=object)"
      ]
     },
     "execution_count": 441,
     "metadata": {},
     "output_type": "execute_result"
    }
   ],
   "source": [
    "ufunc(np.arange(5))"
   ]
  },
  {
   "cell_type": "markdown",
   "id": "f16730b3",
   "metadata": {},
   "source": [
    "`piecewise`会执行一组条件和对应的函数，当条件为真时执行该函数。"
   ]
  },
  {
   "cell_type": "code",
   "execution_count": 447,
   "id": "117e8484",
   "metadata": {},
   "outputs": [],
   "source": [
    "a = np.arange(10)"
   ]
  },
  {
   "cell_type": "code",
   "execution_count": 448,
   "id": "7d8dc8e5",
   "metadata": {},
   "outputs": [
    {
     "data": {
      "text/plain": [
       "array([-1, -1, -1, -1, -1,  0,  1,  1,  1,  1])"
      ]
     },
     "execution_count": 448,
     "metadata": {},
     "output_type": "execute_result"
    }
   ],
   "source": [
    "np.piecewise(a, [a<5, a==5, a>5], [-1, 0, 1])"
   ]
  },
  {
   "cell_type": "code",
   "execution_count": 453,
   "id": "34ed4621",
   "metadata": {},
   "outputs": [],
   "source": [
    "def func(a, b):\n",
    "    return a + b"
   ]
  },
  {
   "cell_type": "code",
   "execution_count": 463,
   "id": "13ef6676",
   "metadata": {},
   "outputs": [
    {
     "data": {
      "text/plain": [
       "array([ 5,  6,  7,  8,  9,  0, 36, 49, 64, 81])"
      ]
     },
     "execution_count": 463,
     "metadata": {},
     "output_type": "execute_result"
    }
   ],
   "source": [
    "# 注意后面的参数是所有函数通用的\n",
    "np.piecewise(a, [a<5, a==5, a>5], [func, 0, lambda x, b: x**2], b=5)"
   ]
  },
  {
   "cell_type": "markdown",
   "id": "ad79c9bc",
   "metadata": {},
   "source": [
    "## 测试\n",
    "\n",
    "主要介绍与Asserts相关的API，与第三节中的《逻辑运算》有一定联系。"
   ]
  },
  {
   "cell_type": "markdown",
   "id": "48eccea4",
   "metadata": {},
   "source": [
    "### 相等"
   ]
  },
  {
   "cell_type": "markdown",
   "id": "6927648f",
   "metadata": {},
   "source": [
    "相等的Asserts：\n",
    "\n",
    "- `assert_equal`\n",
    "- `assert_array_equal`\n",
    "- `assert_string_equal`\n",
    "\n",
    "三者API有点类似，前两个除了实际值和期望值，还多了：\n",
    "\n",
    "- `err_msg`：失败时打印的消息\n",
    "- `verbose`：为True时，冲突的值会append到消息后面"
   ]
  },
  {
   "cell_type": "markdown",
   "id": "e7e78a66",
   "metadata": {},
   "source": [
    "`assert_equal`比较两个对象（标量，数组，元组，字典，NumPy数组等）。如果其中一个是标量，另一个是数组，则会比较标量与数组的每一个元素。如果同样位置都是非数值（NaN），也算相等。"
   ]
  },
  {
   "cell_type": "code",
   "execution_count": 750,
   "id": "bdf269f7",
   "metadata": {},
   "outputs": [
    {
     "ename": "AssertionError",
     "evalue": "\nItems are not equal:\nitem=1\nmsg: not equal\n ACTUAL: 2\n DESIRED: 4",
     "output_type": "error",
     "traceback": [
      "\u001b[0;31m---------------------------------------------------------------------------\u001b[0m",
      "\u001b[0;31mAssertionError\u001b[0m                            Traceback (most recent call last)",
      "\u001b[0;32m<ipython-input-750-bfa692ba2952>\u001b[0m in \u001b[0;36m<module>\u001b[0;34m\u001b[0m\n\u001b[0;32m----> 1\u001b[0;31m \u001b[0mnp\u001b[0m\u001b[0;34m.\u001b[0m\u001b[0mtesting\u001b[0m\u001b[0;34m.\u001b[0m\u001b[0massert_equal\u001b[0m\u001b[0;34m(\u001b[0m\u001b[0;34m[\u001b[0m\u001b[0;36m1\u001b[0m\u001b[0;34m,\u001b[0m\u001b[0;36m2\u001b[0m\u001b[0;34m]\u001b[0m\u001b[0;34m,\u001b[0m \u001b[0;34m[\u001b[0m\u001b[0;36m1\u001b[0m\u001b[0;34m,\u001b[0m\u001b[0;36m4\u001b[0m\u001b[0;34m]\u001b[0m\u001b[0;34m,\u001b[0m \u001b[0;34m\"msg: not equal\"\u001b[0m\u001b[0;34m)\u001b[0m\u001b[0;34m\u001b[0m\u001b[0;34m\u001b[0m\u001b[0m\n\u001b[0m",
      "    \u001b[0;31m[... skipping hidden 1 frame]\u001b[0m\n",
      "\u001b[0;32m/usr/local/lib/python3.8/site-packages/numpy/testing/_private/utils.py\u001b[0m in \u001b[0;36massert_equal\u001b[0;34m(actual, desired, err_msg, verbose)\u001b[0m\n\u001b[1;32m    423\u001b[0m         \u001b[0;31m# Explicitly use __eq__ for comparison, gh-2552\u001b[0m\u001b[0;34m\u001b[0m\u001b[0;34m\u001b[0m\u001b[0;34m\u001b[0m\u001b[0m\n\u001b[1;32m    424\u001b[0m         \u001b[0;32mif\u001b[0m \u001b[0;32mnot\u001b[0m \u001b[0;34m(\u001b[0m\u001b[0mdesired\u001b[0m \u001b[0;34m==\u001b[0m \u001b[0mactual\u001b[0m\u001b[0;34m)\u001b[0m\u001b[0;34m:\u001b[0m\u001b[0;34m\u001b[0m\u001b[0;34m\u001b[0m\u001b[0m\n\u001b[0;32m--> 425\u001b[0;31m             \u001b[0;32mraise\u001b[0m \u001b[0mAssertionError\u001b[0m\u001b[0;34m(\u001b[0m\u001b[0mmsg\u001b[0m\u001b[0;34m)\u001b[0m\u001b[0;34m\u001b[0m\u001b[0;34m\u001b[0m\u001b[0m\n\u001b[0m\u001b[1;32m    426\u001b[0m \u001b[0;34m\u001b[0m\u001b[0m\n\u001b[1;32m    427\u001b[0m     \u001b[0;32mexcept\u001b[0m \u001b[0;34m(\u001b[0m\u001b[0mDeprecationWarning\u001b[0m\u001b[0;34m,\u001b[0m \u001b[0mFutureWarning\u001b[0m\u001b[0;34m)\u001b[0m \u001b[0;32mas\u001b[0m \u001b[0me\u001b[0m\u001b[0;34m:\u001b[0m\u001b[0;34m\u001b[0m\u001b[0;34m\u001b[0m\u001b[0m\n",
      "\u001b[0;31mAssertionError\u001b[0m: \nItems are not equal:\nitem=1\nmsg: not equal\n ACTUAL: 2\n DESIRED: 4"
     ]
    }
   ],
   "source": [
    "np.testing.assert_equal([1,2], [1,4], \"msg: not equal\")"
   ]
  },
  {
   "cell_type": "code",
   "execution_count": 2,
   "id": "62a38756",
   "metadata": {},
   "outputs": [],
   "source": [
    "# 标量与NumPy array_like 数组\n",
    "np.testing.assert_equal(3, np.array([3, 3, 3]))"
   ]
  },
  {
   "cell_type": "code",
   "execution_count": 144,
   "id": "c2060ef0",
   "metadata": {},
   "outputs": [],
   "source": [
    "# 含有非数值（NaN）的情况\n",
    "np.testing.assert_equal([1, np.nan], [1, np.nan])"
   ]
  },
  {
   "cell_type": "markdown",
   "id": "aebcce44",
   "metadata": {},
   "source": [
    "`assert_array_equal`的范围比`assert_equal`小，后者内部调用了前者。如果输入是array_like，则两者无区别。后者在复数、时间、非数值（NaN）等方面有所不同。"
   ]
  },
  {
   "cell_type": "code",
   "execution_count": 4,
   "id": "cf30012b",
   "metadata": {},
   "outputs": [],
   "source": [
    "np.testing.assert_array_equal(np.nan, [np.nan])"
   ]
  },
  {
   "cell_type": "code",
   "execution_count": 9,
   "id": "063d7e0f",
   "metadata": {},
   "outputs": [
    {
     "ename": "AssertionError",
     "evalue": "\nItems are not equal:\n ACTUAL: nan\n DESIRED: [nan]",
     "output_type": "error",
     "traceback": [
      "\u001b[0;31m---------------------------------------------------------------------------\u001b[0m",
      "\u001b[0;31mAssertionError\u001b[0m                            Traceback (most recent call last)",
      "\u001b[0;32m<ipython-input-9-ff23e2edb3c8>\u001b[0m in \u001b[0;36m<module>\u001b[0;34m\u001b[0m\n\u001b[0;32m----> 1\u001b[0;31m \u001b[0mnp\u001b[0m\u001b[0;34m.\u001b[0m\u001b[0mtesting\u001b[0m\u001b[0;34m.\u001b[0m\u001b[0massert_equal\u001b[0m\u001b[0;34m(\u001b[0m\u001b[0mnp\u001b[0m\u001b[0;34m.\u001b[0m\u001b[0mnan\u001b[0m\u001b[0;34m,\u001b[0m \u001b[0;34m[\u001b[0m\u001b[0mnp\u001b[0m\u001b[0;34m.\u001b[0m\u001b[0mnan\u001b[0m\u001b[0;34m]\u001b[0m\u001b[0;34m)\u001b[0m\u001b[0;34m\u001b[0m\u001b[0;34m\u001b[0m\u001b[0m\n\u001b[0m",
      "\u001b[0;32m/usr/local/lib/python3.8/site-packages/numpy/testing/_private/utils.py\u001b[0m in \u001b[0;36massert_equal\u001b[0;34m(actual, desired, err_msg, verbose)\u001b[0m\n\u001b[1;32m    375\u001b[0m     \u001b[0;31m# isscalar test to check cases such as [np.nan] != np.nan\u001b[0m\u001b[0;34m\u001b[0m\u001b[0;34m\u001b[0m\u001b[0;34m\u001b[0m\u001b[0m\n\u001b[1;32m    376\u001b[0m     \u001b[0;32mif\u001b[0m \u001b[0misscalar\u001b[0m\u001b[0;34m(\u001b[0m\u001b[0mdesired\u001b[0m\u001b[0;34m)\u001b[0m \u001b[0;34m!=\u001b[0m \u001b[0misscalar\u001b[0m\u001b[0;34m(\u001b[0m\u001b[0mactual\u001b[0m\u001b[0;34m)\u001b[0m\u001b[0;34m:\u001b[0m\u001b[0;34m\u001b[0m\u001b[0;34m\u001b[0m\u001b[0m\n\u001b[0;32m--> 377\u001b[0;31m         \u001b[0;32mraise\u001b[0m \u001b[0mAssertionError\u001b[0m\u001b[0;34m(\u001b[0m\u001b[0mmsg\u001b[0m\u001b[0;34m)\u001b[0m\u001b[0;34m\u001b[0m\u001b[0;34m\u001b[0m\u001b[0m\n\u001b[0m\u001b[1;32m    378\u001b[0m \u001b[0;34m\u001b[0m\u001b[0m\n\u001b[1;32m    379\u001b[0m     \u001b[0;32mtry\u001b[0m\u001b[0;34m:\u001b[0m\u001b[0;34m\u001b[0m\u001b[0;34m\u001b[0m\u001b[0m\n",
      "\u001b[0;31mAssertionError\u001b[0m: \nItems are not equal:\n ACTUAL: nan\n DESIRED: [nan]"
     ]
    }
   ],
   "source": [
    "np.testing.assert_equal(np.nan, [np.nan])"
   ]
  },
  {
   "cell_type": "markdown",
   "id": "59037ce2",
   "metadata": {},
   "source": [
    "`assert_string_equal`用以比较字符串，输入两个字符串即可。"
   ]
  },
  {
   "cell_type": "code",
   "execution_count": 19,
   "id": "23673572",
   "metadata": {},
   "outputs": [],
   "source": [
    "np.testing.assert_string_equal(\"abc\", \"abc\")"
   ]
  },
  {
   "cell_type": "code",
   "execution_count": 20,
   "id": "1d084c1c",
   "metadata": {},
   "outputs": [
    {
     "ename": "AssertionError",
     "evalue": "Differences in strings:\n- abc+ abC",
     "output_type": "error",
     "traceback": [
      "\u001b[0;31m---------------------------------------------------------------------------\u001b[0m",
      "\u001b[0;31mAssertionError\u001b[0m                            Traceback (most recent call last)",
      "\u001b[0;32m<ipython-input-20-c25a53711d83>\u001b[0m in \u001b[0;36m<module>\u001b[0;34m\u001b[0m\n\u001b[0;32m----> 1\u001b[0;31m \u001b[0mnp\u001b[0m\u001b[0;34m.\u001b[0m\u001b[0mtesting\u001b[0m\u001b[0;34m.\u001b[0m\u001b[0massert_string_equal\u001b[0m\u001b[0;34m(\u001b[0m\u001b[0;34m\"abc\"\u001b[0m\u001b[0;34m,\u001b[0m \u001b[0;34m\"abC\"\u001b[0m\u001b[0;34m)\u001b[0m\u001b[0;34m\u001b[0m\u001b[0;34m\u001b[0m\u001b[0m\n\u001b[0m",
      "\u001b[0;32m/usr/local/lib/python3.8/site-packages/numpy/testing/_private/utils.py\u001b[0m in \u001b[0;36massert_string_equal\u001b[0;34m(actual, desired)\u001b[0m\n\u001b[1;32m   1204\u001b[0m     \u001b[0mmsg\u001b[0m \u001b[0;34m=\u001b[0m \u001b[0;34mf\"Differences in strings:\\n{''.join(diff_list).rstrip()}\"\u001b[0m\u001b[0;34m\u001b[0m\u001b[0;34m\u001b[0m\u001b[0m\n\u001b[1;32m   1205\u001b[0m     \u001b[0;32mif\u001b[0m \u001b[0mactual\u001b[0m \u001b[0;34m!=\u001b[0m \u001b[0mdesired\u001b[0m\u001b[0;34m:\u001b[0m\u001b[0;34m\u001b[0m\u001b[0;34m\u001b[0m\u001b[0m\n\u001b[0;32m-> 1206\u001b[0;31m         \u001b[0;32mraise\u001b[0m \u001b[0mAssertionError\u001b[0m\u001b[0;34m(\u001b[0m\u001b[0mmsg\u001b[0m\u001b[0;34m)\u001b[0m\u001b[0;34m\u001b[0m\u001b[0;34m\u001b[0m\u001b[0m\n\u001b[0m\u001b[1;32m   1207\u001b[0m \u001b[0;34m\u001b[0m\u001b[0m\n\u001b[1;32m   1208\u001b[0m \u001b[0;34m\u001b[0m\u001b[0m\n",
      "\u001b[0;31mAssertionError\u001b[0m: Differences in strings:\n- abc+ abC"
     ]
    }
   ],
   "source": [
    "np.testing.assert_string_equal(\"abc\", \"abC\")"
   ]
  },
  {
   "cell_type": "markdown",
   "id": "4268c659",
   "metadata": {},
   "source": [
    "### 相近"
   ]
  },
  {
   "cell_type": "markdown",
   "id": "f9051532",
   "metadata": {},
   "source": [
    "相近的Asserts：\n",
    "\n",
    "- `assert_allclose`：使用最多\n",
    "- `assert_array_almost_equal_nulp`\n",
    "- `assert_array_max_ulp`"
   ]
  },
  {
   "cell_type": "markdown",
   "id": "e4b9bdf8",
   "metadata": {},
   "source": [
    "`assert_allclose`包含以下参数：\n",
    "\n",
    "- 实际值\n",
    "- 期望值\n",
    "- rtol=1e-07\n",
    "- atol=0\n",
    "- equal_nan=True\n",
    "- err_msg=\"\"\n",
    "- verbose=True\n",
    "\n",
    "后两个参数和前面一样，不再赘述。`equal_nan`为True表示非数值（NaN）会认为是一样的。rtol和atol用于评估精度，如果两者相差小于：`atol + rtol*|desired|`就认为足够接近。"
   ]
  },
  {
   "cell_type": "code",
   "execution_count": 40,
   "id": "b003cbe2",
   "metadata": {},
   "outputs": [],
   "source": [
    "np.testing.assert_allclose(1+1e-7, 1+1e-8)"
   ]
  },
  {
   "cell_type": "code",
   "execution_count": 41,
   "id": "9869ab7d",
   "metadata": {},
   "outputs": [
    {
     "data": {
      "text/plain": [
       "True"
      ]
     },
     "execution_count": 41,
     "metadata": {},
     "output_type": "execute_result"
    }
   ],
   "source": [
    "1e-7-1e-8 < (1+1e-8)*1e-7"
   ]
  },
  {
   "cell_type": "code",
   "execution_count": 43,
   "id": "55c995a3",
   "metadata": {},
   "outputs": [],
   "source": [
    "np.testing.assert_allclose(5, 4, atol=1)"
   ]
  },
  {
   "cell_type": "code",
   "execution_count": 51,
   "id": "e1795818",
   "metadata": {},
   "outputs": [],
   "source": [
    "np.testing.assert_allclose([5, np.nan], [4, np.nan], \n",
    "                           atol=1, equal_nan=True)"
   ]
  },
  {
   "cell_type": "markdown",
   "id": "ee43c63b",
   "metadata": {},
   "source": [
    "`assert_array_almost_equal_nulp`可用于比较两个幅度可变队列相对稳健。\n",
    "\n",
    "- x\n",
    "- y\n",
    "- nulp=1，最后一位公差的最大单位数，满足下式时：\n",
    "\n",
    "`|x-y| <= nulps * spacing(max(|x|, |y|))`\n",
    "\n",
    "算几乎相等。"
   ]
  },
  {
   "cell_type": "code",
   "execution_count": 79,
   "id": "48a1545a",
   "metadata": {},
   "outputs": [
    {
     "data": {
      "text/plain": [
       "True"
      ]
     },
     "execution_count": 79,
     "metadata": {},
     "output_type": "execute_result"
    }
   ],
   "source": [
    "np.spacing(np.float64(1)) == np.finfo(np.float64).eps"
   ]
  },
  {
   "cell_type": "code",
   "execution_count": 88,
   "id": "9845e28a",
   "metadata": {},
   "outputs": [
    {
     "data": {
      "text/plain": [
       "dtype('float64')"
      ]
     },
     "execution_count": 88,
     "metadata": {},
     "output_type": "execute_result"
    }
   ],
   "source": [
    "x = np.array([1, 0.1, 1e-10, 1e-20])\n",
    "x.dtype"
   ]
  },
  {
   "cell_type": "code",
   "execution_count": 89,
   "id": "ea72c61d",
   "metadata": {},
   "outputs": [
    {
     "data": {
      "text/plain": [
       "2.220446049250313e-16"
      ]
     },
     "execution_count": 89,
     "metadata": {},
     "output_type": "execute_result"
    }
   ],
   "source": [
    "eps = np.finfo(x.dtype).eps\n",
    "eps"
   ]
  },
  {
   "cell_type": "code",
   "execution_count": 90,
   "id": "41eb4c84",
   "metadata": {
    "scrolled": true
   },
   "outputs": [
    {
     "data": {
      "text/plain": [
       "array([ True, False, False, False])"
      ]
     },
     "execution_count": 90,
     "metadata": {},
     "output_type": "execute_result"
    }
   ],
   "source": [
    "x * eps <= 1 * np.spacing(x + x*eps)"
   ]
  },
  {
   "cell_type": "code",
   "execution_count": 91,
   "id": "3f5d409e",
   "metadata": {},
   "outputs": [
    {
     "ename": "AssertionError",
     "evalue": "X and Y are not equal to 1 ULP (max is 2)",
     "output_type": "error",
     "traceback": [
      "\u001b[0;31m---------------------------------------------------------------------------\u001b[0m",
      "\u001b[0;31mAssertionError\u001b[0m                            Traceback (most recent call last)",
      "\u001b[0;32m<ipython-input-91-4807c4e32d47>\u001b[0m in \u001b[0;36m<module>\u001b[0;34m\u001b[0m\n\u001b[0;32m----> 1\u001b[0;31m np.testing.assert_array_almost_equal_nulp(\n\u001b[0m\u001b[1;32m      2\u001b[0m     \u001b[0mx\u001b[0m\u001b[0;34m,\u001b[0m \u001b[0mx\u001b[0m \u001b[0;34m+\u001b[0m \u001b[0mx\u001b[0m\u001b[0;34m*\u001b[0m\u001b[0meps\u001b[0m\u001b[0;34m,\u001b[0m \u001b[0mnulp\u001b[0m\u001b[0;34m=\u001b[0m\u001b[0;36m1\u001b[0m\u001b[0;34m\u001b[0m\u001b[0;34m\u001b[0m\u001b[0m\n\u001b[1;32m      3\u001b[0m )\n",
      "\u001b[0;32m/usr/local/lib/python3.8/site-packages/numpy/testing/_private/utils.py\u001b[0m in \u001b[0;36massert_array_almost_equal_nulp\u001b[0;34m(x, y, nulp)\u001b[0m\n\u001b[1;32m   1592\u001b[0m             \u001b[0mmax_nulp\u001b[0m \u001b[0;34m=\u001b[0m \u001b[0mnp\u001b[0m\u001b[0;34m.\u001b[0m\u001b[0mmax\u001b[0m\u001b[0;34m(\u001b[0m\u001b[0mnulp_diff\u001b[0m\u001b[0;34m(\u001b[0m\u001b[0mx\u001b[0m\u001b[0;34m,\u001b[0m \u001b[0my\u001b[0m\u001b[0;34m)\u001b[0m\u001b[0;34m)\u001b[0m\u001b[0;34m\u001b[0m\u001b[0;34m\u001b[0m\u001b[0m\n\u001b[1;32m   1593\u001b[0m             \u001b[0mmsg\u001b[0m \u001b[0;34m=\u001b[0m \u001b[0;34m\"X and Y are not equal to %d ULP (max is %g)\"\u001b[0m \u001b[0;34m%\u001b[0m \u001b[0;34m(\u001b[0m\u001b[0mnulp\u001b[0m\u001b[0;34m,\u001b[0m \u001b[0mmax_nulp\u001b[0m\u001b[0;34m)\u001b[0m\u001b[0;34m\u001b[0m\u001b[0;34m\u001b[0m\u001b[0m\n\u001b[0;32m-> 1594\u001b[0;31m         \u001b[0;32mraise\u001b[0m \u001b[0mAssertionError\u001b[0m\u001b[0;34m(\u001b[0m\u001b[0mmsg\u001b[0m\u001b[0;34m)\u001b[0m\u001b[0;34m\u001b[0m\u001b[0;34m\u001b[0m\u001b[0m\n\u001b[0m\u001b[1;32m   1595\u001b[0m \u001b[0;34m\u001b[0m\u001b[0m\n\u001b[1;32m   1596\u001b[0m \u001b[0;34m\u001b[0m\u001b[0m\n",
      "\u001b[0;31mAssertionError\u001b[0m: X and Y are not equal to 1 ULP (max is 2)"
     ]
    }
   ],
   "source": [
    "np.testing.assert_array_almost_equal_nulp(\n",
    "    x, x + x*eps, nulp=1\n",
    ")"
   ]
  },
  {
   "cell_type": "code",
   "execution_count": 93,
   "id": "d99e67d2",
   "metadata": {},
   "outputs": [
    {
     "ename": "AssertionError",
     "evalue": "X and Y are not equal to 1 ULP (max is 16)",
     "output_type": "error",
     "traceback": [
      "\u001b[0;31m---------------------------------------------------------------------------\u001b[0m",
      "\u001b[0;31mAssertionError\u001b[0m                            Traceback (most recent call last)",
      "\u001b[0;32m<ipython-input-93-7d1275786d24>\u001b[0m in \u001b[0;36m<module>\u001b[0;34m\u001b[0m\n\u001b[0;32m----> 1\u001b[0;31m np.testing.assert_array_almost_equal_nulp(\n\u001b[0m\u001b[1;32m      2\u001b[0m     \u001b[0;36m.1\u001b[0m\u001b[0;34m,\u001b[0m \u001b[0;36m.1\u001b[0m\u001b[0;34m+\u001b[0m\u001b[0meps\u001b[0m\u001b[0;34m,\u001b[0m \u001b[0mnulp\u001b[0m\u001b[0;34m=\u001b[0m\u001b[0;36m1\u001b[0m\u001b[0;34m\u001b[0m\u001b[0;34m\u001b[0m\u001b[0m\n\u001b[1;32m      3\u001b[0m )\n",
      "\u001b[0;32m/usr/local/lib/python3.8/site-packages/numpy/testing/_private/utils.py\u001b[0m in \u001b[0;36massert_array_almost_equal_nulp\u001b[0;34m(x, y, nulp)\u001b[0m\n\u001b[1;32m   1592\u001b[0m             \u001b[0mmax_nulp\u001b[0m \u001b[0;34m=\u001b[0m \u001b[0mnp\u001b[0m\u001b[0;34m.\u001b[0m\u001b[0mmax\u001b[0m\u001b[0;34m(\u001b[0m\u001b[0mnulp_diff\u001b[0m\u001b[0;34m(\u001b[0m\u001b[0mx\u001b[0m\u001b[0;34m,\u001b[0m \u001b[0my\u001b[0m\u001b[0;34m)\u001b[0m\u001b[0;34m)\u001b[0m\u001b[0;34m\u001b[0m\u001b[0;34m\u001b[0m\u001b[0m\n\u001b[1;32m   1593\u001b[0m             \u001b[0mmsg\u001b[0m \u001b[0;34m=\u001b[0m \u001b[0;34m\"X and Y are not equal to %d ULP (max is %g)\"\u001b[0m \u001b[0;34m%\u001b[0m \u001b[0;34m(\u001b[0m\u001b[0mnulp\u001b[0m\u001b[0;34m,\u001b[0m \u001b[0mmax_nulp\u001b[0m\u001b[0;34m)\u001b[0m\u001b[0;34m\u001b[0m\u001b[0;34m\u001b[0m\u001b[0m\n\u001b[0;32m-> 1594\u001b[0;31m         \u001b[0;32mraise\u001b[0m \u001b[0mAssertionError\u001b[0m\u001b[0;34m(\u001b[0m\u001b[0mmsg\u001b[0m\u001b[0;34m)\u001b[0m\u001b[0;34m\u001b[0m\u001b[0;34m\u001b[0m\u001b[0m\n\u001b[0m\u001b[1;32m   1595\u001b[0m \u001b[0;34m\u001b[0m\u001b[0m\n\u001b[1;32m   1596\u001b[0m \u001b[0;34m\u001b[0m\u001b[0m\n",
      "\u001b[0;31mAssertionError\u001b[0m: X and Y are not equal to 1 ULP (max is 16)"
     ]
    }
   ],
   "source": [
    "np.testing.assert_array_almost_equal_nulp(\n",
    "    .1, .1+eps, nulp=1\n",
    ")"
   ]
  },
  {
   "cell_type": "code",
   "execution_count": 92,
   "id": "d211d1c8",
   "metadata": {},
   "outputs": [],
   "source": [
    "np.testing.assert_array_almost_equal_nulp(\n",
    "    1, 1+eps, nulp=1\n",
    ")"
   ]
  },
  {
   "cell_type": "code",
   "execution_count": 127,
   "id": "c9d6fd16",
   "metadata": {},
   "outputs": [],
   "source": [
    "np.testing.assert_array_almost_equal_nulp(\n",
    "    4, 8, nulp=1e16\n",
    ")"
   ]
  },
  {
   "cell_type": "code",
   "execution_count": 128,
   "id": "c05c0a0e",
   "metadata": {},
   "outputs": [
    {
     "data": {
      "text/plain": [
       "17.763568394002505"
      ]
     },
     "execution_count": 128,
     "metadata": {},
     "output_type": "execute_result"
    }
   ],
   "source": [
    "1e16 * np.spacing(8)"
   ]
  },
  {
   "cell_type": "markdown",
   "id": "aed37178",
   "metadata": {},
   "source": [
    "`assert_array_max_ulp`用于检查数组中所有元素最多相差N个单位。"
   ]
  },
  {
   "cell_type": "code",
   "execution_count": 142,
   "id": "02604c8a",
   "metadata": {},
   "outputs": [
    {
     "data": {
      "text/plain": [
       "array([0.])"
      ]
     },
     "execution_count": 142,
     "metadata": {},
     "output_type": "execute_result"
    }
   ],
   "source": [
    "np.testing.assert_array_max_ulp(1, 1)"
   ]
  },
  {
   "cell_type": "code",
   "execution_count": 132,
   "id": "4c2d5764",
   "metadata": {},
   "outputs": [
    {
     "data": {
      "text/plain": [
       "array([[0., 0., 0., 0., 0., 0., 0., 0., 1., 0.]])"
      ]
     },
     "execution_count": 132,
     "metadata": {},
     "output_type": "execute_result"
    }
   ],
   "source": [
    "a = np.linspace(0., 1., 10)\n",
    "np.testing.assert_array_max_ulp(a, np.arcsin(np.sin(a)))"
   ]
  },
  {
   "cell_type": "code",
   "execution_count": 138,
   "id": "2f3ce889",
   "metadata": {},
   "outputs": [
    {
     "data": {
      "text/plain": [
       "array([4.50359963e+15])"
      ]
     },
     "execution_count": 138,
     "metadata": {},
     "output_type": "execute_result"
    }
   ],
   "source": [
    "np.testing.assert_array_max_ulp(1, 2, maxulp=1e16)"
   ]
  },
  {
   "cell_type": "code",
   "execution_count": 140,
   "id": "82e51782",
   "metadata": {},
   "outputs": [
    {
     "data": {
      "text/plain": [
       "array([0.])"
      ]
     },
     "execution_count": 140,
     "metadata": {},
     "output_type": "execute_result"
    }
   ],
   "source": [
    "# NaN不区分\n",
    "np.testing.assert_array_max_ulp(np.nan, np.nan)"
   ]
  },
  {
   "cell_type": "markdown",
   "id": "97a81cc6",
   "metadata": {},
   "source": [
    "### 小于"
   ]
  },
  {
   "cell_type": "markdown",
   "id": "8f410261",
   "metadata": {},
   "source": [
    "小于：\n",
    "\n",
    "- `assert_array_less`：参数与`assert_array_equal`一样，用来比较是否小于，NaN也会比较，如果同样位置都是NaN，则跳过（不抛出异常）。"
   ]
  },
  {
   "cell_type": "code",
   "execution_count": 147,
   "id": "faff08c2",
   "metadata": {},
   "outputs": [],
   "source": [
    "np.testing.assert_array_less(\n",
    "    [1, 1, np.nan],\n",
    "    [2, 2, np.nan]\n",
    ")"
   ]
  },
  {
   "cell_type": "code",
   "execution_count": 148,
   "id": "9bb72e40",
   "metadata": {},
   "outputs": [
    {
     "ename": "AssertionError",
     "evalue": "\nArrays are not less-ordered\n\nMismatched elements: 1 / 2 (50%)\nMax absolute difference: 2\nMax relative difference: 2.\n x: array(3)\n y: array([1, 4])",
     "output_type": "error",
     "traceback": [
      "\u001b[0;31m---------------------------------------------------------------------------\u001b[0m",
      "\u001b[0;31mAssertionError\u001b[0m                            Traceback (most recent call last)",
      "\u001b[0;32m<ipython-input-148-4b4915dff584>\u001b[0m in \u001b[0;36m<module>\u001b[0;34m\u001b[0m\n\u001b[0;32m----> 1\u001b[0;31m np.testing.assert_array_less(\n\u001b[0m\u001b[1;32m      2\u001b[0m     \u001b[0;36m3\u001b[0m\u001b[0;34m,\u001b[0m \u001b[0;34m[\u001b[0m\u001b[0;36m1\u001b[0m\u001b[0;34m,\u001b[0m \u001b[0;36m4\u001b[0m\u001b[0;34m]\u001b[0m\u001b[0;34m\u001b[0m\u001b[0;34m\u001b[0m\u001b[0m\n\u001b[1;32m      3\u001b[0m )\n",
      "    \u001b[0;31m[... skipping hidden 1 frame]\u001b[0m\n",
      "\u001b[0;32m/usr/local/lib/python3.8/site-packages/numpy/testing/_private/utils.py\u001b[0m in \u001b[0;36massert_array_compare\u001b[0;34m(comparison, x, y, err_msg, verbose, header, precision, equal_nan, equal_inf)\u001b[0m\n\u001b[1;32m    842\u001b[0m                                 \u001b[0mverbose\u001b[0m\u001b[0;34m=\u001b[0m\u001b[0mverbose\u001b[0m\u001b[0;34m,\u001b[0m \u001b[0mheader\u001b[0m\u001b[0;34m=\u001b[0m\u001b[0mheader\u001b[0m\u001b[0;34m,\u001b[0m\u001b[0;34m\u001b[0m\u001b[0;34m\u001b[0m\u001b[0m\n\u001b[1;32m    843\u001b[0m                                 names=('x', 'y'), precision=precision)\n\u001b[0;32m--> 844\u001b[0;31m             \u001b[0;32mraise\u001b[0m \u001b[0mAssertionError\u001b[0m\u001b[0;34m(\u001b[0m\u001b[0mmsg\u001b[0m\u001b[0;34m)\u001b[0m\u001b[0;34m\u001b[0m\u001b[0;34m\u001b[0m\u001b[0m\n\u001b[0m\u001b[1;32m    845\u001b[0m     \u001b[0;32mexcept\u001b[0m \u001b[0mValueError\u001b[0m\u001b[0;34m:\u001b[0m\u001b[0;34m\u001b[0m\u001b[0;34m\u001b[0m\u001b[0m\n\u001b[1;32m    846\u001b[0m         \u001b[0;32mimport\u001b[0m \u001b[0mtraceback\u001b[0m\u001b[0;34m\u001b[0m\u001b[0;34m\u001b[0m\u001b[0m\n",
      "\u001b[0;31mAssertionError\u001b[0m: \nArrays are not less-ordered\n\nMismatched elements: 1 / 2 (50%)\nMax absolute difference: 2\nMax relative difference: 2.\n x: array(3)\n y: array([1, 4])"
     ]
    }
   ],
   "source": [
    "np.testing.assert_array_less(\n",
    "    3, [1, 4]\n",
    ")"
   ]
  },
  {
   "cell_type": "markdown",
   "id": "0b533f0c",
   "metadata": {},
   "source": [
    "### 异常"
   ]
  },
  {
   "cell_type": "markdown",
   "id": "8d120089",
   "metadata": {},
   "source": [
    "异常：\n",
    "\n",
    "- `assert_raises`\n",
    "- `assert_raises_regex`\n",
    "- `assert_warns`\n",
    "\n",
    "这三个API都可以作为上下文管理器使用。"
   ]
  },
  {
   "cell_type": "markdown",
   "id": "a4c1443d",
   "metadata": {},
   "source": [
    "`assert_raises`有两种使用方法：\n",
    "\n",
    "- `assert_raises(exception_class, callable, *args, **kwargs)`\n",
    "- `assert_raises(exception_class)`"
   ]
  },
  {
   "cell_type": "code",
   "execution_count": 158,
   "id": "fa45e084",
   "metadata": {},
   "outputs": [
    {
     "ename": "ZeroDivisionError",
     "evalue": "division by zero",
     "output_type": "error",
     "traceback": [
      "\u001b[0;31m---------------------------------------------------------------------------\u001b[0m",
      "\u001b[0;31mZeroDivisionError\u001b[0m                         Traceback (most recent call last)",
      "\u001b[0;32m<ipython-input-158-9e1622b385b6>\u001b[0m in \u001b[0;36m<module>\u001b[0;34m\u001b[0m\n\u001b[0;32m----> 1\u001b[0;31m \u001b[0;36m1\u001b[0m\u001b[0;34m/\u001b[0m\u001b[0;36m0\u001b[0m\u001b[0;34m\u001b[0m\u001b[0;34m\u001b[0m\u001b[0m\n\u001b[0m",
      "\u001b[0;31mZeroDivisionError\u001b[0m: division by zero"
     ]
    }
   ],
   "source": [
    "1/0"
   ]
  },
  {
   "cell_type": "code",
   "execution_count": 163,
   "id": "eb1312a7",
   "metadata": {},
   "outputs": [],
   "source": [
    "with np.testing.assert_raises(ZeroDivisionError):\n",
    "    1/0"
   ]
  },
  {
   "cell_type": "code",
   "execution_count": 162,
   "id": "5932ffeb",
   "metadata": {},
   "outputs": [],
   "source": [
    "def div(a,b):a/b\n",
    "np.testing.assert_raises(ZeroDivisionError, div, 1, 0)"
   ]
  },
  {
   "cell_type": "code",
   "execution_count": 164,
   "id": "feeedbc8",
   "metadata": {
    "code_folding": [],
    "scrolled": false
   },
   "outputs": [
    {
     "ename": "AssertionError",
     "evalue": "ZeroDivisionError not raised",
     "output_type": "error",
     "traceback": [
      "\u001b[0;31m---------------------------------------------------------------------------\u001b[0m",
      "\u001b[0;31mAssertionError\u001b[0m                            Traceback (most recent call last)",
      "\u001b[0;32m<ipython-input-164-3bd112b16131>\u001b[0m in \u001b[0;36m<module>\u001b[0;34m\u001b[0m\n\u001b[1;32m      1\u001b[0m \u001b[0;32mwith\u001b[0m \u001b[0mnp\u001b[0m\u001b[0;34m.\u001b[0m\u001b[0mtesting\u001b[0m\u001b[0;34m.\u001b[0m\u001b[0massert_raises\u001b[0m\u001b[0;34m(\u001b[0m\u001b[0mZeroDivisionError\u001b[0m\u001b[0;34m)\u001b[0m\u001b[0;34m:\u001b[0m\u001b[0;34m\u001b[0m\u001b[0;34m\u001b[0m\u001b[0m\n\u001b[0;32m----> 2\u001b[0;31m     \u001b[0;36m1\u001b[0m\u001b[0;34m/\u001b[0m\u001b[0;36m1\u001b[0m\u001b[0;34m\u001b[0m\u001b[0;34m\u001b[0m\u001b[0m\n\u001b[0m",
      "\u001b[0;32m/usr/local/Cellar/python@3.8/3.8.10/Frameworks/Python.framework/Versions/3.8/lib/python3.8/unittest/case.py\u001b[0m in \u001b[0;36m__exit__\u001b[0;34m(self, exc_type, exc_value, tb)\u001b[0m\n\u001b[1;32m    225\u001b[0m                                                                 self.obj_name))\n\u001b[1;32m    226\u001b[0m             \u001b[0;32melse\u001b[0m\u001b[0;34m:\u001b[0m\u001b[0;34m\u001b[0m\u001b[0;34m\u001b[0m\u001b[0m\n\u001b[0;32m--> 227\u001b[0;31m                 \u001b[0mself\u001b[0m\u001b[0;34m.\u001b[0m\u001b[0m_raiseFailure\u001b[0m\u001b[0;34m(\u001b[0m\u001b[0;34m\"{} not raised\"\u001b[0m\u001b[0;34m.\u001b[0m\u001b[0mformat\u001b[0m\u001b[0;34m(\u001b[0m\u001b[0mexc_name\u001b[0m\u001b[0;34m)\u001b[0m\u001b[0;34m)\u001b[0m\u001b[0;34m\u001b[0m\u001b[0;34m\u001b[0m\u001b[0m\n\u001b[0m\u001b[1;32m    228\u001b[0m         \u001b[0;32melse\u001b[0m\u001b[0;34m:\u001b[0m\u001b[0;34m\u001b[0m\u001b[0;34m\u001b[0m\u001b[0m\n\u001b[1;32m    229\u001b[0m             \u001b[0mtraceback\u001b[0m\u001b[0;34m.\u001b[0m\u001b[0mclear_frames\u001b[0m\u001b[0;34m(\u001b[0m\u001b[0mtb\u001b[0m\u001b[0;34m)\u001b[0m\u001b[0;34m\u001b[0m\u001b[0;34m\u001b[0m\u001b[0m\n",
      "\u001b[0;32m/usr/local/Cellar/python@3.8/3.8.10/Frameworks/Python.framework/Versions/3.8/lib/python3.8/unittest/case.py\u001b[0m in \u001b[0;36m_raiseFailure\u001b[0;34m(self, standardMsg)\u001b[0m\n\u001b[1;32m    162\u001b[0m     \u001b[0;32mdef\u001b[0m \u001b[0m_raiseFailure\u001b[0m\u001b[0;34m(\u001b[0m\u001b[0mself\u001b[0m\u001b[0;34m,\u001b[0m \u001b[0mstandardMsg\u001b[0m\u001b[0;34m)\u001b[0m\u001b[0;34m:\u001b[0m\u001b[0;34m\u001b[0m\u001b[0;34m\u001b[0m\u001b[0m\n\u001b[1;32m    163\u001b[0m         \u001b[0mmsg\u001b[0m \u001b[0;34m=\u001b[0m \u001b[0mself\u001b[0m\u001b[0;34m.\u001b[0m\u001b[0mtest_case\u001b[0m\u001b[0;34m.\u001b[0m\u001b[0m_formatMessage\u001b[0m\u001b[0;34m(\u001b[0m\u001b[0mself\u001b[0m\u001b[0;34m.\u001b[0m\u001b[0mmsg\u001b[0m\u001b[0;34m,\u001b[0m \u001b[0mstandardMsg\u001b[0m\u001b[0;34m)\u001b[0m\u001b[0;34m\u001b[0m\u001b[0;34m\u001b[0m\u001b[0m\n\u001b[0;32m--> 164\u001b[0;31m         \u001b[0;32mraise\u001b[0m \u001b[0mself\u001b[0m\u001b[0;34m.\u001b[0m\u001b[0mtest_case\u001b[0m\u001b[0;34m.\u001b[0m\u001b[0mfailureException\u001b[0m\u001b[0;34m(\u001b[0m\u001b[0mmsg\u001b[0m\u001b[0;34m)\u001b[0m\u001b[0;34m\u001b[0m\u001b[0;34m\u001b[0m\u001b[0m\n\u001b[0m\u001b[1;32m    165\u001b[0m \u001b[0;34m\u001b[0m\u001b[0m\n\u001b[1;32m    166\u001b[0m \u001b[0;32mclass\u001b[0m \u001b[0m_AssertRaisesBaseContext\u001b[0m\u001b[0;34m(\u001b[0m\u001b[0m_BaseTestCaseContext\u001b[0m\u001b[0;34m)\u001b[0m\u001b[0;34m:\u001b[0m\u001b[0;34m\u001b[0m\u001b[0;34m\u001b[0m\u001b[0m\n",
      "\u001b[0;31mAssertionError\u001b[0m: ZeroDivisionError not raised"
     ]
    }
   ],
   "source": [
    "with np.testing.assert_raises(ZeroDivisionError):\n",
    "    1/1"
   ]
  },
  {
   "cell_type": "markdown",
   "id": "ca098b3c",
   "metadata": {},
   "source": [
    "`assert_raises_regex`相比前者可以指定正则。"
   ]
  },
  {
   "cell_type": "code",
   "execution_count": 174,
   "id": "e1180aee",
   "metadata": {},
   "outputs": [],
   "source": [
    "with np.testing.assert_raises_regex(\n",
    "    ZeroDivisionError, \"division by zero\"\n",
    "):\n",
    "    1/0"
   ]
  },
  {
   "cell_type": "code",
   "execution_count": 179,
   "id": "445c7afb",
   "metadata": {},
   "outputs": [],
   "source": [
    "with np.testing.assert_raises_regex(\n",
    "    ZeroDivisionError, \"[a-z]+\"\n",
    "):\n",
    "    1/0"
   ]
  },
  {
   "cell_type": "markdown",
   "id": "ce16714b",
   "metadata": {},
   "source": [
    "`assert_warns`和`assert_raises`一样的使用方式，只不过会警告而不是抛出异常。"
   ]
  },
  {
   "cell_type": "code",
   "execution_count": 182,
   "id": "4bfa42e3",
   "metadata": {},
   "outputs": [],
   "source": [
    "import warnings"
   ]
  },
  {
   "cell_type": "code",
   "execution_count": 187,
   "id": "ce9cb1f4",
   "metadata": {},
   "outputs": [],
   "source": [
    "def func(n):\n",
    "    warnings.warn(\"msg\", UserWarning)\n",
    "    return n * n"
   ]
  },
  {
   "cell_type": "code",
   "execution_count": 188,
   "id": "5ef86748",
   "metadata": {},
   "outputs": [
    {
     "data": {
      "text/plain": [
       "4"
      ]
     },
     "execution_count": 188,
     "metadata": {},
     "output_type": "execute_result"
    }
   ],
   "source": [
    "np.testing.assert_warns(UserWarning, func, 2)"
   ]
  },
  {
   "cell_type": "code",
   "execution_count": 189,
   "id": "49fff55b",
   "metadata": {},
   "outputs": [
    {
     "name": "stderr",
     "output_type": "stream",
     "text": [
      "<ipython-input-187-23e97a00966d>:2: UserWarning: msg\n",
      "  warnings.warn(\"msg\", UserWarning)\n"
     ]
    },
    {
     "data": {
      "text/plain": [
       "4"
      ]
     },
     "execution_count": 189,
     "metadata": {},
     "output_type": "execute_result"
    }
   ],
   "source": [
    "func(2)"
   ]
  },
  {
   "cell_type": "markdown",
   "id": "75160c11",
   "metadata": {},
   "source": [
    "关于警告的类型，可以参考文档：\n",
    "\n",
    "- [warnings — Warning control — Python 3.10.4 documentation](https://docs.python.org/3/library/warnings.html)"
   ]
  },
  {
   "cell_type": "markdown",
   "id": "806b8391",
   "metadata": {},
   "source": [
    "## 小结"
   ]
  },
  {
   "cell_type": "markdown",
   "id": "d7473b13",
   "metadata": {},
   "source": [
    "## 参考\n",
    "\n",
    "- [NumPy documentation — NumPy v1.23.dev0 Manual](https://numpy.org/devdocs/index.html)"
   ]
  },
  {
   "cell_type": "code",
   "execution_count": null,
   "id": "e72973ec",
   "metadata": {},
   "outputs": [],
   "source": []
  }
 ],
 "metadata": {
  "kernelspec": {
   "display_name": "Python 3",
   "language": "python",
   "name": "python3"
  },
  "language_info": {
   "codemirror_mode": {
    "name": "ipython",
    "version": 3
   },
   "file_extension": ".py",
   "mimetype": "text/x-python",
   "name": "python",
   "nbconvert_exporter": "python",
   "pygments_lexer": "ipython3",
   "version": "3.8.13"
  },
  "latex_envs": {
   "LaTeX_envs_menu_present": true,
   "autoclose": false,
   "autocomplete": true,
   "bibliofile": "biblio.bib",
   "cite_by": "apalike",
   "current_citInitial": 1,
   "eqLabelWithNumbers": true,
   "eqNumInitial": 1,
   "hotkeys": {
    "equation": "Ctrl-E",
    "itemize": "Ctrl-I"
   },
   "labels_anchors": false,
   "latex_user_defs": false,
   "report_style_numbering": false,
   "user_envs_cfg": false
  },
  "toc": {
   "base_numbering": 1,
   "nav_menu": {},
   "number_sections": true,
   "sideBar": true,
   "skip_h1_title": false,
   "title_cell": "Table of Contents",
   "title_sidebar": "Contents",
   "toc_cell": true,
   "toc_position": {
    "height": "calc(100% - 180px)",
    "left": "10px",
    "top": "150px",
    "width": "166px"
   },
   "toc_section_display": true,
   "toc_window_display": true
  }
 },
 "nbformat": 4,
 "nbformat_minor": 5
}
