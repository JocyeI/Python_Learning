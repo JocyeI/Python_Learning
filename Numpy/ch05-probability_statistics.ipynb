{
 "cells": [
  {
   "cell_type": "markdown",
   "id": "be6441c3",
   "metadata": {
    "toc": true
   },
   "source": [
    "<h1>Table of Contents<span class=\"tocSkip\"></span></h1>\n",
    "<div class=\"toc\"><ul class=\"toc-item\"><li><span><a href=\"#基本指标\" data-toc-modified-id=\"基本指标-1\"><span class=\"toc-item-num\">1&nbsp;&nbsp;</span>基本指标</a></span></li><li><span><a href=\"#相关性\" data-toc-modified-id=\"相关性-2\"><span class=\"toc-item-num\">2&nbsp;&nbsp;</span>相关性</a></span></li><li><span><a href=\"#柱状图\" data-toc-modified-id=\"柱状图-3\"><span class=\"toc-item-num\">3&nbsp;&nbsp;</span>柱状图</a></span></li><li><span><a href=\"#计数\" data-toc-modified-id=\"计数-4\"><span class=\"toc-item-num\">4&nbsp;&nbsp;</span>计数</a></span></li><li><span><a href=\"#随机生成器\" data-toc-modified-id=\"随机生成器-5\"><span class=\"toc-item-num\">5&nbsp;&nbsp;</span>随机生成器</a></span><ul class=\"toc-item\"><li><span><a href=\"#Generator\" data-toc-modified-id=\"Generator-5.1\"><span class=\"toc-item-num\">5.1&nbsp;&nbsp;</span>Generator</a></span></li><li><span><a href=\"#并行\" data-toc-modified-id=\"并行-5.2\"><span class=\"toc-item-num\">5.2&nbsp;&nbsp;</span>并行</a></span></li><li><span><a href=\"#多线程\" data-toc-modified-id=\"多线程-5.3\"><span class=\"toc-item-num\">5.3&nbsp;&nbsp;</span>多线程</a></span></li><li><span><a href=\"#性能\" data-toc-modified-id=\"性能-5.4\"><span class=\"toc-item-num\">5.4&nbsp;&nbsp;</span>性能</a></span></li><li><span><a href=\"#整数随机序列\" data-toc-modified-id=\"整数随机序列-5.5\"><span class=\"toc-item-num\">5.5&nbsp;&nbsp;</span>整数随机序列</a></span></li><li><span><a href=\"#均匀随机序列\" data-toc-modified-id=\"均匀随机序列-5.6\"><span class=\"toc-item-num\">5.6&nbsp;&nbsp;</span>均匀随机序列</a></span></li><li><span><a href=\"#随机采样\" data-toc-modified-id=\"随机采样-5.7\"><span class=\"toc-item-num\">5.7&nbsp;&nbsp;</span>随机采样</a></span></li></ul></li><li><span><a href=\"#随机排列\" data-toc-modified-id=\"随机排列-6\"><span class=\"toc-item-num\">6&nbsp;&nbsp;</span>随机排列</a></span></li><li><span><a href=\"#随机分布\" data-toc-modified-id=\"随机分布-7\"><span class=\"toc-item-num\">7&nbsp;&nbsp;</span>随机分布</a></span><ul class=\"toc-item\"><li><span><a href=\"#高斯相关\" data-toc-modified-id=\"高斯相关-7.1\"><span class=\"toc-item-num\">7.1&nbsp;&nbsp;</span>高斯相关</a></span></li><li><span><a href=\"#离散分布\" data-toc-modified-id=\"离散分布-7.2\"><span class=\"toc-item-num\">7.2&nbsp;&nbsp;</span>离散分布</a></span></li><li><span><a href=\"#指对数相关\" data-toc-modified-id=\"指对数相关-7.3\"><span class=\"toc-item-num\">7.3&nbsp;&nbsp;</span>指对数相关</a></span></li><li><span><a href=\"#检验相关\" data-toc-modified-id=\"检验相关-7.4\"><span class=\"toc-item-num\">7.4&nbsp;&nbsp;</span>检验相关</a></span></li></ul></li><li><span><a href=\"#小结\" data-toc-modified-id=\"小结-8\"><span class=\"toc-item-num\">8&nbsp;&nbsp;</span>小结</a></span></li><li><span><a href=\"#参考\" data-toc-modified-id=\"参考-9\"><span class=\"toc-item-num\">9&nbsp;&nbsp;</span>参考</a></span></li></ul></div>"
   ]
  },
  {
   "cell_type": "code",
   "execution_count": 4,
   "id": "0ff95308",
   "metadata": {},
   "outputs": [
    {
     "data": {
      "text/plain": [
       "'1.22.3'"
      ]
     },
     "execution_count": 4,
     "metadata": {},
     "output_type": "execute_result"
    }
   ],
   "source": [
    "import numpy as np\n",
    "np.__version__"
   ]
  },
  {
   "cell_type": "markdown",
   "id": "8da82e9a",
   "metadata": {},
   "source": [
    "文档阅读说明：\n",
    "\n",
    "- 🐧 表示 Tip\n",
    "- ⚠️ 表示注意事项"
   ]
  },
  {
   "cell_type": "markdown",
   "id": "c4a34c89",
   "metadata": {},
   "source": [
    "有一部分常用的基础API在《从小白到入门》中已经做了介绍，此处不再赘述。"
   ]
  },
  {
   "cell_type": "markdown",
   "id": "420eb814",
   "metadata": {},
   "source": [
    "## 基本指标\n",
    "\n",
    "主要是均值、中位、方差和标准差——支持非值（NaN）的情况。"
   ]
  },
  {
   "cell_type": "code",
   "execution_count": 19,
   "id": "fc61e2b7",
   "metadata": {},
   "outputs": [
    {
     "data": {
      "text/plain": [
       "array([[ 1.,  2.,  3.,  4.],\n",
       "       [ 5., nan, nan,  6.],\n",
       "       [ 7.,  8., nan,  9.]])"
      ]
     },
     "execution_count": 19,
     "metadata": {},
     "output_type": "execute_result"
    }
   ],
   "source": [
    "a = np.array([\n",
    "    [1, 2, 3, 4],\n",
    "    [5, np.nan, np.nan, 6],\n",
    "    [7, 8, np.nan, 9]\n",
    "])\n",
    "a"
   ]
  },
  {
   "cell_type": "markdown",
   "id": "2b6286cb",
   "metadata": {},
   "source": [
    "均值："
   ]
  },
  {
   "cell_type": "code",
   "execution_count": 20,
   "id": "df678e2b",
   "metadata": {},
   "outputs": [
    {
     "data": {
      "text/plain": [
       "nan"
      ]
     },
     "execution_count": 20,
     "metadata": {},
     "output_type": "execute_result"
    }
   ],
   "source": [
    "np.average(a)"
   ]
  },
  {
   "cell_type": "code",
   "execution_count": 21,
   "id": "a445cdc1",
   "metadata": {},
   "outputs": [
    {
     "data": {
      "text/plain": [
       "5.0"
      ]
     },
     "execution_count": 21,
     "metadata": {},
     "output_type": "execute_result"
    }
   ],
   "source": [
    "np.nanmean(a)"
   ]
  },
  {
   "cell_type": "code",
   "execution_count": 24,
   "id": "1605c3ad",
   "metadata": {},
   "outputs": [
    {
     "data": {
      "text/plain": [
       "array([4.33333333,        nan,        nan, 6.33333333])"
      ]
     },
     "execution_count": 24,
     "metadata": {},
     "output_type": "execute_result"
    }
   ],
   "source": [
    "np.mean(a, axis=0)"
   ]
  },
  {
   "cell_type": "code",
   "execution_count": 25,
   "id": "8b15521c",
   "metadata": {},
   "outputs": [
    {
     "data": {
      "text/plain": [
       "(array([4.33333333, 5.        , 3.        , 6.33333333]),\n",
       " 4.333333333333333,\n",
       " 5.0,\n",
       " 3.0,\n",
       " 6.333333333333333)"
      ]
     },
     "execution_count": 25,
     "metadata": {},
     "output_type": "execute_result"
    }
   ],
   "source": [
    "np.nanmean(a, axis=0), 13/3, 10/2, 3/1, 19/3"
   ]
  },
  {
   "cell_type": "markdown",
   "id": "c4950558",
   "metadata": {},
   "source": [
    "中位："
   ]
  },
  {
   "cell_type": "code",
   "execution_count": 27,
   "id": "feb1e854",
   "metadata": {},
   "outputs": [
    {
     "data": {
      "text/plain": [
       "nan"
      ]
     },
     "execution_count": 27,
     "metadata": {},
     "output_type": "execute_result"
    }
   ],
   "source": [
    "np.median(a)"
   ]
  },
  {
   "cell_type": "code",
   "execution_count": 26,
   "id": "f5a0384a",
   "metadata": {},
   "outputs": [
    {
     "data": {
      "text/plain": [
       "5.0"
      ]
     },
     "execution_count": 26,
     "metadata": {},
     "output_type": "execute_result"
    }
   ],
   "source": [
    "np.nanmedian(a)"
   ]
  },
  {
   "cell_type": "markdown",
   "id": "95b5e415",
   "metadata": {},
   "source": [
    "标准差："
   ]
  },
  {
   "cell_type": "code",
   "execution_count": 29,
   "id": "2650d677",
   "metadata": {},
   "outputs": [
    {
     "data": {
      "text/plain": [
       "2.581988897471611"
      ]
     },
     "execution_count": 29,
     "metadata": {},
     "output_type": "execute_result"
    }
   ],
   "source": [
    "np.nanstd(a)"
   ]
  },
  {
   "cell_type": "code",
   "execution_count": 31,
   "id": "2cad1485",
   "metadata": {},
   "outputs": [
    {
     "data": {
      "text/plain": [
       "array([1.25      , 0.25      , 0.66666667])"
      ]
     },
     "execution_count": 31,
     "metadata": {},
     "output_type": "execute_result"
    }
   ],
   "source": [
    "np.nanvar(a, axis=1)"
   ]
  },
  {
   "cell_type": "markdown",
   "id": "f3a238e5",
   "metadata": {},
   "source": [
    "分位数："
   ]
  },
  {
   "cell_type": "code",
   "execution_count": 34,
   "id": "ed38cf61",
   "metadata": {},
   "outputs": [
    {
     "data": {
      "text/plain": [
       "array([[ 1.,  2.,  3.,  4.],\n",
       "       [ 5., nan, nan,  6.],\n",
       "       [ 7.,  8., nan,  9.]])"
      ]
     },
     "execution_count": 34,
     "metadata": {},
     "output_type": "execute_result"
    }
   ],
   "source": [
    "a"
   ]
  },
  {
   "cell_type": "code",
   "execution_count": 36,
   "id": "f368a2c3",
   "metadata": {},
   "outputs": [
    {
     "data": {
      "text/plain": [
       "nan"
      ]
     },
     "execution_count": 36,
     "metadata": {},
     "output_type": "execute_result"
    }
   ],
   "source": [
    "np.percentile(a, 25)"
   ]
  },
  {
   "cell_type": "code",
   "execution_count": 39,
   "id": "efc10df2",
   "metadata": {},
   "outputs": [
    {
     "data": {
      "text/plain": [
       "3.0"
      ]
     },
     "execution_count": 39,
     "metadata": {},
     "output_type": "execute_result"
    }
   ],
   "source": [
    "# 百分位\n",
    "np.nanpercentile(a, 25)"
   ]
  },
  {
   "cell_type": "code",
   "execution_count": 42,
   "id": "94d42ef4",
   "metadata": {},
   "outputs": [
    {
     "data": {
      "text/plain": [
       "3.0"
      ]
     },
     "execution_count": 42,
     "metadata": {},
     "output_type": "execute_result"
    }
   ],
   "source": [
    "# 分位数\n",
    "np.nanquantile(a, 0.25)"
   ]
  },
  {
   "cell_type": "code",
   "execution_count": 46,
   "id": "87dfa4ea",
   "metadata": {},
   "outputs": [
    {
     "data": {
      "text/plain": [
       "array([[ 0,  1,  2,  3],\n",
       "       [ 4,  5,  6,  7],\n",
       "       [ 8,  9, 10, 11]])"
      ]
     },
     "execution_count": 46,
     "metadata": {},
     "output_type": "execute_result"
    }
   ],
   "source": [
    "a = np.arange(12).reshape(3, 4)\n",
    "a"
   ]
  },
  {
   "cell_type": "code",
   "execution_count": 48,
   "id": "1f22b931",
   "metadata": {},
   "outputs": [
    {
     "data": {
      "text/plain": [
       "11"
      ]
     },
     "execution_count": 48,
     "metadata": {},
     "output_type": "execute_result"
    }
   ],
   "source": [
    "# 极值\n",
    "np.ptp(a)"
   ]
  },
  {
   "cell_type": "code",
   "execution_count": 49,
   "id": "210a3680",
   "metadata": {},
   "outputs": [
    {
     "data": {
      "text/plain": [
       "array([8, 8, 8, 8])"
      ]
     },
     "execution_count": 49,
     "metadata": {},
     "output_type": "execute_result"
    }
   ],
   "source": [
    "np.ptp(a, axis=0)"
   ]
  },
  {
   "cell_type": "code",
   "execution_count": 50,
   "id": "bc1474fc",
   "metadata": {},
   "outputs": [
    {
     "data": {
      "text/plain": [
       "array([3, 3, 3])"
      ]
     },
     "execution_count": 50,
     "metadata": {},
     "output_type": "execute_result"
    }
   ],
   "source": [
    "np.ptp(a, axis=1)"
   ]
  },
  {
   "cell_type": "markdown",
   "id": "3296092e",
   "metadata": {},
   "source": [
    "## 相关性"
   ]
  },
  {
   "cell_type": "markdown",
   "id": "8ee9534c",
   "metadata": {},
   "source": [
    "`correlate`计算两个一维数组的互相关性，参数：\n",
    "\n",
    "- 数组：a，v\n",
    "- mode：valid、same或full，默认valid，与ch04的《卷积》中的mode含义相同。"
   ]
  },
  {
   "cell_type": "code",
   "execution_count": 98,
   "id": "584cf254",
   "metadata": {},
   "outputs": [],
   "source": [
    "a = np.array([1,2,3])\n",
    "b = np.array([4,5,6])"
   ]
  },
  {
   "cell_type": "code",
   "execution_count": 68,
   "id": "65d3d650",
   "metadata": {},
   "outputs": [
    {
     "data": {
      "text/plain": [
       "(array([32]), 32)"
      ]
     },
     "execution_count": 68,
     "metadata": {},
     "output_type": "execute_result"
    }
   ],
   "source": [
    "np.correlate(a, b), np.sum(a * np.conj(b))"
   ]
  },
  {
   "cell_type": "code",
   "execution_count": 73,
   "id": "efaac0e6",
   "metadata": {},
   "outputs": [
    {
     "data": {
      "text/plain": [
       "array([17, 32, 23])"
      ]
     },
     "execution_count": 73,
     "metadata": {},
     "output_type": "execute_result"
    }
   ],
   "source": [
    "np.correlate(a, b, \"same\")"
   ]
  },
  {
   "cell_type": "code",
   "execution_count": 99,
   "id": "011464fc",
   "metadata": {},
   "outputs": [
    {
     "data": {
      "text/plain": [
       "(17, 32, 23)"
      ]
     },
     "execution_count": 99,
     "metadata": {},
     "output_type": "execute_result"
    }
   ],
   "source": [
    "(\n",
    "    np.sum(np.array([0,1,2])*np.array([4,5,6])),\n",
    "    np.sum(np.array([1,2,3])*np.array([4,5,6])),\n",
    "    np.sum(np.array([2,3,0])*np.array([4,5,6])),\n",
    ")"
   ]
  },
  {
   "cell_type": "code",
   "execution_count": 100,
   "id": "501b7b04",
   "metadata": {},
   "outputs": [
    {
     "data": {
      "text/plain": [
       "array([ 6, 17, 32, 23, 12])"
      ]
     },
     "execution_count": 100,
     "metadata": {},
     "output_type": "execute_result"
    }
   ],
   "source": [
    "np.correlate(a, b, \"full\")"
   ]
  },
  {
   "cell_type": "code",
   "execution_count": 101,
   "id": "75dfe00e",
   "metadata": {},
   "outputs": [
    {
     "data": {
      "text/plain": [
       "(6, 17, 32, 23, 12)"
      ]
     },
     "execution_count": 101,
     "metadata": {},
     "output_type": "execute_result"
    }
   ],
   "source": [
    "(\n",
    "    np.sum(np.array([0,0,1])*np.array([4,5,6])),\n",
    "    np.sum(np.array([0,1,2])*np.array([4,5,6])),\n",
    "    np.sum(np.array([1,2,3])*np.array([4,5,6])),\n",
    "    np.sum(np.array([2,3,0])*np.array([4,5,6])),\n",
    "    np.sum(np.array([3,0,0])*np.array([4,5,6])),\n",
    ")"
   ]
  },
  {
   "cell_type": "markdown",
   "id": "b23a1c08",
   "metadata": {},
   "source": [
    "`corrcoef`是皮尔逊相关系数，参数：\n",
    "\n",
    "- 数组\n",
    "- rowvar：默认True。为True时，每一行表示一个变量，为False时，每一列表示一个变量。\n",
    "\n",
    "公式：\n",
    "\n",
    "$$\n",
    "R_{ij} = \\frac{ C_{ij} } { \\sqrt{ C_{ii} * C_{jj} } }\n",
    "$$"
   ]
  },
  {
   "cell_type": "code",
   "execution_count": 120,
   "id": "eb23ea7a",
   "metadata": {},
   "outputs": [
    {
     "data": {
      "text/plain": [
       "array([1., 1., 1.])"
      ]
     },
     "execution_count": 120,
     "metadata": {},
     "output_type": "execute_result"
    }
   ],
   "source": [
    "a * b /np.sqrt((a*a) * (b*b))"
   ]
  },
  {
   "cell_type": "code",
   "execution_count": 121,
   "id": "42778307",
   "metadata": {},
   "outputs": [
    {
     "data": {
      "text/plain": [
       "array([[1., 1.],\n",
       "       [1., 1.]])"
      ]
     },
     "execution_count": 121,
     "metadata": {},
     "output_type": "execute_result"
    }
   ],
   "source": [
    "np.corrcoef(a,b)"
   ]
  },
  {
   "cell_type": "markdown",
   "id": "8c688566",
   "metadata": {},
   "source": [
    "`cov`是协方差矩阵，参数包括：\n",
    "\n",
    "- 数组\n",
    "- rowvar：布尔值，同`corrcoef`。\n",
    "- bias：布尔值，默认False，归一值为N-1，N为观测数量；为True时，归一值为N。会被ddof覆盖。\n",
    "- ddof：`int`，可取1或0，为1时表示使用N-1（不管后面两个weights怎么设置），为0时使用N。\n",
    "- fweights：频率权重，表示每个观测值重复的次数。\n",
    "- aweights：观测向量权重，重要的相对权重较大，不重要的较小，如果ddof=0，可用于将概率分配给观察向量。\n",
    "\n",
    "\n",
    "公式：\n",
    "$$\n",
    "\\operatorname{cov}_{x, y}=\\frac{\\sum\\left(x_{i}-\\bar{x}\\right)\\left(y_{i}-\\bar{y}\\right)}{N-1}\n",
    "$$\n",
    "\n",
    "其中u和v分别是X和Y的期望。\n",
    "\n",
    "返回的矩阵中，`c[i][j]` 是`x[i]`和`x[j]`的协方差，`c[i][i]`则是`x{i]`的方差。"
   ]
  },
  {
   "cell_type": "code",
   "execution_count": 135,
   "id": "abc986c9",
   "metadata": {},
   "outputs": [
    {
     "data": {
      "text/plain": [
       "array([[1., 1.],\n",
       "       [1., 1.]])"
      ]
     },
     "execution_count": 135,
     "metadata": {},
     "output_type": "execute_result"
    }
   ],
   "source": [
    "np.cov(a,b)"
   ]
  },
  {
   "cell_type": "code",
   "execution_count": 136,
   "id": "934b3a9d",
   "metadata": {},
   "outputs": [
    {
     "data": {
      "text/plain": [
       "1.0"
      ]
     },
     "execution_count": 136,
     "metadata": {},
     "output_type": "execute_result"
    }
   ],
   "source": [
    "np.sum((a-np.average(a)) * (b-np.average(b)))/2"
   ]
  },
  {
   "cell_type": "code",
   "execution_count": 139,
   "id": "e387d5a7",
   "metadata": {},
   "outputs": [
    {
     "data": {
      "text/plain": [
       "array([[0, 1, 2],\n",
       "       [2, 1, 0]])"
      ]
     },
     "execution_count": 139,
     "metadata": {},
     "output_type": "execute_result"
    }
   ],
   "source": [
    "x = np.array([[0, 2], [1, 1], [2, 0]]).T\n",
    "x"
   ]
  },
  {
   "cell_type": "code",
   "execution_count": 147,
   "id": "08f9bd67",
   "metadata": {},
   "outputs": [
    {
     "data": {
      "text/plain": [
       "array([[ 1., -1.],\n",
       "       [-1.,  1.]])"
      ]
     },
     "execution_count": 147,
     "metadata": {},
     "output_type": "execute_result"
    }
   ],
   "source": [
    "# 默认每一行是一个变量\n",
    "# 对角线是方差，反对角线是协方差\n",
    "np.cov(x)"
   ]
  },
  {
   "cell_type": "code",
   "execution_count": 148,
   "id": "ace5cb8e",
   "metadata": {},
   "outputs": [],
   "source": [
    "# [0-1, 1-1, 2-1] * [2-1, 1-1, 0-1] = -1 + 0 + -1 = -2 \n",
    "# -2 / (3-1) = -1"
   ]
  },
  {
   "cell_type": "code",
   "execution_count": 166,
   "id": "ef507058",
   "metadata": {},
   "outputs": [
    {
     "data": {
      "text/plain": [
       "array([[-2.1 , -1.  ,  4.3 ],\n",
       "       [ 3.  ,  1.1 ,  0.12]])"
      ]
     },
     "execution_count": 166,
     "metadata": {},
     "output_type": "execute_result"
    }
   ],
   "source": [
    "# 再来一个例子\n",
    "x = np.array([-2.1, -1,  4.3])\n",
    "y = np.array([3,  1.1,  0.12])\n",
    "X = np.stack((x, y), axis=0)\n",
    "X"
   ]
  },
  {
   "cell_type": "code",
   "execution_count": 167,
   "id": "211a8f1a",
   "metadata": {},
   "outputs": [
    {
     "data": {
      "text/plain": [
       "(array([[11.71      , -4.286     ],\n",
       "        [-4.286     ,  2.14413333]]),\n",
       " array([[11.71      , -4.286     ],\n",
       "        [-4.286     ,  2.14413333]]))"
      ]
     },
     "execution_count": 167,
     "metadata": {},
     "output_type": "execute_result"
    }
   ],
   "source": [
    "np.cov(X), np.cov(x, y)"
   ]
  },
  {
   "cell_type": "code",
   "execution_count": 168,
   "id": "983d10ef",
   "metadata": {},
   "outputs": [
    {
     "data": {
      "text/plain": [
       "(array(11.71), array(2.14413333))"
      ]
     },
     "execution_count": 168,
     "metadata": {},
     "output_type": "execute_result"
    }
   ],
   "source": [
    "np.cov(x), np.cov(y)"
   ]
  },
  {
   "cell_type": "code",
   "execution_count": 175,
   "id": "caa2895c",
   "metadata": {},
   "outputs": [
    {
     "data": {
      "text/plain": [
       "-4.2860000000000005"
      ]
     },
     "execution_count": 175,
     "metadata": {},
     "output_type": "execute_result"
    }
   ],
   "source": [
    "np.sum((x - np.average(x)) * (y - np.average(y))) / (3-1)"
   ]
  },
  {
   "cell_type": "markdown",
   "id": "c73bf321",
   "metadata": {},
   "source": [
    "## 柱状图"
   ]
  },
  {
   "cell_type": "markdown",
   "id": "b4e65cd1",
   "metadata": {},
   "source": [
    "柱状图其实是对不同数据分布的一种描述。"
   ]
  },
  {
   "cell_type": "code",
   "execution_count": 183,
   "id": "701b8a79",
   "metadata": {},
   "outputs": [],
   "source": [
    "from collections import Counter"
   ]
  },
  {
   "cell_type": "code",
   "execution_count": 514,
   "id": "891081f1",
   "metadata": {},
   "outputs": [
    {
     "data": {
      "text/plain": [
       "array([[0, 3, 3, 2],\n",
       "       [2, 4, 0, 3],\n",
       "       [1, 0, 2, 4]])"
      ]
     },
     "execution_count": 514,
     "metadata": {},
     "output_type": "execute_result"
    }
   ],
   "source": [
    "rng = np.random.default_rng(42)\n",
    "a = rng.integers(0, 5, (3, 4))\n",
    "a"
   ]
  },
  {
   "cell_type": "markdown",
   "id": "4c4ac0bf",
   "metadata": {},
   "source": [
    "`histogram`接受几个参数：\n",
    "\n",
    "- 数组，会打平\n",
    "- bins：默认10，一个`int`或一组`int`或`str`，一个表示等距，一组表示单调递增的边缘数组，包括最右边的边缘，允许不均匀的bin宽度。`str`时参见下面的`histogram_bin_edges`接口。\n",
    "- range：一个Tuple的浮点数，bin的上下界，不提供时默认为`(a.min(), a.max())`，超出的会被忽略，第一个元素必须小于第二个。\n",
    "- weights：与a同样shape的一组数，如果`density=True`，会被归一化。\n",
    "- density：布尔值，False时结果包含每个bin的样本数，True时结果为概率密度函数。\n",
    "\n",
    "返回hist和bin边界。注意，除了最后一组边界，其他的都是「左闭右开」。"
   ]
  },
  {
   "cell_type": "code",
   "execution_count": 322,
   "id": "bee51a54",
   "metadata": {},
   "outputs": [
    {
     "data": {
      "text/plain": [
       "[(0, 3), (1, 1), (2, 3), (3, 3), (4, 2)]"
      ]
     },
     "execution_count": 322,
     "metadata": {},
     "output_type": "execute_result"
    }
   ],
   "source": [
    "sa = sorted(Counter(a.flatten()).items())\n",
    "sa"
   ]
  },
  {
   "cell_type": "code",
   "execution_count": 323,
   "id": "ea2af2ad",
   "metadata": {},
   "outputs": [
    {
     "data": {
      "text/plain": [
       "((array([7, 5]), array([0, 3, 5])), 7, 5)"
      ]
     },
     "execution_count": 323,
     "metadata": {},
     "output_type": "execute_result"
    }
   ],
   "source": [
    "# 注意：3个数其实是2个区间\n",
    "np.histogram(a, bins=[0, 3, 5]), np.sum([v[1] for v in sa if v[0] < 3]), np.sum([v[1] for v in sa if v[0] >= 3])"
   ]
  },
  {
   "cell_type": "code",
   "execution_count": 324,
   "id": "fc481215",
   "metadata": {},
   "outputs": [
    {
     "data": {
      "text/plain": [
       "[(0, 0.25),\n",
       " (1, 0.08333333333333333),\n",
       " (2, 0.25),\n",
       " (3, 0.25),\n",
       " (4, 0.16666666666666666)]"
      ]
     },
     "execution_count": 324,
     "metadata": {},
     "output_type": "execute_result"
    }
   ],
   "source": [
    "total = a.shape[0] * a.shape[1]\n",
    "sa = [(v[0], v[1]/total) for v in sorted(Counter(a.flatten()).items())]\n",
    "sa"
   ]
  },
  {
   "cell_type": "code",
   "execution_count": 325,
   "id": "4fddea6c",
   "metadata": {},
   "outputs": [
    {
     "data": {
      "text/plain": [
       "((array([0.19444444, 0.20833333]), array([0, 3, 5])),\n",
       " 0.19444444444444442,\n",
       " 0.20833333333333331)"
      ]
     },
     "execution_count": 325,
     "metadata": {},
     "output_type": "execute_result"
    }
   ],
   "source": [
    "(\n",
    "    np.histogram(a, bins=[0, 3, 5], density=True), \n",
    "    np.sum([v[1] for v in sa if v[0] < 3])/3, np.sum([v[1] for v in sa if v[0] >= 3])/2\n",
    ")"
   ]
  },
  {
   "cell_type": "code",
   "execution_count": 359,
   "id": "f4d5499e",
   "metadata": {
    "scrolled": true
   },
   "outputs": [
    {
     "data": {
      "text/plain": [
       "(array([0.09722222, 0.35416667]), array([0, 3, 5]))"
      ]
     },
     "execution_count": 359,
     "metadata": {},
     "output_type": "execute_result"
    }
   ],
   "source": [
    "# 带权重的\n",
    "np.histogram(a, bins=[0, 3, 5], weights=a,  density=True)"
   ]
  },
  {
   "cell_type": "code",
   "execution_count": 360,
   "id": "2a891132",
   "metadata": {},
   "outputs": [
    {
     "data": {
      "text/plain": [
       "array([0, 3, 3, 2, 2, 4, 0, 3, 1, 0, 2, 4])"
      ]
     },
     "execution_count": 360,
     "metadata": {},
     "output_type": "execute_result"
    }
   ],
   "source": [
    "a.flatten()"
   ]
  },
  {
   "cell_type": "code",
   "execution_count": 361,
   "id": "cfddf644",
   "metadata": {},
   "outputs": [],
   "source": [
    "# 0个0，3个3 …… 4个4\n",
    "b = [3, 3, 3, 3, 3, 3, 2, 2, 2, 2, 4, 4, 4, 4, 3, 3, 3, 1, 2, 2, 4, 4, 4, 4]"
   ]
  },
  {
   "cell_type": "code",
   "execution_count": 362,
   "id": "ce15bd33",
   "metadata": {},
   "outputs": [
    {
     "data": {
      "text/plain": [
       "(array([0.09722222, 0.35416667]), array([0, 3, 5]))"
      ]
     },
     "execution_count": 362,
     "metadata": {},
     "output_type": "execute_result"
    }
   ],
   "source": [
    "np.histogram(b, bins=[0,3,5], density=True)"
   ]
  },
  {
   "cell_type": "markdown",
   "id": "ee2f0e77",
   "metadata": {},
   "source": [
    "`histogram2d`是上个接口的二维版本，处理两组数组（一维的）。\n",
    "\n",
    "- x,y：x和y一维数组\n",
    "- bins：含义同上，但情况更多（不过不支持string），支持：\n",
    "  - x和y共享：`int`, `array`\n",
    "  - x和y分别：`[int,int]`, `[array, array]`\n",
    "  - `int`表示bin的数量，`array`表示分组边界：`[int, array]`, `[array, int]`\n",
    "- range：同上\n",
    "- density：同上，默认False，返回每个bin的样本数，为True返回bin的概率密度\n",
    "- weights：同上\n",
    "\n",
    "如果x和y完全无交集，其实和分别算是一样的，但两者有交集是会在二维平面上统计。"
   ]
  },
  {
   "cell_type": "code",
   "execution_count": 515,
   "id": "2c3358b5",
   "metadata": {},
   "outputs": [
    {
     "data": {
      "text/plain": [
       "array([[0, 3, 3, 2],\n",
       "       [2, 4, 0, 3],\n",
       "       [1, 0, 2, 4]])"
      ]
     },
     "execution_count": 515,
     "metadata": {},
     "output_type": "execute_result"
    }
   ],
   "source": [
    "a"
   ]
  },
  {
   "cell_type": "code",
   "execution_count": 516,
   "id": "388315f1",
   "metadata": {
    "scrolled": true
   },
   "outputs": [
    {
     "data": {
      "text/plain": [
       "array([[5, 8, 8, 7],\n",
       "       [7, 9, 5, 8],\n",
       "       [6, 5, 7, 9]])"
      ]
     },
     "execution_count": 516,
     "metadata": {},
     "output_type": "execute_result"
    }
   ],
   "source": [
    "rng = np.random.default_rng(42)\n",
    "c = rng.integers(5, 10, (3, 4))\n",
    "c"
   ]
  },
  {
   "cell_type": "code",
   "execution_count": 517,
   "id": "96c495d4",
   "metadata": {},
   "outputs": [
    {
     "data": {
      "text/plain": [
       "array([[0, 3, 3, 2],\n",
       "       [2, 4, 0, 3],\n",
       "       [1, 0, 2, 4]])"
      ]
     },
     "execution_count": 517,
     "metadata": {},
     "output_type": "execute_result"
    }
   ],
   "source": [
    "rng = np.random.default_rng(42)\n",
    "d = rng.integers(0, 5, (3, 4))\n",
    "d"
   ]
  },
  {
   "cell_type": "code",
   "execution_count": 573,
   "id": "6ee41a4f",
   "metadata": {},
   "outputs": [
    {
     "data": {
      "text/plain": [
       "array([[7., 0.],\n",
       "       [3., 2.]])"
      ]
     },
     "execution_count": 573,
     "metadata": {},
     "output_type": "execute_result"
    }
   ],
   "source": [
    "Hac,xe,ye =np.histogram2d(a.flatten(), c.flatten(), bins=[[0,3,5],[5,9,10]])\n",
    "Hac"
   ]
  },
  {
   "cell_type": "code",
   "execution_count": 581,
   "id": "a6e202b8",
   "metadata": {},
   "outputs": [
    {
     "data": {
      "text/plain": [
       "(7, 5, 7, 5)"
      ]
     },
     "execution_count": 581,
     "metadata": {},
     "output_type": "execute_result"
    }
   ],
   "source": [
    "(a.flatten() < 3).sum(), (a.flatten() >=3).sum(), 7+0, 3+2"
   ]
  },
  {
   "cell_type": "code",
   "execution_count": 582,
   "id": "b51dbf2c",
   "metadata": {},
   "outputs": [
    {
     "data": {
      "text/plain": [
       "(10, 2, 10, 2)"
      ]
     },
     "execution_count": 582,
     "metadata": {},
     "output_type": "execute_result"
    }
   ],
   "source": [
    "(c.flatten()<9).sum(), (c.flatten()>=9).sum(), 7+3, 0+2"
   ]
  },
  {
   "cell_type": "code",
   "execution_count": 586,
   "id": "937b7284",
   "metadata": {},
   "outputs": [
    {
     "data": {
      "text/plain": [
       "array([[4., 3.],\n",
       "       [0., 5.]])"
      ]
     },
     "execution_count": 586,
     "metadata": {},
     "output_type": "execute_result"
    }
   ],
   "source": [
    "Had, xe,ye = np.histogram2d(a.flatten(), d.flatten(), bins=[[0,3,4], [0,2,4]])\n",
    "Had"
   ]
  },
  {
   "cell_type": "code",
   "execution_count": 590,
   "id": "cff3e18f",
   "metadata": {},
   "outputs": [
    {
     "data": {
      "text/plain": [
       "(7, 5, 7, 5)"
      ]
     },
     "execution_count": 590,
     "metadata": {},
     "output_type": "execute_result"
    }
   ],
   "source": [
    "(a.flatten() < 3).sum(), (a.flatten() >=3).sum(), 4+3, 0+5"
   ]
  },
  {
   "cell_type": "code",
   "execution_count": 591,
   "id": "09a4b87e",
   "metadata": {},
   "outputs": [
    {
     "data": {
      "text/plain": [
       "(4, 8, 4, 8)"
      ]
     },
     "execution_count": 591,
     "metadata": {},
     "output_type": "execute_result"
    }
   ],
   "source": [
    "(d.flatten()<2).sum(), (d.flatten()>=2).sum(), 4+0,3+5"
   ]
  },
  {
   "cell_type": "code",
   "execution_count": 589,
   "id": "b986d06e",
   "metadata": {},
   "outputs": [
    {
     "data": {
      "text/plain": [
       "<matplotlib.image.AxesImage at 0x1137c5af0>"
      ]
     },
     "execution_count": 589,
     "metadata": {},
     "output_type": "execute_result"
    },
    {
     "data": {
      "image/png": "[encoded data removed]",
      "text/plain": [
       "<Figure size 504x216 with 1 Axes>"
      ]
     },
     "metadata": {
      "needs_background": "light"
     },
     "output_type": "display_data"
    }
   ],
   "source": [
    "import matplotlib.pyplot as plt\n",
    "fig = plt.figure(figsize=(7, 3))\n",
    "ax = fig.add_subplot(131, title='imshow: square bins')\n",
    "plt.imshow(Had, interpolation='nearest', origin='lower', extent=[xe[0], xe[-1], ye[0], ye[-1]])"
   ]
  },
  {
   "cell_type": "markdown",
   "id": "c5820e46",
   "metadata": {},
   "source": [
    "`histogramdd`是多维版本，除了输入的数组外，其他参数与前面的基本一致。"
   ]
  },
  {
   "cell_type": "code",
   "execution_count": 596,
   "id": "91dcf080",
   "metadata": {},
   "outputs": [],
   "source": [
    "rng = np.random.default_rng(42)\n",
    "a = rng.integers(0, 10, (100, 3))"
   ]
  },
  {
   "cell_type": "code",
   "execution_count": 604,
   "id": "c7db0496",
   "metadata": {},
   "outputs": [],
   "source": [
    "H, edges = np.histogramdd(a, bins=[5, 3, 4])"
   ]
  },
  {
   "cell_type": "code",
   "execution_count": 606,
   "id": "20b0c3ec",
   "metadata": {},
   "outputs": [
    {
     "data": {
      "text/plain": [
       "(5, 3, 4)"
      ]
     },
     "execution_count": 606,
     "metadata": {},
     "output_type": "execute_result"
    }
   ],
   "source": [
    "H.shape"
   ]
  },
  {
   "cell_type": "code",
   "execution_count": 605,
   "id": "4697ecde",
   "metadata": {},
   "outputs": [
    {
     "data": {
      "text/plain": [
       "[array([0. , 1.8, 3.6, 5.4, 7.2, 9. ]),\n",
       " array([0., 3., 6., 9.]),\n",
       " array([0.  , 2.25, 4.5 , 6.75, 9.  ])]"
      ]
     },
     "execution_count": 605,
     "metadata": {},
     "output_type": "execute_result"
    }
   ],
   "source": [
    "edges"
   ]
  },
  {
   "cell_type": "markdown",
   "id": "a01ae7a8",
   "metadata": {},
   "source": [
    "`histogram_bin_edges`用来计算bin的边界，只算边界。\n",
    "\n",
    "不过这里的bin参数支持string，这里定义了很多方法：\n",
    "\n",
    "- auto：折中的方法获得不错的效果，小数据集一般会采用\n",
    "- fd：Freedam Diaconis Estimator，大数据集一般会采用\n",
    "\n",
    "$$\n",
    "2 \\frac {IQR} {\\sqrt[3] {n}}\n",
    "$$\n",
    "\n",
    "- scott：与标准差成正比，与数据集size的立方根成反比，对小数据集过于保守，但是和大数据集。标准差对异常值不是很鲁棒。在没有异常值时，它的值和FD很相似。\n",
    "\n",
    "$$\n",
    "h = \\sigma \\sqrt[3]{\\frac{24 * \\sqrt{\\pi}}{n}}\n",
    "$$\n",
    "\n",
    "- rice：bin的数量与数据集size的立方根成反比，它倾向于高估条柱的数量，并且没有考虑数据可变性。\n",
    "\n",
    "$$\n",
    "n_h = 2 n^{1/3}\n",
    "$$\n",
    "\n",
    "- sturges：数据集size的2为底对数，此估计器假定数据是正态的，对于较大的非正态数据集过于保守。R语言的`hist`的默认方法。\n",
    "\n",
    "$$\n",
    "n_h = \\log_{2}{n} +1\n",
    "$$\n",
    "\n",
    "- doane：Sturges的改进版本，可为非正态数据集生成更好的估计值。此估计器尝试解释数据的偏斜。\n",
    "\n",
    "$$\n",
    "n_h = 1 + \\log_{2}(n) + \\log_{2} (1 + \\frac {|g_1|} {\\sigma_{g_1}}) \\\\\n",
    "g_1 = mean[(\\frac{x - \\mu}{\\sigma})^3]\\\\\n",
    "\\sigma_{g_1} = \\sqrt{\\frac{6(n - 2)}{(n + 1)(n + 3)}}\n",
    "$$\n",
    "\n",
    "- sqrt：最简单和快速的估计器，只考虑数据集大小。\n",
    "\n",
    "$$\n",
    "n_h = \\sqrt n\n",
    "$$"
   ]
  },
  {
   "cell_type": "code",
   "execution_count": 613,
   "id": "0dd3507a",
   "metadata": {
    "scrolled": true
   },
   "outputs": [
    {
     "data": {
      "text/plain": [
       "array([0., 3., 6., 9.])"
      ]
     },
     "execution_count": 613,
     "metadata": {},
     "output_type": "execute_result"
    }
   ],
   "source": [
    "# 随机数本来就是0-9\n",
    "np.histogram_bin_edges(a, bins=3)"
   ]
  },
  {
   "cell_type": "code",
   "execution_count": 679,
   "id": "7bae0a5d",
   "metadata": {},
   "outputs": [],
   "source": [
    "rng = np.random.default_rng(42)\n",
    "a = rng.integers(0, 10, 500)"
   ]
  },
  {
   "cell_type": "code",
   "execution_count": 680,
   "id": "db29ebe8",
   "metadata": {
    "scrolled": true
   },
   "outputs": [
    {
     "data": {
      "text/plain": [
       "array([0. , 0.9, 1.8, 2.7, 3.6, 4.5, 5.4, 6.3, 7.2, 8.1, 9. ])"
      ]
     },
     "execution_count": 680,
     "metadata": {},
     "output_type": "execute_result"
    }
   ],
   "source": [
    "np.histogram_bin_edges(a, bins=\"auto\")"
   ]
  },
  {
   "cell_type": "markdown",
   "id": "32e2266c",
   "metadata": {},
   "source": [
    "`fd`："
   ]
  },
  {
   "cell_type": "code",
   "execution_count": 681,
   "id": "9fbdc6bd",
   "metadata": {},
   "outputs": [],
   "source": [
    "IQR = np.percentile(a, 75) - np.percentile(a, 25)"
   ]
  },
  {
   "cell_type": "code",
   "execution_count": 709,
   "id": "ed5fb448",
   "metadata": {},
   "outputs": [
    {
     "data": {
      "text/plain": [
       "1.2599210498948732"
      ]
     },
     "execution_count": 709,
     "metadata": {},
     "output_type": "execute_result"
    }
   ],
   "source": [
    "2 * IQR / (a.size ** (1/3))"
   ]
  },
  {
   "cell_type": "code",
   "execution_count": 683,
   "id": "dd22a7f6",
   "metadata": {},
   "outputs": [
    {
     "data": {
      "text/plain": [
       "array([0.   , 1.125, 2.25 , 3.375, 4.5  , 5.625, 6.75 , 7.875, 9.   ])"
      ]
     },
     "execution_count": 683,
     "metadata": {},
     "output_type": "execute_result"
    }
   ],
   "source": [
    "np.histogram_bin_edges(a, bins=\"fd\")"
   ]
  },
  {
   "cell_type": "markdown",
   "id": "cca795a0",
   "metadata": {},
   "source": [
    "`scott`:"
   ]
  },
  {
   "cell_type": "code",
   "execution_count": 685,
   "id": "8713bffb",
   "metadata": {},
   "outputs": [
    {
     "data": {
      "text/plain": [
       "array([0.   , 1.125, 2.25 , 3.375, 4.5  , 5.625, 6.75 , 7.875, 9.   ])"
      ]
     },
     "execution_count": 685,
     "metadata": {},
     "output_type": "execute_result"
    }
   ],
   "source": [
    "np.histogram_bin_edges(a, bins=\"scott\")"
   ]
  },
  {
   "cell_type": "code",
   "execution_count": 708,
   "id": "70577a73",
   "metadata": {},
   "outputs": [
    {
     "data": {
      "text/plain": [
       "1.2524886807479167"
      ]
     },
     "execution_count": 708,
     "metadata": {},
     "output_type": "execute_result"
    }
   ],
   "source": [
    "(24*np.sqrt(np.pi)/a.size)**(1/3)* np.std(a)"
   ]
  },
  {
   "cell_type": "markdown",
   "id": "a79744db",
   "metadata": {},
   "source": [
    "`rice`:"
   ]
  },
  {
   "cell_type": "code",
   "execution_count": 702,
   "id": "e5e82377",
   "metadata": {},
   "outputs": [
    {
     "data": {
      "text/plain": [
       "(17,)"
      ]
     },
     "execution_count": 702,
     "metadata": {},
     "output_type": "execute_result"
    }
   ],
   "source": [
    "# 16个区间（柱子）\n",
    "np.histogram_bin_edges(a, bins=\"rice\").shape"
   ]
  },
  {
   "cell_type": "code",
   "execution_count": 707,
   "id": "08834562",
   "metadata": {},
   "outputs": [
    {
     "data": {
      "text/plain": [
       "15.874010519681994"
      ]
     },
     "execution_count": 707,
     "metadata": {},
     "output_type": "execute_result"
    }
   ],
   "source": [
    "2 * (a.size**(1/3))"
   ]
  },
  {
   "cell_type": "markdown",
   "id": "c4839b42",
   "metadata": {},
   "source": [
    "`sturges`:"
   ]
  },
  {
   "cell_type": "code",
   "execution_count": 726,
   "id": "3d5f38b9",
   "metadata": {},
   "outputs": [
    {
     "data": {
      "text/plain": [
       "array([0. , 0.9, 1.8, 2.7, 3.6, 4.5, 5.4, 6.3, 7.2, 8.1, 9. ])"
      ]
     },
     "execution_count": 726,
     "metadata": {},
     "output_type": "execute_result"
    }
   ],
   "source": [
    "np.histogram_bin_edges(a, bins=\"sturges\")"
   ]
  },
  {
   "cell_type": "code",
   "execution_count": 725,
   "id": "4e85021e",
   "metadata": {},
   "outputs": [
    {
     "data": {
      "text/plain": [
       "(11,)"
      ]
     },
     "execution_count": 725,
     "metadata": {},
     "output_type": "execute_result"
    }
   ],
   "source": [
    "np.histogram_bin_edges(a, bins=\"sturges\").shape"
   ]
  },
  {
   "cell_type": "code",
   "execution_count": 706,
   "id": "c07fb8ee",
   "metadata": {
    "scrolled": true
   },
   "outputs": [
    {
     "data": {
      "text/plain": [
       "9.965784284662087"
      ]
     },
     "execution_count": 706,
     "metadata": {},
     "output_type": "execute_result"
    }
   ],
   "source": [
    "np.log2(a.size) + 1"
   ]
  },
  {
   "cell_type": "markdown",
   "id": "c7cfe99b",
   "metadata": {},
   "source": [
    "`doane`："
   ]
  },
  {
   "cell_type": "code",
   "execution_count": 722,
   "id": "7dd3283a",
   "metadata": {},
   "outputs": [
    {
     "data": {
      "text/plain": [
       "(11,)"
      ]
     },
     "execution_count": 722,
     "metadata": {},
     "output_type": "execute_result"
    }
   ],
   "source": [
    "np.histogram_bin_edges(a, bins=\"doane\").shape"
   ]
  },
  {
   "cell_type": "code",
   "execution_count": 721,
   "id": "bc659eb4",
   "metadata": {},
   "outputs": [
    {
     "data": {
      "text/plain": [
       "9.970039609658638"
      ]
     },
     "execution_count": 721,
     "metadata": {},
     "output_type": "execute_result"
    }
   ],
   "source": [
    "(1+\n",
    " np.log2(a.size)+\n",
    " np.log2(1+abs(np.mean(((a - np.mean(a))/np.std(a))**3)) / np.sqrt(6*(a.size-2)/((a.size+1)*(a.size+3)))))"
   ]
  },
  {
   "cell_type": "markdown",
   "id": "47252cdc",
   "metadata": {},
   "source": [
    "`sqrt`:"
   ]
  },
  {
   "cell_type": "code",
   "execution_count": 723,
   "id": "b5ab2bb3",
   "metadata": {},
   "outputs": [
    {
     "data": {
      "text/plain": [
       "24"
      ]
     },
     "execution_count": 723,
     "metadata": {},
     "output_type": "execute_result"
    }
   ],
   "source": [
    "np.histogram_bin_edges(a, bins=\"sqrt\").size"
   ]
  },
  {
   "cell_type": "code",
   "execution_count": 724,
   "id": "0dd46c58",
   "metadata": {},
   "outputs": [
    {
     "data": {
      "text/plain": [
       "22.360679774997898"
      ]
     },
     "execution_count": 724,
     "metadata": {},
     "output_type": "execute_result"
    }
   ],
   "source": [
    "np.sqrt(a.size)"
   ]
  },
  {
   "cell_type": "markdown",
   "id": "a145f2f9",
   "metadata": {},
   "source": [
    "`auto`：会选择`fd`和`sturges`的较大者。"
   ]
  },
  {
   "cell_type": "code",
   "execution_count": 729,
   "id": "8c35f157",
   "metadata": {},
   "outputs": [
    {
     "data": {
      "text/plain": [
       "(9, 11)"
      ]
     },
     "execution_count": 729,
     "metadata": {},
     "output_type": "execute_result"
    }
   ],
   "source": [
    "np.histogram_bin_edges(a, bins=\"fd\").size, np.histogram_bin_edges(a, bins=\"sturges\").size"
   ]
  },
  {
   "cell_type": "code",
   "execution_count": 731,
   "id": "56bad574",
   "metadata": {},
   "outputs": [
    {
     "data": {
      "text/plain": [
       "11"
      ]
     },
     "execution_count": 731,
     "metadata": {},
     "output_type": "execute_result"
    }
   ],
   "source": [
    "np.histogram_bin_edges(a, \"auto\").size"
   ]
  },
  {
   "cell_type": "markdown",
   "id": "83b8429a",
   "metadata": {},
   "source": [
    "`digitize`会告诉我们输入的数组都属于哪个bin。"
   ]
  },
  {
   "cell_type": "code",
   "execution_count": 822,
   "id": "545f0070",
   "metadata": {},
   "outputs": [],
   "source": [
    "x = np.array([0.2, 6.4, 3.0, 1.6])\n",
    "bins = np.array([0.0, 1.0, 2.5, 4.0, 10.0])\n",
    "inds = np.digitize(x, bins)"
   ]
  },
  {
   "cell_type": "code",
   "execution_count": 825,
   "id": "b2d10eac",
   "metadata": {},
   "outputs": [
    {
     "data": {
      "text/plain": [
       "array([1, 4, 3, 2])"
      ]
     },
     "execution_count": 825,
     "metadata": {},
     "output_type": "execute_result"
    }
   ],
   "source": [
    "# 0.0 <= 0.2 < 1.0\n",
    "# 4.0 <= 6.4 < 10.0\n",
    "# 2.5 <= 3.0 < 4.0\n",
    "# 1.0 <= 1.6 < 2.5\n",
    "inds"
   ]
  },
  {
   "cell_type": "markdown",
   "id": "bead325a",
   "metadata": {},
   "source": [
    "## 计数"
   ]
  },
  {
   "cell_type": "markdown",
   "id": "1729510f",
   "metadata": {},
   "source": [
    "`bincount`用来统计非负数组中每个值的出现次数。它也和柱状图有关。"
   ]
  },
  {
   "cell_type": "code",
   "execution_count": 761,
   "id": "db3daadd",
   "metadata": {},
   "outputs": [],
   "source": [
    "rng = np.random.default_rng(42)\n",
    "a = rng.integers(0, 10, 100)"
   ]
  },
  {
   "cell_type": "code",
   "execution_count": 762,
   "id": "fa61b408",
   "metadata": {},
   "outputs": [
    {
     "data": {
      "text/plain": [
       "[(0, 9),\n",
       " (1, 9),\n",
       " (2, 6),\n",
       " (3, 9),\n",
       " (4, 15),\n",
       " (5, 7),\n",
       " (6, 11),\n",
       " (7, 15),\n",
       " (8, 12),\n",
       " (9, 7)]"
      ]
     },
     "execution_count": 762,
     "metadata": {},
     "output_type": "execute_result"
    }
   ],
   "source": [
    "sorted(Counter(a).items())"
   ]
  },
  {
   "cell_type": "code",
   "execution_count": 763,
   "id": "3f488417",
   "metadata": {},
   "outputs": [
    {
     "data": {
      "text/plain": [
       "array([ 9,  9,  6,  9, 15,  7, 11, 15, 12,  7])"
      ]
     },
     "execution_count": 763,
     "metadata": {},
     "output_type": "execute_result"
    }
   ],
   "source": [
    "np.bincount(a)"
   ]
  },
  {
   "cell_type": "code",
   "execution_count": 764,
   "id": "c8ba042c",
   "metadata": {},
   "outputs": [],
   "source": [
    "b = np.array([1, 1, 1, -1, -1, -1])"
   ]
  },
  {
   "cell_type": "code",
   "execution_count": 765,
   "id": "35a3f3e6",
   "metadata": {},
   "outputs": [
    {
     "ename": "ValueError",
     "evalue": "'list' argument must have no negative elements",
     "output_type": "error",
     "traceback": [
      "\u001b[0;31m---------------------------------------------------------------------------\u001b[0m",
      "\u001b[0;31mValueError\u001b[0m                                Traceback (most recent call last)",
      "\u001b[0;32m<ipython-input-765-54605025760c>\u001b[0m in \u001b[0;36m<module>\u001b[0;34m\u001b[0m\n\u001b[1;32m      1\u001b[0m \u001b[0;31m# 必须非负\u001b[0m\u001b[0;34m\u001b[0m\u001b[0;34m\u001b[0m\u001b[0;34m\u001b[0m\u001b[0m\n\u001b[0;32m----> 2\u001b[0;31m \u001b[0mnp\u001b[0m\u001b[0;34m.\u001b[0m\u001b[0mbincount\u001b[0m\u001b[0;34m(\u001b[0m\u001b[0mb\u001b[0m\u001b[0;34m)\u001b[0m\u001b[0;34m\u001b[0m\u001b[0;34m\u001b[0m\u001b[0m\n\u001b[0m",
      "\u001b[0;32m/usr/local/lib/python3.8/site-packages/numpy/core/overrides.py\u001b[0m in \u001b[0;36mbincount\u001b[0;34m(*args, **kwargs)\u001b[0m\n",
      "\u001b[0;31mValueError\u001b[0m: 'list' argument must have no negative elements"
     ]
    }
   ],
   "source": [
    "# 必须非负\n",
    "np.bincount(b)"
   ]
  },
  {
   "cell_type": "code",
   "execution_count": 758,
   "id": "45a05d8b",
   "metadata": {},
   "outputs": [
    {
     "ename": "ValueError",
     "evalue": "object too deep for desired array",
     "output_type": "error",
     "traceback": [
      "\u001b[0;31m---------------------------------------------------------------------------\u001b[0m",
      "\u001b[0;31mValueError\u001b[0m                                Traceback (most recent call last)",
      "\u001b[0;32m<ipython-input-758-f01c373d0299>\u001b[0m in \u001b[0;36m<module>\u001b[0;34m\u001b[0m\n\u001b[1;32m      1\u001b[0m \u001b[0;31m# 必须一维\u001b[0m\u001b[0;34m\u001b[0m\u001b[0;34m\u001b[0m\u001b[0;34m\u001b[0m\u001b[0m\n\u001b[0;32m----> 2\u001b[0;31m \u001b[0mnp\u001b[0m\u001b[0;34m.\u001b[0m\u001b[0mbincount\u001b[0m\u001b[0;34m(\u001b[0m\u001b[0mnp\u001b[0m\u001b[0;34m.\u001b[0m\u001b[0marray\u001b[0m\u001b[0;34m(\u001b[0m\u001b[0;34m[\u001b[0m\u001b[0;34m[\u001b[0m\u001b[0;36m1\u001b[0m\u001b[0;34m]\u001b[0m\u001b[0;34m,\u001b[0m\u001b[0;34m[\u001b[0m\u001b[0;36m2\u001b[0m\u001b[0;34m]\u001b[0m\u001b[0;34m]\u001b[0m\u001b[0;34m)\u001b[0m\u001b[0;34m)\u001b[0m\u001b[0;34m\u001b[0m\u001b[0;34m\u001b[0m\u001b[0m\n\u001b[0m",
      "\u001b[0;32m/usr/local/lib/python3.8/site-packages/numpy/core/overrides.py\u001b[0m in \u001b[0;36mbincount\u001b[0;34m(*args, **kwargs)\u001b[0m\n",
      "\u001b[0;31mValueError\u001b[0m: object too deep for desired array"
     ]
    }
   ],
   "source": [
    "# 必须一维\n",
    "np.bincount(np.array([[1],[2]]))"
   ]
  },
  {
   "cell_type": "markdown",
   "id": "e23d120c",
   "metadata": {},
   "source": [
    "另外，它还可以指定权重：\n",
    "\n",
    "`out[n] = out[n] + weight[i]`\n",
    "\n",
    "默认情况下是：\n",
    "\n",
    "`out[n] = out[n] + 1`\n",
    "\n",
    "注意：给定数组是位置，权重和这些位置对应。"
   ]
  },
  {
   "cell_type": "code",
   "execution_count": 785,
   "id": "6d15999a",
   "metadata": {},
   "outputs": [],
   "source": [
    "c = np.array([2,3,4,2,3,4])"
   ]
  },
  {
   "cell_type": "code",
   "execution_count": 806,
   "id": "1674191a",
   "metadata": {},
   "outputs": [
    {
     "data": {
      "text/plain": [
       "array([0, 0, 2, 2, 2])"
      ]
     },
     "execution_count": 806,
     "metadata": {},
     "output_type": "execute_result"
    }
   ],
   "source": [
    "# 在第2 3 4 个位置上+1\n",
    "# 在第2 3 4 个位置上+1\n",
    "np.bincount(c)"
   ]
  },
  {
   "cell_type": "code",
   "execution_count": 819,
   "id": "451bb2fb",
   "metadata": {},
   "outputs": [
    {
     "data": {
      "text/plain": [
       "array([0., 0., 4., 6., 8.])"
      ]
     },
     "execution_count": 819,
     "metadata": {},
     "output_type": "execute_result"
    }
   ],
   "source": [
    "# 在第2 3 4 个位置上+2 3 4\n",
    "# 在第2 3 4 个位置上+2 3 4\n",
    "np.bincount(c, weights=[2,3,4,2,3,4])"
   ]
  },
  {
   "cell_type": "code",
   "execution_count": 820,
   "id": "76d99987",
   "metadata": {},
   "outputs": [
    {
     "data": {
      "text/plain": [
       "array([0.3, 0.7, 1.1])"
      ]
     },
     "execution_count": 820,
     "metadata": {},
     "output_type": "execute_result"
    }
   ],
   "source": [
    "# loc 0  0.3\n",
    "# loc 1  0.5+0.2\n",
    "# loc 2  0.7+1.0-0.6\n",
    "w = np.array([0.3, 0.5, 0.2, 0.7, 1., -0.6])\n",
    "x = np.array([0, 1, 1, 2, 2, 2])\n",
    "np.bincount(x,  weights=w)"
   ]
  },
  {
   "cell_type": "markdown",
   "id": "a3566335",
   "metadata": {},
   "source": [
    "也可以指定返回的bin数量："
   ]
  },
  {
   "cell_type": "code",
   "execution_count": 767,
   "id": "e8df1e1d",
   "metadata": {},
   "outputs": [
    {
     "data": {
      "text/plain": [
       "array([ 9,  9,  6,  9, 15,  7, 11, 15, 12,  7])"
      ]
     },
     "execution_count": 767,
     "metadata": {},
     "output_type": "execute_result"
    }
   ],
   "source": [
    "np.bincount(a)"
   ]
  },
  {
   "cell_type": "code",
   "execution_count": 772,
   "id": "1ecf7f5b",
   "metadata": {},
   "outputs": [
    {
     "data": {
      "text/plain": [
       "array([ 9,  9,  6,  9, 15,  7, 11, 15, 12,  7,  0,  0])"
      ]
     },
     "execution_count": 772,
     "metadata": {},
     "output_type": "execute_result"
    }
   ],
   "source": [
    "# 多出2个数字\n",
    "np.bincount(a, minlength=12)"
   ]
  },
  {
   "cell_type": "markdown",
   "id": "8fc16383",
   "metadata": {},
   "source": [
    "`count_nonzero`用来统计非零的数量。"
   ]
  },
  {
   "cell_type": "code",
   "execution_count": 738,
   "id": "427fd7c4",
   "metadata": {},
   "outputs": [
    {
     "data": {
      "text/plain": [
       "4"
      ]
     },
     "execution_count": 738,
     "metadata": {},
     "output_type": "execute_result"
    }
   ],
   "source": [
    "# 统计非0\n",
    "np.count_nonzero(np.eye(4))"
   ]
  },
  {
   "cell_type": "code",
   "execution_count": 739,
   "id": "3be8172a",
   "metadata": {},
   "outputs": [
    {
     "data": {
      "text/plain": [
       "453"
      ]
     },
     "execution_count": 739,
     "metadata": {},
     "output_type": "execute_result"
    }
   ],
   "source": [
    "np.count_nonzero(a)"
   ]
  },
  {
   "cell_type": "code",
   "execution_count": 741,
   "id": "807ab91b",
   "metadata": {},
   "outputs": [
    {
     "data": {
      "text/plain": [
       "453"
      ]
     },
     "execution_count": 741,
     "metadata": {},
     "output_type": "execute_result"
    }
   ],
   "source": [
    "(a>0).sum()"
   ]
  },
  {
   "cell_type": "markdown",
   "id": "c4bc6da3",
   "metadata": {},
   "source": [
    "## 随机生成器"
   ]
  },
  {
   "cell_type": "markdown",
   "id": "039cacbb",
   "metadata": {},
   "source": [
    "在计算机上的随机数都是伪随机数。伪随机是一个用确定性的算法生成的看起来随机但实际不是随机的过程。如果开始值不变，随机数的顺序也不会变。优点是计算简单，而且用少量数值很难推算出它的算法。一般会使用一个假的随机数，比如电脑上的时间作为计算伪随机数的开始值。有时候我们可能需要真正的随机（比如创建加密钱包时），这时候一般会被要求随便移动一下鼠标，此时鼠标停止时的位置会被当做「随机」开始值。"
   ]
  },
  {
   "cell_type": "markdown",
   "id": "5c60870d",
   "metadata": {},
   "source": [
    "我们先看下什么是顺序不变："
   ]
  },
  {
   "cell_type": "code",
   "execution_count": 883,
   "id": "e7ebfab2",
   "metadata": {},
   "outputs": [
    {
     "data": {
      "text/plain": [
       "array([1, 7])"
      ]
     },
     "execution_count": 883,
     "metadata": {},
     "output_type": "execute_result"
    }
   ],
   "source": [
    "rng = np.random.default_rng(42)\n",
    "rng.integers(1, 10, 2)"
   ]
  },
  {
   "cell_type": "code",
   "execution_count": 884,
   "id": "16cd1860",
   "metadata": {},
   "outputs": [
    {
     "data": {
      "text/plain": [
       "array([1, 7, 6, 4, 4])"
      ]
     },
     "execution_count": 884,
     "metadata": {},
     "output_type": "execute_result"
    }
   ],
   "source": [
    "rng = np.random.default_rng(42)\n",
    "rng.integers(1, 10, 5)"
   ]
  },
  {
   "cell_type": "code",
   "execution_count": 885,
   "id": "6e7a91d3",
   "metadata": {},
   "outputs": [
    {
     "data": {
      "text/plain": [
       "array([1, 7, 6, 4, 4, 8, 1, 7])"
      ]
     },
     "execution_count": 885,
     "metadata": {},
     "output_type": "execute_result"
    }
   ],
   "source": [
    "rng = np.random.default_rng(42)\n",
    "rng.integers(1, 10, 8)"
   ]
  },
  {
   "cell_type": "markdown",
   "id": "9fe912e7",
   "metadata": {},
   "source": [
    "当我们指定随机种子后，由此种子生成的随机数列就不会发生变化了。"
   ]
  },
  {
   "cell_type": "markdown",
   "id": "422f5df8",
   "metadata": {},
   "source": [
    "常用的伪随机数生成算法包括：线性同余法、平方取中法、M-序列、进位乘数法、梅森旋转算法、伪乱数二进制数列等。我们简单介绍一下线性同余法，它是C/C++的内置伪随机数生成算法。"
   ]
  },
  {
   "cell_type": "markdown",
   "id": "319a7fea",
   "metadata": {},
   "source": [
    "$$\n",
    "X_{n+1} = (aX_n + c)(\\mod m)\\\\\n",
    "m > 0, 0<a<m, 0<=x_0<=m\n",
    "$$"
   ]
  },
  {
   "cell_type": "markdown",
   "id": "c32f78cd",
   "metadata": {},
   "source": [
    "m是模数，a是乘法因子，c是增量，x0是初始值（种子）。\n",
    "\n",
    "m a c一般不用自己想，已经有大量研究找到了各种最优值。详见：[维基百科](https://en.wikipedia.org/wiki/Linear_congruential_generator)。比如我们采用其中一组：m=2^16+1 a=75 c=74。"
   ]
  },
  {
   "cell_type": "code",
   "execution_count": 909,
   "id": "48a57283",
   "metadata": {},
   "outputs": [],
   "source": [
    "def lcg(n=1, seed=42):\n",
    "    for i in range(n):\n",
    "        seed =  (75*seed + 74) % (2**16 + 1)\n",
    "        yield seed"
   ]
  },
  {
   "cell_type": "code",
   "execution_count": 910,
   "id": "02aed07e",
   "metadata": {
    "scrolled": true
   },
   "outputs": [
    {
     "data": {
      "text/plain": [
       "[3224, 45263, 52412, 64291, 37698]"
      ]
     },
     "execution_count": 910,
     "metadata": {},
     "output_type": "execute_result"
    }
   ],
   "source": [
    "list(lcg(5))"
   ]
  },
  {
   "cell_type": "markdown",
   "id": "ec286b68",
   "metadata": {},
   "source": [
    "要获取小数，可以使用获取的整数除以产生的最大值，就将随机数映射到0-1区间了。"
   ]
  },
  {
   "cell_type": "markdown",
   "id": "dabac966",
   "metadata": {},
   "source": [
    "NumPy目前最新的版本采用PCG-64（置换同余生成器）伪随机数生成算法。推荐使用`Generator`是随机数生成器推荐的构造函数，而不是使用`RandomState`。\n",
    "\n",
    "\n",
    "注意：新的版本推荐使用先生成`Generator`，在此基础上进行采样。这也是我们一直以来使用的方式。\n",
    "\n",
    "不过，有时候一些老代码还是在使用旧的方式，关于旧的接口，可以参阅：\n",
    "\n",
    "- [Legacy Random Generation — NumPy v1.24.dev0 Manual](https://numpy.org/devdocs/reference/random/legacy.html)\n",
    "- [What’s New or Different — NumPy v1.24.dev0 Manual](https://numpy.org/devdocs/reference/random/new-or-different.html)"
   ]
  },
  {
   "cell_type": "markdown",
   "id": "f2aded6b",
   "metadata": {},
   "source": [
    "### Generator\n",
    "\n",
    "NumPy的随机数生成使用一个`BitGenerator`生成序列，然后使用一个`Generator`将随机序列转换为特定的概率分布。\n",
    "\n",
    "`Generator`生成的随机值源自`BitGenerator`。但`BitGenerators`不直接提供随机数，仅包含用于seed、获取或设置状态、跳转或推进状态以及访问低级包装器以供可以有效访问所提供功能的代码使用的方法。\n",
    "\n",
    "\n",
    "支持的BitGenerator：\n",
    "\n",
    "- PCG64\n",
    "- PCG64DXSM\n",
    "- MT19937\n",
    "- Philox\n",
    "- SFC64\n",
    "\n",
    "以下以PCG64为例说明。"
   ]
  },
  {
   "cell_type": "code",
   "execution_count": 412,
   "id": "7b78b50b",
   "metadata": {},
   "outputs": [],
   "source": [
    "# 指定种子\n",
    "bg = np.random.PCG64(seed=42)"
   ]
  },
  {
   "cell_type": "code",
   "execution_count": 428,
   "id": "791d1065",
   "metadata": {},
   "outputs": [
    {
     "data": {
      "text/plain": [
       "SeedSequence(\n",
       "    entropy=125958451863476122535671492956036760397,\n",
       ")"
      ]
     },
     "execution_count": 428,
     "metadata": {},
     "output_type": "execute_result"
    }
   ],
   "source": [
    "# 使用操作系统的熵作为种子\n",
    "ss = np.random.SeedSequence()\n",
    "ss"
   ]
  },
  {
   "cell_type": "code",
   "execution_count": 279,
   "id": "475f8b5a",
   "metadata": {},
   "outputs": [],
   "source": [
    "bgr = np.random.PCG64(ss.entropy)"
   ]
  },
  {
   "cell_type": "markdown",
   "id": "b0e73507",
   "metadata": {},
   "source": [
    "操作系统收集的熵使用128位整数，是默认的种子。一般不建议将32位以下的小种子用于一般用途，小种子实例化大状态空间意味着有些初始状态是不可达的。"
   ]
  },
  {
   "cell_type": "markdown",
   "id": "14412121",
   "metadata": {},
   "source": [
    "使用Generator："
   ]
  },
  {
   "cell_type": "code",
   "execution_count": 342,
   "id": "025a5ce8",
   "metadata": {},
   "outputs": [
    {
     "data": {
      "text/plain": [
       "<numpy.random._pcg64.PCG64 at 0x117298720>"
      ]
     },
     "execution_count": 342,
     "metadata": {},
     "output_type": "execute_result"
    }
   ],
   "source": [
    "pcg = np.random.PCG64()\n",
    "pcg"
   ]
  },
  {
   "cell_type": "code",
   "execution_count": 343,
   "id": "1bead6a7",
   "metadata": {},
   "outputs": [
    {
     "data": {
      "text/plain": [
       "Generator(PCG64) at 0x1172B33C0"
      ]
     },
     "execution_count": 343,
     "metadata": {},
     "output_type": "execute_result"
    }
   ],
   "source": [
    "rng = np.random.Generator(pcg)\n",
    "rng"
   ]
  },
  {
   "cell_type": "code",
   "execution_count": 344,
   "id": "a921183a",
   "metadata": {},
   "outputs": [
    {
     "data": {
      "text/plain": [
       "-1.5260230207039922"
      ]
     },
     "execution_count": 344,
     "metadata": {},
     "output_type": "execute_result"
    }
   ],
   "source": [
    "rng.standard_normal()"
   ]
  },
  {
   "cell_type": "code",
   "execution_count": 346,
   "id": "8dd1c7ea",
   "metadata": {},
   "outputs": [
    {
     "data": {
      "text/plain": [
       "True"
      ]
     },
     "execution_count": 346,
     "metadata": {},
     "output_type": "execute_result"
    }
   ],
   "source": [
    "rng.bit_generator is pcg"
   ]
  },
  {
   "cell_type": "markdown",
   "id": "1f785ebb",
   "metadata": {},
   "source": [
    "### 并行\n",
    "\n",
    "NumPy实现了三种策略，可用于跨多个进程（本地或分布式）生成可重复的伪随机数。"
   ]
  },
  {
   "cell_type": "markdown",
   "id": "129313d6",
   "metadata": {},
   "source": [
    "首先是SeedSequence spawning，SeedSequence实现了一种算法来处理用户提供的种子，通常作为某种大小的整数，并将其转换为BitGenerator的初始状态。它使用散列技术来确保将低质量的种子变成高质量的初始状态（至少，以非常高的概率）。"
   ]
  },
  {
   "cell_type": "code",
   "execution_count": 455,
   "id": "0cc8a2fc",
   "metadata": {},
   "outputs": [],
   "source": [
    "ss = np.random.SeedSequence(42)"
   ]
  },
  {
   "cell_type": "code",
   "execution_count": 456,
   "id": "c6ef3952",
   "metadata": {},
   "outputs": [],
   "source": [
    "child_seeds = ss.spawn(10)"
   ]
  },
  {
   "cell_type": "code",
   "execution_count": 459,
   "id": "c38d2e3f",
   "metadata": {},
   "outputs": [
    {
     "data": {
      "text/plain": [
       "[<numpy.random._pcg64.PCG64 at 0x1199777d0>,\n",
       " <numpy.random._pcg64.PCG64 at 0x1173d9bf0>,\n",
       " <numpy.random._pcg64.PCG64 at 0x1173d9f60>,\n",
       " <numpy.random._pcg64.PCG64 at 0x1173d9040>,\n",
       " <numpy.random._pcg64.PCG64 at 0x119b7cf60>,\n",
       " <numpy.random._pcg64.PCG64 at 0x119b7c930>,\n",
       " <numpy.random._pcg64.PCG64 at 0x119b7cb40>,\n",
       " <numpy.random._pcg64.PCG64 at 0x119b7cbf0>,\n",
       " <numpy.random._pcg64.PCG64 at 0x119b7ce00>,\n",
       " <numpy.random._pcg64.PCG64 at 0x119b7ceb0>]"
      ]
     },
     "execution_count": 459,
     "metadata": {},
     "output_type": "execute_result"
    }
   ],
   "source": [
    "bgs = [np.random.PCG64(s) for s in child_seeds]\n",
    "bgs"
   ]
  },
  {
   "cell_type": "code",
   "execution_count": 462,
   "id": "aaec11e6",
   "metadata": {},
   "outputs": [],
   "source": [
    "streams = [np.random.Generator(bg) for bg in bgs]"
   ]
  },
  {
   "cell_type": "code",
   "execution_count": 463,
   "id": "14c707c5",
   "metadata": {},
   "outputs": [
    {
     "data": {
      "text/plain": [
       "[Generator(PCG64) at 0x119BC69E0,\n",
       " Generator(PCG64) at 0x119BC6AC0,\n",
       " Generator(PCG64) at 0x119BC6BA0,\n",
       " Generator(PCG64) at 0x119BC6C80,\n",
       " Generator(PCG64) at 0x119BC6D60,\n",
       " Generator(PCG64) at 0x119BC6E40,\n",
       " Generator(PCG64) at 0x119BC6F20,\n",
       " Generator(PCG64) at 0x119B4E040,\n",
       " Generator(PCG64) at 0x119B4E120,\n",
       " Generator(PCG64) at 0x119B4E200]"
      ]
     },
     "execution_count": 463,
     "metadata": {},
     "output_type": "execute_result"
    }
   ],
   "source": [
    "streams"
   ]
  },
  {
   "cell_type": "markdown",
   "id": "3783d001",
   "metadata": {},
   "source": [
    "子SeedSequence还可以继续生成孙子对象："
   ]
  },
  {
   "cell_type": "code",
   "execution_count": 384,
   "id": "953b754c",
   "metadata": {},
   "outputs": [],
   "source": [
    "# default_rng = Generator(BitGenerator)\n",
    "grandchildren_seeds = child_seeds[0].spawn(4)\n",
    "grand_streams = [\n",
    "    np.random.default_rng(s) for s in grandchildren_seeds]"
   ]
  },
  {
   "cell_type": "code",
   "execution_count": 385,
   "id": "a4715b15",
   "metadata": {},
   "outputs": [
    {
     "data": {
      "text/plain": [
       "[Generator(PCG64) at 0x117376F20,\n",
       " Generator(PCG64) at 0x1173BAC80,\n",
       " Generator(PCG64) at 0x1173BA580,\n",
       " Generator(PCG64) at 0x1173BA900]"
      ]
     },
     "execution_count": 385,
     "metadata": {},
     "output_type": "execute_result"
    }
   ],
   "source": [
    "grand_streams"
   ]
  },
  {
   "cell_type": "markdown",
   "id": "de68f7ad",
   "metadata": {},
   "source": [
    "然后是`Philox`，一种基于计数器的RNG（Random Number Generator），它通过使用弱密码原语加密递增计数器来生成值。\n",
    "\n",
    "种子确定用于加密的密钥，唯一键创建唯一、独立的流。`Philox`可以绕过种子直接设置128位密钥。类似但不同的密钥仍将创建独立的流。\n",
    "\n",
    "注意，`Philox`的key和seed是两个不同的东西。"
   ]
  },
  {
   "cell_type": "code",
   "execution_count": 448,
   "id": "93c9e905",
   "metadata": {},
   "outputs": [],
   "source": [
    "import secrets"
   ]
  },
  {
   "cell_type": "code",
   "execution_count": 449,
   "id": "b0e389ff",
   "metadata": {},
   "outputs": [],
   "source": [
    "root_seed = secrets.randbits(128)"
   ]
  },
  {
   "cell_type": "code",
   "execution_count": 464,
   "id": "dd57aa1b",
   "metadata": {},
   "outputs": [],
   "source": [
    "bgs = [\n",
    "    np.random.Philox(key=root_seed + stream_id) \n",
    "    for stream_id in range(10)\n",
    "]"
   ]
  },
  {
   "cell_type": "code",
   "execution_count": 465,
   "id": "f5c9b060",
   "metadata": {},
   "outputs": [
    {
     "data": {
      "text/plain": [
       "[<numpy.random._philox.Philox at 0x1173e4040>,\n",
       " <numpy.random._philox.Philox at 0x1173e4130>,\n",
       " <numpy.random._philox.Philox at 0x1173e4220>,\n",
       " <numpy.random._philox.Philox at 0x1173e4310>,\n",
       " <numpy.random._philox.Philox at 0x1173e4400>,\n",
       " <numpy.random._philox.Philox at 0x1173e44f0>,\n",
       " <numpy.random._philox.Philox at 0x1173e45e0>,\n",
       " <numpy.random._philox.Philox at 0x1173e46d0>,\n",
       " <numpy.random._philox.Philox at 0x1173e47c0>,\n",
       " <numpy.random._philox.Philox at 0x1173e48b0>]"
      ]
     },
     "execution_count": 465,
     "metadata": {},
     "output_type": "execute_result"
    }
   ],
   "source": [
    "bgs"
   ]
  },
  {
   "cell_type": "markdown",
   "id": "b615ec1b",
   "metadata": {},
   "source": [
    "最后一种是使用jump，jump推进`BitGenerator`的状态，好像抽取了大量随机数一样，并返回具有此状态的新实例。\n",
    "\n",
    "\n",
    "|BitGenerator|周期|jump大小|位数/每次抽取|\n",
    "|-------------|----|------|-----------|\n",
    "|PCG64|2^128|2^127|64|\n",
    "|PCG64DXSM|2^128|2^127|64|\n",
    "|MT19937|2^19937-1|2^128|32|\n",
    "|Philox|2^256|2^128|64|\n",
    "\n",
    "PCG64和PCG64DXSM的jump大小实际为：`(黄金比例-1)*2^128`"
   ]
  },
  {
   "cell_type": "markdown",
   "id": "f58e7453",
   "metadata": {},
   "source": [
    "接下来看一下具体例子："
   ]
  },
  {
   "cell_type": "code",
   "execution_count": 546,
   "id": "b77b3239",
   "metadata": {},
   "outputs": [],
   "source": [
    "bg = np.random.PCG64(42)"
   ]
  },
  {
   "cell_type": "code",
   "execution_count": 528,
   "id": "227d669a",
   "metadata": {},
   "outputs": [],
   "source": [
    "bgs = [bg.jumped(i) for i in range(10)]"
   ]
  },
  {
   "cell_type": "code",
   "execution_count": 529,
   "id": "5c51b03e",
   "metadata": {},
   "outputs": [
    {
     "data": {
      "text/plain": [
       "[<numpy.random._pcg64.PCG64 at 0x1199f2250>,\n",
       " <numpy.random._pcg64.PCG64 at 0x117209e00>,\n",
       " <numpy.random._pcg64.PCG64 at 0x1172db720>,\n",
       " <numpy.random._pcg64.PCG64 at 0x1173e2eb0>,\n",
       " <numpy.random._pcg64.PCG64 at 0x1173e2930>,\n",
       " <numpy.random._pcg64.PCG64 at 0x1173e21a0>,\n",
       " <numpy.random._pcg64.PCG64 at 0x1173e2ca0>,\n",
       " <numpy.random._pcg64.PCG64 at 0x1173e2040>,\n",
       " <numpy.random._pcg64.PCG64 at 0x1173e2a90>,\n",
       " <numpy.random._pcg64.PCG64 at 0x1173e23b0>]"
      ]
     },
     "execution_count": 529,
     "metadata": {},
     "output_type": "execute_result"
    }
   ],
   "source": [
    "bgs"
   ]
  },
  {
   "cell_type": "code",
   "execution_count": 773,
   "id": "86d1911d",
   "metadata": {},
   "outputs": [
    {
     "data": {
      "text/plain": [
       "{'bit_generator': 'PCG64',\n",
       " 'state': {'state': 274674114334540486603088602300644985544,\n",
       "  'inc': 332724090758049132448979897138935081983},\n",
       " 'has_uint32': 0,\n",
       " 'uinteger': 0}"
      ]
     },
     "execution_count": 773,
     "metadata": {},
     "output_type": "execute_result"
    }
   ],
   "source": [
    "bg = np.random.PCG64(42)\n",
    "bg.state"
   ]
  },
  {
   "cell_type": "code",
   "execution_count": 774,
   "id": "1979480d",
   "metadata": {},
   "outputs": [
    {
     "data": {
      "text/plain": [
       "{'bit_generator': 'PCG64',\n",
       " 'state': {'state': 274674114334540486603088602300644985544,\n",
       "  'inc': 332724090758049132448979897138935081983},\n",
       " 'has_uint32': 0,\n",
       " 'uinteger': 0}"
      ]
     },
     "execution_count": 774,
     "metadata": {},
     "output_type": "execute_result"
    }
   ],
   "source": [
    "# 一个周期\n",
    "bg.advance(2**128).state"
   ]
  },
  {
   "cell_type": "code",
   "execution_count": 775,
   "id": "cc443e12",
   "metadata": {},
   "outputs": [
    {
     "data": {
      "text/plain": [
       "{'bit_generator': 'PCG64',\n",
       " 'state': {'state': 246721301968239085263295379140720340427,\n",
       "  'inc': 332724090758049132448979897138935081983},\n",
       " 'has_uint32': 0,\n",
       " 'uinteger': 0}"
      ]
     },
     "execution_count": 775,
     "metadata": {},
     "output_type": "execute_result"
    }
   ],
   "source": [
    "# 前进一步\n",
    "bg.jumped(1).state"
   ]
  },
  {
   "cell_type": "code",
   "execution_count": 776,
   "id": "a9518aed",
   "metadata": {},
   "outputs": [
    {
     "data": {
      "text/plain": [
       "{'bit_generator': 'PCG64',\n",
       " 'state': {'state': 246721301968239085263295379140720340427,\n",
       "  'inc': 332724090758049132448979897138935081983},\n",
       " 'has_uint32': 0,\n",
       " 'uinteger': 0}"
      ]
     },
     "execution_count": 776,
     "metadata": {},
     "output_type": "execute_result"
    }
   ],
   "source": [
    "# 等于前进jump size的步数\n",
    "bg.advance(210306068529402873165736369884012333109).state"
   ]
  },
  {
   "cell_type": "markdown",
   "id": "f1a74b9a",
   "metadata": {},
   "source": [
    "另外需要说明的是，`PCG64 BitGenerator`在大规模并行环境中的使用已被证明具有统计弱点，NumPy引入了一个新的`PCG64DXSM BitGenerator`，它最终将成为`default_rng`在未来版本中使用的新的默认`BitGenerator`实现。`PCG64DXSM`解决了统计上的弱点，同时保留了`PCG64`的性能和特性。\n",
    "\n",
    "如果你：\n",
    "\n",
    "- 只使用一个`Generator`实例\n",
    "- 仅使用`RandomState`或`numpy.random`中的函数\n",
    "- 仅使用`PCG64.jumped`方法生成并行流\n",
    "- 明确使用`PCG64`以外的`BitGenerator`\n",
    "\n",
    "则这个弱点并无影响。"
   ]
  },
  {
   "cell_type": "markdown",
   "id": "4bb13fa7",
   "metadata": {},
   "source": [
    "### 多线程"
   ]
  },
  {
   "cell_type": "code",
   "execution_count": 930,
   "id": "cb0161c0",
   "metadata": {},
   "outputs": [],
   "source": [
    "from numpy.random import default_rng, SeedSequence\n",
    "import multiprocessing\n",
    "import concurrent.futures\n",
    "\n",
    "\"\"\"\n",
    "代码来自：https://numpy.org/devdocs/reference/random/multithreading.html\n",
    "\"\"\"\n",
    "\n",
    "class MultithreadedRNG:\n",
    "    def __init__(self, n, seed=None, threads=None):\n",
    "        if threads is None:\n",
    "            threads = multiprocessing.cpu_count()\n",
    "        # 线程数量\n",
    "        self.threads = threads\n",
    "\n",
    "        seq = SeedSequence(seed)\n",
    "        # 使用spawn生成threads个Generator\n",
    "        self._random_generators = [default_rng(s)\n",
    "                                   for s in seq.spawn(threads)]\n",
    "\n",
    "        self.n = n\n",
    "        # 生成对应的线程executor\n",
    "        self.executor = concurrent.futures.ThreadPoolExecutor(threads)\n",
    "        # 存储value\n",
    "        self.values = np.zeros(n)\n",
    "        \n",
    "        self.step = np.ceil(n / threads).astype(np.int_)\n",
    "\n",
    "    def fill(self):\n",
    "        # 填充随机值\n",
    "        # random, standard_normal, standard_exponential, standard_gamma支持\n",
    "        def _fill(random_state, out, first, last):\n",
    "            # 每次生成threads个随机数\n",
    "#             print(f\"first: {first}, last: {last}\\n\")\n",
    "            random_state.standard_normal(out=out[first:last])\n",
    "\n",
    "        futures = {}\n",
    "        for i in range(self.threads):\n",
    "            args = (_fill,\n",
    "                    self._random_generators[i],\n",
    "                    self.values,\n",
    "                    i * self.step,\n",
    "                    (i + 1) * self.step)\n",
    "            futures[self.executor.submit(*args)] = i\n",
    "        concurrent.futures.wait(futures)\n",
    "\n",
    "    def __del__(self):\n",
    "        self.executor.shutdown(False)"
   ]
  },
  {
   "cell_type": "code",
   "execution_count": 941,
   "id": "baabaf55",
   "metadata": {},
   "outputs": [
    {
     "data": {
      "text/plain": [
       "array([0., 0., 0., ..., 0., 0., 0.])"
      ]
     },
     "execution_count": 941,
     "metadata": {},
     "output_type": "execute_result"
    }
   ],
   "source": [
    "N = 10000000\n",
    "seed = 42\n",
    "mrng = MultithreadedRNG(N, seed=42)\n",
    "mrng.values"
   ]
  },
  {
   "cell_type": "code",
   "execution_count": 942,
   "id": "8b2e68b5",
   "metadata": {},
   "outputs": [],
   "source": [
    "mrng.fill()"
   ]
  },
  {
   "cell_type": "code",
   "execution_count": 943,
   "id": "6b5a4a55",
   "metadata": {},
   "outputs": [
    {
     "data": {
      "text/plain": [
       "array([ 0.41832997,  0.60557617,  0.02878786, -1.084246  ,  1.46422098,\n",
       "        0.29072736, -1.33075642, -0.03472346,  0.28041847,  0.10749307])"
      ]
     },
     "execution_count": 943,
     "metadata": {},
     "output_type": "execute_result"
    }
   ],
   "source": [
    "mrng.values[:10]"
   ]
  },
  {
   "cell_type": "code",
   "execution_count": 944,
   "id": "1a74a02f",
   "metadata": {},
   "outputs": [
    {
     "name": "stdout",
     "output_type": "stream",
     "text": [
      "61.5 ms ± 15.3 ms per loop (mean ± std. dev. of 7 runs, 10 loops each)\n"
     ]
    }
   ],
   "source": [
    "%timeit mrng.fill()"
   ]
  },
  {
   "cell_type": "code",
   "execution_count": 945,
   "id": "d68fbf1d",
   "metadata": {},
   "outputs": [
    {
     "name": "stdout",
     "output_type": "stream",
     "text": [
      "117 ms ± 8.35 ms per loop (mean ± std. dev. of 7 runs, 1 loop each)\n"
     ]
    }
   ],
   "source": [
    "values = np.zeros(N)\n",
    "rg = np.random.default_rng()\n",
    "%timeit rg.standard_normal(out=values)"
   ]
  },
  {
   "cell_type": "markdown",
   "id": "b0a93d5e",
   "metadata": {},
   "source": [
    "数组创建也有开销："
   ]
  },
  {
   "cell_type": "code",
   "execution_count": 946,
   "id": "dbefa69d",
   "metadata": {},
   "outputs": [
    {
     "name": "stdout",
     "output_type": "stream",
     "text": [
      "126 ms ± 7.04 ms per loop (mean ± std. dev. of 7 runs, 1 loop each)\n"
     ]
    }
   ],
   "source": [
    "rg = default_rng()\n",
    "%timeit rg.standard_normal(N)"
   ]
  },
  {
   "cell_type": "markdown",
   "id": "be9af57f",
   "metadata": {},
   "source": [
    "### 性能\n",
    "\n",
    "关于不同的`Generator`，官方给出了参考建议，如下：\n",
    "\n",
    "- 推荐`PCG64`或它的升级变种`PCG64DXSM`，用于高度并行的用例。在大多数平台上具有统计上的高质量、全功能和快速，但在为32位进程编译时会有些慢。\n",
    "- `Philox`比较慢，但它的统计属性质量非常高，使用唯一的key很容易得到一个可靠独立的流。如果希望希望这样并行可以选择它。\n",
    "- `SFC64`具有统计上的高质量且非常快。但是它不能jump，如果不需要该功能并希望获得高速度（32位进程也是这样）可以选择它。\n",
    "- `MT19937`未能通过一些统计测试，而且与现代PRNG相比并不是特别快。大多数时候不建议单独使用，目前主要用在旧的`RandomState`版本里。"
   ]
  },
  {
   "cell_type": "markdown",
   "id": "67e07622",
   "metadata": {},
   "source": [
    "下面的对比是以ns为单位从特定分布产生一个随机数的时间。\n",
    "\n",
    "\n",
    "|  |RandomState|MT19937|PCG64|PCG64DXSM|Philox|SFC64|\n",
    "|---|----------|-------|-----|---------|------|-----|\n",
    "|32-bit Unsigned Ints|3.1|3.3|1.9|2.0|3.3|**1.8**|\n",
    "|64-bit Unsigned Ints|5.5|5.6|3.2|2.9|4.9|**2.5**|\n",
    "|Uniforms            |6.0|5.9|3.1|2.9|5.0|**2.6**|\n",
    "|Normals             |56.8|13.9|10.8|10.5|12.0|**8.3**|\n",
    "|Exponenitials       |63.9|9.1|6.0|5.8|8.1|**5.4**|\n",
    "\n",
    "\n",
    "更多对比可参阅：[Performance — NumPy v1.24.dev0 Manual](https://numpy.org/devdocs/reference/random/performance.html)"
   ]
  },
  {
   "cell_type": "markdown",
   "id": "0435d6bd",
   "metadata": {},
   "source": [
    "### 整数随机序列"
   ]
  },
  {
   "cell_type": "code",
   "execution_count": 958,
   "id": "ad9a194f",
   "metadata": {},
   "outputs": [
    {
     "data": {
      "text/plain": [
       "array([[1, 7, 6],\n",
       "       [4, 4, 8]])"
      ]
     },
     "execution_count": 958,
     "metadata": {},
     "output_type": "execute_result"
    }
   ],
   "source": [
    "rng = np.random.default_rng(42)\n",
    "\n",
    "rng.integers(1, 10, (2,3))"
   ]
  },
  {
   "cell_type": "markdown",
   "id": "6454551f",
   "metadata": {},
   "source": [
    "`integers`的API很直观：\n",
    "\n",
    "- low：下界\n",
    "- high：上界\n",
    "- size：shape\n",
    "- dtype：数据类型\n",
    "- endpoint：默认False，不包含上界"
   ]
  },
  {
   "cell_type": "code",
   "execution_count": 963,
   "id": "df99291c",
   "metadata": {},
   "outputs": [
    {
     "data": {
      "text/plain": [
       "(array([1, 0, 1]), array([1, 0, 2]))"
      ]
     },
     "execution_count": 963,
     "metadata": {},
     "output_type": "execute_result"
    }
   ],
   "source": [
    "rng.integers(0, 2, 3), rng.integers(0, 2, 3, endpoint=True)"
   ]
  },
  {
   "cell_type": "markdown",
   "id": "f0c9b89a",
   "metadata": {},
   "source": [
    "当然，low和high都可以是数组，表示多个上下界："
   ]
  },
  {
   "cell_type": "code",
   "execution_count": 969,
   "id": "31203beb",
   "metadata": {},
   "outputs": [
    {
     "data": {
      "text/plain": [
       "array([[1, 3, 7],\n",
       "       [0, 1, 4]])"
      ]
     },
     "execution_count": 969,
     "metadata": {},
     "output_type": "execute_result"
    }
   ],
   "source": [
    "rng.integers(0, [2,5,10], size=(2,3))"
   ]
  },
  {
   "cell_type": "code",
   "execution_count": 983,
   "id": "68ed6330",
   "metadata": {},
   "outputs": [
    {
     "data": {
      "text/plain": [
       "array([[ 2,  7, 16],\n",
       "       [ 3,  7, 18]])"
      ]
     },
     "execution_count": 983,
     "metadata": {},
     "output_type": "execute_result"
    }
   ],
   "source": [
    "rng.integers([2, 5, 10], [4, 10, 20], size=(2,3))"
   ]
  },
  {
   "cell_type": "code",
   "execution_count": 984,
   "id": "5e787106",
   "metadata": {},
   "outputs": [
    {
     "data": {
      "text/plain": [
       "array([[ 5,  2, 15],\n",
       "       [ 6,  8, 13]])"
      ]
     },
     "execution_count": 984,
     "metadata": {},
     "output_type": "execute_result"
    }
   ],
   "source": [
    "# 第一行 2 ==> 8 10 20\n",
    "# 第二行 5 ==> 8 10 20\n",
    "rng.integers([[2],[5]], [8, 10, 20])"
   ]
  },
  {
   "cell_type": "markdown",
   "id": "c8b1625e",
   "metadata": {},
   "source": [
    "### 均匀随机序列"
   ]
  },
  {
   "cell_type": "markdown",
   "id": "73b734a2",
   "metadata": {},
   "source": [
    "`random`用于生成0-1（左闭右开）随机数。"
   ]
  },
  {
   "cell_type": "code",
   "execution_count": 231,
   "id": "f4a4fea2",
   "metadata": {},
   "outputs": [
    {
     "data": {
      "text/plain": [
       "array([[0.77395605, 0.43887844, 0.85859792],\n",
       "       [0.69736803, 0.09417735, 0.97562235]])"
      ]
     },
     "execution_count": 231,
     "metadata": {},
     "output_type": "execute_result"
    }
   ],
   "source": [
    "rng = np.random.default_rng(42)\n",
    "rng.random((2, 3))"
   ]
  },
  {
   "cell_type": "code",
   "execution_count": 232,
   "id": "d71cd125",
   "metadata": {},
   "outputs": [
    {
     "data": {
      "text/plain": [
       "array([[0.77395605, 0.43887844, 0.85859792],\n",
       "       [0.69736803, 0.09417735, 0.97562235]])"
      ]
     },
     "execution_count": 232,
     "metadata": {},
     "output_type": "execute_result"
    }
   ],
   "source": [
    "rng = np.random.default_rng(42)\n",
    "rng.uniform(0, 1, (2,3))"
   ]
  },
  {
   "cell_type": "markdown",
   "id": "60977498",
   "metadata": {},
   "source": [
    "### 随机采样\n",
    "\n",
    "`choice`用于从给定序列中随机采样。《从小白到入门》中有介绍，不再赘述。"
   ]
  },
  {
   "cell_type": "markdown",
   "id": "e9e97530",
   "metadata": {},
   "source": [
    "## 随机排列"
   ]
  },
  {
   "cell_type": "markdown",
   "id": "3e5de5a0",
   "metadata": {},
   "source": [
    "首先是`shuffle`接口，用于shuffle给定的数组。它接受一个数组（任意维度），还可以指定shuffle的维度（第几维）。\n",
    "\n",
    "📢注意，`shuffle`是`in-place`的。"
   ]
  },
  {
   "cell_type": "code",
   "execution_count": 38,
   "id": "5ac1ca95",
   "metadata": {},
   "outputs": [
    {
     "data": {
      "text/plain": [
       "array([[ 9, 77, 65, 44],\n",
       "       [43, 86,  9, 70],\n",
       "       [20, 10, 53, 97],\n",
       "       [73, 76, 72, 78],\n",
       "       [51, 13, 84, 45]])"
      ]
     },
     "execution_count": 38,
     "metadata": {},
     "output_type": "execute_result"
    }
   ],
   "source": [
    "rng = np.random.default_rng(42)\n",
    "a = rng.integers(1, 100, (5, 4))\n",
    "a"
   ]
  },
  {
   "cell_type": "code",
   "execution_count": 39,
   "id": "48f9ad05",
   "metadata": {},
   "outputs": [
    {
     "data": {
      "text/plain": [
       "array([[51, 13, 84, 45],\n",
       "       [ 9, 77, 65, 44],\n",
       "       [20, 10, 53, 97],\n",
       "       [73, 76, 72, 78],\n",
       "       [43, 86,  9, 70]])"
      ]
     },
     "execution_count": 39,
     "metadata": {},
     "output_type": "execute_result"
    }
   ],
   "source": [
    "rng.shuffle(a)\n",
    "a"
   ]
  },
  {
   "cell_type": "code",
   "execution_count": 57,
   "id": "8999bd09",
   "metadata": {},
   "outputs": [
    {
     "data": {
      "text/plain": [
       "array([[ 9, 77, 65, 44],\n",
       "       [43, 86,  9, 70],\n",
       "       [20, 10, 53, 97],\n",
       "       [73, 76, 72, 78],\n",
       "       [51, 13, 84, 45]])"
      ]
     },
     "execution_count": 57,
     "metadata": {},
     "output_type": "execute_result"
    }
   ],
   "source": [
    "rng = np.random.default_rng(42)\n",
    "a = rng.integers(1, 100, (5, 4))\n",
    "a"
   ]
  },
  {
   "cell_type": "markdown",
   "id": "8b877402",
   "metadata": {},
   "source": [
    "注意，`shuffle`指定维度时，是按块重排的。"
   ]
  },
  {
   "cell_type": "code",
   "execution_count": 58,
   "id": "a8fe552c",
   "metadata": {},
   "outputs": [
    {
     "data": {
      "text/plain": [
       "array([[44,  9, 65, 77],\n",
       "       [70, 43,  9, 86],\n",
       "       [97, 20, 53, 10],\n",
       "       [78, 73, 72, 76],\n",
       "       [45, 51, 84, 13]])"
      ]
     },
     "execution_count": 58,
     "metadata": {},
     "output_type": "execute_result"
    }
   ],
   "source": [
    "# 每一行顺序会变，但总的元素不变，而且，每一列也不变\n",
    "# 也就是以列/行（通过axis控制）为单位在重排\n",
    "rng.shuffle(a, axis=1)\n",
    "a"
   ]
  },
  {
   "cell_type": "markdown",
   "id": "cd1efdd4",
   "metadata": {},
   "source": [
    "`permutation`随机排列序列，参数：\n",
    "\n",
    "- 数组或整数，数组时会返回copy，整数时生成`arange`的随机。\n",
    "- 维度"
   ]
  },
  {
   "cell_type": "code",
   "execution_count": 59,
   "id": "7e581d01",
   "metadata": {},
   "outputs": [
    {
     "data": {
      "text/plain": [
       "array([0, 3, 4, 2, 1])"
      ]
     },
     "execution_count": 59,
     "metadata": {},
     "output_type": "execute_result"
    }
   ],
   "source": [
    "rng.permutation(5)"
   ]
  },
  {
   "cell_type": "code",
   "execution_count": 60,
   "id": "89d79250",
   "metadata": {},
   "outputs": [
    {
     "data": {
      "text/plain": [
       "array([[ 9, 77, 65, 44],\n",
       "       [43, 86,  9, 70],\n",
       "       [20, 10, 53, 97],\n",
       "       [73, 76, 72, 78],\n",
       "       [51, 13, 84, 45]])"
      ]
     },
     "execution_count": 60,
     "metadata": {},
     "output_type": "execute_result"
    }
   ],
   "source": [
    "rng = np.random.default_rng(42)\n",
    "a = rng.integers(1, 100, (5, 4))\n",
    "a"
   ]
  },
  {
   "cell_type": "code",
   "execution_count": 65,
   "id": "f492e90a",
   "metadata": {},
   "outputs": [
    {
     "data": {
      "text/plain": [
       "array([[43, 86,  9, 70],\n",
       "       [ 9, 77, 65, 44],\n",
       "       [20, 10, 53, 97],\n",
       "       [51, 13, 84, 45],\n",
       "       [73, 76, 72, 78]])"
      ]
     },
     "execution_count": 65,
     "metadata": {},
     "output_type": "execute_result"
    }
   ],
   "source": [
    "b = rng.permutation(a)\n",
    "b"
   ]
  },
  {
   "cell_type": "markdown",
   "id": "a5337e93",
   "metadata": {},
   "source": [
    "它的axis和`shuffle`的一样，也是按一行或一列为单位进行重排。"
   ]
  },
  {
   "cell_type": "code",
   "execution_count": 66,
   "id": "5610bf2f",
   "metadata": {},
   "outputs": [
    {
     "data": {
      "text/plain": [
       "array([[73, 76, 72, 78],\n",
       "       [20, 10, 53, 97],\n",
       "       [43, 86,  9, 70],\n",
       "       [ 9, 77, 65, 44],\n",
       "       [51, 13, 84, 45]])"
      ]
     },
     "execution_count": 66,
     "metadata": {},
     "output_type": "execute_result"
    }
   ],
   "source": [
    "# 行不变\n",
    "rng.permutation(a, axis=0)"
   ]
  },
  {
   "cell_type": "markdown",
   "id": "170be3f9",
   "metadata": {},
   "source": [
    "`permuted`比`permutation`多了一个`out`参数，这个之前提到过多次。另外，它与前两个的不同是，axis是独立的，不会出现一行或一列整体重排。"
   ]
  },
  {
   "cell_type": "code",
   "execution_count": 67,
   "id": "04e6d84e",
   "metadata": {},
   "outputs": [
    {
     "data": {
      "text/plain": [
       "array([2, 3, 1])"
      ]
     },
     "execution_count": 67,
     "metadata": {},
     "output_type": "execute_result"
    }
   ],
   "source": [
    "rng.permuted([2,3,1])"
   ]
  },
  {
   "cell_type": "code",
   "execution_count": 68,
   "id": "258fefc6",
   "metadata": {},
   "outputs": [
    {
     "data": {
      "text/plain": [
       "array([[ 9, 77, 65, 44],\n",
       "       [43, 86,  9, 70],\n",
       "       [20, 10, 53, 97],\n",
       "       [73, 76, 72, 78],\n",
       "       [51, 13, 84, 45]])"
      ]
     },
     "execution_count": 68,
     "metadata": {},
     "output_type": "execute_result"
    }
   ],
   "source": [
    "a"
   ]
  },
  {
   "cell_type": "code",
   "execution_count": 69,
   "id": "2057b2d1",
   "metadata": {},
   "outputs": [
    {
     "data": {
      "text/plain": [
       "array([[97, 86, 20, 77],\n",
       "       [53, 45, 73,  9],\n",
       "       [13, 44, 65,  9],\n",
       "       [10, 72, 70, 43],\n",
       "       [84, 78, 51, 76]])"
      ]
     },
     "execution_count": 69,
     "metadata": {},
     "output_type": "execute_result"
    }
   ],
   "source": [
    "b = rng.permuted(a)\n",
    "b"
   ]
  },
  {
   "cell_type": "code",
   "execution_count": 70,
   "id": "46e2bccb",
   "metadata": {},
   "outputs": [
    {
     "data": {
      "text/plain": [
       "array([[ 9, 77, 65, 44],\n",
       "       [43, 86,  9, 70],\n",
       "       [20, 10, 53, 97],\n",
       "       [73, 76, 72, 78],\n",
       "       [51, 13, 84, 45]])"
      ]
     },
     "execution_count": 70,
     "metadata": {},
     "output_type": "execute_result"
    }
   ],
   "source": [
    "rng = np.random.default_rng(42)\n",
    "a = rng.integers(1, 100, (5, 4))\n",
    "a"
   ]
  },
  {
   "cell_type": "code",
   "execution_count": 71,
   "id": "7e6541f4",
   "metadata": {},
   "outputs": [
    {
     "data": {
      "text/plain": [
       "array([[44,  9, 65, 77],\n",
       "       [43, 70,  9, 86],\n",
       "       [10, 20, 53, 97],\n",
       "       [73, 76, 78, 72],\n",
       "       [13, 51, 84, 45]])"
      ]
     },
     "execution_count": 71,
     "metadata": {},
     "output_type": "execute_result"
    }
   ],
   "source": [
    "# 行元素不变，但顺序都重排了，由于不是成块变，所以列也变了\n",
    "# 也就是说，每一行都是独立的在重排\n",
    "b = rng.permuted(a, axis=1)\n",
    "b"
   ]
  },
  {
   "cell_type": "markdown",
   "id": "b8a57d6b",
   "metadata": {},
   "source": [
    "上面三个API总结起来如下：\n",
    "\n",
    "|api|copy/in-place|axis|\n",
    "|----|-------|--------|\n",
    "|shuffle|in-place|视为一维|\n",
    "|permutation|copy|视为一维|\n",
    "|permuted|通过out可以变成in-place|维度独立|\n",
    "\n",
    "当然，我们大多数情况下是不需要axis这个参数的，直接shuffle就完事了。"
   ]
  },
  {
   "cell_type": "markdown",
   "id": "729b51de",
   "metadata": {},
   "source": [
    "## 随机分布\n",
    "\n",
    "NumPy的`random`内置了很多分布，我们简单过一下。"
   ]
  },
  {
   "cell_type": "code",
   "execution_count": 2,
   "id": "9db461db",
   "metadata": {},
   "outputs": [],
   "source": [
    "import matplotlib.pyplot as plt"
   ]
  },
  {
   "cell_type": "markdown",
   "id": "bc512665",
   "metadata": {},
   "source": [
    "`uniform`均匀分布，左闭右开的参数low和high，是最简单的连续分布。\n",
    "\n",
    "$$\n",
    "p(x) = \\frac{1}{b - a}\n",
    "$$"
   ]
  },
  {
   "cell_type": "markdown",
   "id": "220544f9",
   "metadata": {},
   "source": [
    "不过最常见/用的应该是正态分布了：\n",
    "\n",
    "`normal`返回高斯分布，参数包括：\n",
    "\n",
    "- loc：均值，默认0.0\n",
    "- scale：标准差，默认1.0\n",
    "- size：默认None（由于这个参数是通用的，下面的介绍将忽略该参数）\n",
    "\n",
    "$$\n",
    "p(x) = \\frac{1}{\\sqrt{ 2 \\pi \\sigma^2 }}\n",
    "                 e^{ - \\frac{ (x - \\mu)^2 } {2 \\sigma^2} }\n",
    "$$"
   ]
  },
  {
   "cell_type": "code",
   "execution_count": 5,
   "id": "cdc27a5c",
   "metadata": {},
   "outputs": [
    {
     "data": {
      "text/plain": [
       "0.30471707975443135"
      ]
     },
     "execution_count": 5,
     "metadata": {},
     "output_type": "execute_result"
    }
   ],
   "source": [
    "# 不给入参时，返回一个标准正太的值\n",
    "rng = np.random.default_rng(42)\n",
    "rng.normal()"
   ]
  },
  {
   "cell_type": "code",
   "execution_count": 82,
   "id": "46f0812b",
   "metadata": {},
   "outputs": [
    {
     "data": {
      "text/plain": [
       "array([[ 0.30471708, -1.03998411,  0.7504512 ],\n",
       "       [ 0.94056472, -1.95103519, -1.30217951]])"
      ]
     },
     "execution_count": 82,
     "metadata": {},
     "output_type": "execute_result"
    }
   ],
   "source": [
    "# 指定size\n",
    "rng = np.random.default_rng(42)\n",
    "rng.normal(size=(2,3))"
   ]
  },
  {
   "cell_type": "markdown",
   "id": "b073ecf5",
   "metadata": {},
   "source": [
    "我们用图像了解一下（其他分布类似，不再重复）："
   ]
  },
  {
   "cell_type": "code",
   "execution_count": 115,
   "id": "e4d363f9",
   "metadata": {},
   "outputs": [],
   "source": [
    "# 指定均值、标准差\n",
    "rng = np.random.default_rng(42)\n",
    "N  = 10000\n",
    "a1 = rng.normal(0.0, 1.0, N)\n",
    "a2 = rng.normal(0.0, 4.0, N)\n",
    "a3 = rng.normal(0.0, 8.0, N)"
   ]
  },
  {
   "cell_type": "code",
   "execution_count": 116,
   "id": "64f6930b",
   "metadata": {},
   "outputs": [
    {
     "data": {
      "image/png": "[encoded data removed]",
      "text/plain": [
       "<Figure size 864x288 with 3 Axes>"
      ]
     },
     "metadata": {
      "needs_background": "light"
     },
     "output_type": "display_data"
    }
   ],
   "source": [
    "fig, axs = plt.subplots(1, 3, figsize=(12, 4), sharex=True, tight_layout=True)\n",
    "n_bins=100\n",
    "axs[0].hist(a1, bins=n_bins);\n",
    "axs[1].hist(a2, bins=n_bins);\n",
    "axs[2].hist(a3, bins=n_bins);\n",
    "# 标准差越大，图像越宽"
   ]
  },
  {
   "cell_type": "markdown",
   "id": "6f2cc223",
   "metadata": {},
   "source": [
    "`standard_normal`标准正态分布（就是`normal`默认均值和标准差的情况），除了size，还多了dtype和out，这些参数的含义不再赘述。"
   ]
  },
  {
   "cell_type": "markdown",
   "id": "18c76ab0",
   "metadata": {},
   "source": [
    "`multivarite_normal`多变量正态分布将一维正态分布推广到高维。参数包括：\n",
    "\n",
    "- mean：N维分布的均值，是N维空间中的坐标，表示最有可能生成的样本位置\n",
    "- cov：分布的协方差矩阵，必须是对称且半正定的，表示两个变量一起变化的水平\n",
    "- size：如果为None，则生成N个，否则生成`shape+(N,)`个\n",
    "- check_valid：检查协方差矩阵是不是半正定的，默认warn，可选warn，raise和ignore\n",
    "- tol：检查协方差矩阵中的奇异值时的公差。cov在检查前加倍。默认1e-8\n",
    "- method：计算因子矩阵A（`A@A.T = cov`），默认svd（最慢），cholesky最快但不够鲁棒，eigh使用特征分解速度介于二者之间"
   ]
  },
  {
   "cell_type": "code",
   "execution_count": 187,
   "id": "930b0916",
   "metadata": {},
   "outputs": [
    {
     "data": {
      "text/plain": [
       "((2,), (3, 2), (3, 4, 2))"
      ]
     },
     "execution_count": 187,
     "metadata": {},
     "output_type": "execute_result"
    }
   ],
   "source": [
    "(\n",
    "    rng.multivariate_normal([0,0], [[1,0],[0,100]]).shape,\n",
    "    rng.multivariate_normal([0,0], [[1,0],[0,100]], 3).shape,\n",
    "    rng.multivariate_normal([0,0], [[1,0],[0,100]], (3, 4)).shape\n",
    ")"
   ]
  },
  {
   "cell_type": "markdown",
   "id": "5fc9b6a9",
   "metadata": {},
   "source": [
    "### 高斯相关"
   ]
  },
  {
   "cell_type": "markdown",
   "id": "5a19bfab",
   "metadata": {},
   "source": [
    "`lognormal`对数正态分布，接受均值mean和标准差sigma。\n",
    "\n",
    "$$\n",
    "p(x) = \\frac{1}{\\sigma x \\sqrt{2\\pi}}\n",
    "e^{(-\\frac{(ln(x)-\\mu)^2}{2\\sigma^2})}\n",
    "$$\n",
    "\n",
    "如果`log(x)`满足正态分布，则x满足对数分布。"
   ]
  },
  {
   "cell_type": "markdown",
   "id": "dd0b2b9b",
   "metadata": {},
   "source": [
    "`laplace`拉普拉斯分布，接受位置参数loc和尺度参数scale，与高斯分布类似，在峰部更尖，在尾部更平坦。\n",
    "\n",
    "$$\n",
    "(x; \\mu, \\lambda) = \\frac{1}{2\\lambda}\n",
    "                               \\exp\\left(-\\frac{|x - \\mu|}{\\lambda}\\right)\n",
    "                               $$"
   ]
  },
  {
   "cell_type": "markdown",
   "id": "94747565",
   "metadata": {},
   "source": [
    "`rayleigh`瑞利分布，参数scale表示标准差。\n",
    "\n",
    "$$\n",
    "P(x;scale) = \\frac{x}{scale^2}e^{\\frac{-x^2}{2 \\cdotp scale^2}}\n",
    "$$\n",
    "\n",
    "当一个随机二维向量的两个分量呈现独立的、有相同方差、均值为0的正态分布时，向量的模呈瑞利分布。"
   ]
  },
  {
   "cell_type": "markdown",
   "id": "ee3bb474",
   "metadata": {},
   "source": [
    "`gumbel`耿贝尔分布需指定loc（中心参数μ和展宽参数σ）。\n",
    "\n",
    "$$\n",
    "p(x) = \\frac{e^{-(x - \\mu)/ \\beta}}{\\beta} e^{ -e^{-(x - \\mu)/\\beta}}\\\\\n",
    "={\\displaystyle {\\frac {1}{\\beta }}e^{-(z+e^{-z})}}\\\\\n",
    "{\\displaystyle z={\\frac {x-\\mu }{\\beta }}}\\\\\n",
    "$$"
   ]
  },
  {
   "cell_type": "markdown",
   "id": "7a1d3236",
   "metadata": {},
   "source": [
    "`standard_cauchy`标准柯西分布（物理学上交洛伦兹分布）。\n",
    "\n",
    "$$\n",
    "P(x; x_0, \\gamma) = \\frac{1}{\\pi \\gamma \\bigl[ 1+(\\frac{x-x_0}{\\gamma})^2 \\bigr] }\n",
    "$$\n",
    "\n",
    "标准柯西分布下，γ=1，x0=0。概率密度函数可化简为：\n",
    "\n",
    "$$\n",
    "P(x;0,1) = \\frac{1}{\\pi \\bigl[ 1+x^2 \\bigr] }\n",
    "$$\n",
    "\n",
    "在研究假设正态性的假设检验时，查看检验对来自柯西分布的数据的执行情况是一个很好的指标。因为柯西分布看起来像高斯分布，但尾巴更重。"
   ]
  },
  {
   "cell_type": "markdown",
   "id": "aa4266de",
   "metadata": {},
   "source": [
    "`vonmises`冯·米塞思分布是一种圆上的连续概率分布，参数mu表示中心mode，kappa是浓度的度量，如果kappa=0表示分布是均匀的，很小时接近均匀分布，如果kappa很大，分布会在角度μ处变得非常集中。\n",
    "\n",
    "$$\n",
    "p(x) = \\frac{e^{\\kappa cos(x-\\mu)}}{2\\pi I_0(\\kappa)}\n",
    "$$\n",
    "\n",
    "I_0是0阶修正的贝塞尔（Bassel）函数。"
   ]
  },
  {
   "cell_type": "markdown",
   "id": "262a45e9",
   "metadata": {},
   "source": [
    "`wald`逆高斯分布，scale（参数λ）趋近于无穷大时，分布更像高斯分布。\n",
    "\n",
    "$$\n",
    "P(x;mean,scale) = \\sqrt{\\frac{scale}{2\\pi x^3}}e^\\frac{-scale(x-mean)^2}{2\\cdotp mean^2x}\n",
    "$$"
   ]
  },
  {
   "cell_type": "markdown",
   "id": "3eeabd30",
   "metadata": {},
   "source": [
    "`triangular`三角分布，需指定下限left、上限right和众数mode。\n",
    "\n",
    "$$\n",
    "P(x;l, m, r) = \\begin{cases}\n",
    "          \\frac{2(x-l)}{(r-l)(m-l)}& \\text{for $l \\leq x \\leq m$},\\\\\n",
    "          \\frac{2(r-x)}{(r-l)(r-m)}& \\text{for $m \\leq x \\leq r$},\\\\\n",
    "          0& \\text{otherwise}.\n",
    "          \\end{cases}\n",
    "$$\n",
    "\n",
    "三角分布常用于定义不明确的问题，其中潜在的分布未知，但存在一些关于极限和众数的知识。"
   ]
  },
  {
   "cell_type": "markdown",
   "id": "003b0f98",
   "metadata": {},
   "source": [
    "### 离散分布"
   ]
  },
  {
   "cell_type": "markdown",
   "id": "3bdad2ac",
   "metadata": {},
   "source": [
    "`binomial`是二项分布，参数包括：n和p，n是试验次数，p是成功概率。n=1时是伯努利分布。\n",
    "\n",
    "n次实验得到k次成功的概率：\n",
    "\n",
    "$$\n",
    "{\\displaystyle f(k,n,p)=\\Pr(X=k)={n \\choose k}p^{k}(1-p)^{n-k}}\n",
    "$$"
   ]
  },
  {
   "cell_type": "code",
   "execution_count": 73,
   "id": "0f3c4a52",
   "metadata": {},
   "outputs": [
    {
     "data": {
      "text/plain": [
       "5"
      ]
     },
     "execution_count": 73,
     "metadata": {},
     "output_type": "execute_result"
    }
   ],
   "source": [
    "# 丢10次硬币，正面向上的结果\n",
    "rng.binomial(10, 0.5)"
   ]
  },
  {
   "cell_type": "markdown",
   "id": "726a6842",
   "metadata": {},
   "source": [
    "`multinomial`多项式分布是二项分布的推广，把二项推广到多种状态就是多项分布。参数包括试验次数n和各种结果的概率分布（和必须为1）。\n",
    "\n",
    "$$\n",
    "{\\displaystyle {\\begin{aligned}f(x_{1},\\ldots ,x_{k};n,p_{1},\\ldots ,p_{k})&{}=\\Pr(X_{1}=x_{1}{\\text{ and }}\\dots {\\text{ and }}X_{k}=x_{k})\\\\&{}={\\begin{cases}{\\displaystyle {n! \\over x_{1}!\\cdots x_{k}!}p_{1}^{x_{1}}\\times \\cdots \\times p_{k}^{x_{k}}},\\quad &{\\text{when }}\\sum _{i=1}^{k}x_{i}=n\\\\\\\\0&{\\text{otherwise,}}\\end{cases}}\\end{aligned}}}\n",
    "$$\n",
    "\n",
    "更多参见：[Multinomial distribution - Wikipedia](https://en.wikipedia.org/wiki/Multinomial_distribution)"
   ]
  },
  {
   "cell_type": "code",
   "execution_count": 136,
   "id": "0c75472e",
   "metadata": {},
   "outputs": [
    {
     "data": {
      "text/plain": [
       "array([4, 6, 2, 1, 3, 4])"
      ]
     },
     "execution_count": 136,
     "metadata": {},
     "output_type": "execute_result"
    }
   ],
   "source": [
    "# 比如丢一个骰子20次\n",
    "# 结果表示每个点数出现的次数\n",
    "rng.multinomial(20, [1/6] * 6)"
   ]
  },
  {
   "cell_type": "markdown",
   "id": "dbb513fa",
   "metadata": {},
   "source": [
    "`negative_binomial`负二项分布（或帕斯卡分布），参数n表示成功次数，p表示成功概率。\n",
    "\n",
    "$$\n",
    "f(k;n,p) = \\frac{\\Gamma(n+k)}{k!\\Gamma(n)}p^{n}(1-p)^{k}\\\\\n",
    "\\frac{\\Gamma(n+k)}{N!\\Gamma(n)} = \\binom{k+n-1}{k}\n",
    "$$\n",
    "\n",
    "与二项分布的区别是，二项分布是固定总次数n的独立实验中，成功次数k的分布；而负二项分布是所有到n次成功时即终止的独立试验中，失败次数k的分布。即成功次数n，失败次数k。\n",
    "\n",
    "\n",
    "\n",
    "更多参见：[Negative binomial distribution - Wikipedia](https://en.wikipedia.org/wiki/Negative_binomial_distribution#:~:text=In%20probability%20theory%20and%20statistics,failures%20(denoted%20r)%20occur.)"
   ]
  },
  {
   "cell_type": "markdown",
   "id": "c641b062",
   "metadata": {},
   "source": [
    "`poisson`泊松分布也是比较常见的，它是一种离散分布，是二项分布的极限。参数lam表示参数λ。\n",
    "\n",
    "$$\n",
    "f(k; \\lambda)=\\frac{\\lambda^k e^{-\\lambda}}{k!}\n",
    "$$\n",
    "\n",
    "泊松分布长与计数过程相联系，比如某一时段网站点击量等。\n",
    "\n",
    "泊松分布也可以作为二项分布的一种近似（泊松定理），当n趋近于无穷大时，二项分布的极限为泊松分布。\n",
    "\n",
    "更多参见：[Poisson distribution - Wikipedia](https://en.wikipedia.org/wiki/Poisson_distribution#:~:text=In%20probability%20theory%20and%20statistics,time%20since%20the%20last%20event.)"
   ]
  },
  {
   "cell_type": "markdown",
   "id": "322fe5bc",
   "metadata": {},
   "source": [
    "`geometric`几何分布需指定成功概率p。\n",
    "\n",
    "如果每次试验的成功概率是 p，那么 k 次试验中，第 k 次才得到成功的概率是：\n",
    "\n",
    "$$\n",
    "f(k) = (1 - p)^{k - 1} p\n",
    "$$"
   ]
  },
  {
   "cell_type": "markdown",
   "id": "ac5cfa78",
   "metadata": {},
   "source": [
    "`hypergeometric`超几何分布需指定：正确选择的方法数ngood，错误选择的方法数nbad和采样数量，nsample<=ngood+nbad。\n",
    "\n",
    "N个样本，g个满足条件，b个不满足，从N个中抽出n个，x满足条件的概率：\n",
    "\n",
    "$$\n",
    "P(x) = \\frac{\\binom{g}{x}\\binom{b}{n-x}}{\\binom{N}{n}}\\\\\n",
    "g=\\text{good}, b=\\text{bad}\n",
    "$$\n",
    "\n",
    "更多参见：[Hypergeometric distribution - Wikipedia](https://en.wikipedia.org/wiki/Hypergeometric_distribution)"
   ]
  },
  {
   "cell_type": "markdown",
   "id": "1d280c97",
   "metadata": {},
   "source": [
    "`multivariate_hypergeometric`多元超几何分布，从N个不同类型的集合中随机不替换选择nsample个样本。参数包括：\n",
    "\n",
    "- colors：每个类型在集合中的数量\n",
    "- nsample：采样的数量\n",
    "- method：生成算法，marginals（默认）或count。在某些情况下（比如colors包括相对小的数字），count方法比marginals快。\n",
    "\n",
    "\n",
    "$$\n",
    "f(x)=\\frac{\\left(\\begin{array}{c}\n",
    "D \\\\\n",
    "x\n",
    "\\end{array}\\right)\\left(\\begin{array}{c}\n",
    "N-D \\\\\n",
    "n-x\n",
    "\\end{array}\\right)}{\\left(\\begin{array}{c}\n",
    "N \\\\\n",
    "n\n",
    "\\end{array}\\right)}\n",
    "$$\n",
    "\n",
    "\n",
    "[Multivariate Hypergeometric distribution | Vose Software](https://www.vosesoftware.com/riskwiki/MultivariateHypergeometricdistribution.php#:~:text=The%20Multivariate%20Hypergeometric%20distribution%20is%20an%20array%20distribution%2C%20in%20this,%2C%20French%2C%20and%20Canadian)"
   ]
  },
  {
   "cell_type": "code",
   "execution_count": 171,
   "id": "3a78fd6e",
   "metadata": {},
   "outputs": [],
   "source": [
    "colors = [3,2,1,4]\n",
    "nsample = 4"
   ]
  },
  {
   "cell_type": "code",
   "execution_count": 172,
   "id": "3693c704",
   "metadata": {},
   "outputs": [
    {
     "data": {
      "text/plain": [
       "array([0, 1, 1, 2])"
      ]
     },
     "execution_count": 172,
     "metadata": {},
     "output_type": "execute_result"
    }
   ],
   "source": [
    "# 从一组分别有 3 2 1 4 个不同类别的集合中选择4个\n",
    "rng.multivariate_hypergeometric(colors, nsample)"
   ]
  },
  {
   "cell_type": "code",
   "execution_count": 174,
   "id": "409e51e0",
   "metadata": {},
   "outputs": [
    {
     "data": {
      "text/plain": [
       "array([2, 1, 0, 1])"
      ]
     },
     "execution_count": 174,
     "metadata": {},
     "output_type": "execute_result"
    }
   ],
   "source": [
    "rng.multivariate_hypergeometric(colors, nsample, method=\"count\")"
   ]
  },
  {
   "cell_type": "markdown",
   "id": "0a860a68",
   "metadata": {},
   "source": [
    "count方法与下面的等价："
   ]
  },
  {
   "cell_type": "code",
   "execution_count": 149,
   "id": "715b87b4",
   "metadata": {},
   "outputs": [
    {
     "data": {
      "text/plain": [
       "array([0, 0, 0, 1, 1, 2, 3, 3, 3, 3])"
      ]
     },
     "execution_count": 149,
     "metadata": {},
     "output_type": "execute_result"
    }
   ],
   "source": [
    "choices = np.repeat(np.arange(len(colors)), colors)\n",
    "choices"
   ]
  },
  {
   "cell_type": "code",
   "execution_count": 154,
   "id": "070c052a",
   "metadata": {},
   "outputs": [
    {
     "data": {
      "text/plain": [
       "array([2, 1, 1, 0])"
      ]
     },
     "execution_count": 154,
     "metadata": {},
     "output_type": "execute_result"
    }
   ],
   "source": [
    "selection = rng.choice(choices, nsample, replace=False)\n",
    "selection"
   ]
  },
  {
   "cell_type": "code",
   "execution_count": 155,
   "id": "3626ce94",
   "metadata": {},
   "outputs": [
    {
     "data": {
      "text/plain": [
       "array([1, 2, 1, 0])"
      ]
     },
     "execution_count": 155,
     "metadata": {},
     "output_type": "execute_result"
    }
   ],
   "source": [
    "# 0 1 2 3 分别出现的「次数」\n",
    "variate = np.bincount(selection, minlength=len(colors))\n",
    "variate"
   ]
  },
  {
   "cell_type": "markdown",
   "id": "8bd2f212",
   "metadata": {},
   "source": [
    "marginals其实是重复请求单变量超几何分布采样器："
   ]
  },
  {
   "cell_type": "code",
   "execution_count": 160,
   "id": "0797b08c",
   "metadata": {},
   "outputs": [
    {
     "data": {
      "text/plain": [
       "([3, 2, 1, 4], 4)"
      ]
     },
     "execution_count": 160,
     "metadata": {},
     "output_type": "execute_result"
    }
   ],
   "source": [
    "colors, nsample"
   ]
  },
  {
   "cell_type": "code",
   "execution_count": 158,
   "id": "50b6b9dc",
   "metadata": {},
   "outputs": [
    {
     "data": {
      "text/plain": [
       "array([10,  7,  5,  4])"
      ]
     },
     "execution_count": 158,
     "metadata": {},
     "output_type": "execute_result"
    }
   ],
   "source": [
    "variate = np.zeros(len(colors), dtype=np.int64)\n",
    "# 每次采样后剩下的数\n",
    "remaining = np.cumsum(colors[::-1])[::-1]\n",
    "remaining"
   ]
  },
  {
   "cell_type": "code",
   "execution_count": 161,
   "id": "56602a01",
   "metadata": {},
   "outputs": [
    {
     "data": {
      "text/plain": [
       "array([2, 0, 0, 2])"
      ]
     },
     "execution_count": 161,
     "metadata": {},
     "output_type": "execute_result"
    }
   ],
   "source": [
    "for i in range(len(colors) - 1):\n",
    "    if nsample < 1:\n",
    "        break\n",
    "    variate[i] = rng.hypergeometric(colors[i], remaining[i+1], nsample)\n",
    "    nsample -= variate[i]\n",
    "variate[-1] = nsample\n",
    "variate"
   ]
  },
  {
   "cell_type": "markdown",
   "id": "b678046c",
   "metadata": {},
   "source": [
    "### 指对数相关"
   ]
  },
  {
   "cell_type": "markdown",
   "id": "50fee5c4",
   "metadata": {},
   "source": [
    "`power`幂律分布，接受输入参数a。\n",
    "\n",
    "$$\n",
    "P(x; a) = ax^{a-1}, 0 \\le x \\le 1, a>0\n",
    "$$\n",
    "\n",
    "幂律分布正好是帕累托的倒数，也可以看作是Beta分布的一个特例。生活中很多现象都呈现出幂律分布，比如城市规模和收入、物种的觅食模式、大部分语言的用词频率等。"
   ]
  },
  {
   "cell_type": "markdown",
   "id": "ad98aecb",
   "metadata": {},
   "source": [
    "`pareto`帕累托分布，可以从Lomax分布中获得。参数a为形状参数，是概率分布参数族中的一种数值参数，既不是位置参数，也不是尺度参数。\n",
    "\n",
    "$$\n",
    "p(x) = \\frac{am^a}{x^{a+1}}\n",
    "$$\n",
    "\n",
    "\n",
    "帕累托分布是幂律概率分布，在真实世界中大量存在（经济学外称为布拉德福分布）。\n",
    "\n",
    "\n",
    "更多详见：[Pareto distribution - Wikipedia](https://en.wikipedia.org/wiki/Pareto_distribution)"
   ]
  },
  {
   "cell_type": "markdown",
   "id": "1e961756",
   "metadata": {},
   "source": [
    "`zipf`齐夫定律（也称为zeta分布）：一个单词出现的频率与它在频率表里的排名成反比。参数a表示\n",
    "\n",
    "$$\n",
    "p(k) = \\frac{k^{-a}}{\\zeta(a)}\n",
    "$$\n",
    "\n",
    "齐夫定律被作为任何与幂定律概率分布有关的事物的参考。"
   ]
  },
  {
   "cell_type": "markdown",
   "id": "46ff980a",
   "metadata": {},
   "source": [
    "`beta`Beta（或B）分布是狄利克雷分布的特殊形式，与gamma分布有关。参数包括：a和b，分别表示alpha和beta。\n",
    "\n",
    "$$\n",
    "f(x; a,b) = \\frac{1}{B(\\alpha, \\beta)} x^{\\alpha - 1}\n",
    "(1 - x)^{\\beta - 1},\\\\\n",
    "B(\\alpha, \\beta) = \\int_0^1 t^{\\alpha - 1}\n",
    "                             (1 - t)^{\\beta - 1} dt.\n",
    "$$"
   ]
  },
  {
   "cell_type": "markdown",
   "id": "f828cfeb",
   "metadata": {},
   "source": [
    "`dirichlet`是狄利克雷分布，接受长度为k的序列浮点数作为分布的参数。\n",
    "\n",
    "$$\n",
    "{\\displaystyle f(x_{1},\\dots ,x_{K};\\alpha _{1},\\dots ,\\alpha _{K})={\\frac {1}{\\mathrm {B} (\\alpha )}}\\prod _{i=1}^{K}x_{i}^{\\alpha _{i}-1}}\n",
    "$$"
   ]
  },
  {
   "cell_type": "markdown",
   "id": "37b8c620",
   "metadata": {},
   "source": [
    "`gamma`分布包含以下参数：\n",
    "\n",
    "- shape：gamma分布的k值\n",
    "- scale：gamma分布的theta值，默认1.0\n",
    "\n",
    "$$\n",
    "p(x) = x^{k-1}\\frac{e^{-x/\\theta}}{\\theta^k\\Gamma(k)}\n",
    "$$"
   ]
  },
  {
   "cell_type": "markdown",
   "id": "73e99240",
   "metadata": {},
   "source": [
    "`exponential`是指数分布，参数为：\n",
    "\n",
    "- scale：1/beta，默认1.0\n",
    "\n",
    "$$\n",
    "f(x; \\frac{1}{\\beta}) = \\frac{1}{\\beta} \\exp(-\\frac{x}{\\beta})\n",
    "$$\n"
   ]
  },
  {
   "cell_type": "markdown",
   "id": "0e6549e6",
   "metadata": {},
   "source": [
    "`weibull`韦伯分布，参数a表示shape，是可靠性分析和寿命检验的理论基础。\n",
    "\n",
    "$$\n",
    "p(x) = \\frac{a}{\\lambda}(\\frac{x}{\\lambda})^{a-1}e^{-(x/\\lambda)^a}\n",
    "$$\n",
    "\n",
    "当a=1时退化为指数分布。"
   ]
  },
  {
   "cell_type": "markdown",
   "id": "4466fae6",
   "metadata": {},
   "source": [
    "`logseries`对数分布也叫对数级数分布，参数p表示概率。\n",
    "\n",
    "$$\n",
    "P(k) = \\frac{-p^k}{k \\ln(1-p)}\n",
    "$$\n",
    "\n",
    "详见：[Logarithmic distribution - Wikipedia](https://en.wikipedia.org/wiki/Logarithmic_distribution)"
   ]
  },
  {
   "cell_type": "markdown",
   "id": "c43dd78c",
   "metadata": {},
   "source": [
    "`logistic`逻辑分布也叫增长分布，接受位置参数loc和尺度参数scale。\n",
    "\n",
    "$$\n",
    "P(x) = \\frac{e^{-(x-\\mu)/s}}{s(1+e^{-(x-\\mu)/s})^2}\n",
    "$$"
   ]
  },
  {
   "cell_type": "markdown",
   "id": "c10a189b",
   "metadata": {},
   "source": [
    "### 检验相关"
   ]
  },
  {
   "cell_type": "markdown",
   "id": "0e35c80e",
   "metadata": {},
   "source": [
    "`chisquare`卡方分布需指定一个或一组浮点数，表示自由度的数量。\n",
    "\n",
    "$$\n",
    "p(x) = \\frac{(1/2)^{k/2}}{\\Gamma(k/2)}\n",
    "                 x^{k/2 - 1} e^{-x/2}\n",
    "$$"
   ]
  },
  {
   "cell_type": "markdown",
   "id": "80cef509",
   "metadata": {},
   "source": [
    "`noncentral_chisquare`非中心卡方分布，参数除了卡方分布的自由度外，还有一个nonc参数表示非中心参数λ。\n",
    "\n",
    "$$\n",
    "P(x;df,nonc) = \\sum^{\\infty}_{i=0} \\frac{e^{-nonc/2}(nonc/2)^{i}}{i!} P_{Y_{df+2i}}(x)\n",
    "$$\n",
    "\n",
    "Y_q是自由度为q的卡方分布。"
   ]
  },
  {
   "cell_type": "markdown",
   "id": "61082217",
   "metadata": {},
   "source": [
    "`f`F分布包含两个参数：dfnum是分子的自由度，dfden是分母的自由度：\n",
    "\n",
    "$$\n",
    "{\\begin{aligned}f(x;d_{1},d_{2})&={\\frac  {{\\sqrt  {{\\frac  {(d_{1}\\,x)^{{d_{1}}}\\,\\,d_{2}^{{d_{2}}}}{(d_{1}\\,x+d_{2})^{{d_{1}+d_{2}}}}}}}}{x\\,{\\mathrm  {B}}\\!\\left({\\frac  {d_{1}}{2}},{\\frac  {d_{2}}{2}}\\right)}}\\\\&={\\frac  {1}{{\\mathrm  {B}}\\!\\left({\\frac  {d_{1}}{2}},{\\frac  {d_{2}}{2}}\\right)}}\\left({\\frac  {d_{1}}{d_{2}}}\\right)^{{{\\frac  {d_{1}}{2}}}}x^{{{\\frac  {d_{1}}{2}}-1}}\\left(1+{\\frac  {d_{1}}{d_{2}}}\\,x\\right)^{{-{\\frac  {d_{1}+d_{2}}{2}}}}\\end{aligned}}\n",
    "$$\n",
    "\n",
    "更多详见：[F-distribution - Wikipedia](https://en.wikipedia.org/wiki/F-distribution)"
   ]
  },
  {
   "cell_type": "markdown",
   "id": "3fd541da",
   "metadata": {},
   "source": [
    "`noncentral_f`非中心F分布比F分布多了一个nonc参数，表示非中心参数λ。\n",
    "\n",
    "$$\n",
    "p(f)=\\sum \\limits _{{k=0}}^{\\infty }{\\frac  {e^{{-\\lambda /2}}(\\lambda /2)^{k}}{B\\left({\\frac  {\\nu _{2}}{2}},{\\frac  {\\nu _{1}}{2}}+k\\right)k!}}\\left({\\frac  {\\nu _{1}}{\\nu _{2}}}\\right)^{{{\\frac  {\\nu _{1}}{2}}+k}}\\left({\\frac  {\\nu _{2}}{\\nu _{2}+\\nu _{1}f}}\\right)^{{{\\frac  {\\nu _{1}+\\nu _{2}}{2}}+k}}f^{{\\nu _{1}/2-1+k}}\\\\\n",
    "B(x,y)={\\frac  {\\Gamma (x)\\Gamma (y)}{\\Gamma (x+y)}}.\n",
    "$$\n",
    "\n",
    "更多详见：[Noncentral F-distribution - Wikipedia](https://en.wikipedia.org/wiki/Noncentral_F-distribution)"
   ]
  },
  {
   "cell_type": "markdown",
   "id": "722208e1",
   "metadata": {},
   "source": [
    "`standard_t`是学生t分布，参数df为自由度。\n",
    "\n",
    "\n",
    "$$\n",
    "P(x, df) = \\frac{\\Gamma(\\frac{df+1}{2})}{\\sqrt{\\pi df} \\Gamma(\\frac{df}{2})}\\Bigl( 1+\\frac{x^2}{df} \\Bigr)^{-(df+1)/2}\n",
    "$$"
   ]
  },
  {
   "cell_type": "markdown",
   "id": "411d4908",
   "metadata": {},
   "source": [
    "主要用于检验是否属于正态分布，以文档中女性卡路里摄入为例："
   ]
  },
  {
   "cell_type": "code",
   "execution_count": 101,
   "id": "19c8082d",
   "metadata": {},
   "outputs": [],
   "source": [
    "# 11 个女性日卡路里摄入\n",
    "intake = np.array([5260., 5470, 5640, 6180, 6390, \n",
    "                   6515, 6805, 7515, 7515, 8230, 8770])"
   ]
  },
  {
   "cell_type": "markdown",
   "id": "070310b3",
   "metadata": {},
   "source": [
    "上面的结果是否系统地偏离了推荐的7725KJ？我们需要先来一个零假设：即假设没有偏差，替代假设是存在正面或负面影响，是一个双尾的分布。\n",
    "\n",
    "11个值对应10个自由度，显著水平设为95%，计算标准差："
   ]
  },
  {
   "cell_type": "code",
   "execution_count": 103,
   "id": "f368c120",
   "metadata": {},
   "outputs": [
    {
     "data": {
      "text/plain": [
       "1142.1232221373727"
      ]
     },
     "execution_count": 103,
     "metadata": {},
     "output_type": "execute_result"
    }
   ],
   "source": [
    "np.std(intake, ddof=1)"
   ]
  },
  {
   "cell_type": "code",
   "execution_count": 107,
   "id": "d471fe92",
   "metadata": {},
   "outputs": [
    {
     "data": {
      "text/plain": [
       "-2.8207540608310198"
      ]
     },
     "execution_count": 107,
     "metadata": {},
     "output_type": "execute_result"
    }
   ],
   "source": [
    "# T统计量\n",
    "t = (np.mean(intake) - 7725) / \\\n",
    "(np.std(intake, ddof=1) / np.sqrt(len(intake)))\n",
    "t "
   ]
  },
  {
   "cell_type": "code",
   "execution_count": 112,
   "id": "304f131e",
   "metadata": {},
   "outputs": [],
   "source": [
    "# 生成学生t分布（自由度10）\n",
    "s = rng.standard_t(10, 10000)"
   ]
  },
  {
   "cell_type": "code",
   "execution_count": 113,
   "id": "d91409e5",
   "metadata": {},
   "outputs": [
    {
     "data": {
      "text/plain": [
       "0.0185"
      ]
     },
     "execution_count": 113,
     "metadata": {},
     "output_type": "execute_result"
    }
   ],
   "source": [
    "# 计算p值，远小于0.05，所以拒绝原假设，认为它们是有偏差的\n",
    "np.sum(np.abs(t) < np.abs(s)) / len(s)"
   ]
  },
  {
   "cell_type": "markdown",
   "id": "69b6a8c6",
   "metadata": {},
   "source": [
    "## 小结"
   ]
  },
  {
   "cell_type": "markdown",
   "id": "22749fe7",
   "metadata": {},
   "source": [
    "## 参考\n",
    "\n",
    "- [Random Generator — NumPy v1.24.dev0 Manual](https://numpy.org/devdocs/reference/random/generator.html)"
   ]
  },
  {
   "cell_type": "code",
   "execution_count": null,
   "id": "fa5e6631",
   "metadata": {},
   "outputs": [],
   "source": []
  }
 ],
 "metadata": {
  "kernelspec": {
   "display_name": "Python 3",
   "language": "python",
   "name": "python3"
  },
  "language_info": {
   "codemirror_mode": {
    "name": "ipython",
    "version": 3
   },
   "file_extension": ".py",
   "mimetype": "text/x-python",
   "name": "python",
   "nbconvert_exporter": "python",
   "pygments_lexer": "ipython3",
   "version": "3.8.13"
  },
  "latex_envs": {
   "LaTeX_envs_menu_present": true,
   "autoclose": false,
   "autocomplete": true,
   "bibliofile": "biblio.bib",
   "cite_by": "apalike",
   "current_citInitial": 1,
   "eqLabelWithNumbers": true,
   "eqNumInitial": 1,
   "hotkeys": {
    "equation": "Ctrl-E",
    "itemize": "Ctrl-I"
   },
   "labels_anchors": false,
   "latex_user_defs": false,
   "report_style_numbering": false,
   "user_envs_cfg": false
  },
  "toc": {
   "base_numbering": 1,
   "nav_menu": {},
   "number_sections": true,
   "sideBar": true,
   "skip_h1_title": false,
   "title_cell": "Table of Contents",
   "title_sidebar": "Contents",
   "toc_cell": true,
   "toc_position": {
    "height": "calc(100% - 180px)",
    "left": "10px",
    "top": "150px",
    "width": "384px"
   },
   "toc_section_display": true,
   "toc_window_display": true
  }
 },
 "nbformat": 4,
 "nbformat_minor": 5
}
